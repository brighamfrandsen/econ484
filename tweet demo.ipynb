{
  "nbformat": 4,
  "nbformat_minor": 0,
  "metadata": {
    "kernelspec": {
      "display_name": "Python 3",
      "language": "python",
      "name": "python3"
    },
    "language_info": {
      "codemirror_mode": {
        "name": "ipython",
        "version": 3
      },
      "file_extension": ".py",
      "mimetype": "text/x-python",
      "name": "python",
      "nbconvert_exporter": "python",
      "pygments_lexer": "ipython3",
      "version": "3.7.4"
    },
    "colab": {
      "provenance": [],
      "include_colab_link": true
    }
  },
  "cells": [
    {
      "cell_type": "markdown",
      "metadata": {
        "id": "view-in-github",
        "colab_type": "text"
      },
      "source": [
        "<a href=\"https://colab.research.google.com/github/brighamfrandsen/econ484/blob/master/tweet%20demo.ipynb\" target=\"_parent\"><img src=\"https://colab.research.google.com/assets/colab-badge.svg\" alt=\"Open In Colab\"/></a>"
      ]
    },
    {
      "cell_type": "markdown",
      "source": [
        "[![Open in Colab](https://colab.research.google.com/assets/colab-badge.svg)](https://colab.research.google.com/github/brighamfrandsen/econ484/blob/master/examples/tweet%20demo.ipynb)\n",
        "\n"
      ],
      "metadata": {
        "id": "JaCq9Dn3A36Z"
      }
    },
    {
      "cell_type": "markdown",
      "metadata": {
        "id": "p3ETn1Dp40gO"
      },
      "source": [
        "First some preliminaries. Import some useful packages:"
      ]
    },
    {
      "cell_type": "code",
      "metadata": {
        "id": "ylgX-ixv40gS"
      },
      "source": [
        "import json\n",
        "import re\n",
        "\n",
        "import joblib\n",
        "import pandas as pd\n",
        "from nltk.corpus import stopwords\n",
        "from nltk import ngrams\n",
        "from nltk.tokenize import TweetTokenizer\n",
        "from sklearn.feature_extraction.text import CountVectorizer\n",
        "from sklearn.metrics import classification_report\n",
        "from sklearn.model_selection import GridSearchCV\n",
        "from sklearn.model_selection import train_test_split\n",
        "\n",
        "from sklearn.ensemble import RandomForestClassifier\n",
        "from sklearn.svm import SVC\n",
        "from sklearn.tree import DecisionTreeClassifier\n",
        "\n",
        "from sklearn import tree\n",
        "import pydotplus\n",
        "from mlxtend.plotting import plot_decision_regions\n",
        "from matplotlib import pyplot as plt\n"
      ],
      "execution_count": null,
      "outputs": []
    },
    {
      "cell_type": "markdown",
      "metadata": {
        "id": "8XgDDlZ840gT"
      },
      "source": [
        "To be able to display things in the notebook:"
      ]
    },
    {
      "cell_type": "code",
      "metadata": {
        "id": "0Q0gsx_l40gT"
      },
      "source": [
        "from IPython.display import SVG\n",
        "from graphviz import Source\n",
        "from IPython.display import display"
      ],
      "execution_count": null,
      "outputs": []
    },
    {
      "cell_type": "markdown",
      "metadata": {
        "id": "aRFXzPP_40gU"
      },
      "source": [
        "    more prelims"
      ]
    },
    {
      "cell_type": "code",
      "metadata": {
        "id": "mr621P1e40gU"
      },
      "source": [
        "# constants\n",
        "SEED = 123\n",
        "TEST_SIZE = .05  # the proportion of data left out of sample\n",
        "# MAX_FEATURES = 7500 # the maximum number of bag of words features\n",
        "N_JOBS = 11  # the number of threads to be used during training, -1 uses all processors available\n",
        "DEPTH = 3  # the depth of visualization of decision tree\n",
        "SVM_FEATS = 1000"
      ],
      "execution_count": null,
      "outputs": []
    },
    {
      "cell_type": "markdown",
      "metadata": {
        "id": "AH72rSHj40gV"
      },
      "source": [
        "Read in raw data"
      ]
    },
    {
      "cell_type": "code",
      "metadata": {
        "id": "wHW8V3ku40gV",
        "colab": {
          "base_uri": "https://localhost:8080/"
        },
        "outputId": "d77886b3-dd0b-4656-81e7-7e74b2dcdeea"
      },
      "source": [
        "# reading in the data\n",
        "obama = pd.read_csv('/content/gdrive/My Drive/Econ 484/datasets/obama_tweets.csv')\n",
        "trump = pd.DataFrame(json.load(open('/content/gdrive/My Drive/Econ 484/datasets/trump_tweets.json',encoding='utf8')))\n",
        "\n",
        "print(obama.head())\n",
        "print(trump.head())"
      ],
      "execution_count": null,
      "outputs": [
        {
          "output_type": "stream",
          "name": "stdout",
          "text": [
            "                                                Text                 Date  \\\n",
            "0  My heart goes out to the victims and their fam...  2017-03-23 06:00:20   \n",
            "1  Chuck Berry rolled over everyone who came befo...  2017-03-19 08:51:23   \n",
            "2  On International Women’s Day, @MichelleObama a...  2017-03-08 13:14:58   \n",
            "3  Humbled to be recognized by a family with a le...  2017-03-02 07:22:07   \n",
            "4  We asked. You answered.https://medium.com/@Oba...  2017-02-17 11:37:55   \n",
            "\n",
            "   Favorites  Retweets            Tweet ID  \n",
            "0     489842     95567  844896595179180034  \n",
            "1     377691     65990  843490091519623169  \n",
            "2     257782     51078  839585255703080968  \n",
            "3      97356     17387  837322131834875904  \n",
            "4     110269     25539  832675462325243906  \n",
            "                                                text\n",
            "0  The Wall is going up very fast despite total O...\n",
            "1  Puerto Rico is one of the most corrupt places ...\n",
            "2  ....And by the way, I’m the best thing that’s ...\n",
            "3  Our Federal Reserve cannot “mentally” keep up ...\n",
            "4  ....I don’t want to Win for myself, I only wan...\n"
          ]
        }
      ]
    },
    {
      "cell_type": "code",
      "metadata": {
        "id": "1yR2uMQn40gW"
      },
      "source": [
        "# adding obama indicator\n",
        "obama['obama_indicator'] = 1\n",
        "trump['obama_indicator'] = 0"
      ],
      "execution_count": null,
      "outputs": []
    },
    {
      "cell_type": "markdown",
      "metadata": {
        "id": "Rj0wav3i40gW"
      },
      "source": [
        "some data cleaning"
      ]
    },
    {
      "cell_type": "code",
      "metadata": {
        "id": "1oAt8aDA40gW",
        "colab": {
          "base_uri": "https://localhost:8080/"
        },
        "outputId": "1f42c8a4-c95e-42f4-e3bc-1386ed7c9dc3"
      },
      "source": [
        "# Renaming columns to make them consistent for concatenation\n",
        "obama.rename(columns={'Text': '_text'}, inplace=True)\n",
        "trump.rename(columns={'text': '_text'}, inplace=True)\n",
        "\n",
        "# Concatenating the two datasets\n",
        "both = pd.concat([obama.loc[:, ['_text', 'obama_indicator']],\n",
        "                  trump.loc[:, ['_text', 'obama_indicator']]])\n",
        "\n",
        "# Dropping retweets\n",
        "both = both.loc[~both._text.str.contains('^RT'), :]\n",
        "print('Shape of raw data:', both.shape)\n",
        "\n",
        "# Cleaning the text\n",
        "both['_text'] = both['_text'].str.strip()\n",
        "\n",
        "# Replace sequences\n",
        "both['_text'] = both['_text'].replace({\n",
        "    r'\\s+': ' ',                       # Removing extra spaces\n",
        "    r'(?:: )?https?://\\S+': '',         # Removing URLs\n",
        "    r'\\.?pic\\.twitter\\.com/\\S+': '',    # Removing Twitter image links\n",
        "    r'\\d+': '',                         # Removing digits\n",
        "    r'[…\"#$%&\\'\\(\\)*+,-./:;<=>?@\\[\\\\\\]^_`{|}~’“”—]': '',  # Removing punctuation\n",
        "    r'–|––|\\s+': ' '                   # Normalizing dashes and extra spaces\n",
        "}, regex=True)\n",
        "\n",
        "# Count the number of capital letters before converting to lowercase\n",
        "both['n_cap_let'] = both['_text'].apply(lambda x: len(re.findall('[A-Z]', x)))\n",
        "\n",
        "# Converting the text to lowercase\n",
        "both['_text'] = both['_text'].str.lower()\n",
        "\n",
        "# Removing specific words related to the context\n",
        "remove_words = ['trump', 'president obama', 'obama', 'barack', 'michelle', 'amp', 'ofa']\n",
        "for word in remove_words:\n",
        "    both['_text'] = both['_text'].str.replace(word, '', regex=False)\n",
        "\n",
        "# Tokenizing the text\n",
        "tknzr = TweetTokenizer()\n",
        "both['tokens'] = both['_text'].apply(lambda x: [re.sub('_', '', y) for y in tknzr.tokenize(x)])\n",
        "\n",
        "# Dropping rows with empty tokens after cleaning\n",
        "both = both.loc[both['tokens'].apply(lambda x: len(x) > 0), :]\n",
        "\n",
        "# Generating feature variables\n",
        "both['total_words'] = both['tokens'].apply(len)\n",
        "both['avg_word_len'] = both['tokens'].apply(lambda x: sum(len(y) for y in x) / len(x) if len(x) > 0 else 0)\n",
        "\n",
        "print(\"Data cleaned and features generated...\")\n"
      ],
      "execution_count": null,
      "outputs": [
        {
          "output_type": "stream",
          "name": "stdout",
          "text": [
            "Shape of raw data: (12681, 2)\n"
          ]
        },
        {
          "output_type": "stream",
          "name": "stderr",
          "text": [
            "<ipython-input-7-7dd57582e271>:14: SettingWithCopyWarning: \n",
            "A value is trying to be set on a copy of a slice from a DataFrame.\n",
            "Try using .loc[row_indexer,col_indexer] = value instead\n",
            "\n",
            "See the caveats in the documentation: https://pandas.pydata.org/pandas-docs/stable/user_guide/indexing.html#returning-a-view-versus-a-copy\n",
            "  both['_text'] = both['_text'].str.strip()\n"
          ]
        },
        {
          "output_type": "stream",
          "name": "stdout",
          "text": [
            "Data cleaned and features generated...\n"
          ]
        },
        {
          "output_type": "stream",
          "name": "stderr",
          "text": [
            "<ipython-input-7-7dd57582e271>:45: SettingWithCopyWarning: \n",
            "A value is trying to be set on a copy of a slice from a DataFrame.\n",
            "Try using .loc[row_indexer,col_indexer] = value instead\n",
            "\n",
            "See the caveats in the documentation: https://pandas.pydata.org/pandas-docs/stable/user_guide/indexing.html#returning-a-view-versus-a-copy\n",
            "  both['total_words'] = both['tokens'].apply(len)\n",
            "<ipython-input-7-7dd57582e271>:46: SettingWithCopyWarning: \n",
            "A value is trying to be set on a copy of a slice from a DataFrame.\n",
            "Try using .loc[row_indexer,col_indexer] = value instead\n",
            "\n",
            "See the caveats in the documentation: https://pandas.pydata.org/pandas-docs/stable/user_guide/indexing.html#returning-a-view-versus-a-copy\n",
            "  both['avg_word_len'] = both['tokens'].apply(lambda x: sum(len(y) for y in x) / len(x) if len(x) > 0 else 0)\n"
          ]
        }
      ]
    },
    {
      "cell_type": "markdown",
      "metadata": {
        "id": "NErCExH940gX"
      },
      "source": [
        "generate features"
      ]
    },
    {
      "cell_type": "code",
      "metadata": {
        "scrolled": true,
        "id": "zA4BCvWf40gX",
        "colab": {
          "base_uri": "https://localhost:8080/"
        },
        "outputId": "38b3aa62-a946-47f6-bd8d-63f7e502f06e"
      },
      "source": [
        "vectorizer = CountVectorizer(max_df=.5, min_df=.0001, stop_words='english', tokenizer=tknzr.tokenize,\n",
        "                                 ngram_range=(1, 3))\n",
        "bow_mat = vectorizer.fit_transform(both._text)\n",
        "print('Bag of words feature set:', bow_mat.shape)"
      ],
      "execution_count": null,
      "outputs": [
        {
          "output_type": "stream",
          "name": "stderr",
          "text": [
            "/usr/local/lib/python3.10/dist-packages/sklearn/feature_extraction/text.py:525: UserWarning: The parameter 'token_pattern' will not be used since 'tokenizer' is not None'\n",
            "  warnings.warn(\n"
          ]
        },
        {
          "output_type": "stream",
          "name": "stdout",
          "text": [
            "Bag of words feature set: (12565, 26776)\n"
          ]
        }
      ]
    },
    {
      "cell_type": "markdown",
      "metadata": {
        "id": "NLWCBhoc40gX"
      },
      "source": [
        "get ready to model"
      ]
    },
    {
      "cell_type": "code",
      "metadata": {
        "id": "TpTf4LU-40gY",
        "colab": {
          "base_uri": "https://localhost:8080/"
        },
        "outputId": "4f0897f6-510e-4120-87ef-a1239e29931a"
      },
      "source": [
        "# modelling\n",
        "dtree = DecisionTreeClassifier(random_state=SEED,max_depth=5)\n",
        "dtree.fit(bow_mat, both.obama_indicator)"
      ],
      "execution_count": null,
      "outputs": [
        {
          "output_type": "execute_result",
          "data": {
            "text/plain": [
              "DecisionTreeClassifier(max_depth=5, random_state=123)"
            ],
            "text/html": [
              "<style>#sk-container-id-1 {color: black;}#sk-container-id-1 pre{padding: 0;}#sk-container-id-1 div.sk-toggleable {background-color: white;}#sk-container-id-1 label.sk-toggleable__label {cursor: pointer;display: block;width: 100%;margin-bottom: 0;padding: 0.3em;box-sizing: border-box;text-align: center;}#sk-container-id-1 label.sk-toggleable__label-arrow:before {content: \"▸\";float: left;margin-right: 0.25em;color: #696969;}#sk-container-id-1 label.sk-toggleable__label-arrow:hover:before {color: black;}#sk-container-id-1 div.sk-estimator:hover label.sk-toggleable__label-arrow:before {color: black;}#sk-container-id-1 div.sk-toggleable__content {max-height: 0;max-width: 0;overflow: hidden;text-align: left;background-color: #f0f8ff;}#sk-container-id-1 div.sk-toggleable__content pre {margin: 0.2em;color: black;border-radius: 0.25em;background-color: #f0f8ff;}#sk-container-id-1 input.sk-toggleable__control:checked~div.sk-toggleable__content {max-height: 200px;max-width: 100%;overflow: auto;}#sk-container-id-1 input.sk-toggleable__control:checked~label.sk-toggleable__label-arrow:before {content: \"▾\";}#sk-container-id-1 div.sk-estimator input.sk-toggleable__control:checked~label.sk-toggleable__label {background-color: #d4ebff;}#sk-container-id-1 div.sk-label input.sk-toggleable__control:checked~label.sk-toggleable__label {background-color: #d4ebff;}#sk-container-id-1 input.sk-hidden--visually {border: 0;clip: rect(1px 1px 1px 1px);clip: rect(1px, 1px, 1px, 1px);height: 1px;margin: -1px;overflow: hidden;padding: 0;position: absolute;width: 1px;}#sk-container-id-1 div.sk-estimator {font-family: monospace;background-color: #f0f8ff;border: 1px dotted black;border-radius: 0.25em;box-sizing: border-box;margin-bottom: 0.5em;}#sk-container-id-1 div.sk-estimator:hover {background-color: #d4ebff;}#sk-container-id-1 div.sk-parallel-item::after {content: \"\";width: 100%;border-bottom: 1px solid gray;flex-grow: 1;}#sk-container-id-1 div.sk-label:hover label.sk-toggleable__label {background-color: #d4ebff;}#sk-container-id-1 div.sk-serial::before {content: \"\";position: absolute;border-left: 1px solid gray;box-sizing: border-box;top: 0;bottom: 0;left: 50%;z-index: 0;}#sk-container-id-1 div.sk-serial {display: flex;flex-direction: column;align-items: center;background-color: white;padding-right: 0.2em;padding-left: 0.2em;position: relative;}#sk-container-id-1 div.sk-item {position: relative;z-index: 1;}#sk-container-id-1 div.sk-parallel {display: flex;align-items: stretch;justify-content: center;background-color: white;position: relative;}#sk-container-id-1 div.sk-item::before, #sk-container-id-1 div.sk-parallel-item::before {content: \"\";position: absolute;border-left: 1px solid gray;box-sizing: border-box;top: 0;bottom: 0;left: 50%;z-index: -1;}#sk-container-id-1 div.sk-parallel-item {display: flex;flex-direction: column;z-index: 1;position: relative;background-color: white;}#sk-container-id-1 div.sk-parallel-item:first-child::after {align-self: flex-end;width: 50%;}#sk-container-id-1 div.sk-parallel-item:last-child::after {align-self: flex-start;width: 50%;}#sk-container-id-1 div.sk-parallel-item:only-child::after {width: 0;}#sk-container-id-1 div.sk-dashed-wrapped {border: 1px dashed gray;margin: 0 0.4em 0.5em 0.4em;box-sizing: border-box;padding-bottom: 0.4em;background-color: white;}#sk-container-id-1 div.sk-label label {font-family: monospace;font-weight: bold;display: inline-block;line-height: 1.2em;}#sk-container-id-1 div.sk-label-container {text-align: center;}#sk-container-id-1 div.sk-container {/* jupyter's `normalize.less` sets `[hidden] { display: none; }` but bootstrap.min.css set `[hidden] { display: none !important; }` so we also need the `!important` here to be able to override the default hidden behavior on the sphinx rendered scikit-learn.org. See: https://github.com/scikit-learn/scikit-learn/issues/21755 */display: inline-block !important;position: relative;}#sk-container-id-1 div.sk-text-repr-fallback {display: none;}</style><div id=\"sk-container-id-1\" class=\"sk-top-container\"><div class=\"sk-text-repr-fallback\"><pre>DecisionTreeClassifier(max_depth=5, random_state=123)</pre><b>In a Jupyter environment, please rerun this cell to show the HTML representation or trust the notebook. <br />On GitHub, the HTML representation is unable to render, please try loading this page with nbviewer.org.</b></div><div class=\"sk-container\" hidden><div class=\"sk-item\"><div class=\"sk-estimator sk-toggleable\"><input class=\"sk-toggleable__control sk-hidden--visually\" id=\"sk-estimator-id-1\" type=\"checkbox\" checked><label for=\"sk-estimator-id-1\" class=\"sk-toggleable__label sk-toggleable__label-arrow\">DecisionTreeClassifier</label><div class=\"sk-toggleable__content\"><pre>DecisionTreeClassifier(max_depth=5, random_state=123)</pre></div></div></div></div></div>"
            ]
          },
          "metadata": {},
          "execution_count": 9
        }
      ]
    },
    {
      "cell_type": "code",
      "metadata": {
        "id": "9-YOpDNX40gY"
      },
      "source": [
        "# visualize decision tree\n",
        "dot_data = tree.export_graphviz(dtree,  feature_names=vectorizer.get_feature_names_out(),class_names=['Trump','Obama'],filled = True, special_characters=True)\n",
        "graph = Source(dot_data)"
      ],
      "execution_count": null,
      "outputs": []
    },
    {
      "cell_type": "code",
      "metadata": {
        "id": "Mo4QsBNQ40gZ",
        "colab": {
          "base_uri": "https://localhost:8080/",
          "height": 955
        },
        "outputId": "183b5c9b-105f-41e9-eb48-4f862ab9ca36"
      },
      "source": [
        "display(SVG(graph.pipe(format='svg')))\n",
        "graph.render('trumpvobama')"
      ],
      "execution_count": null,
      "outputs": [
        {
          "output_type": "display_data",
          "data": {
            "text/plain": [
              "<IPython.core.display.SVG object>"
            ],
            "image/svg+xml": "<svg xmlns=\"http://www.w3.org/2000/svg\" xmlns:xlink=\"http://www.w3.org/1999/xlink\" width=\"2054pt\" height=\"671pt\" viewBox=\"0.00 0.00 2053.50 671.00\">\n<g id=\"graph0\" class=\"graph\" transform=\"scale(1 1) rotate(0) translate(4 667)\">\n<title>Tree</title>\n<polygon fill=\"white\" stroke=\"transparent\" points=\"-4,4 -4,-667 2049.5,-667 2049.5,4 -4,4\"/>\n<!-- 0 -->\n<g id=\"node1\" class=\"node\">\n<title>0</title>\n<polygon fill=\"#e8f4fc\" stroke=\"black\" points=\"1299,-663 1159,-663 1159,-580 1299,-580 1299,-663\"/>\n<text text-anchor=\"start\" x=\"1210\" y=\"-647.8\" font-family=\"Helvetica,sans-Serif\" font-size=\"14.00\">! ≤ 0.5</text>\n<text text-anchor=\"start\" x=\"1193.5\" y=\"-632.8\" font-family=\"Helvetica,sans-Serif\" font-size=\"14.00\">gini = 0.498</text>\n<text text-anchor=\"start\" x=\"1176.5\" y=\"-617.8\" font-family=\"Helvetica,sans-Serif\" font-size=\"14.00\">samples = 12565</text>\n<text text-anchor=\"start\" x=\"1167\" y=\"-602.8\" font-family=\"Helvetica,sans-Serif\" font-size=\"14.00\">value = [5894, 6671]</text>\n<text text-anchor=\"start\" x=\"1182.5\" y=\"-587.8\" font-family=\"Helvetica,sans-Serif\" font-size=\"14.00\">class = Obama</text>\n</g>\n<!-- 1 -->\n<g id=\"node2\" class=\"node\">\n<title>1</title>\n<polygon fill=\"#80c0ee\" stroke=\"black\" points=\"1102,-544 962,-544 962,-461 1102,-461 1102,-544\"/>\n<text text-anchor=\"start\" x=\"999.5\" y=\"-528.8\" font-family=\"Helvetica,sans-Serif\" font-size=\"14.00\">great ≤ 0.5</text>\n<text text-anchor=\"start\" x=\"996.5\" y=\"-513.8\" font-family=\"Helvetica,sans-Serif\" font-size=\"14.00\">gini = 0.389</text>\n<text text-anchor=\"start\" x=\"983.5\" y=\"-498.8\" font-family=\"Helvetica,sans-Serif\" font-size=\"14.00\">samples = 9015</text>\n<text text-anchor=\"start\" x=\"970\" y=\"-483.8\" font-family=\"Helvetica,sans-Serif\" font-size=\"14.00\">value = [2381, 6634]</text>\n<text text-anchor=\"start\" x=\"985.5\" y=\"-468.8\" font-family=\"Helvetica,sans-Serif\" font-size=\"14.00\">class = Obama</text>\n</g>\n<!-- 0&#45;&gt;1 -->\n<g id=\"edge1\" class=\"edge\">\n<title>0-&gt;1</title>\n<path fill=\"none\" stroke=\"black\" d=\"M1160.65,-579.91C1144,-570.02 1126.07,-559.37 1109.04,-549.25\"/>\n<polygon fill=\"black\" stroke=\"black\" points=\"1110.61,-546.12 1100.23,-544.02 1107.04,-552.14 1110.61,-546.12\"/>\n<text text-anchor=\"middle\" x=\"1106.4\" y=\"-564.55\" font-family=\"Helvetica,sans-Serif\" font-size=\"14.00\">True</text>\n</g>\n<!-- 26 -->\n<g id=\"node27\" class=\"node\">\n<title>26</title>\n<polygon fill=\"#e5823b\" stroke=\"black\" points=\"1520.5,-544 1395.5,-544 1395.5,-461 1520.5,-461 1520.5,-544\"/>\n<text text-anchor=\"start\" x=\"1426\" y=\"-528.8\" font-family=\"Helvetica,sans-Serif\" font-size=\"14.00\">day ! ≤ 0.5</text>\n<text text-anchor=\"start\" x=\"1422.5\" y=\"-513.8\" font-family=\"Helvetica,sans-Serif\" font-size=\"14.00\">gini = 0.021</text>\n<text text-anchor=\"start\" x=\"1409.5\" y=\"-498.8\" font-family=\"Helvetica,sans-Serif\" font-size=\"14.00\">samples = 3550</text>\n<text text-anchor=\"start\" x=\"1403.5\" y=\"-483.8\" font-family=\"Helvetica,sans-Serif\" font-size=\"14.00\">value = [3513, 37]</text>\n<text text-anchor=\"start\" x=\"1414.5\" y=\"-468.8\" font-family=\"Helvetica,sans-Serif\" font-size=\"14.00\">class = Trump</text>\n</g>\n<!-- 0&#45;&gt;26 -->\n<g id=\"edge26\" class=\"edge\">\n<title>0-&gt;26</title>\n<path fill=\"none\" stroke=\"black\" d=\"M1299.26,-584.6C1326.79,-570.54 1358.34,-554.42 1386.02,-540.27\"/>\n<polygon fill=\"black\" stroke=\"black\" points=\"1387.94,-543.22 1395.25,-535.56 1384.76,-536.99 1387.94,-543.22\"/>\n<text text-anchor=\"middle\" x=\"1387.55\" y=\"-555.64\" font-family=\"Helvetica,sans-Serif\" font-size=\"14.00\">False</text>\n</g>\n<!-- 2 -->\n<g id=\"node3\" class=\"node\">\n<title>2</title>\n<polygon fill=\"#79bded\" stroke=\"black\" points=\"684,-425 544,-425 544,-342 684,-342 684,-425\"/>\n<text text-anchor=\"start\" x=\"580.5\" y=\"-409.8\" font-family=\"Helvetica,sans-Serif\" font-size=\"14.00\">china ≤ 0.5</text>\n<text text-anchor=\"start\" x=\"578.5\" y=\"-394.8\" font-family=\"Helvetica,sans-Serif\" font-size=\"14.00\">gini = 0.369</text>\n<text text-anchor=\"start\" x=\"565.5\" y=\"-379.8\" font-family=\"Helvetica,sans-Serif\" font-size=\"14.00\">samples = 8695</text>\n<text text-anchor=\"start\" x=\"552\" y=\"-364.8\" font-family=\"Helvetica,sans-Serif\" font-size=\"14.00\">value = [2121, 6574]</text>\n<text text-anchor=\"start\" x=\"567.5\" y=\"-349.8\" font-family=\"Helvetica,sans-Serif\" font-size=\"14.00\">class = Obama</text>\n</g>\n<!-- 1&#45;&gt;2 -->\n<g id=\"edge2\" class=\"edge\">\n<title>1-&gt;2</title>\n<path fill=\"none\" stroke=\"black\" d=\"M961.56,-481.78C887.49,-461.05 771.14,-428.48 693.74,-406.82\"/>\n<polygon fill=\"black\" stroke=\"black\" points=\"694.6,-403.43 684.03,-404.1 692.71,-410.17 694.6,-403.43\"/>\n</g>\n<!-- 15 -->\n<g id=\"node16\" class=\"node\">\n<title>15</title>\n<polygon fill=\"#eb9e67\" stroke=\"black\" points=\"1090.5,-425 973.5,-425 973.5,-342 1090.5,-342 1090.5,-425\"/>\n<text text-anchor=\"start\" x=\"982\" y=\"-409.8\" font-family=\"Helvetica,sans-Serif\" font-size=\"14.00\">great news ≤ 0.5</text>\n<text text-anchor=\"start\" x=\"996.5\" y=\"-394.8\" font-family=\"Helvetica,sans-Serif\" font-size=\"14.00\">gini = 0.305</text>\n<text text-anchor=\"start\" x=\"987\" y=\"-379.8\" font-family=\"Helvetica,sans-Serif\" font-size=\"14.00\">samples = 320</text>\n<text text-anchor=\"start\" x=\"981.5\" y=\"-364.8\" font-family=\"Helvetica,sans-Serif\" font-size=\"14.00\">value = [260, 60]</text>\n<text text-anchor=\"start\" x=\"988.5\" y=\"-349.8\" font-family=\"Helvetica,sans-Serif\" font-size=\"14.00\">class = Trump</text>\n</g>\n<!-- 1&#45;&gt;15 -->\n<g id=\"edge15\" class=\"edge\">\n<title>1-&gt;15</title>\n<path fill=\"none\" stroke=\"black\" d=\"M1032,-460.91C1032,-452.65 1032,-443.86 1032,-435.3\"/>\n<polygon fill=\"black\" stroke=\"black\" points=\"1035.5,-435.02 1032,-425.02 1028.5,-435.02 1035.5,-435.02\"/>\n</g>\n<!-- 3 -->\n<g id=\"node4\" class=\"node\">\n<title>3</title>\n<polygon fill=\"#76bbed\" stroke=\"black\" points=\"489,-306 349,-306 349,-223 489,-223 489,-306\"/>\n<text text-anchor=\"start\" x=\"389\" y=\"-290.8\" font-family=\"Helvetica,sans-Serif\" font-size=\"14.00\">fake ≤ 0.5</text>\n<text text-anchor=\"start\" x=\"383.5\" y=\"-275.8\" font-family=\"Helvetica,sans-Serif\" font-size=\"14.00\">gini = 0.361</text>\n<text text-anchor=\"start\" x=\"370.5\" y=\"-260.8\" font-family=\"Helvetica,sans-Serif\" font-size=\"14.00\">samples = 8595</text>\n<text text-anchor=\"start\" x=\"357\" y=\"-245.8\" font-family=\"Helvetica,sans-Serif\" font-size=\"14.00\">value = [2029, 6566]</text>\n<text text-anchor=\"start\" x=\"372.5\" y=\"-230.8\" font-family=\"Helvetica,sans-Serif\" font-size=\"14.00\">class = Obama</text>\n</g>\n<!-- 2&#45;&gt;3 -->\n<g id=\"edge3\" class=\"edge\">\n<title>2-&gt;3</title>\n<path fill=\"none\" stroke=\"black\" d=\"M546.35,-341.91C529.86,-332.02 512.11,-321.37 495.26,-311.25\"/>\n<polygon fill=\"black\" stroke=\"black\" points=\"496.91,-308.16 486.53,-306.02 493.31,-314.17 496.91,-308.16\"/>\n</g>\n<!-- 10 -->\n<g id=\"node11\" class=\"node\">\n<title>10</title>\n<polygon fill=\"#e78c4a\" stroke=\"black\" points=\"667,-306 561,-306 561,-223 667,-223 667,-306\"/>\n<text text-anchor=\"start\" x=\"576\" y=\"-290.8\" font-family=\"Helvetica,sans-Serif\" font-size=\"14.00\">carbon ≤ 0.5</text>\n<text text-anchor=\"start\" x=\"578.5\" y=\"-275.8\" font-family=\"Helvetica,sans-Serif\" font-size=\"14.00\">gini = 0.147</text>\n<text text-anchor=\"start\" x=\"569\" y=\"-260.8\" font-family=\"Helvetica,sans-Serif\" font-size=\"14.00\">samples = 100</text>\n<text text-anchor=\"start\" x=\"571\" y=\"-245.8\" font-family=\"Helvetica,sans-Serif\" font-size=\"14.00\">value = [92, 8]</text>\n<text text-anchor=\"start\" x=\"570.5\" y=\"-230.8\" font-family=\"Helvetica,sans-Serif\" font-size=\"14.00\">class = Trump</text>\n</g>\n<!-- 2&#45;&gt;10 -->\n<g id=\"edge10\" class=\"edge\">\n<title>2-&gt;10</title>\n<path fill=\"none\" stroke=\"black\" d=\"M614,-341.91C614,-333.65 614,-324.86 614,-316.3\"/>\n<polygon fill=\"black\" stroke=\"black\" points=\"617.5,-316.02 614,-306.02 610.5,-316.02 617.5,-316.02\"/>\n</g>\n<!-- 4 -->\n<g id=\"node5\" class=\"node\">\n<title>4</title>\n<polygon fill=\"#74baed\" stroke=\"black\" points=\"280,-187 140,-187 140,-104 280,-104 280,-187\"/>\n<text text-anchor=\"start\" x=\"172.5\" y=\"-171.8\" font-family=\"Helvetica,sans-Serif\" font-size=\"14.00\">donald ≤ 0.5</text>\n<text text-anchor=\"start\" x=\"174.5\" y=\"-156.8\" font-family=\"Helvetica,sans-Serif\" font-size=\"14.00\">gini = 0.353</text>\n<text text-anchor=\"start\" x=\"161.5\" y=\"-141.8\" font-family=\"Helvetica,sans-Serif\" font-size=\"14.00\">samples = 8514</text>\n<text text-anchor=\"start\" x=\"148\" y=\"-126.8\" font-family=\"Helvetica,sans-Serif\" font-size=\"14.00\">value = [1949, 6565]</text>\n<text text-anchor=\"start\" x=\"163.5\" y=\"-111.8\" font-family=\"Helvetica,sans-Serif\" font-size=\"14.00\">class = Obama</text>\n</g>\n<!-- 3&#45;&gt;4 -->\n<g id=\"edge4\" class=\"edge\">\n<title>3-&gt;4</title>\n<path fill=\"none\" stroke=\"black\" d=\"M348.82,-224.22C329.7,-213.51 308.84,-201.83 289.25,-190.86\"/>\n<polygon fill=\"black\" stroke=\"black\" points=\"290.78,-187.71 280.35,-185.88 287.36,-193.82 290.78,-187.71\"/>\n</g>\n<!-- 7 -->\n<g id=\"node8\" class=\"node\">\n<title>7</title>\n<polygon fill=\"#e5833b\" stroke=\"black\" points=\"474,-187 364,-187 364,-104 474,-104 474,-187\"/>\n<text text-anchor=\"start\" x=\"372\" y=\"-171.8\" font-family=\"Helvetica,sans-Serif\" font-size=\"14.00\">affordable ≤ 0.5</text>\n<text text-anchor=\"start\" x=\"383.5\" y=\"-156.8\" font-family=\"Helvetica,sans-Serif\" font-size=\"14.00\">gini = 0.024</text>\n<text text-anchor=\"start\" x=\"378\" y=\"-141.8\" font-family=\"Helvetica,sans-Serif\" font-size=\"14.00\">samples = 81</text>\n<text text-anchor=\"start\" x=\"376\" y=\"-126.8\" font-family=\"Helvetica,sans-Serif\" font-size=\"14.00\">value = [80, 1]</text>\n<text text-anchor=\"start\" x=\"375.5\" y=\"-111.8\" font-family=\"Helvetica,sans-Serif\" font-size=\"14.00\">class = Trump</text>\n</g>\n<!-- 3&#45;&gt;7 -->\n<g id=\"edge7\" class=\"edge\">\n<title>3-&gt;7</title>\n<path fill=\"none\" stroke=\"black\" d=\"M419,-222.91C419,-214.65 419,-205.86 419,-197.3\"/>\n<polygon fill=\"black\" stroke=\"black\" points=\"422.5,-197.02 419,-187.02 415.5,-197.02 422.5,-197.02\"/>\n</g>\n<!-- 5 -->\n<g id=\"node6\" class=\"node\">\n<title>5</title>\n<polygon fill=\"#72b9ec\" stroke=\"black\" points=\"140,-68 0,-68 0,0 140,0 140,-68\"/>\n<text text-anchor=\"start\" x=\"34.5\" y=\"-52.8\" font-family=\"Helvetica,sans-Serif\" font-size=\"14.00\">gini = 0.346</text>\n<text text-anchor=\"start\" x=\"21.5\" y=\"-37.8\" font-family=\"Helvetica,sans-Serif\" font-size=\"14.00\">samples = 8445</text>\n<text text-anchor=\"start\" x=\"8\" y=\"-22.8\" font-family=\"Helvetica,sans-Serif\" font-size=\"14.00\">value = [1880, 6565]</text>\n<text text-anchor=\"start\" x=\"23.5\" y=\"-7.8\" font-family=\"Helvetica,sans-Serif\" font-size=\"14.00\">class = Obama</text>\n</g>\n<!-- 4&#45;&gt;5 -->\n<g id=\"edge5\" class=\"edge\">\n<title>4-&gt;5</title>\n<path fill=\"none\" stroke=\"black\" d=\"M157.87,-103.73C145.74,-94.24 132.85,-84.16 120.78,-74.72\"/>\n<polygon fill=\"black\" stroke=\"black\" points=\"122.61,-71.7 112.57,-68.3 118.3,-77.22 122.61,-71.7\"/>\n</g>\n<!-- 6 -->\n<g id=\"node7\" class=\"node\">\n<title>6</title>\n<polygon fill=\"#e58139\" stroke=\"black\" points=\"261.5,-68 158.5,-68 158.5,0 261.5,0 261.5,-68\"/>\n<text text-anchor=\"start\" x=\"182\" y=\"-52.8\" font-family=\"Helvetica,sans-Serif\" font-size=\"14.00\">gini = 0.0</text>\n<text text-anchor=\"start\" x=\"169\" y=\"-37.8\" font-family=\"Helvetica,sans-Serif\" font-size=\"14.00\">samples = 69</text>\n<text text-anchor=\"start\" x=\"167\" y=\"-22.8\" font-family=\"Helvetica,sans-Serif\" font-size=\"14.00\">value = [69, 0]</text>\n<text text-anchor=\"start\" x=\"166.5\" y=\"-7.8\" font-family=\"Helvetica,sans-Serif\" font-size=\"14.00\">class = Trump</text>\n</g>\n<!-- 4&#45;&gt;6 -->\n<g id=\"edge6\" class=\"edge\">\n<title>4-&gt;6</title>\n<path fill=\"none\" stroke=\"black\" d=\"M210,-103.73C210,-95.52 210,-86.86 210,-78.56\"/>\n<polygon fill=\"black\" stroke=\"black\" points=\"213.5,-78.3 210,-68.3 206.5,-78.3 213.5,-78.3\"/>\n</g>\n<!-- 8 -->\n<g id=\"node9\" class=\"node\">\n<title>8</title>\n<polygon fill=\"#e58139\" stroke=\"black\" points=\"382.5,-68 279.5,-68 279.5,0 382.5,0 382.5,-68\"/>\n<text text-anchor=\"start\" x=\"303\" y=\"-52.8\" font-family=\"Helvetica,sans-Serif\" font-size=\"14.00\">gini = 0.0</text>\n<text text-anchor=\"start\" x=\"290\" y=\"-37.8\" font-family=\"Helvetica,sans-Serif\" font-size=\"14.00\">samples = 80</text>\n<text text-anchor=\"start\" x=\"288\" y=\"-22.8\" font-family=\"Helvetica,sans-Serif\" font-size=\"14.00\">value = [80, 0]</text>\n<text text-anchor=\"start\" x=\"287.5\" y=\"-7.8\" font-family=\"Helvetica,sans-Serif\" font-size=\"14.00\">class = Trump</text>\n</g>\n<!-- 7&#45;&gt;8 -->\n<g id=\"edge8\" class=\"edge\">\n<title>7-&gt;8</title>\n<path fill=\"none\" stroke=\"black\" d=\"M386.23,-103.73C379.05,-94.79 371.44,-85.32 364.24,-76.36\"/>\n<polygon fill=\"black\" stroke=\"black\" points=\"366.75,-73.9 357.76,-68.3 361.3,-78.29 366.75,-73.9\"/>\n</g>\n<!-- 9 -->\n<g id=\"node10\" class=\"node\">\n<title>9</title>\n<polygon fill=\"#399de5\" stroke=\"black\" points=\"509.5,-68 400.5,-68 400.5,0 509.5,0 509.5,-68\"/>\n<text text-anchor=\"start\" x=\"427\" y=\"-52.8\" font-family=\"Helvetica,sans-Serif\" font-size=\"14.00\">gini = 0.0</text>\n<text text-anchor=\"start\" x=\"417.5\" y=\"-37.8\" font-family=\"Helvetica,sans-Serif\" font-size=\"14.00\">samples = 1</text>\n<text text-anchor=\"start\" x=\"415.5\" y=\"-22.8\" font-family=\"Helvetica,sans-Serif\" font-size=\"14.00\">value = [0, 1]</text>\n<text text-anchor=\"start\" x=\"408.5\" y=\"-7.8\" font-family=\"Helvetica,sans-Serif\" font-size=\"14.00\">class = Obama</text>\n</g>\n<!-- 7&#45;&gt;9 -->\n<g id=\"edge9\" class=\"edge\">\n<title>7-&gt;9</title>\n<path fill=\"none\" stroke=\"black\" d=\"M432.41,-103.73C435.16,-95.34 438.08,-86.47 440.86,-78.01\"/>\n<polygon fill=\"black\" stroke=\"black\" points=\"444.25,-78.89 444.05,-68.3 437.6,-76.71 444.25,-78.89\"/>\n</g>\n<!-- 11 -->\n<g id=\"node12\" class=\"node\">\n<title>11</title>\n<polygon fill=\"#e68844\" stroke=\"black\" points=\"630.5,-187 527.5,-187 527.5,-104 630.5,-104 630.5,-187\"/>\n<text text-anchor=\"start\" x=\"539.5\" y=\"-171.8\" font-family=\"Helvetica,sans-Serif\" font-size=\"14.00\">change ≤ 0.5</text>\n<text text-anchor=\"start\" x=\"543.5\" y=\"-156.8\" font-family=\"Helvetica,sans-Serif\" font-size=\"14.00\">gini = 0.098</text>\n<text text-anchor=\"start\" x=\"538\" y=\"-141.8\" font-family=\"Helvetica,sans-Serif\" font-size=\"14.00\">samples = 97</text>\n<text text-anchor=\"start\" x=\"536\" y=\"-126.8\" font-family=\"Helvetica,sans-Serif\" font-size=\"14.00\">value = [92, 5]</text>\n<text text-anchor=\"start\" x=\"535.5\" y=\"-111.8\" font-family=\"Helvetica,sans-Serif\" font-size=\"14.00\">class = Trump</text>\n</g>\n<!-- 10&#45;&gt;11 -->\n<g id=\"edge11\" class=\"edge\">\n<title>10-&gt;11</title>\n<path fill=\"none\" stroke=\"black\" d=\"M601.86,-222.91C599.33,-214.47 596.64,-205.48 594.03,-196.74\"/>\n<polygon fill=\"black\" stroke=\"black\" points=\"597.34,-195.6 591.12,-187.02 590.63,-197.6 597.34,-195.6\"/>\n</g>\n<!-- 14 -->\n<g id=\"node15\" class=\"node\">\n<title>14</title>\n<polygon fill=\"#399de5\" stroke=\"black\" points=\"757.5,-179.5 648.5,-179.5 648.5,-111.5 757.5,-111.5 757.5,-179.5\"/>\n<text text-anchor=\"start\" x=\"675\" y=\"-164.3\" font-family=\"Helvetica,sans-Serif\" font-size=\"14.00\">gini = 0.0</text>\n<text text-anchor=\"start\" x=\"665.5\" y=\"-149.3\" font-family=\"Helvetica,sans-Serif\" font-size=\"14.00\">samples = 3</text>\n<text text-anchor=\"start\" x=\"663.5\" y=\"-134.3\" font-family=\"Helvetica,sans-Serif\" font-size=\"14.00\">value = [0, 3]</text>\n<text text-anchor=\"start\" x=\"656.5\" y=\"-119.3\" font-family=\"Helvetica,sans-Serif\" font-size=\"14.00\">class = Obama</text>\n</g>\n<!-- 10&#45;&gt;14 -->\n<g id=\"edge14\" class=\"edge\">\n<title>10-&gt;14</title>\n<path fill=\"none\" stroke=\"black\" d=\"M644.88,-222.91C653.52,-211.54 662.93,-199.18 671.6,-187.77\"/>\n<polygon fill=\"black\" stroke=\"black\" points=\"674.5,-189.74 677.77,-179.67 668.93,-185.51 674.5,-189.74\"/>\n</g>\n<!-- 12 -->\n<g id=\"node13\" class=\"node\">\n<title>12</title>\n<polygon fill=\"#e6853f\" stroke=\"black\" points=\"630.5,-68 527.5,-68 527.5,0 630.5,0 630.5,-68\"/>\n<text text-anchor=\"start\" x=\"543.5\" y=\"-52.8\" font-family=\"Helvetica,sans-Serif\" font-size=\"14.00\">gini = 0.061</text>\n<text text-anchor=\"start\" x=\"538\" y=\"-37.8\" font-family=\"Helvetica,sans-Serif\" font-size=\"14.00\">samples = 95</text>\n<text text-anchor=\"start\" x=\"536\" y=\"-22.8\" font-family=\"Helvetica,sans-Serif\" font-size=\"14.00\">value = [92, 3]</text>\n<text text-anchor=\"start\" x=\"535.5\" y=\"-7.8\" font-family=\"Helvetica,sans-Serif\" font-size=\"14.00\">class = Trump</text>\n</g>\n<!-- 11&#45;&gt;12 -->\n<g id=\"edge12\" class=\"edge\">\n<title>11-&gt;12</title>\n<path fill=\"none\" stroke=\"black\" d=\"M579,-103.73C579,-95.52 579,-86.86 579,-78.56\"/>\n<polygon fill=\"black\" stroke=\"black\" points=\"582.5,-78.3 579,-68.3 575.5,-78.3 582.5,-78.3\"/>\n</g>\n<!-- 13 -->\n<g id=\"node14\" class=\"node\">\n<title>13</title>\n<polygon fill=\"#399de5\" stroke=\"black\" points=\"757.5,-68 648.5,-68 648.5,0 757.5,0 757.5,-68\"/>\n<text text-anchor=\"start\" x=\"675\" y=\"-52.8\" font-family=\"Helvetica,sans-Serif\" font-size=\"14.00\">gini = 0.0</text>\n<text text-anchor=\"start\" x=\"665.5\" y=\"-37.8\" font-family=\"Helvetica,sans-Serif\" font-size=\"14.00\">samples = 2</text>\n<text text-anchor=\"start\" x=\"663.5\" y=\"-22.8\" font-family=\"Helvetica,sans-Serif\" font-size=\"14.00\">value = [0, 2]</text>\n<text text-anchor=\"start\" x=\"656.5\" y=\"-7.8\" font-family=\"Helvetica,sans-Serif\" font-size=\"14.00\">class = Obama</text>\n</g>\n<!-- 11&#45;&gt;13 -->\n<g id=\"edge13\" class=\"edge\">\n<title>11-&gt;13</title>\n<path fill=\"none\" stroke=\"black\" d=\"M625.17,-103.73C635.81,-94.33 647.12,-84.35 657.72,-74.99\"/>\n<polygon fill=\"black\" stroke=\"black\" points=\"660.11,-77.54 665.29,-68.3 655.48,-72.3 660.11,-77.54\"/>\n</g>\n<!-- 16 -->\n<g id=\"node17\" class=\"node\">\n<title>16</title>\n<polygon fill=\"#ea9a60\" stroke=\"black\" points=\"1007.5,-306 890.5,-306 890.5,-223 1007.5,-223 1007.5,-306\"/>\n<text text-anchor=\"start\" x=\"901.5\" y=\"-290.8\" font-family=\"Helvetica,sans-Serif\" font-size=\"14.00\">great year ≤ 0.5</text>\n<text text-anchor=\"start\" x=\"913.5\" y=\"-275.8\" font-family=\"Helvetica,sans-Serif\" font-size=\"14.00\">gini = 0.273</text>\n<text text-anchor=\"start\" x=\"904\" y=\"-260.8\" font-family=\"Helvetica,sans-Serif\" font-size=\"14.00\">samples = 307</text>\n<text text-anchor=\"start\" x=\"898.5\" y=\"-245.8\" font-family=\"Helvetica,sans-Serif\" font-size=\"14.00\">value = [257, 50]</text>\n<text text-anchor=\"start\" x=\"905.5\" y=\"-230.8\" font-family=\"Helvetica,sans-Serif\" font-size=\"14.00\">class = Trump</text>\n</g>\n<!-- 15&#45;&gt;16 -->\n<g id=\"edge16\" class=\"edge\">\n<title>15-&gt;16</title>\n<path fill=\"none\" stroke=\"black\" d=\"M1003.2,-341.91C996.89,-333.01 990.15,-323.51 983.64,-314.33\"/>\n<polygon fill=\"black\" stroke=\"black\" points=\"986.39,-312.15 977.75,-306.02 980.68,-316.2 986.39,-312.15\"/>\n</g>\n<!-- 21 -->\n<g id=\"node22\" class=\"node\">\n<title>21</title>\n<polygon fill=\"#74baed\" stroke=\"black\" points=\"1204,-306 1026,-306 1026,-223 1204,-223 1204,-306\"/>\n<text text-anchor=\"start\" x=\"1034\" y=\"-290.8\" font-family=\"Helvetica,sans-Serif\" font-size=\"14.00\">informative ralphreed ≤ 0.5</text>\n<text text-anchor=\"start\" x=\"1079.5\" y=\"-275.8\" font-family=\"Helvetica,sans-Serif\" font-size=\"14.00\">gini = 0.355</text>\n<text text-anchor=\"start\" x=\"1074\" y=\"-260.8\" font-family=\"Helvetica,sans-Serif\" font-size=\"14.00\">samples = 13</text>\n<text text-anchor=\"start\" x=\"1072\" y=\"-245.8\" font-family=\"Helvetica,sans-Serif\" font-size=\"14.00\">value = [3, 10]</text>\n<text text-anchor=\"start\" x=\"1068.5\" y=\"-230.8\" font-family=\"Helvetica,sans-Serif\" font-size=\"14.00\">class = Obama</text>\n</g>\n<!-- 15&#45;&gt;21 -->\n<g id=\"edge21\" class=\"edge\">\n<title>15-&gt;21</title>\n<path fill=\"none\" stroke=\"black\" d=\"M1060.8,-341.91C1067.11,-333.01 1073.85,-323.51 1080.36,-314.33\"/>\n<polygon fill=\"black\" stroke=\"black\" points=\"1083.32,-316.2 1086.25,-306.02 1077.61,-312.15 1083.32,-316.2\"/>\n</g>\n<!-- 17 -->\n<g id=\"node18\" class=\"node\">\n<title>17</title>\n<polygon fill=\"#e9975b\" stroke=\"black\" points=\"892.5,-187 775.5,-187 775.5,-104 892.5,-104 892.5,-187\"/>\n<text text-anchor=\"start\" x=\"786.5\" y=\"-171.8\" font-family=\"Helvetica,sans-Serif\" font-size=\"14.00\">great time ≤ 0.5</text>\n<text text-anchor=\"start\" x=\"802\" y=\"-156.8\" font-family=\"Helvetica,sans-Serif\" font-size=\"14.00\">gini = 0.25</text>\n<text text-anchor=\"start\" x=\"789\" y=\"-141.8\" font-family=\"Helvetica,sans-Serif\" font-size=\"14.00\">samples = 301</text>\n<text text-anchor=\"start\" x=\"783.5\" y=\"-126.8\" font-family=\"Helvetica,sans-Serif\" font-size=\"14.00\">value = [257, 44]</text>\n<text text-anchor=\"start\" x=\"790.5\" y=\"-111.8\" font-family=\"Helvetica,sans-Serif\" font-size=\"14.00\">class = Trump</text>\n</g>\n<!-- 16&#45;&gt;17 -->\n<g id=\"edge17\" class=\"edge\">\n<title>16-&gt;17</title>\n<path fill=\"none\" stroke=\"black\" d=\"M909.1,-222.91C900,-213.65 890.25,-203.73 880.89,-194.21\"/>\n<polygon fill=\"black\" stroke=\"black\" points=\"883.33,-191.7 873.83,-187.02 878.34,-196.61 883.33,-191.7\"/>\n</g>\n<!-- 20 -->\n<g id=\"node21\" class=\"node\">\n<title>20</title>\n<polygon fill=\"#399de5\" stroke=\"black\" points=\"1019.5,-179.5 910.5,-179.5 910.5,-111.5 1019.5,-111.5 1019.5,-179.5\"/>\n<text text-anchor=\"start\" x=\"937\" y=\"-164.3\" font-family=\"Helvetica,sans-Serif\" font-size=\"14.00\">gini = 0.0</text>\n<text text-anchor=\"start\" x=\"927.5\" y=\"-149.3\" font-family=\"Helvetica,sans-Serif\" font-size=\"14.00\">samples = 6</text>\n<text text-anchor=\"start\" x=\"925.5\" y=\"-134.3\" font-family=\"Helvetica,sans-Serif\" font-size=\"14.00\">value = [0, 6]</text>\n<text text-anchor=\"start\" x=\"918.5\" y=\"-119.3\" font-family=\"Helvetica,sans-Serif\" font-size=\"14.00\">class = Obama</text>\n</g>\n<!-- 16&#45;&gt;20 -->\n<g id=\"edge20\" class=\"edge\">\n<title>16-&gt;20</title>\n<path fill=\"none\" stroke=\"black\" d=\"M954.55,-222.91C956.01,-212.2 957.6,-200.62 959.08,-189.78\"/>\n<polygon fill=\"black\" stroke=\"black\" points=\"962.58,-190.05 960.46,-179.67 955.64,-189.1 962.58,-190.05\"/>\n</g>\n<!-- 18 -->\n<g id=\"node19\" class=\"node\">\n<title>18</title>\n<polygon fill=\"#e99558\" stroke=\"black\" points=\"892.5,-68 775.5,-68 775.5,0 892.5,0 892.5,-68\"/>\n<text text-anchor=\"start\" x=\"798.5\" y=\"-52.8\" font-family=\"Helvetica,sans-Serif\" font-size=\"14.00\">gini = 0.233</text>\n<text text-anchor=\"start\" x=\"789\" y=\"-37.8\" font-family=\"Helvetica,sans-Serif\" font-size=\"14.00\">samples = 297</text>\n<text text-anchor=\"start\" x=\"783.5\" y=\"-22.8\" font-family=\"Helvetica,sans-Serif\" font-size=\"14.00\">value = [257, 40]</text>\n<text text-anchor=\"start\" x=\"790.5\" y=\"-7.8\" font-family=\"Helvetica,sans-Serif\" font-size=\"14.00\">class = Trump</text>\n</g>\n<!-- 17&#45;&gt;18 -->\n<g id=\"edge18\" class=\"edge\">\n<title>17-&gt;18</title>\n<path fill=\"none\" stroke=\"black\" d=\"M834,-103.73C834,-95.52 834,-86.86 834,-78.56\"/>\n<polygon fill=\"black\" stroke=\"black\" points=\"837.5,-78.3 834,-68.3 830.5,-78.3 837.5,-78.3\"/>\n</g>\n<!-- 19 -->\n<g id=\"node20\" class=\"node\">\n<title>19</title>\n<polygon fill=\"#399de5\" stroke=\"black\" points=\"1019.5,-68 910.5,-68 910.5,0 1019.5,0 1019.5,-68\"/>\n<text text-anchor=\"start\" x=\"937\" y=\"-52.8\" font-family=\"Helvetica,sans-Serif\" font-size=\"14.00\">gini = 0.0</text>\n<text text-anchor=\"start\" x=\"927.5\" y=\"-37.8\" font-family=\"Helvetica,sans-Serif\" font-size=\"14.00\">samples = 4</text>\n<text text-anchor=\"start\" x=\"925.5\" y=\"-22.8\" font-family=\"Helvetica,sans-Serif\" font-size=\"14.00\">value = [0, 4]</text>\n<text text-anchor=\"start\" x=\"918.5\" y=\"-7.8\" font-family=\"Helvetica,sans-Serif\" font-size=\"14.00\">class = Obama</text>\n</g>\n<!-- 17&#45;&gt;19 -->\n<g id=\"edge19\" class=\"edge\">\n<title>17-&gt;19</title>\n<path fill=\"none\" stroke=\"black\" d=\"M882.78,-103.73C894.13,-94.24 906.19,-84.16 917.49,-74.72\"/>\n<polygon fill=\"black\" stroke=\"black\" points=\"919.73,-77.4 925.16,-68.3 915.24,-72.03 919.73,-77.4\"/>\n</g>\n<!-- 22 -->\n<g id=\"node23\" class=\"node\">\n<title>22</title>\n<polygon fill=\"#4da7e8\" stroke=\"black\" points=\"1158,-187 1038,-187 1038,-104 1158,-104 1158,-187\"/>\n<text text-anchor=\"start\" x=\"1046\" y=\"-171.8\" font-family=\"Helvetica,sans-Serif\" font-size=\"14.00\">tower today ≤ 0.5</text>\n<text text-anchor=\"start\" x=\"1062.5\" y=\"-156.8\" font-family=\"Helvetica,sans-Serif\" font-size=\"14.00\">gini = 0.165</text>\n<text text-anchor=\"start\" x=\"1057\" y=\"-141.8\" font-family=\"Helvetica,sans-Serif\" font-size=\"14.00\">samples = 11</text>\n<text text-anchor=\"start\" x=\"1055\" y=\"-126.8\" font-family=\"Helvetica,sans-Serif\" font-size=\"14.00\">value = [1, 10]</text>\n<text text-anchor=\"start\" x=\"1051.5\" y=\"-111.8\" font-family=\"Helvetica,sans-Serif\" font-size=\"14.00\">class = Obama</text>\n</g>\n<!-- 21&#45;&gt;22 -->\n<g id=\"edge22\" class=\"edge\">\n<title>21-&gt;22</title>\n<path fill=\"none\" stroke=\"black\" d=\"M1109.1,-222.91C1107.89,-214.56 1106.6,-205.67 1105.34,-197.02\"/>\n<polygon fill=\"black\" stroke=\"black\" points=\"1108.79,-196.41 1103.89,-187.02 1101.86,-197.42 1108.79,-196.41\"/>\n</g>\n<!-- 25 -->\n<g id=\"node26\" class=\"node\">\n<title>25</title>\n<polygon fill=\"#e58139\" stroke=\"black\" points=\"1279.5,-179.5 1176.5,-179.5 1176.5,-111.5 1279.5,-111.5 1279.5,-179.5\"/>\n<text text-anchor=\"start\" x=\"1200\" y=\"-164.3\" font-family=\"Helvetica,sans-Serif\" font-size=\"14.00\">gini = 0.0</text>\n<text text-anchor=\"start\" x=\"1190.5\" y=\"-149.3\" font-family=\"Helvetica,sans-Serif\" font-size=\"14.00\">samples = 2</text>\n<text text-anchor=\"start\" x=\"1188.5\" y=\"-134.3\" font-family=\"Helvetica,sans-Serif\" font-size=\"14.00\">value = [2, 0]</text>\n<text text-anchor=\"start\" x=\"1184.5\" y=\"-119.3\" font-family=\"Helvetica,sans-Serif\" font-size=\"14.00\">class = Trump</text>\n</g>\n<!-- 21&#45;&gt;25 -->\n<g id=\"edge25\" class=\"edge\">\n<title>21-&gt;25</title>\n<path fill=\"none\" stroke=\"black\" d=\"M1154.2,-222.91C1165.39,-211.32 1177.59,-198.7 1188.78,-187.11\"/>\n<polygon fill=\"black\" stroke=\"black\" points=\"1191.54,-189.29 1195.97,-179.67 1186.5,-184.43 1191.54,-189.29\"/>\n</g>\n<!-- 23 -->\n<g id=\"node24\" class=\"node\">\n<title>23</title>\n<polygon fill=\"#399de5\" stroke=\"black\" points=\"1149.5,-68 1040.5,-68 1040.5,0 1149.5,0 1149.5,-68\"/>\n<text text-anchor=\"start\" x=\"1067\" y=\"-52.8\" font-family=\"Helvetica,sans-Serif\" font-size=\"14.00\">gini = 0.0</text>\n<text text-anchor=\"start\" x=\"1054\" y=\"-37.8\" font-family=\"Helvetica,sans-Serif\" font-size=\"14.00\">samples = 10</text>\n<text text-anchor=\"start\" x=\"1052\" y=\"-22.8\" font-family=\"Helvetica,sans-Serif\" font-size=\"14.00\">value = [0, 10]</text>\n<text text-anchor=\"start\" x=\"1048.5\" y=\"-7.8\" font-family=\"Helvetica,sans-Serif\" font-size=\"14.00\">class = Obama</text>\n</g>\n<!-- 22&#45;&gt;23 -->\n<g id=\"edge23\" class=\"edge\">\n<title>22-&gt;23</title>\n<path fill=\"none\" stroke=\"black\" d=\"M1096.88,-103.73C1096.66,-95.52 1096.42,-86.86 1096.19,-78.56\"/>\n<polygon fill=\"black\" stroke=\"black\" points=\"1099.68,-78.2 1095.91,-68.3 1092.69,-78.39 1099.68,-78.2\"/>\n</g>\n<!-- 24 -->\n<g id=\"node25\" class=\"node\">\n<title>24</title>\n<polygon fill=\"#e58139\" stroke=\"black\" points=\"1270.5,-68 1167.5,-68 1167.5,0 1270.5,0 1270.5,-68\"/>\n<text text-anchor=\"start\" x=\"1191\" y=\"-52.8\" font-family=\"Helvetica,sans-Serif\" font-size=\"14.00\">gini = 0.0</text>\n<text text-anchor=\"start\" x=\"1181.5\" y=\"-37.8\" font-family=\"Helvetica,sans-Serif\" font-size=\"14.00\">samples = 1</text>\n<text text-anchor=\"start\" x=\"1179.5\" y=\"-22.8\" font-family=\"Helvetica,sans-Serif\" font-size=\"14.00\">value = [1, 0]</text>\n<text text-anchor=\"start\" x=\"1175.5\" y=\"-7.8\" font-family=\"Helvetica,sans-Serif\" font-size=\"14.00\">class = Trump</text>\n</g>\n<!-- 22&#45;&gt;24 -->\n<g id=\"edge24\" class=\"edge\">\n<title>22-&gt;24</title>\n<path fill=\"none\" stroke=\"black\" d=\"M1143.06,-103.73C1153.34,-94.42 1164.25,-84.54 1174.51,-75.26\"/>\n<polygon fill=\"black\" stroke=\"black\" points=\"1177.14,-77.6 1182.2,-68.3 1172.44,-72.41 1177.14,-77.6\"/>\n</g>\n<!-- 27 -->\n<g id=\"node28\" class=\"node\">\n<title>27</title>\n<polygon fill=\"#e5823b\" stroke=\"black\" points=\"1528,-425 1388,-425 1388,-342 1528,-342 1528,-425\"/>\n<text text-anchor=\"start\" x=\"1396\" y=\"-409.8\" font-family=\"Helvetica,sans-Serif\" font-size=\"14.00\">rally final caign ≤ 0.5</text>\n<text text-anchor=\"start\" x=\"1422.5\" y=\"-394.8\" font-family=\"Helvetica,sans-Serif\" font-size=\"14.00\">gini = 0.017</text>\n<text text-anchor=\"start\" x=\"1409.5\" y=\"-379.8\" font-family=\"Helvetica,sans-Serif\" font-size=\"14.00\">samples = 3527</text>\n<text text-anchor=\"start\" x=\"1403.5\" y=\"-364.8\" font-family=\"Helvetica,sans-Serif\" font-size=\"14.00\">value = [3497, 30]</text>\n<text text-anchor=\"start\" x=\"1414.5\" y=\"-349.8\" font-family=\"Helvetica,sans-Serif\" font-size=\"14.00\">class = Trump</text>\n</g>\n<!-- 26&#45;&gt;27 -->\n<g id=\"edge27\" class=\"edge\">\n<title>26-&gt;27</title>\n<path fill=\"none\" stroke=\"black\" d=\"M1458,-460.91C1458,-452.65 1458,-443.86 1458,-435.3\"/>\n<polygon fill=\"black\" stroke=\"black\" points=\"1461.5,-435.02 1458,-425.02 1454.5,-435.02 1461.5,-435.02\"/>\n</g>\n<!-- 34 -->\n<g id=\"node35\" class=\"node\">\n<title>34</title>\n<polygon fill=\"#f0b890\" stroke=\"black\" points=\"1732.5,-425 1629.5,-425 1629.5,-342 1732.5,-342 1732.5,-425\"/>\n<text text-anchor=\"start\" x=\"1645.5\" y=\"-409.8\" font-family=\"Helvetica,sans-Serif\" font-size=\"14.00\">happy ≤ 0.5</text>\n<text text-anchor=\"start\" x=\"1645.5\" y=\"-394.8\" font-family=\"Helvetica,sans-Serif\" font-size=\"14.00\">gini = 0.423</text>\n<text text-anchor=\"start\" x=\"1640\" y=\"-379.8\" font-family=\"Helvetica,sans-Serif\" font-size=\"14.00\">samples = 23</text>\n<text text-anchor=\"start\" x=\"1638\" y=\"-364.8\" font-family=\"Helvetica,sans-Serif\" font-size=\"14.00\">value = [16, 7]</text>\n<text text-anchor=\"start\" x=\"1637.5\" y=\"-349.8\" font-family=\"Helvetica,sans-Serif\" font-size=\"14.00\">class = Trump</text>\n</g>\n<!-- 26&#45;&gt;34 -->\n<g id=\"edge34\" class=\"edge\">\n<title>26-&gt;34</title>\n<path fill=\"none\" stroke=\"black\" d=\"M1520.71,-468.6C1551.9,-452.23 1589.43,-432.54 1620.34,-416.33\"/>\n<polygon fill=\"black\" stroke=\"black\" points=\"1622.05,-419.38 1629.28,-411.64 1618.8,-413.18 1622.05,-419.38\"/>\n</g>\n<!-- 28 -->\n<g id=\"node29\" class=\"node\">\n<title>28</title>\n<polygon fill=\"#e5823b\" stroke=\"black\" points=\"1453.5,-306 1328.5,-306 1328.5,-223 1453.5,-223 1453.5,-306\"/>\n<text text-anchor=\"start\" x=\"1361\" y=\"-290.8\" font-family=\"Helvetica,sans-Serif\" font-size=\"14.00\">myk ≤ 0.5</text>\n<text text-anchor=\"start\" x=\"1355.5\" y=\"-275.8\" font-family=\"Helvetica,sans-Serif\" font-size=\"14.00\">gini = 0.016</text>\n<text text-anchor=\"start\" x=\"1342.5\" y=\"-260.8\" font-family=\"Helvetica,sans-Serif\" font-size=\"14.00\">samples = 3525</text>\n<text text-anchor=\"start\" x=\"1336.5\" y=\"-245.8\" font-family=\"Helvetica,sans-Serif\" font-size=\"14.00\">value = [3497, 28]</text>\n<text text-anchor=\"start\" x=\"1347.5\" y=\"-230.8\" font-family=\"Helvetica,sans-Serif\" font-size=\"14.00\">class = Trump</text>\n</g>\n<!-- 27&#45;&gt;28 -->\n<g id=\"edge28\" class=\"edge\">\n<title>27-&gt;28</title>\n<path fill=\"none\" stroke=\"black\" d=\"M1434.75,-341.91C1429.77,-333.2 1424.44,-323.9 1419.29,-314.89\"/>\n<polygon fill=\"black\" stroke=\"black\" points=\"1422.21,-312.96 1414.2,-306.02 1416.14,-316.44 1422.21,-312.96\"/>\n</g>\n<!-- 33 -->\n<g id=\"node34\" class=\"node\">\n<title>33</title>\n<polygon fill=\"#399de5\" stroke=\"black\" points=\"1580.5,-298.5 1471.5,-298.5 1471.5,-230.5 1580.5,-230.5 1580.5,-298.5\"/>\n<text text-anchor=\"start\" x=\"1498\" y=\"-283.3\" font-family=\"Helvetica,sans-Serif\" font-size=\"14.00\">gini = 0.0</text>\n<text text-anchor=\"start\" x=\"1488.5\" y=\"-268.3\" font-family=\"Helvetica,sans-Serif\" font-size=\"14.00\">samples = 2</text>\n<text text-anchor=\"start\" x=\"1486.5\" y=\"-253.3\" font-family=\"Helvetica,sans-Serif\" font-size=\"14.00\">value = [0, 2]</text>\n<text text-anchor=\"start\" x=\"1479.5\" y=\"-238.3\" font-family=\"Helvetica,sans-Serif\" font-size=\"14.00\">class = Obama</text>\n</g>\n<!-- 27&#45;&gt;33 -->\n<g id=\"edge33\" class=\"edge\">\n<title>27-&gt;33</title>\n<path fill=\"none\" stroke=\"black\" d=\"M1481.59,-341.91C1488.07,-330.76 1495.1,-318.66 1501.63,-307.44\"/>\n<polygon fill=\"black\" stroke=\"black\" points=\"1504.72,-309.07 1506.72,-298.67 1498.67,-305.55 1504.72,-309.07\"/>\n</g>\n<!-- 29 -->\n<g id=\"node30\" class=\"node\">\n<title>29</title>\n<polygon fill=\"#e5823a\" stroke=\"black\" points=\"1422.5,-187 1297.5,-187 1297.5,-104 1422.5,-104 1422.5,-187\"/>\n<text text-anchor=\"start\" x=\"1336.5\" y=\"-171.8\" font-family=\"Helvetica,sans-Serif\" font-size=\"14.00\">wi ≤ 0.5</text>\n<text text-anchor=\"start\" x=\"1324.5\" y=\"-156.8\" font-family=\"Helvetica,sans-Serif\" font-size=\"14.00\">gini = 0.015</text>\n<text text-anchor=\"start\" x=\"1311.5\" y=\"-141.8\" font-family=\"Helvetica,sans-Serif\" font-size=\"14.00\">samples = 3523</text>\n<text text-anchor=\"start\" x=\"1305.5\" y=\"-126.8\" font-family=\"Helvetica,sans-Serif\" font-size=\"14.00\">value = [3497, 26]</text>\n<text text-anchor=\"start\" x=\"1316.5\" y=\"-111.8\" font-family=\"Helvetica,sans-Serif\" font-size=\"14.00\">class = Trump</text>\n</g>\n<!-- 28&#45;&gt;29 -->\n<g id=\"edge29\" class=\"edge\">\n<title>28-&gt;29</title>\n<path fill=\"none\" stroke=\"black\" d=\"M1380.24,-222.91C1378.01,-214.47 1375.63,-205.48 1373.31,-196.74\"/>\n<polygon fill=\"black\" stroke=\"black\" points=\"1376.68,-195.79 1370.74,-187.02 1369.91,-197.58 1376.68,-195.79\"/>\n</g>\n<!-- 32 -->\n<g id=\"node33\" class=\"node\">\n<title>32</title>\n<polygon fill=\"#399de5\" stroke=\"black\" points=\"1549.5,-179.5 1440.5,-179.5 1440.5,-111.5 1549.5,-111.5 1549.5,-179.5\"/>\n<text text-anchor=\"start\" x=\"1467\" y=\"-164.3\" font-family=\"Helvetica,sans-Serif\" font-size=\"14.00\">gini = 0.0</text>\n<text text-anchor=\"start\" x=\"1457.5\" y=\"-149.3\" font-family=\"Helvetica,sans-Serif\" font-size=\"14.00\">samples = 2</text>\n<text text-anchor=\"start\" x=\"1455.5\" y=\"-134.3\" font-family=\"Helvetica,sans-Serif\" font-size=\"14.00\">value = [0, 2]</text>\n<text text-anchor=\"start\" x=\"1448.5\" y=\"-119.3\" font-family=\"Helvetica,sans-Serif\" font-size=\"14.00\">class = Obama</text>\n</g>\n<!-- 28&#45;&gt;32 -->\n<g id=\"edge32\" class=\"edge\">\n<title>28-&gt;32</title>\n<path fill=\"none\" stroke=\"black\" d=\"M1427.08,-222.91C1437.28,-211.43 1448.39,-198.94 1458.61,-187.44\"/>\n<polygon fill=\"black\" stroke=\"black\" points=\"1461.49,-189.47 1465.52,-179.67 1456.26,-184.82 1461.49,-189.47\"/>\n</g>\n<!-- 30 -->\n<g id=\"node31\" class=\"node\">\n<title>30</title>\n<polygon fill=\"#e5823a\" stroke=\"black\" points=\"1417.5,-68 1292.5,-68 1292.5,0 1417.5,0 1417.5,-68\"/>\n<text text-anchor=\"start\" x=\"1319.5\" y=\"-52.8\" font-family=\"Helvetica,sans-Serif\" font-size=\"14.00\">gini = 0.014</text>\n<text text-anchor=\"start\" x=\"1306.5\" y=\"-37.8\" font-family=\"Helvetica,sans-Serif\" font-size=\"14.00\">samples = 3521</text>\n<text text-anchor=\"start\" x=\"1300.5\" y=\"-22.8\" font-family=\"Helvetica,sans-Serif\" font-size=\"14.00\">value = [3497, 24]</text>\n<text text-anchor=\"start\" x=\"1311.5\" y=\"-7.8\" font-family=\"Helvetica,sans-Serif\" font-size=\"14.00\">class = Trump</text>\n</g>\n<!-- 29&#45;&gt;30 -->\n<g id=\"edge30\" class=\"edge\">\n<title>29-&gt;30</title>\n<path fill=\"none\" stroke=\"black\" d=\"M1358.14,-103.73C1357.76,-95.52 1357.37,-86.86 1356.99,-78.56\"/>\n<polygon fill=\"black\" stroke=\"black\" points=\"1360.47,-78.13 1356.52,-68.3 1353.48,-78.45 1360.47,-78.13\"/>\n</g>\n<!-- 31 -->\n<g id=\"node32\" class=\"node\">\n<title>31</title>\n<polygon fill=\"#399de5\" stroke=\"black\" points=\"1544.5,-68 1435.5,-68 1435.5,0 1544.5,0 1544.5,-68\"/>\n<text text-anchor=\"start\" x=\"1462\" y=\"-52.8\" font-family=\"Helvetica,sans-Serif\" font-size=\"14.00\">gini = 0.0</text>\n<text text-anchor=\"start\" x=\"1452.5\" y=\"-37.8\" font-family=\"Helvetica,sans-Serif\" font-size=\"14.00\">samples = 2</text>\n<text text-anchor=\"start\" x=\"1450.5\" y=\"-22.8\" font-family=\"Helvetica,sans-Serif\" font-size=\"14.00\">value = [0, 2]</text>\n<text text-anchor=\"start\" x=\"1443.5\" y=\"-7.8\" font-family=\"Helvetica,sans-Serif\" font-size=\"14.00\">class = Obama</text>\n</g>\n<!-- 29&#45;&gt;31 -->\n<g id=\"edge31\" class=\"edge\">\n<title>29-&gt;31</title>\n<path fill=\"none\" stroke=\"black\" d=\"M1408.41,-103.73C1419.56,-94.33 1431.41,-84.35 1442.53,-74.99\"/>\n<polygon fill=\"black\" stroke=\"black\" points=\"1445.07,-77.42 1450.47,-68.3 1440.56,-72.06 1445.07,-77.42\"/>\n</g>\n<!-- 35 -->\n<g id=\"node36\" class=\"node\">\n<title>35</title>\n<polygon fill=\"#e99457\" stroke=\"black\" points=\"1732.5,-306 1629.5,-306 1629.5,-223 1732.5,-223 1732.5,-306\"/>\n<text text-anchor=\"start\" x=\"1651\" y=\"-290.8\" font-family=\"Helvetica,sans-Serif\" font-size=\"14.00\">vote ≤ 0.5</text>\n<text text-anchor=\"start\" x=\"1645.5\" y=\"-275.8\" font-family=\"Helvetica,sans-Serif\" font-size=\"14.00\">gini = 0.231</text>\n<text text-anchor=\"start\" x=\"1640\" y=\"-260.8\" font-family=\"Helvetica,sans-Serif\" font-size=\"14.00\">samples = 15</text>\n<text text-anchor=\"start\" x=\"1638\" y=\"-245.8\" font-family=\"Helvetica,sans-Serif\" font-size=\"14.00\">value = [13, 2]</text>\n<text text-anchor=\"start\" x=\"1637.5\" y=\"-230.8\" font-family=\"Helvetica,sans-Serif\" font-size=\"14.00\">class = Trump</text>\n</g>\n<!-- 34&#45;&gt;35 -->\n<g id=\"edge35\" class=\"edge\">\n<title>34-&gt;35</title>\n<path fill=\"none\" stroke=\"black\" d=\"M1681,-341.91C1681,-333.65 1681,-324.86 1681,-316.3\"/>\n<polygon fill=\"black\" stroke=\"black\" points=\"1684.5,-316.02 1681,-306.02 1677.5,-316.02 1684.5,-316.02\"/>\n</g>\n<!-- 40 -->\n<g id=\"node41\" class=\"node\">\n<title>40</title>\n<polygon fill=\"#b0d8f5\" stroke=\"black\" points=\"1924.5,-306 1815.5,-306 1815.5,-223 1924.5,-223 1924.5,-306\"/>\n<text text-anchor=\"start\" x=\"1842.5\" y=\"-290.8\" font-family=\"Helvetica,sans-Serif\" font-size=\"14.00\">talk ≤ 0.5</text>\n<text text-anchor=\"start\" x=\"1834.5\" y=\"-275.8\" font-family=\"Helvetica,sans-Serif\" font-size=\"14.00\">gini = 0.469</text>\n<text text-anchor=\"start\" x=\"1832.5\" y=\"-260.8\" font-family=\"Helvetica,sans-Serif\" font-size=\"14.00\">samples = 8</text>\n<text text-anchor=\"start\" x=\"1830.5\" y=\"-245.8\" font-family=\"Helvetica,sans-Serif\" font-size=\"14.00\">value = [3, 5]</text>\n<text text-anchor=\"start\" x=\"1823.5\" y=\"-230.8\" font-family=\"Helvetica,sans-Serif\" font-size=\"14.00\">class = Obama</text>\n</g>\n<!-- 34&#45;&gt;40 -->\n<g id=\"edge40\" class=\"edge\">\n<title>34-&gt;40</title>\n<path fill=\"none\" stroke=\"black\" d=\"M1732.65,-350.53C1755.52,-336.37 1782.65,-319.58 1806.72,-304.67\"/>\n<polygon fill=\"black\" stroke=\"black\" points=\"1808.78,-307.51 1815.44,-299.27 1805.1,-301.56 1808.78,-307.51\"/>\n</g>\n<!-- 36 -->\n<g id=\"node37\" class=\"node\">\n<title>36</title>\n<polygon fill=\"#e58139\" stroke=\"black\" points=\"1670.5,-179.5 1567.5,-179.5 1567.5,-111.5 1670.5,-111.5 1670.5,-179.5\"/>\n<text text-anchor=\"start\" x=\"1591\" y=\"-164.3\" font-family=\"Helvetica,sans-Serif\" font-size=\"14.00\">gini = 0.0</text>\n<text text-anchor=\"start\" x=\"1578\" y=\"-149.3\" font-family=\"Helvetica,sans-Serif\" font-size=\"14.00\">samples = 12</text>\n<text text-anchor=\"start\" x=\"1576\" y=\"-134.3\" font-family=\"Helvetica,sans-Serif\" font-size=\"14.00\">value = [12, 0]</text>\n<text text-anchor=\"start\" x=\"1575.5\" y=\"-119.3\" font-family=\"Helvetica,sans-Serif\" font-size=\"14.00\">class = Trump</text>\n</g>\n<!-- 35&#45;&gt;36 -->\n<g id=\"edge36\" class=\"edge\">\n<title>35-&gt;36</title>\n<path fill=\"none\" stroke=\"black\" d=\"M1659.49,-222.91C1653.64,-211.87 1647.3,-199.9 1641.4,-188.77\"/>\n<polygon fill=\"black\" stroke=\"black\" points=\"1644.35,-186.86 1636.58,-179.67 1638.17,-190.14 1644.35,-186.86\"/>\n</g>\n<!-- 37 -->\n<g id=\"node38\" class=\"node\">\n<title>37</title>\n<polygon fill=\"#9ccef2\" stroke=\"black\" points=\"1797.5,-187 1688.5,-187 1688.5,-104 1797.5,-104 1797.5,-187\"/>\n<text text-anchor=\"start\" x=\"1712.5\" y=\"-171.8\" font-family=\"Helvetica,sans-Serif\" font-size=\"14.00\">wow ≤ 0.5</text>\n<text text-anchor=\"start\" x=\"1707.5\" y=\"-156.8\" font-family=\"Helvetica,sans-Serif\" font-size=\"14.00\">gini = 0.444</text>\n<text text-anchor=\"start\" x=\"1705.5\" y=\"-141.8\" font-family=\"Helvetica,sans-Serif\" font-size=\"14.00\">samples = 3</text>\n<text text-anchor=\"start\" x=\"1703.5\" y=\"-126.8\" font-family=\"Helvetica,sans-Serif\" font-size=\"14.00\">value = [1, 2]</text>\n<text text-anchor=\"start\" x=\"1696.5\" y=\"-111.8\" font-family=\"Helvetica,sans-Serif\" font-size=\"14.00\">class = Obama</text>\n</g>\n<!-- 35&#45;&gt;37 -->\n<g id=\"edge37\" class=\"edge\">\n<title>35-&gt;37</title>\n<path fill=\"none\" stroke=\"black\" d=\"M1702.51,-222.91C1707.13,-214.2 1712.05,-204.9 1716.83,-195.89\"/>\n<polygon fill=\"black\" stroke=\"black\" points=\"1719.94,-197.5 1721.53,-187.02 1713.75,-194.22 1719.94,-197.5\"/>\n</g>\n<!-- 38 -->\n<g id=\"node39\" class=\"node\">\n<title>38</title>\n<polygon fill=\"#399de5\" stroke=\"black\" points=\"1674.5,-68 1565.5,-68 1565.5,0 1674.5,0 1674.5,-68\"/>\n<text text-anchor=\"start\" x=\"1592\" y=\"-52.8\" font-family=\"Helvetica,sans-Serif\" font-size=\"14.00\">gini = 0.0</text>\n<text text-anchor=\"start\" x=\"1582.5\" y=\"-37.8\" font-family=\"Helvetica,sans-Serif\" font-size=\"14.00\">samples = 2</text>\n<text text-anchor=\"start\" x=\"1580.5\" y=\"-22.8\" font-family=\"Helvetica,sans-Serif\" font-size=\"14.00\">value = [0, 2]</text>\n<text text-anchor=\"start\" x=\"1573.5\" y=\"-7.8\" font-family=\"Helvetica,sans-Serif\" font-size=\"14.00\">class = Obama</text>\n</g>\n<!-- 37&#45;&gt;38 -->\n<g id=\"edge38\" class=\"edge\">\n<title>37-&gt;38</title>\n<path fill=\"none\" stroke=\"black\" d=\"M1697.2,-103.73C1686.65,-94.33 1675.43,-84.35 1664.92,-74.99\"/>\n<polygon fill=\"black\" stroke=\"black\" points=\"1667.2,-72.33 1657.41,-68.3 1662.55,-77.56 1667.2,-72.33\"/>\n</g>\n<!-- 39 -->\n<g id=\"node40\" class=\"node\">\n<title>39</title>\n<polygon fill=\"#e58139\" stroke=\"black\" points=\"1795.5,-68 1692.5,-68 1692.5,0 1795.5,0 1795.5,-68\"/>\n<text text-anchor=\"start\" x=\"1716\" y=\"-52.8\" font-family=\"Helvetica,sans-Serif\" font-size=\"14.00\">gini = 0.0</text>\n<text text-anchor=\"start\" x=\"1706.5\" y=\"-37.8\" font-family=\"Helvetica,sans-Serif\" font-size=\"14.00\">samples = 1</text>\n<text text-anchor=\"start\" x=\"1704.5\" y=\"-22.8\" font-family=\"Helvetica,sans-Serif\" font-size=\"14.00\">value = [1, 0]</text>\n<text text-anchor=\"start\" x=\"1700.5\" y=\"-7.8\" font-family=\"Helvetica,sans-Serif\" font-size=\"14.00\">class = Trump</text>\n</g>\n<!-- 37&#45;&gt;39 -->\n<g id=\"edge39\" class=\"edge\">\n<title>37-&gt;39</title>\n<path fill=\"none\" stroke=\"black\" d=\"M1743.37,-103.73C1743.45,-95.52 1743.53,-86.86 1743.6,-78.56\"/>\n<polygon fill=\"black\" stroke=\"black\" points=\"1747.1,-78.33 1743.7,-68.3 1740.1,-78.27 1747.1,-78.33\"/>\n</g>\n<!-- 41 -->\n<g id=\"node42\" class=\"node\">\n<title>41</title>\n<polygon fill=\"#88c4ef\" stroke=\"black\" points=\"1924.5,-187 1815.5,-187 1815.5,-104 1924.5,-104 1924.5,-187\"/>\n<text text-anchor=\"start\" x=\"1829\" y=\"-171.8\" font-family=\"Helvetica,sans-Serif\" font-size=\"14.00\">national ≤ 0.5</text>\n<text text-anchor=\"start\" x=\"1834.5\" y=\"-156.8\" font-family=\"Helvetica,sans-Serif\" font-size=\"14.00\">gini = 0.408</text>\n<text text-anchor=\"start\" x=\"1832.5\" y=\"-141.8\" font-family=\"Helvetica,sans-Serif\" font-size=\"14.00\">samples = 7</text>\n<text text-anchor=\"start\" x=\"1830.5\" y=\"-126.8\" font-family=\"Helvetica,sans-Serif\" font-size=\"14.00\">value = [2, 5]</text>\n<text text-anchor=\"start\" x=\"1823.5\" y=\"-111.8\" font-family=\"Helvetica,sans-Serif\" font-size=\"14.00\">class = Obama</text>\n</g>\n<!-- 40&#45;&gt;41 -->\n<g id=\"edge41\" class=\"edge\">\n<title>40-&gt;41</title>\n<path fill=\"none\" stroke=\"black\" d=\"M1870,-222.91C1870,-214.65 1870,-205.86 1870,-197.3\"/>\n<polygon fill=\"black\" stroke=\"black\" points=\"1873.5,-197.02 1870,-187.02 1866.5,-197.02 1873.5,-197.02\"/>\n</g>\n<!-- 44 -->\n<g id=\"node45\" class=\"node\">\n<title>44</title>\n<polygon fill=\"#e58139\" stroke=\"black\" points=\"2045.5,-179.5 1942.5,-179.5 1942.5,-111.5 2045.5,-111.5 2045.5,-179.5\"/>\n<text text-anchor=\"start\" x=\"1966\" y=\"-164.3\" font-family=\"Helvetica,sans-Serif\" font-size=\"14.00\">gini = 0.0</text>\n<text text-anchor=\"start\" x=\"1956.5\" y=\"-149.3\" font-family=\"Helvetica,sans-Serif\" font-size=\"14.00\">samples = 1</text>\n<text text-anchor=\"start\" x=\"1954.5\" y=\"-134.3\" font-family=\"Helvetica,sans-Serif\" font-size=\"14.00\">value = [1, 0]</text>\n<text text-anchor=\"start\" x=\"1950.5\" y=\"-119.3\" font-family=\"Helvetica,sans-Serif\" font-size=\"14.00\">class = Trump</text>\n</g>\n<!-- 40&#45;&gt;44 -->\n<g id=\"edge44\" class=\"edge\">\n<title>40-&gt;44</title>\n<path fill=\"none\" stroke=\"black\" d=\"M1913.02,-222.91C1925.42,-211.21 1938.93,-198.46 1951.31,-186.78\"/>\n<polygon fill=\"black\" stroke=\"black\" points=\"1953.98,-189.08 1958.85,-179.67 1949.17,-183.98 1953.98,-189.08\"/>\n</g>\n<!-- 42 -->\n<g id=\"node43\" class=\"node\">\n<title>42</title>\n<polygon fill=\"#61b1ea\" stroke=\"black\" points=\"1923.5,-68 1814.5,-68 1814.5,0 1923.5,0 1923.5,-68\"/>\n<text text-anchor=\"start\" x=\"1833.5\" y=\"-52.8\" font-family=\"Helvetica,sans-Serif\" font-size=\"14.00\">gini = 0.278</text>\n<text text-anchor=\"start\" x=\"1831.5\" y=\"-37.8\" font-family=\"Helvetica,sans-Serif\" font-size=\"14.00\">samples = 6</text>\n<text text-anchor=\"start\" x=\"1829.5\" y=\"-22.8\" font-family=\"Helvetica,sans-Serif\" font-size=\"14.00\">value = [1, 5]</text>\n<text text-anchor=\"start\" x=\"1822.5\" y=\"-7.8\" font-family=\"Helvetica,sans-Serif\" font-size=\"14.00\">class = Obama</text>\n</g>\n<!-- 41&#45;&gt;42 -->\n<g id=\"edge42\" class=\"edge\">\n<title>41-&gt;42</title>\n<path fill=\"none\" stroke=\"black\" d=\"M1869.63,-103.73C1869.55,-95.52 1869.47,-86.86 1869.4,-78.56\"/>\n<polygon fill=\"black\" stroke=\"black\" points=\"1872.9,-78.27 1869.3,-68.3 1865.9,-78.33 1872.9,-78.27\"/>\n</g>\n<!-- 43 -->\n<g id=\"node44\" class=\"node\">\n<title>43</title>\n<polygon fill=\"#e58139\" stroke=\"black\" points=\"2044.5,-68 1941.5,-68 1941.5,0 2044.5,0 2044.5,-68\"/>\n<text text-anchor=\"start\" x=\"1965\" y=\"-52.8\" font-family=\"Helvetica,sans-Serif\" font-size=\"14.00\">gini = 0.0</text>\n<text text-anchor=\"start\" x=\"1955.5\" y=\"-37.8\" font-family=\"Helvetica,sans-Serif\" font-size=\"14.00\">samples = 1</text>\n<text text-anchor=\"start\" x=\"1953.5\" y=\"-22.8\" font-family=\"Helvetica,sans-Serif\" font-size=\"14.00\">value = [1, 0]</text>\n<text text-anchor=\"start\" x=\"1949.5\" y=\"-7.8\" font-family=\"Helvetica,sans-Serif\" font-size=\"14.00\">class = Trump</text>\n</g>\n<!-- 41&#45;&gt;43 -->\n<g id=\"edge43\" class=\"edge\">\n<title>41-&gt;43</title>\n<path fill=\"none\" stroke=\"black\" d=\"M1915.8,-103.73C1926.35,-94.33 1937.57,-84.35 1948.08,-74.99\"/>\n<polygon fill=\"black\" stroke=\"black\" points=\"1950.45,-77.56 1955.59,-68.3 1945.8,-72.33 1950.45,-77.56\"/>\n</g>\n</g>\n</svg>"
          },
          "metadata": {}
        },
        {
          "output_type": "execute_result",
          "data": {
            "text/plain": [
              "'trumpvobama.pdf'"
            ],
            "application/vnd.google.colaboratory.intrinsic+json": {
              "type": "string"
            }
          },
          "metadata": {},
          "execution_count": 11
        }
      ]
    },
    {
      "cell_type": "markdown",
      "metadata": {
        "id": "hHa9wYo340gZ"
      },
      "source": [
        "Try a new tweet:"
      ]
    },
    {
      "cell_type": "code",
      "metadata": {
        "id": "Tt412CYv40gZ",
        "colab": {
          "base_uri": "https://localhost:8080/"
        },
        "outputId": "4b4fe2ae-8b70-48af-ccf5-923c7833fe52"
      },
      "source": [
        "new_tweet='Congrats to our newest class of foundation scholars. These leaders are working to change their communities for the better'\n",
        "new_feats=vectorizer.transform([new_tweet])\n",
        "dtree.predict_proba(new_feats)"
      ],
      "execution_count": null,
      "outputs": [
        {
          "output_type": "execute_result",
          "data": {
            "text/plain": [
              "array([[0.22261693, 0.77738307]])"
            ]
          },
          "metadata": {},
          "execution_count": 12
        }
      ]
    },
    {
      "cell_type": "code",
      "metadata": {
        "id": "kvIxTvwO40gZ",
        "colab": {
          "base_uri": "https://localhost:8080/"
        },
        "outputId": "382bed76-35f7-454c-ab5c-cdd75ad05849"
      },
      "source": [
        "print(new_feats)"
      ],
      "execution_count": null,
      "outputs": [
        {
          "output_type": "stream",
          "name": "stdout",
          "text": [
            "  (0, 2122)\t1\n",
            "  (0, 3408)\t1\n",
            "  (0, 3816)\t1\n",
            "  (0, 4241)\t1\n",
            "  (0, 4428)\t1\n",
            "  (0, 9020)\t1\n",
            "  (0, 13408)\t1\n",
            "  (0, 16209)\t1\n",
            "  (0, 26225)\t1\n"
          ]
        }
      ]
    },
    {
      "cell_type": "code",
      "metadata": {
        "id": "9YMyZLt-40gZ"
      },
      "source": [],
      "execution_count": null,
      "outputs": []
    }
  ]
}