{
  "cells": [
    {
      "cell_type": "markdown",
      "metadata": {
        "id": "YKjVXkOq5RvM"
      },
      "source": [
        "# Prediction"
      ]
    },
    {
      "cell_type": "markdown",
      "metadata": {
        "id": "fop3YacnNZFe"
      },
      "source": [
        "[![Open in Colab](https://colab.research.google.com/assets/colab-badge.svg)](https://colab.research.google.com/github/Mixtape-Sessions/Machine-Learning/blob/main/Labs/python/Prediction.ipynb)"
      ]
    },
    {
      "cell_type": "markdown",
      "metadata": {
        "id": "KhnbzPkYx-k9"
      },
      "source": [
        "Outcome to be predicted: $Y_i$\n",
        "> *example:* a worker's log wage\n",
        "\n",
        "Characteristics (aka **features**): $X_i=\\left(X_{1i},\\ldots,X_{pi}\\right)'$\n",
        "> *example:* education, age, state of birth, parents' education, cognitive ability, family background\n"
      ]
    },
    {
      "cell_type": "code",
      "execution_count": 1,
      "metadata": {
        "id": "7IIIROqHoI4g",
        "outputId": "1e116689-b64e-4ea3-d259-5dd55e66971d",
        "colab": {
          "base_uri": "https://localhost:8080/",
          "height": 444
        }
      },
      "outputs": [
        {
          "output_type": "execute_result",
          "data": {
            "text/plain": [
              "      lnw_2016  educ  black  hispanic  other  exp    afqt  mom_educ  dad_educ  \\\n",
              "0     4.076898    16      0         0      0   11  7.0724        12        12   \n",
              "1     3.294138     9      0         0      0   19  4.7481         9        10   \n",
              "2     2.830896     9      0         1      0   22  1.1987        12         9   \n",
              "3     4.306459    16      0         0      0   13  8.9321        16        18   \n",
              "4     5.991465    16      0         1      0   15  2.2618        16        16   \n",
              "...        ...   ...    ...       ...    ...  ...     ...       ...       ...   \n",
              "1261  1.833475    14      1         0      0   17  3.8179        15        12   \n",
              "1262  3.341985     9      0         1      0   20  3.3043        12        11   \n",
              "1263 -0.928125    10      1         0      0   19  1.0319        10        13   \n",
              "1264  3.702931    18      0         0      0   12  8.5093        16        19   \n",
              "1265 -1.348073    11      0         1      0   20  0.1059        10        12   \n",
              "\n",
              "      yhea_100_1997  ...  _XPexp_13  _XPexp_14  _XPexp_16  _XPexp_17  \\\n",
              "0                 3  ...          0          0          0          0   \n",
              "1                 2  ...          0          0          0          0   \n",
              "2                 3  ...          0          0          0          0   \n",
              "3                 2  ...          1          0          0          0   \n",
              "4                 1  ...          0          0          0          0   \n",
              "...             ...  ...        ...        ...        ...        ...   \n",
              "1261              2  ...          0          0          0          1   \n",
              "1262              2  ...          0          0          0          0   \n",
              "1263              2  ...          0          0          0          0   \n",
              "1264              2  ...          0          0          0          0   \n",
              "1265              2  ...          0          0          0          0   \n",
              "\n",
              "      _XPexp_18  _XPexp_19  _XPexp_20  _XPexp_21  _XPexp_22  _XPexp_23  \n",
              "0             0          0          0          0          0          0  \n",
              "1             0          1          0          0          0          0  \n",
              "2             0          0          0          0          1          0  \n",
              "3             0          0          0          0          0          0  \n",
              "4             0          0          0          0          0          0  \n",
              "...         ...        ...        ...        ...        ...        ...  \n",
              "1261          0          0          0          0          0          0  \n",
              "1262          0          0          1          0          0          0  \n",
              "1263          0          1          0          0          0          0  \n",
              "1264          0          0          0          0          0          0  \n",
              "1265          0          0          1          0          0          0  \n",
              "\n",
              "[1266 rows x 994 columns]"
            ],
            "text/html": [
              "\n",
              "  <div id=\"df-c61564e0-1f37-4be9-b52c-82d3f221134f\" class=\"colab-df-container\">\n",
              "    <div>\n",
              "<style scoped>\n",
              "    .dataframe tbody tr th:only-of-type {\n",
              "        vertical-align: middle;\n",
              "    }\n",
              "\n",
              "    .dataframe tbody tr th {\n",
              "        vertical-align: top;\n",
              "    }\n",
              "\n",
              "    .dataframe thead th {\n",
              "        text-align: right;\n",
              "    }\n",
              "</style>\n",
              "<table border=\"1\" class=\"dataframe\">\n",
              "  <thead>\n",
              "    <tr style=\"text-align: right;\">\n",
              "      <th></th>\n",
              "      <th>lnw_2016</th>\n",
              "      <th>educ</th>\n",
              "      <th>black</th>\n",
              "      <th>hispanic</th>\n",
              "      <th>other</th>\n",
              "      <th>exp</th>\n",
              "      <th>afqt</th>\n",
              "      <th>mom_educ</th>\n",
              "      <th>dad_educ</th>\n",
              "      <th>yhea_100_1997</th>\n",
              "      <th>...</th>\n",
              "      <th>_XPexp_13</th>\n",
              "      <th>_XPexp_14</th>\n",
              "      <th>_XPexp_16</th>\n",
              "      <th>_XPexp_17</th>\n",
              "      <th>_XPexp_18</th>\n",
              "      <th>_XPexp_19</th>\n",
              "      <th>_XPexp_20</th>\n",
              "      <th>_XPexp_21</th>\n",
              "      <th>_XPexp_22</th>\n",
              "      <th>_XPexp_23</th>\n",
              "    </tr>\n",
              "  </thead>\n",
              "  <tbody>\n",
              "    <tr>\n",
              "      <th>0</th>\n",
              "      <td>4.076898</td>\n",
              "      <td>16</td>\n",
              "      <td>0</td>\n",
              "      <td>0</td>\n",
              "      <td>0</td>\n",
              "      <td>11</td>\n",
              "      <td>7.0724</td>\n",
              "      <td>12</td>\n",
              "      <td>12</td>\n",
              "      <td>3</td>\n",
              "      <td>...</td>\n",
              "      <td>0</td>\n",
              "      <td>0</td>\n",
              "      <td>0</td>\n",
              "      <td>0</td>\n",
              "      <td>0</td>\n",
              "      <td>0</td>\n",
              "      <td>0</td>\n",
              "      <td>0</td>\n",
              "      <td>0</td>\n",
              "      <td>0</td>\n",
              "    </tr>\n",
              "    <tr>\n",
              "      <th>1</th>\n",
              "      <td>3.294138</td>\n",
              "      <td>9</td>\n",
              "      <td>0</td>\n",
              "      <td>0</td>\n",
              "      <td>0</td>\n",
              "      <td>19</td>\n",
              "      <td>4.7481</td>\n",
              "      <td>9</td>\n",
              "      <td>10</td>\n",
              "      <td>2</td>\n",
              "      <td>...</td>\n",
              "      <td>0</td>\n",
              "      <td>0</td>\n",
              "      <td>0</td>\n",
              "      <td>0</td>\n",
              "      <td>0</td>\n",
              "      <td>1</td>\n",
              "      <td>0</td>\n",
              "      <td>0</td>\n",
              "      <td>0</td>\n",
              "      <td>0</td>\n",
              "    </tr>\n",
              "    <tr>\n",
              "      <th>2</th>\n",
              "      <td>2.830896</td>\n",
              "      <td>9</td>\n",
              "      <td>0</td>\n",
              "      <td>1</td>\n",
              "      <td>0</td>\n",
              "      <td>22</td>\n",
              "      <td>1.1987</td>\n",
              "      <td>12</td>\n",
              "      <td>9</td>\n",
              "      <td>3</td>\n",
              "      <td>...</td>\n",
              "      <td>0</td>\n",
              "      <td>0</td>\n",
              "      <td>0</td>\n",
              "      <td>0</td>\n",
              "      <td>0</td>\n",
              "      <td>0</td>\n",
              "      <td>0</td>\n",
              "      <td>0</td>\n",
              "      <td>1</td>\n",
              "      <td>0</td>\n",
              "    </tr>\n",
              "    <tr>\n",
              "      <th>3</th>\n",
              "      <td>4.306459</td>\n",
              "      <td>16</td>\n",
              "      <td>0</td>\n",
              "      <td>0</td>\n",
              "      <td>0</td>\n",
              "      <td>13</td>\n",
              "      <td>8.9321</td>\n",
              "      <td>16</td>\n",
              "      <td>18</td>\n",
              "      <td>2</td>\n",
              "      <td>...</td>\n",
              "      <td>1</td>\n",
              "      <td>0</td>\n",
              "      <td>0</td>\n",
              "      <td>0</td>\n",
              "      <td>0</td>\n",
              "      <td>0</td>\n",
              "      <td>0</td>\n",
              "      <td>0</td>\n",
              "      <td>0</td>\n",
              "      <td>0</td>\n",
              "    </tr>\n",
              "    <tr>\n",
              "      <th>4</th>\n",
              "      <td>5.991465</td>\n",
              "      <td>16</td>\n",
              "      <td>0</td>\n",
              "      <td>1</td>\n",
              "      <td>0</td>\n",
              "      <td>15</td>\n",
              "      <td>2.2618</td>\n",
              "      <td>16</td>\n",
              "      <td>16</td>\n",
              "      <td>1</td>\n",
              "      <td>...</td>\n",
              "      <td>0</td>\n",
              "      <td>0</td>\n",
              "      <td>0</td>\n",
              "      <td>0</td>\n",
              "      <td>0</td>\n",
              "      <td>0</td>\n",
              "      <td>0</td>\n",
              "      <td>0</td>\n",
              "      <td>0</td>\n",
              "      <td>0</td>\n",
              "    </tr>\n",
              "    <tr>\n",
              "      <th>...</th>\n",
              "      <td>...</td>\n",
              "      <td>...</td>\n",
              "      <td>...</td>\n",
              "      <td>...</td>\n",
              "      <td>...</td>\n",
              "      <td>...</td>\n",
              "      <td>...</td>\n",
              "      <td>...</td>\n",
              "      <td>...</td>\n",
              "      <td>...</td>\n",
              "      <td>...</td>\n",
              "      <td>...</td>\n",
              "      <td>...</td>\n",
              "      <td>...</td>\n",
              "      <td>...</td>\n",
              "      <td>...</td>\n",
              "      <td>...</td>\n",
              "      <td>...</td>\n",
              "      <td>...</td>\n",
              "      <td>...</td>\n",
              "      <td>...</td>\n",
              "    </tr>\n",
              "    <tr>\n",
              "      <th>1261</th>\n",
              "      <td>1.833475</td>\n",
              "      <td>14</td>\n",
              "      <td>1</td>\n",
              "      <td>0</td>\n",
              "      <td>0</td>\n",
              "      <td>17</td>\n",
              "      <td>3.8179</td>\n",
              "      <td>15</td>\n",
              "      <td>12</td>\n",
              "      <td>2</td>\n",
              "      <td>...</td>\n",
              "      <td>0</td>\n",
              "      <td>0</td>\n",
              "      <td>0</td>\n",
              "      <td>1</td>\n",
              "      <td>0</td>\n",
              "      <td>0</td>\n",
              "      <td>0</td>\n",
              "      <td>0</td>\n",
              "      <td>0</td>\n",
              "      <td>0</td>\n",
              "    </tr>\n",
              "    <tr>\n",
              "      <th>1262</th>\n",
              "      <td>3.341985</td>\n",
              "      <td>9</td>\n",
              "      <td>0</td>\n",
              "      <td>1</td>\n",
              "      <td>0</td>\n",
              "      <td>20</td>\n",
              "      <td>3.3043</td>\n",
              "      <td>12</td>\n",
              "      <td>11</td>\n",
              "      <td>2</td>\n",
              "      <td>...</td>\n",
              "      <td>0</td>\n",
              "      <td>0</td>\n",
              "      <td>0</td>\n",
              "      <td>0</td>\n",
              "      <td>0</td>\n",
              "      <td>0</td>\n",
              "      <td>1</td>\n",
              "      <td>0</td>\n",
              "      <td>0</td>\n",
              "      <td>0</td>\n",
              "    </tr>\n",
              "    <tr>\n",
              "      <th>1263</th>\n",
              "      <td>-0.928125</td>\n",
              "      <td>10</td>\n",
              "      <td>1</td>\n",
              "      <td>0</td>\n",
              "      <td>0</td>\n",
              "      <td>19</td>\n",
              "      <td>1.0319</td>\n",
              "      <td>10</td>\n",
              "      <td>13</td>\n",
              "      <td>2</td>\n",
              "      <td>...</td>\n",
              "      <td>0</td>\n",
              "      <td>0</td>\n",
              "      <td>0</td>\n",
              "      <td>0</td>\n",
              "      <td>0</td>\n",
              "      <td>1</td>\n",
              "      <td>0</td>\n",
              "      <td>0</td>\n",
              "      <td>0</td>\n",
              "      <td>0</td>\n",
              "    </tr>\n",
              "    <tr>\n",
              "      <th>1264</th>\n",
              "      <td>3.702931</td>\n",
              "      <td>18</td>\n",
              "      <td>0</td>\n",
              "      <td>0</td>\n",
              "      <td>0</td>\n",
              "      <td>12</td>\n",
              "      <td>8.5093</td>\n",
              "      <td>16</td>\n",
              "      <td>19</td>\n",
              "      <td>2</td>\n",
              "      <td>...</td>\n",
              "      <td>0</td>\n",
              "      <td>0</td>\n",
              "      <td>0</td>\n",
              "      <td>0</td>\n",
              "      <td>0</td>\n",
              "      <td>0</td>\n",
              "      <td>0</td>\n",
              "      <td>0</td>\n",
              "      <td>0</td>\n",
              "      <td>0</td>\n",
              "    </tr>\n",
              "    <tr>\n",
              "      <th>1265</th>\n",
              "      <td>-1.348073</td>\n",
              "      <td>11</td>\n",
              "      <td>0</td>\n",
              "      <td>1</td>\n",
              "      <td>0</td>\n",
              "      <td>20</td>\n",
              "      <td>0.1059</td>\n",
              "      <td>10</td>\n",
              "      <td>12</td>\n",
              "      <td>2</td>\n",
              "      <td>...</td>\n",
              "      <td>0</td>\n",
              "      <td>0</td>\n",
              "      <td>0</td>\n",
              "      <td>0</td>\n",
              "      <td>0</td>\n",
              "      <td>0</td>\n",
              "      <td>1</td>\n",
              "      <td>0</td>\n",
              "      <td>0</td>\n",
              "      <td>0</td>\n",
              "    </tr>\n",
              "  </tbody>\n",
              "</table>\n",
              "<p>1266 rows × 994 columns</p>\n",
              "</div>\n",
              "    <div class=\"colab-df-buttons\">\n",
              "\n",
              "  <div class=\"colab-df-container\">\n",
              "    <button class=\"colab-df-convert\" onclick=\"convertToInteractive('df-c61564e0-1f37-4be9-b52c-82d3f221134f')\"\n",
              "            title=\"Convert this dataframe to an interactive table.\"\n",
              "            style=\"display:none;\">\n",
              "\n",
              "  <svg xmlns=\"http://www.w3.org/2000/svg\" height=\"24px\" viewBox=\"0 -960 960 960\">\n",
              "    <path d=\"M120-120v-720h720v720H120Zm60-500h600v-160H180v160Zm220 220h160v-160H400v160Zm0 220h160v-160H400v160ZM180-400h160v-160H180v160Zm440 0h160v-160H620v160ZM180-180h160v-160H180v160Zm440 0h160v-160H620v160Z\"/>\n",
              "  </svg>\n",
              "    </button>\n",
              "\n",
              "  <style>\n",
              "    .colab-df-container {\n",
              "      display:flex;\n",
              "      gap: 12px;\n",
              "    }\n",
              "\n",
              "    .colab-df-convert {\n",
              "      background-color: #E8F0FE;\n",
              "      border: none;\n",
              "      border-radius: 50%;\n",
              "      cursor: pointer;\n",
              "      display: none;\n",
              "      fill: #1967D2;\n",
              "      height: 32px;\n",
              "      padding: 0 0 0 0;\n",
              "      width: 32px;\n",
              "    }\n",
              "\n",
              "    .colab-df-convert:hover {\n",
              "      background-color: #E2EBFA;\n",
              "      box-shadow: 0px 1px 2px rgba(60, 64, 67, 0.3), 0px 1px 3px 1px rgba(60, 64, 67, 0.15);\n",
              "      fill: #174EA6;\n",
              "    }\n",
              "\n",
              "    .colab-df-buttons div {\n",
              "      margin-bottom: 4px;\n",
              "    }\n",
              "\n",
              "    [theme=dark] .colab-df-convert {\n",
              "      background-color: #3B4455;\n",
              "      fill: #D2E3FC;\n",
              "    }\n",
              "\n",
              "    [theme=dark] .colab-df-convert:hover {\n",
              "      background-color: #434B5C;\n",
              "      box-shadow: 0px 1px 3px 1px rgba(0, 0, 0, 0.15);\n",
              "      filter: drop-shadow(0px 1px 2px rgba(0, 0, 0, 0.3));\n",
              "      fill: #FFFFFF;\n",
              "    }\n",
              "  </style>\n",
              "\n",
              "    <script>\n",
              "      const buttonEl =\n",
              "        document.querySelector('#df-c61564e0-1f37-4be9-b52c-82d3f221134f button.colab-df-convert');\n",
              "      buttonEl.style.display =\n",
              "        google.colab.kernel.accessAllowed ? 'block' : 'none';\n",
              "\n",
              "      async function convertToInteractive(key) {\n",
              "        const element = document.querySelector('#df-c61564e0-1f37-4be9-b52c-82d3f221134f');\n",
              "        const dataTable =\n",
              "          await google.colab.kernel.invokeFunction('convertToInteractive',\n",
              "                                                    [key], {});\n",
              "        if (!dataTable) return;\n",
              "\n",
              "        const docLinkHtml = 'Like what you see? Visit the ' +\n",
              "          '<a target=\"_blank\" href=https://colab.research.google.com/notebooks/data_table.ipynb>data table notebook</a>'\n",
              "          + ' to learn more about interactive tables.';\n",
              "        element.innerHTML = '';\n",
              "        dataTable['output_type'] = 'display_data';\n",
              "        await google.colab.output.renderOutput(dataTable, element);\n",
              "        const docLink = document.createElement('div');\n",
              "        docLink.innerHTML = docLinkHtml;\n",
              "        element.appendChild(docLink);\n",
              "      }\n",
              "    </script>\n",
              "  </div>\n",
              "\n",
              "\n",
              "<div id=\"df-4faaae42-84e1-4e2b-8872-9f67956f710e\">\n",
              "  <button class=\"colab-df-quickchart\" onclick=\"quickchart('df-4faaae42-84e1-4e2b-8872-9f67956f710e')\"\n",
              "            title=\"Suggest charts\"\n",
              "            style=\"display:none;\">\n",
              "\n",
              "<svg xmlns=\"http://www.w3.org/2000/svg\" height=\"24px\"viewBox=\"0 0 24 24\"\n",
              "     width=\"24px\">\n",
              "    <g>\n",
              "        <path d=\"M19 3H5c-1.1 0-2 .9-2 2v14c0 1.1.9 2 2 2h14c1.1 0 2-.9 2-2V5c0-1.1-.9-2-2-2zM9 17H7v-7h2v7zm4 0h-2V7h2v10zm4 0h-2v-4h2v4z\"/>\n",
              "    </g>\n",
              "</svg>\n",
              "  </button>\n",
              "\n",
              "<style>\n",
              "  .colab-df-quickchart {\n",
              "      --bg-color: #E8F0FE;\n",
              "      --fill-color: #1967D2;\n",
              "      --hover-bg-color: #E2EBFA;\n",
              "      --hover-fill-color: #174EA6;\n",
              "      --disabled-fill-color: #AAA;\n",
              "      --disabled-bg-color: #DDD;\n",
              "  }\n",
              "\n",
              "  [theme=dark] .colab-df-quickchart {\n",
              "      --bg-color: #3B4455;\n",
              "      --fill-color: #D2E3FC;\n",
              "      --hover-bg-color: #434B5C;\n",
              "      --hover-fill-color: #FFFFFF;\n",
              "      --disabled-bg-color: #3B4455;\n",
              "      --disabled-fill-color: #666;\n",
              "  }\n",
              "\n",
              "  .colab-df-quickchart {\n",
              "    background-color: var(--bg-color);\n",
              "    border: none;\n",
              "    border-radius: 50%;\n",
              "    cursor: pointer;\n",
              "    display: none;\n",
              "    fill: var(--fill-color);\n",
              "    height: 32px;\n",
              "    padding: 0;\n",
              "    width: 32px;\n",
              "  }\n",
              "\n",
              "  .colab-df-quickchart:hover {\n",
              "    background-color: var(--hover-bg-color);\n",
              "    box-shadow: 0 1px 2px rgba(60, 64, 67, 0.3), 0 1px 3px 1px rgba(60, 64, 67, 0.15);\n",
              "    fill: var(--button-hover-fill-color);\n",
              "  }\n",
              "\n",
              "  .colab-df-quickchart-complete:disabled,\n",
              "  .colab-df-quickchart-complete:disabled:hover {\n",
              "    background-color: var(--disabled-bg-color);\n",
              "    fill: var(--disabled-fill-color);\n",
              "    box-shadow: none;\n",
              "  }\n",
              "\n",
              "  .colab-df-spinner {\n",
              "    border: 2px solid var(--fill-color);\n",
              "    border-color: transparent;\n",
              "    border-bottom-color: var(--fill-color);\n",
              "    animation:\n",
              "      spin 1s steps(1) infinite;\n",
              "  }\n",
              "\n",
              "  @keyframes spin {\n",
              "    0% {\n",
              "      border-color: transparent;\n",
              "      border-bottom-color: var(--fill-color);\n",
              "      border-left-color: var(--fill-color);\n",
              "    }\n",
              "    20% {\n",
              "      border-color: transparent;\n",
              "      border-left-color: var(--fill-color);\n",
              "      border-top-color: var(--fill-color);\n",
              "    }\n",
              "    30% {\n",
              "      border-color: transparent;\n",
              "      border-left-color: var(--fill-color);\n",
              "      border-top-color: var(--fill-color);\n",
              "      border-right-color: var(--fill-color);\n",
              "    }\n",
              "    40% {\n",
              "      border-color: transparent;\n",
              "      border-right-color: var(--fill-color);\n",
              "      border-top-color: var(--fill-color);\n",
              "    }\n",
              "    60% {\n",
              "      border-color: transparent;\n",
              "      border-right-color: var(--fill-color);\n",
              "    }\n",
              "    80% {\n",
              "      border-color: transparent;\n",
              "      border-right-color: var(--fill-color);\n",
              "      border-bottom-color: var(--fill-color);\n",
              "    }\n",
              "    90% {\n",
              "      border-color: transparent;\n",
              "      border-bottom-color: var(--fill-color);\n",
              "    }\n",
              "  }\n",
              "</style>\n",
              "\n",
              "  <script>\n",
              "    async function quickchart(key) {\n",
              "      const quickchartButtonEl =\n",
              "        document.querySelector('#' + key + ' button');\n",
              "      quickchartButtonEl.disabled = true;  // To prevent multiple clicks.\n",
              "      quickchartButtonEl.classList.add('colab-df-spinner');\n",
              "      try {\n",
              "        const charts = await google.colab.kernel.invokeFunction(\n",
              "            'suggestCharts', [key], {});\n",
              "      } catch (error) {\n",
              "        console.error('Error during call to suggestCharts:', error);\n",
              "      }\n",
              "      quickchartButtonEl.classList.remove('colab-df-spinner');\n",
              "      quickchartButtonEl.classList.add('colab-df-quickchart-complete');\n",
              "    }\n",
              "    (() => {\n",
              "      let quickchartButtonEl =\n",
              "        document.querySelector('#df-4faaae42-84e1-4e2b-8872-9f67956f710e button');\n",
              "      quickchartButtonEl.style.display =\n",
              "        google.colab.kernel.accessAllowed ? 'block' : 'none';\n",
              "    })();\n",
              "  </script>\n",
              "</div>\n",
              "\n",
              "  <div id=\"id_6f293e34-aff3-46a0-92b9-8366cc35c7d3\">\n",
              "    <style>\n",
              "      .colab-df-generate {\n",
              "        background-color: #E8F0FE;\n",
              "        border: none;\n",
              "        border-radius: 50%;\n",
              "        cursor: pointer;\n",
              "        display: none;\n",
              "        fill: #1967D2;\n",
              "        height: 32px;\n",
              "        padding: 0 0 0 0;\n",
              "        width: 32px;\n",
              "      }\n",
              "\n",
              "      .colab-df-generate:hover {\n",
              "        background-color: #E2EBFA;\n",
              "        box-shadow: 0px 1px 2px rgba(60, 64, 67, 0.3), 0px 1px 3px 1px rgba(60, 64, 67, 0.15);\n",
              "        fill: #174EA6;\n",
              "      }\n",
              "\n",
              "      [theme=dark] .colab-df-generate {\n",
              "        background-color: #3B4455;\n",
              "        fill: #D2E3FC;\n",
              "      }\n",
              "\n",
              "      [theme=dark] .colab-df-generate:hover {\n",
              "        background-color: #434B5C;\n",
              "        box-shadow: 0px 1px 3px 1px rgba(0, 0, 0, 0.15);\n",
              "        filter: drop-shadow(0px 1px 2px rgba(0, 0, 0, 0.3));\n",
              "        fill: #FFFFFF;\n",
              "      }\n",
              "    </style>\n",
              "    <button class=\"colab-df-generate\" onclick=\"generateWithVariable('nlsy')\"\n",
              "            title=\"Generate code using this dataframe.\"\n",
              "            style=\"display:none;\">\n",
              "\n",
              "  <svg xmlns=\"http://www.w3.org/2000/svg\" height=\"24px\"viewBox=\"0 0 24 24\"\n",
              "       width=\"24px\">\n",
              "    <path d=\"M7,19H8.4L18.45,9,17,7.55,7,17.6ZM5,21V16.75L18.45,3.32a2,2,0,0,1,2.83,0l1.4,1.43a1.91,1.91,0,0,1,.58,1.4,1.91,1.91,0,0,1-.58,1.4L9.25,21ZM18.45,9,17,7.55Zm-12,3A5.31,5.31,0,0,0,4.9,8.1,5.31,5.31,0,0,0,1,6.5,5.31,5.31,0,0,0,4.9,4.9,5.31,5.31,0,0,0,6.5,1,5.31,5.31,0,0,0,8.1,4.9,5.31,5.31,0,0,0,12,6.5,5.46,5.46,0,0,0,6.5,12Z\"/>\n",
              "  </svg>\n",
              "    </button>\n",
              "    <script>\n",
              "      (() => {\n",
              "      const buttonEl =\n",
              "        document.querySelector('#id_6f293e34-aff3-46a0-92b9-8366cc35c7d3 button.colab-df-generate');\n",
              "      buttonEl.style.display =\n",
              "        google.colab.kernel.accessAllowed ? 'block' : 'none';\n",
              "\n",
              "      buttonEl.onclick = () => {\n",
              "        google.colab.notebook.generateWithVariable('nlsy');\n",
              "      }\n",
              "      })();\n",
              "    </script>\n",
              "  </div>\n",
              "\n",
              "    </div>\n",
              "  </div>\n"
            ],
            "application/vnd.google.colaboratory.intrinsic+json": {
              "type": "dataframe",
              "variable_name": "nlsy"
            }
          },
          "metadata": {},
          "execution_count": 1
        }
      ],
      "source": [
        "%matplotlib inline\n",
        "\n",
        "# import some useful packages\n",
        "import pandas as pd\n",
        "import numpy as np\n",
        "from sklearn import linear_model\n",
        "import matplotlib.pyplot as plt\n",
        "from sklearn.preprocessing import StandardScaler\n",
        "from sklearn.model_selection import GridSearchCV\n",
        "import warnings\n",
        "warnings.filterwarnings('ignore')\n",
        "from sklearn.model_selection import train_test_split\n",
        "\n",
        "\n",
        "plt.style.use('seaborn-v0_8-whitegrid')\n",
        "\n",
        "# read in data\n",
        "nlsy=pd.read_csv('https://github.com/Mixtape-Sessions/Machine-Learning/blob/main/Labs/data/nlsy97.csv?raw=true')\n",
        "nlsy"
      ]
    },
    {
      "cell_type": "markdown",
      "metadata": {
        "id": "wizaAK2iRf95"
      },
      "source": [
        "## Least squares benchmark"
      ]
    },
    {
      "cell_type": "code",
      "execution_count": 2,
      "metadata": {
        "id": "25-Dc3CdTQ-s"
      },
      "outputs": [],
      "source": [
        "# generate dictionary of transformations of education\n",
        "powerlist=[nlsy['educ']**j for j in np.arange(1,10)]\n",
        "X=pd.concat(powerlist,axis=1)\n",
        "X.columns = ['educ'+str(j) for j in np.arange(1,10)]\n",
        "# standardize our X matrix (doesn't matter for OLS, but will matter for lasso below)\n",
        "scaler = StandardScaler()\n",
        "scaler.fit(X)\n",
        "X_scaled = scaler.transform(X)\n",
        "\n",
        "# run least squares regression\n",
        "# instantiate and fite our regression object:\n",
        "reg=linear_model.LinearRegression().fit(X_scaled,nlsy['lnw_2016'])\n",
        "# generate predicted values\n",
        "yhat=reg.predict(X_scaled)\n"
      ]
    },
    {
      "cell_type": "code",
      "execution_count": 3,
      "metadata": {
        "id": "WwPztFomD_I_",
        "outputId": "93164aa2-af14-48d0-bdcb-5069cc865855",
        "colab": {
          "base_uri": "https://localhost:8080/",
          "height": 465
        }
      },
      "outputs": [
        {
          "output_type": "display_data",
          "data": {
            "text/plain": [
              "<Figure size 640x480 with 1 Axes>"
            ],
            "image/png": "[encoded data removed]"
          },
          "metadata": {}
        }
      ],
      "source": [
        "# plot predicted values\n",
        "lnwbar=nlsy.groupby('educ')['lnw_2016'].mean()\n",
        "Xbar=pd.DataFrame({'educ':lnwbar.index.values})\n",
        "powerlist=[Xbar['educ']**j for j in np.arange(1,10)]\n",
        "Xbar=pd.concat(powerlist,axis=1)\n",
        "Xbar.columns = X.columns\n",
        "Xbar_scaled = scaler.transform(Xbar)\n",
        "ybarhat=reg.predict(Xbar_scaled)\n",
        "fig = plt.figure()\n",
        "ax = plt.axes()\n",
        "ax.plot(Xbar['educ1'],lnwbar,'bo',Xbar['educ1'],ybarhat,'g-');\n",
        "plt.title(\"ln Wages by Education in the NLSY\")\n",
        "plt.xlabel(\"years of schooling\")\n",
        "plt.ylabel(\"ln wages\");"
      ]
    },
    {
      "cell_type": "markdown",
      "metadata": {
        "id": "mtllIvMQ1V8X"
      },
      "source": [
        "As we can see, least squares linear regression can approximate any continuous function and can certainly be used for prediction. Include a rich enough set of transformations, and OLS predictions will yield unbiased estimates of the true ideal predictor, the conditional expectation function. But these estimates will be quite noisy. Penalized regression can greatly reduce the variance, at the expense of some bias. But if the bias reduction is great enough, the predictions can have lower MSE. Back to the whiteboard!\n"
      ]
    },
    {
      "cell_type": "markdown",
      "metadata": {
        "id": "eJZrKXiFRowv"
      },
      "source": [
        "## Lasso in action"
      ]
    },
    {
      "cell_type": "markdown",
      "metadata": {
        "id": "3zrJPzaPCkrm"
      },
      "source": [
        "Welcome back! Let's see lasso in action:"
      ]
    },
    {
      "cell_type": "code",
      "execution_count": 4,
      "metadata": {
        "id": "WpeyLwK8iV6k"
      },
      "outputs": [],
      "source": [
        "# fit lasso with a couple of different alphas and plot results\n",
        "# instantiate and fite our lasso object\n",
        "lasso1 = linear_model.Lasso(alpha=.001,max_iter=1000).fit(X_scaled,nlsy['lnw_2016'])\n",
        "#generate predicted values\n",
        "ybarhat1=lasso1.predict(Xbar_scaled)\n",
        "\n",
        "# same thing but with a different alpha\n",
        "lasso2 = linear_model.Lasso(alpha=.01,max_iter=1000).fit(X_scaled,nlsy['lnw_2016'])\n",
        "ybarhat2=lasso2.predict(Xbar_scaled)\n"
      ]
    },
    {
      "cell_type": "markdown",
      "metadata": {
        "id": "FcrrwylQx0FI"
      },
      "source": [
        "Plot results"
      ]
    },
    {
      "cell_type": "code",
      "execution_count": 5,
      "metadata": {
        "cellView": "form",
        "id": "-Vk_qSIzxwsi",
        "outputId": "c8379e42-3f16-42d9-a55a-bd5a0004869d",
        "colab": {
          "base_uri": "https://localhost:8080/",
          "height": 789
        }
      },
      "outputs": [
        {
          "output_type": "display_data",
          "data": {
            "text/plain": [
              "<Figure size 1200x400 with 3 Axes>"
            ],
            "image/png": "[encoded data removed]"
          },
          "metadata": {}
        },
        {
          "output_type": "display_data",
          "data": {
            "text/plain": [
              "<Figure size 1200x400 with 3 Axes>"
            ],
            "image/png": "[encoded data removed]"
          },
          "metadata": {}
        }
      ],
      "source": [
        "#@title\n",
        "fig1,(ax11,ax12,ax13) = plt.subplots(1,3,figsize=(12, 4))\n",
        "ax11.barh(Xbar.columns,reg.coef_,align='center');\n",
        "ax11.set_title(\"OLS coefficients\")\n",
        "ax11.set_xlabel(\"coefficient\")\n",
        "ax12.barh(Xbar.columns,lasso1.coef_,align='center');\n",
        "ax12.set_title(\"Lasso coefficients (alpha = {:.3f})\".format(lasso1.get_params()['alpha']))\n",
        "ax12.set_xlabel(\"coefficient\")\n",
        "ax13.barh(Xbar.columns,lasso2.coef_,align='center');\n",
        "ax13.set_title(\"Lasso coefficients (alpha = {:.2f})\".format(lasso2.get_params()['alpha']))\n",
        "ax13.set_xlabel(\"coefficient\")\n",
        "fig2,(ax21,ax22,ax23) = plt.subplots(1,3,figsize=(12,4))\n",
        "ax21.plot(Xbar['educ1'],lnwbar,'bo',Xbar['educ1'],ybarhat,'g-');\n",
        "ax21.set_title(\"ln Wages by Education in the NLSY\")\n",
        "ax21.set_xlabel(\"years of schooling\")\n",
        "ax21.set_ylabel(\"ln wages\");\n",
        "ax22.plot(Xbar['educ1'],lnwbar,'bo',Xbar['educ1'],ybarhat1,'g-');\n",
        "ax22.set_title(\"ln Wages by Education in the NLSY\")\n",
        "ax22.set_xlabel(\"years of schooling\")\n",
        "ax22.set_ylabel(\"ln wages\");\n",
        "ax23.plot(Xbar['educ1'],lnwbar,'bo',Xbar['educ1'],ybarhat2,'g-');\n",
        "ax23.set_title(\"ln Wages by Education in the NLSY\")\n",
        "ax23.set_xlabel(\"years of schooling\")\n",
        "ax23.set_ylabel(\"ln wages\");"
      ]
    },
    {
      "cell_type": "markdown",
      "metadata": {
        "id": "osbAl2I0znmx"
      },
      "source": [
        "Play around with different values for alpha to see how the fit changes!"
      ]
    },
    {
      "cell_type": "markdown",
      "metadata": {
        "id": "WLGCHAGPnce4"
      },
      "source": [
        "### Data-driven tuning parameters: Cross-validation"
      ]
    },
    {
      "cell_type": "markdown",
      "metadata": {
        "id": "HSbFFZLsuo9D"
      },
      "source": [
        "Quick trip back to the whiteboard!"
      ]
    },
    {
      "cell_type": "code",
      "execution_count": 6,
      "metadata": {
        "id": "YVaN9tFwnyMv",
        "outputId": "49e254e8-d39c-44be-8945-2cc714b1be04",
        "colab": {
          "base_uri": "https://localhost:8080/"
        }
      },
      "outputs": [
        {
          "output_type": "stream",
          "name": "stdout",
          "text": [
            "Best alpha:  0.014\n"
          ]
        }
      ],
      "source": [
        "# define grid for alpha\n",
        "alpha_grid = {'alpha': [.0001,.001,.002, .004, .006, .008, .01, .012, .014, .016 ,.018, .02 ],'max_iter': [100000]}\n",
        "# instantiate and fit our gridsearchcv object\n",
        "grid_search = GridSearchCV(linear_model.Lasso(),alpha_grid,cv=5,return_train_score=True).fit(X_scaled,nlsy['lnw_2016'])\n",
        "# print out the chosen value for alpha\n",
        "print(\"Best alpha: \",grid_search.best_estimator_.get_params()['alpha'])"
      ]
    },
    {
      "cell_type": "markdown",
      "metadata": {
        "id": "Q7r54SvPDz6P"
      },
      "source": [
        "### Lasso-guided variable selection\n",
        "For illustrative purposes we've been using lasso to determine the functional form for a single underlying regressor: education. But lasso's real power comes in selecting among a large number of regressors."
      ]
    },
    {
      "cell_type": "code",
      "execution_count": null,
      "metadata": {
        "id": "gZyPjQ6XIIuD"
      },
      "outputs": [],
      "source": [
        "# Define \"menu\" of regressors:\n",
        "X=nlsy.drop(columns=['lnw_2016','exp'])\n",
        "\n",
        "# Divide into training and test set so we can honestly gauge predictive accuracy\n",
        "X_train, X_test, y_train, y_test = train_test_split(X, nlsy['lnw_2016'],random_state=42)\n",
        "# Scale regressors\n",
        "scaler.fit(X_train)\n",
        "X_train_scaled = scaler.transform(X_train)\n",
        "X_test_scaled = scaler.transform(X_test)\n",
        "# Do cross-validated Lasso (the easy way!)\n",
        "# instantiate and fit our lassocv object\n",
        "lassocv=linear_model.LassoCV(random_state=42).fit(X_train_scaled,y_train)\n",
        "# print out the chosen value for alpha\n",
        "print(\"Chosen alpha: {:.3f}\".format(lassocv.alpha_))\n",
        "# print the original number of regressors and the number selected by lasso\n",
        "print(\"Number of regressors in the menu: \",len(X.columns))\n",
        "print(\"Number of regressors selected by lasso: \",sum(lassocv.coef_!=0))\n",
        "# print out accuracy on training and test test\n",
        "print(\"Accuracy on training set: {:.3f}\".format(lassocv.score(X_train_scaled,y_train)))\n",
        "print(\"Accuracy on test set: {:.3f}\".format(lassocv.score(X_test_scaled,y_test)))\n",
        "# look at the coefficients\n",
        "results = pd.DataFrame({'feature': X.columns[lassocv.coef_!=0],'coefficient': lassocv.coef_[lassocv.coef_!=0]})\n",
        "results"
      ]
    },
    {
      "cell_type": "markdown",
      "metadata": {
        "id": "YDMH-869NLKF"
      },
      "source": [
        "To try on your own: load the Oregon HIE data from earlier and try lassoing the OLS regression we did there. What do you notice?\n"
      ]
    },
    {
      "cell_type": "code",
      "execution_count": null,
      "metadata": {
        "id": "eczzwQy0R9Cu"
      },
      "outputs": [],
      "source": [
        "# Load Oregon HIE data . . ."
      ]
    },
    {
      "cell_type": "markdown",
      "metadata": {
        "id": "88wfVz0KozvT"
      },
      "source": [
        "## Ridge regression\n",
        "First, whiteboard. Ridge is another flavor of penalized regression, like lasso. But unlike lasso, ridge penalizes the squares (not the absolute values) of the coefficients. As a result, ridge shrinks coefficients toward zero, but not all the way. Let's give it a try."
      ]
    },
    {
      "cell_type": "code",
      "execution_count": null,
      "metadata": {
        "id": "Idti1cNTpG28"
      },
      "outputs": [],
      "source": [
        "# Try it on your own first with the NLSY data! (Hint: instead of LassoCV, use RidgeCV(cv=5), and it doesn't let you set random_state.\n",
        "# Also, don't forget to define your X and y variables if you re-defined them with the Oregon HIE data)\n",
        "\n",
        "# instantiate and fit your ridge object\n",
        "\n",
        "# print accuracy on training set and test set\n",
        "\n",
        "# inspect the coefficients\n"
      ]
    },
    {
      "cell_type": "markdown",
      "metadata": {
        "id": "XcZtQsXipf9J"
      },
      "source": [
        "### Cheat"
      ]
    },
    {
      "cell_type": "code",
      "execution_count": null,
      "metadata": {
        "id": "0r517ruPpjOb"
      },
      "outputs": [],
      "source": [
        "ridgecv=linear_model.RidgeCV(cv=5,alphas=(.1,1,10,50,100,1000)).fit(X_train_scaled,y_train)\n",
        "print(\"Chosen alpha: {:.3f}\".format(ridgecv.alpha_))\n",
        "print(\"Accuracy on training set: {:.3f}\".format(ridgecv.score(X_train_scaled,y_train)))\n",
        "print(\"Accuracy on test set: {:.3f}\".format(ridgecv.score(X_test_scaled,y_test)))\n",
        "# look at the coefficients\n",
        "results = pd.DataFrame({'feature': X.columns[ridgecv.coef_!=0],'coefficient': ridgecv.coef_[ridgecv.coef_!=0]})\n",
        "results"
      ]
    },
    {
      "cell_type": "markdown",
      "metadata": {
        "id": "2rmCnmqRrTNt"
      },
      "source": [
        "### ...\n",
        "What do we learn about the relative performance of Lasso and Ridge in this setting? What could be the explanation?"
      ]
    },
    {
      "cell_type": "markdown",
      "metadata": {
        "id": "bQkGESRIrclS"
      },
      "source": [
        "One way to compare Lasso and Ridge, is to visualize their coefficients:"
      ]
    },
    {
      "cell_type": "code",
      "execution_count": null,
      "metadata": {
        "id": "xZdMrWlvr2WK"
      },
      "outputs": [],
      "source": [
        "plt.plot(ridgecv.coef_, 's', label=\"RidgeCV\")\n",
        "plt.plot(lassocv.coef_, 'o', label=\"LassoCV\")\n",
        "plt.xlabel(\"Coefficient index\")\n",
        "plt.ylabel(\"Coefficient magnitude\")\n",
        "xlims = plt.xlim()\n",
        "plt.hlines(0, xlims[0], xlims[1])\n",
        "plt.xlim(xlims)\n",
        "plt.legend()"
      ]
    },
    {
      "cell_type": "markdown",
      "metadata": {
        "id": "AImQVY7ws12d"
      },
      "source": [
        "## Elastic Net: best of both worlds?\n",
        "Elastic net combines lasso and ridge penalization. First, a bit of whiteboard, then let's give it a try."
      ]
    },
    {
      "cell_type": "code",
      "execution_count": null,
      "metadata": {
        "id": "xJUVDML4tBmK"
      },
      "outputs": [],
      "source": [
        "# Try it yourself first!\n",
        "\n",
        "# instantiate and fit your elasticnetcv object (hint: it's linear_model.ElasticNetCV,\n",
        "# and supply it a grid for the l1 ratio: l1_ratio=[.1, .5, .7, .9, .95, .99, 1]\n",
        "\n",
        "# print out the chosen l1 ratio and alpha\n",
        "\n",
        "# print out the original and selected number of regressors\n",
        "\n",
        "# print out accuracy in the training and test set\n",
        "\n",
        "# look at the coefficients\n",
        "\n",
        "\n"
      ]
    },
    {
      "cell_type": "markdown",
      "metadata": {
        "id": "qF34B5ittE_x"
      },
      "source": [
        "### Cheat"
      ]
    },
    {
      "cell_type": "code",
      "execution_count": null,
      "metadata": {
        "id": "hw1ZDHBTtGYx"
      },
      "outputs": [],
      "source": [
        "encv=linear_model.ElasticNetCV(random_state=42,l1_ratio=[.1, .5, .7, .9, .95, .99, 1]).fit(X_train_scaled,y_train)\n",
        "print(\"Chosen l1 ratio: {:.3f}\".format(encv.l1_ratio_))\n",
        "print(\"Chosen alpha: {:.3f}\".format(encv.alpha_))\n",
        "print(\"Number of regressors in the menu: \",len(X.columns))\n",
        "print(\"Number of regressors selected by elastic net: \",sum(encv.coef_!=0))\n",
        "print(\"Accuracy on training set: {:.3f}\".format(encv.score(X_train_scaled,y_train)))\n",
        "print(\"Accuracy on test set: {:.3f}\".format(encv.score(X_test_scaled,y_test)))\n",
        "# look at the coefficients\n",
        "results = pd.DataFrame({'feature': X.columns[encv.coef_!=0],'coefficient': encv.coef_[encv.coef_!=0]})\n",
        "results"
      ]
    },
    {
      "cell_type": "markdown",
      "metadata": {
        "id": "8uff-P-3v5aX"
      },
      "source": [
        "### ...\n",
        "Not surprisingly, it doesn't look terribly different from lasso."
      ]
    },
    {
      "cell_type": "markdown",
      "metadata": {
        "id": "FDNSEcQYwfhC"
      },
      "source": [
        "## Decision Trees and Random Forests\n",
        "First, a trip to the whiteboard"
      ]
    },
    {
      "cell_type": "markdown",
      "metadata": {
        "id": "0bAOPFex3mW3"
      },
      "source": [
        "Import some utilities:"
      ]
    },
    {
      "cell_type": "code",
      "execution_count": null,
      "metadata": {
        "cellView": "form",
        "id": "1Pf7NHq_yYr7"
      },
      "outputs": [],
      "source": [
        "#@title\n",
        "import requests\n",
        "url1 = 'https://www.dropbox.com/s/jgml061manxpawo/plot_2d_separator.py?raw=true'\n",
        "url2 = 'https://www.dropbox.com/s/hlrrlwm4kt36awb/plot_interactive_tree.py?raw=true'\n",
        "url3 = 'https://www.dropbox.com/s/e2cy203sr30a59z/plot_helpers.py?raw=true'\n",
        "url4 = 'https://www.dropbox.com/s/aik5sgcwgz4brwn/tools.py?raw=true'\n",
        "r1 = requests.get(url1)\n",
        "r2 = requests.get(url2)\n",
        "r3 = requests.get(url3)\n",
        "r4 = requests.get(url4)\n",
        "\n",
        "# make sure your filename is the same as how you want to import\n",
        "with open('plot_2d_separator.py', 'w') as f1:\n",
        "    f1.write(r1.text)\n",
        "\n",
        "with open('plot_interactive_tree.py', 'w') as f2:\n",
        "    f2.write(r2.text)\n",
        "\n",
        "with open('plot_helpers.py', 'w') as f3:\n",
        "    f3.write(r3.text)\n",
        "\n",
        "with open('tools.py', 'w') as f4:\n",
        "    f4.write(r4.text)\n",
        "\n",
        "# now we can import\n",
        "import plot_helpers\n",
        "import tools\n",
        "import plot_2d_separator\n",
        "import plot_interactive_tree"
      ]
    },
    {
      "cell_type": "markdown",
      "metadata": {
        "id": "xkcy2fSU3s4f"
      },
      "source": [
        "Let's illustrate how random forests average over a collection of individual trees:"
      ]
    },
    {
      "cell_type": "code",
      "execution_count": null,
      "metadata": {
        "id": "7e2Jy9y8agDw"
      },
      "outputs": [],
      "source": [
        "from sklearn.tree import DecisionTreeClassifier\n",
        "from sklearn.ensemble import RandomForestClassifier\n",
        "from sklearn.tree import export_graphviz\n",
        "import graphviz\n",
        "from sklearn.datasets import make_moons\n",
        "\n",
        "Xfake, yfake = make_moons(n_samples=100, noise=0.25, random_state=3)\n",
        "Xfake_train, Xfake_test, yfake_train, yfake_test = train_test_split(Xfake, yfake, stratify=yfake,\n",
        "                                                    random_state=42)\n",
        "\n",
        "#First a simple tree:\n",
        "tree = DecisionTreeClassifier(max_depth=3).fit(Xfake_train,yfake_train)\n",
        "fig1,ax = plt.subplots(1,1,figsize=(12, 8))\n",
        "plot_interactive_tree.plot_tree_partition(Xfake_train, yfake_train, tree, ax=ax)\n",
        "dot_data= export_graphviz(tree, out_file=None, impurity=False, filled=True)\n",
        "graph = graphviz.Source(dot_data)\n",
        "graph"
      ]
    },
    {
      "cell_type": "markdown",
      "metadata": {
        "id": "oDep9IE5vwul"
      },
      "source": [
        "We got trees down. Now to the whiteboard to talk about random forests"
      ]
    },
    {
      "cell_type": "code",
      "execution_count": null,
      "metadata": {
        "id": "ZdupDB5PuKEW"
      },
      "outputs": [],
      "source": [
        "# Now average over several trees:\n",
        "\n",
        "forest = RandomForestClassifier(n_estimators=5, random_state=2).fit(Xfake_train, yfake_train)\n",
        "\n",
        "fig, axes = plt.subplots(2, 3, figsize=(20, 10))\n",
        "for i, (ax, tree) in enumerate(zip(axes.ravel(), forest.estimators_)):\n",
        "    ax.set_title(\"Tree {}\".format(i))\n",
        "    plot_interactive_tree.plot_tree_partition(Xfake_train, yfake_train, tree, ax=ax)\n",
        "\n",
        "plot_2d_separator.plot_2d_separator(forest, Xfake_train, fill=True, ax=axes[-1, -1],\n",
        "                                alpha=.4)\n",
        "axes[-1, -1].set_title(\"Random Forest\")\n",
        "plot_helpers.discrete_scatter(Xfake_train[:, 0], Xfake_train[:, 1], yfake_train)"
      ]
    },
    {
      "cell_type": "markdown",
      "metadata": {
        "id": "iVsT1WDaNAm6"
      },
      "source": [
        "Enough with fake data. Let's use random forests to predict wages in the NLSY, just as we did for Lasso, Ridge, and Elastic net. Try it on your own! Hint: we want RandomForestRegressor, not RandomForestClassifier. For bonus points, cross-validate random forest's tuning parameters using GridSearchCV."
      ]
    },
    {
      "cell_type": "code",
      "execution_count": null,
      "metadata": {
        "id": "Kg6HY2R9ieGU"
      },
      "outputs": [],
      "source": [
        "# Try it on your own!\n",
        "\n",
        "# Import the proper package\n",
        "\n",
        "# instantiate your random forest object and fit it\n",
        "\n",
        "# print out training set and test set accuracy"
      ]
    },
    {
      "cell_type": "markdown",
      "metadata": {
        "id": "TknHGNL0ihHX"
      },
      "source": [
        "### Cheat"
      ]
    },
    {
      "cell_type": "code",
      "execution_count": null,
      "metadata": {
        "id": "eozvsxHDijQ2"
      },
      "outputs": [],
      "source": [
        "from sklearn.ensemble import RandomForestRegressor\n",
        "\n",
        "# First without cross-validating\n",
        "rf=RandomForestRegressor(random_state=42).fit(X_train,y_train)\n",
        "print(\"Accuracy on training set: {:.3f}\".format(rf.score(X_train,y_train)))\n",
        "print(\"Accuracy on test set: {:.3f}\".format(rf.score(X_test,y_test)))"
      ]
    },
    {
      "cell_type": "code",
      "execution_count": null,
      "metadata": {
        "id": "1-y1osT_ldU5"
      },
      "outputs": [],
      "source": [
        "# Now with cross-validation\n",
        "# define grid for max_depth\n",
        "param_grid = {'max_depth': [5,10,100]}\n",
        "grid_searchrf = GridSearchCV(RandomForestRegressor(),param_grid,cv=5,return_train_score=True).fit(X_train,y_train)\n",
        "print(\"Best max_depth: \",grid_searchrf.best_estimator_.get_params()['max_depth'])\n",
        "print(\"Accuracy on training set: {:.3f}\".format(grid_searchrf.score(X_train,y_train)))\n",
        "print(\"Accuracy on test set: {:.3f}\".format(grid_searchrf.score(X_test,y_test)))"
      ]
    },
    {
      "cell_type": "markdown",
      "metadata": {
        "id": "91KmD2_Gnhhj"
      },
      "source": [
        "How does Random Forest compare with Lasso?"
      ]
    },
    {
      "cell_type": "code",
      "execution_count": null,
      "metadata": {
        "id": "UDxfTw76nt8z"
      },
      "outputs": [],
      "source": []
    }
  ],
  "metadata": {
    "colab": {
      "collapsed_sections": [
        "XcZtQsXipf9J",
        "qF34B5ittE_x",
        "TknHGNL0ihHX"
      ],
      "provenance": []
    },
    "kernelspec": {
      "display_name": "Python 3.10.8 64-bit",
      "language": "python",
      "name": "python3"
    },
    "language_info": {
      "codemirror_mode": {
        "name": "ipython",
        "version": 3
      },
      "file_extension": ".py",
      "mimetype": "text/x-python",
      "name": "python",
      "nbconvert_exporter": "python",
      "pygments_lexer": "ipython3",
      "version": "3.10.8"
    },
    "vscode": {
      "interpreter": {
        "hash": "b0fa6594d8f4cbf19f97940f81e996739fb7646882a419484c72d19e05852a7e"
      }
    }
  },
  "nbformat": 4,
  "nbformat_minor": 0
}