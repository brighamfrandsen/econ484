{
  "cells": [
    {
      "cell_type": "markdown",
      "metadata": {
        "id": "view-in-github",
        "colab_type": "text"
      },
      "source": [
        "<a href=\"https://colab.research.google.com/github/brighamfrandsen/econ484/blob/master/examples/clustering.ipynb\" target=\"_parent\"><img src=\"https://colab.research.google.com/assets/colab-badge.svg\" alt=\"Open In Colab\"/></a>"
      ]
    },
    {
      "cell_type": "code",
      "execution_count": null,
      "metadata": {
        "hide_input": false,
        "id": "Ko7caA4sBiSh"
      },
      "outputs": [],
      "source": [
        "# Import necessary libraries\n",
        "!git clone https://github.com/brighamfrandsen/econ484.git\n",
        "%cd econ484/utilities\n",
        "from preamble import *\n",
        "%cd ../data\n",
        "\n",
        "plt.rcParams['image.cmap'] = \"gray\"\n",
        "from sklearn.model_selection import train_test_split"
      ]
    },
    {
      "cell_type": "markdown",
      "metadata": {
        "id": "1_b8X-5KlhfV"
      },
      "source": [
        "[![Open in Colab](https://colab.research.google.com/assets/colab-badge.svg)](https://colab.research.google.com/github/brighamfrandsen/econ484/blob/master/examples/clustering.ipynb)"
      ]
    },
    {
      "cell_type": "markdown",
      "metadata": {
        "id": "bISR38tCBiSk"
      },
      "source": [
        "### Clustering"
      ]
    },
    {
      "cell_type": "markdown",
      "metadata": {
        "id": "iURu_VhzBiSk"
      },
      "source": [
        "#### k-Means clustering"
      ]
    },
    {
      "cell_type": "code",
      "execution_count": null,
      "metadata": {
        "hide_input": false,
        "id": "1VRAc15cBiSl"
      },
      "outputs": [],
      "source": [
        "mglearn.plots.plot_kmeans_algorithm()"
      ]
    },
    {
      "cell_type": "code",
      "execution_count": null,
      "metadata": {
        "hide_input": false,
        "id": "QcipAcryBiSm"
      },
      "outputs": [],
      "source": [
        "\n",
        "mglearn.plots.plot_kmeans_boundaries()"
      ]
    },
    {
      "cell_type": "code",
      "execution_count": null,
      "metadata": {
        "id": "qq20uOwNBiSo"
      },
      "outputs": [],
      "source": [
        "from sklearn.datasets import make_blobs\n",
        "from sklearn.cluster import KMeans\n",
        "\n",
        "# generate synthetic two-dimensional data\n",
        "X, y = make_blobs(random_state=1)\n",
        "\n",
        "# build the clustering model\n",
        "kmeans = KMeans(n_clusters=3)\n",
        "kmeans.fit(X)\n",
        "print(X.shape)\n",
        "X\n",
        "\n"
      ]
    },
    {
      "cell_type": "code",
      "execution_count": null,
      "metadata": {
        "id": "hfYhtjYIBiSq"
      },
      "outputs": [],
      "source": [
        "print(\"Cluster memberships:\\n{}\".format(kmeans.labels_))"
      ]
    },
    {
      "cell_type": "code",
      "execution_count": null,
      "metadata": {
        "id": "UtmMjqlOVUbq"
      },
      "outputs": [],
      "source": [
        "print(\"true clusters:\\n{}\".format(y))"
      ]
    },
    {
      "cell_type": "code",
      "execution_count": null,
      "metadata": {
        "id": "4hlBsz9rN1q2"
      },
      "outputs": [],
      "source": [
        "mglearn.discrete_scatter(X[:, 0], X[:, 1], kmeans.labels_, markers='o')\n",
        "mglearn.discrete_scatter(\n",
        "    kmeans.cluster_centers_[:, 0], kmeans.cluster_centers_[:, 1], [0, 1, 2],\n",
        "    markers='^', markeredgewidth=2)"
      ]
    },
    {
      "cell_type": "code",
      "execution_count": null,
      "metadata": {
        "id": "ZmqlkOThN8bp"
      },
      "outputs": [],
      "source": [
        "fig, axes = plt.subplots(1, 2, figsize=(10, 5))\n",
        "\n",
        "# using two cluster centers:\n",
        "kmeans = KMeans(n_clusters=2,random_state=1)\n",
        "kmeans.fit(X)\n",
        "assignments = kmeans.labels_\n",
        "\n",
        "mglearn.discrete_scatter(X[:, 0], X[:, 1], assignments, ax=axes[0])\n",
        "\n",
        "# using five cluster centers:\n",
        "kmeans = KMeans(n_clusters=5,random_state=1)\n",
        "kmeans.fit(X)\n",
        "assignments = kmeans.labels_\n",
        "\n",
        "mglearn.discrete_scatter(X[:, 0], X[:, 1], assignments, ax=axes[1])"
      ]
    },
    {
      "cell_type": "markdown",
      "metadata": {
        "id": "FXYMCcS8BiSx"
      },
      "source": [
        "##### Failure cases of k-Means"
      ]
    },
    {
      "cell_type": "code",
      "execution_count": null,
      "metadata": {
        "id": "hdpON_8qBiSy",
        "scrolled": true
      },
      "outputs": [],
      "source": [
        "X_varied, y_varied = make_blobs(n_samples=200,\n",
        "                                cluster_std=[1.0, 2.5, 0.5],\n",
        "                                random_state=170)\n",
        "y_pred = KMeans(n_clusters=3, random_state=0).fit_predict(X_varied)\n",
        "\n",
        "mglearn.discrete_scatter(X_varied[:, 0], X_varied[:, 1], y_pred)\n",
        "plt.legend([\"cluster 0\", \"cluster 1\", \"cluster 2\"], loc='best')\n",
        "plt.xlabel(\"Feature 0\")\n",
        "plt.ylabel(\"Feature 1\")"
      ]
    },
    {
      "cell_type": "code",
      "execution_count": null,
      "metadata": {
        "id": "c3ZgcNRRBiSz"
      },
      "outputs": [],
      "source": [
        "## generate some random cluster data\n",
        "X, y = make_blobs(random_state=170, n_samples=600)\n",
        "rng = np.random.RandomState(74)\n",
        "\n",
        "# transform the data to be stretched\n",
        "transformation = rng.normal(size=(2, 2))\n",
        "X = np.dot(X, transformation)\n",
        "\n",
        "# cluster the data into three clusters\n",
        "kmeans = KMeans(n_clusters=3)\n",
        "kmeans.fit(X)\n",
        "y_pred = kmeans.predict(X)\n",
        "\n",
        "# plot the cluster assignments and cluster centers\n",
        "mglearn.discrete_scatter(X[:, 0], X[:, 1], kmeans.labels_, markers='o')\n",
        "mglearn.discrete_scatter(\n",
        "    kmeans.cluster_centers_[:, 0], kmeans.cluster_centers_[:, 1], [0, 1, 2],\n",
        "    markers='^', markeredgewidth=2)\n",
        "plt.xlabel(\"Feature 0\")\n",
        "plt.ylabel(\"Feature 1\")"
      ]
    },
    {
      "cell_type": "code",
      "execution_count": null,
      "metadata": {
        "id": "O_7q9nIXBiS1"
      },
      "outputs": [],
      "source": [
        "# generate synthetic two_moons data (with less noise this time)\n",
        "from sklearn.datasets import make_moons\n",
        "X, y = make_moons(n_samples=200, noise=0.05, random_state=0)\n",
        "\n",
        "# cluster the data into two clusters\n",
        "kmeans = KMeans(n_clusters=2)\n",
        "kmeans.fit(X)\n",
        "y_pred = kmeans.predict(X)\n",
        "\n",
        "# plot the cluster assignments and cluster centers\n",
        "plt.scatter(X[:, 0], X[:, 1], c=y_pred, cmap=mglearn.cm2, s=60, edgecolor='k')\n",
        "plt.scatter(kmeans.cluster_centers_[:, 0], kmeans.cluster_centers_[:, 1],\n",
        "            marker='^', c=[mglearn.cm2(0), mglearn.cm2(1)], s=100, linewidth=2,\n",
        "            edgecolor='k')\n",
        "plt.xlabel(\"Feature 0\")\n",
        "plt.ylabel(\"Feature 1\")"
      ]
    },
    {
      "cell_type": "code",
      "execution_count": null,
      "metadata": {
        "id": "gqYECdQLBiS8"
      },
      "outputs": [],
      "source": [
        "X, y = make_moons(n_samples=200, noise=0.05, random_state=0)\n",
        "\n",
        "kmeans = KMeans(n_clusters=10, random_state=0)\n",
        "kmeans.fit(X)\n",
        "y_pred = kmeans.predict(X)\n",
        "\n",
        "plt.scatter(X[:, 0], X[:, 1], c=y_pred, s=60, cmap='Paired')\n",
        "plt.scatter(kmeans.cluster_centers_[:, 0], kmeans.cluster_centers_[:, 1], s=60,\n",
        "            marker='^', c=range(kmeans.n_clusters), linewidth=2, cmap='Paired')\n",
        "plt.xlabel(\"Feature 0\")\n",
        "plt.ylabel(\"Feature 1\")\n",
        "print(\"Cluster memberships:\\n{}\".format(y_pred))"
      ]
    },
    {
      "cell_type": "markdown",
      "metadata": {
        "id": "sytrIMonBiS_"
      },
      "source": [
        "#### Agglomerative Clustering"
      ]
    },
    {
      "cell_type": "code",
      "execution_count": null,
      "metadata": {
        "hide_input": false,
        "id": "6bvki_RlBiS_"
      },
      "outputs": [],
      "source": [
        "mglearn.plots.plot_agglomerative_algorithm()"
      ]
    },
    {
      "cell_type": "code",
      "execution_count": null,
      "metadata": {
        "id": "buljv_LCBiTB"
      },
      "outputs": [],
      "source": [
        "from sklearn.cluster import AgglomerativeClustering\n",
        "X, y = make_blobs(random_state=1)\n",
        "\n",
        "agg = AgglomerativeClustering(n_clusters=3,linkage='complete')\n",
        "assignment = agg.fit_predict(X)\n",
        "\n",
        "mglearn.discrete_scatter(X[:, 0], X[:, 1], assignment)\n",
        "plt.legend([\"Cluster 0\", \"Cluster 1\", \"Cluster 2\"], loc=\"best\")\n",
        "plt.xlabel(\"Feature 0\")\n",
        "plt.ylabel(\"Feature 1\")"
      ]
    },
    {
      "cell_type": "markdown",
      "metadata": {
        "id": "lqZviPdjBiTC"
      },
      "source": [
        "##### Hierarchical Clustering and Dendrograms"
      ]
    },
    {
      "cell_type": "code",
      "execution_count": null,
      "metadata": {
        "hide_input": false,
        "id": "AkecV_LMBiTC"
      },
      "outputs": [],
      "source": [
        "mglearn.plots.plot_agglomerative()"
      ]
    },
    {
      "cell_type": "code",
      "execution_count": null,
      "metadata": {
        "id": "wpApBD8bBiTE"
      },
      "outputs": [],
      "source": [
        "# Import the dendrogram function and the ward clustering function from SciPy\n",
        "from scipy.cluster.hierarchy import dendrogram, ward\n",
        "\n",
        "X, y = make_blobs(random_state=0, n_samples=12)\n",
        "# Apply the ward clustering to the data array X\n",
        "# The SciPy ward function returns an array that specifies the distances\n",
        "# bridged when performing agglomerative clustering\n",
        "linkage_array = ward(X)\n",
        "# Now we plot the dendrogram for the linkage_array containing the distances\n",
        "# between clusters\n",
        "dendrogram(linkage_array)\n",
        "\n",
        "# mark the cuts in the tree that signify two or three clusters\n",
        "ax = plt.gca()\n",
        "bounds = ax.get_xbound()\n",
        "ax.plot(bounds, [7.25, 7.25], '--', c='k')\n",
        "ax.plot(bounds, [4, 4], '--', c='k')\n",
        "\n",
        "ax.text(bounds[1], 7.25, ' two clusters', va='center', fontdict={'size': 15})\n",
        "ax.text(bounds[1], 4, ' three clusters', va='center', fontdict={'size': 15})\n",
        "plt.xlabel(\"Sample index\")\n",
        "plt.ylabel(\"Cluster distance\")"
      ]
    },
    {
      "cell_type": "code",
      "execution_count": null,
      "metadata": {
        "id": "2d7y1VV6rgbA"
      },
      "outputs": [],
      "source": [
        "# apply Agglomerative clustering to \"stretched out \" blobs\n",
        "X, y = make_blobs(random_state=170, n_samples=600)\n",
        "rng = np.random.RandomState(74)\n",
        "\n",
        "# transform the data to be stretched\n",
        "transformation = rng.normal(size=(2, 2))\n",
        "X = np.dot(X, transformation)\n",
        "\n",
        "# cluster the data into three clusters\n",
        "agg = AgglomerativeClustering(n_clusters=3,linkage = 'ward')\n",
        "assignment = agg.fit_predict(X)\n",
        "\n",
        "mglearn.discrete_scatter(X[:, 0], X[:, 1], assignment)\n",
        "plt.legend([\"Cluster 0\", \"Cluster 1\", \"Cluster 2\"], loc=\"best\")\n",
        "plt.xlabel(\"Feature 0\")\n",
        "plt.ylabel(\"Feature 1\")"
      ]
    },
    {
      "cell_type": "markdown",
      "metadata": {
        "id": "HQYwk6a7BiTF"
      },
      "source": [
        "#### DBSCAN"
      ]
    },
    {
      "cell_type": "code",
      "execution_count": null,
      "metadata": {
        "id": "0R29NNvkBiTF"
      },
      "outputs": [],
      "source": [
        "from sklearn.cluster import DBSCAN\n",
        "X, y = make_blobs(random_state=0, n_samples=12)\n",
        "\n",
        "dbscan = DBSCAN(min_samples=2,eps=.1)\n",
        "clusters = dbscan.fit_predict(X)\n",
        "print(\"Cluster memberships:\\n{}\".format(clusters))"
      ]
    },
    {
      "cell_type": "code",
      "execution_count": null,
      "metadata": {
        "id": "qyyCjd3LBiTH",
        "scrolled": false
      },
      "outputs": [],
      "source": [
        "mglearn.plots.plot_dbscan()"
      ]
    },
    {
      "cell_type": "code",
      "execution_count": null,
      "metadata": {
        "id": "lHQNycqqBiTI"
      },
      "outputs": [],
      "source": [
        "X, y = make_moons(n_samples=200, noise=0.05, random_state=0)\n",
        "\n",
        "# Rescale the data to zero mean and unit variance\n",
        "from sklearn.preprocessing import StandardScaler\n",
        "scaler = StandardScaler()\n",
        "scaler.fit(X)\n",
        "X_scaled = scaler.transform(X)\n",
        "\n",
        "dbscan = DBSCAN(eps=.1,min_samples=2)\n",
        "clusters = dbscan.fit_predict(X_scaled)\n",
        "# plot the cluster assignments\n",
        "plt.scatter(X_scaled[:, 0], X_scaled[:, 1], c=clusters, cmap=mglearn.cm2, s=60)\n",
        "plt.xlabel(\"Feature 0\")\n",
        "plt.ylabel(\"Feature 1\")\n",
        "clusters"
      ]
    },
    {
      "cell_type": "markdown",
      "metadata": {
        "id": "2gpTLPVXLPTu"
      },
      "source": [
        "To try on your own: load the housing data and create clusters of houses using a couple of the methods above.\n",
        "First, load the housing data:"
      ]
    },
    {
      "cell_type": "code",
      "source": [],
      "metadata": {
        "id": "zVG4oXPE0gy_"
      },
      "execution_count": null,
      "outputs": []
    },
    {
      "cell_type": "markdown",
      "metadata": {
        "id": "83u0wMX5iQJ3"
      },
      "source": [
        "###Cheat:"
      ]
    },
    {
      "cell_type": "code",
      "execution_count": null,
      "metadata": {
        "id": "oTQvIb1ILkZb"
      },
      "outputs": [],
      "source": [
        "# Read in some real-life data\n",
        "housedata=pd.read_csv('housingprices.csv')"
      ]
    },
    {
      "cell_type": "markdown",
      "metadata": {
        "id": "-TwgQWOQiVfp"
      },
      "source": [
        "###Define x matrix:"
      ]
    },
    {
      "cell_type": "code",
      "execution_count": null,
      "metadata": {
        "id": "q1k4C-rdiXCr"
      },
      "outputs": [],
      "source": []
    },
    {
      "cell_type": "markdown",
      "metadata": {
        "id": "hpC-99qGiX2A"
      },
      "source": [
        "###Cheat:"
      ]
    },
    {
      "cell_type": "code",
      "execution_count": null,
      "metadata": {
        "id": "s-qZwXYxiZJ2"
      },
      "outputs": [],
      "source": [
        "x=housedata.loc[:,[x for x in housedata.columns if x not in ('price','lprice')]]\n"
      ]
    },
    {
      "cell_type": "markdown",
      "metadata": {
        "id": "n9XC8jaBibZw"
      },
      "source": [
        "###Building clustering model and fit to data:"
      ]
    },
    {
      "cell_type": "code",
      "execution_count": null,
      "metadata": {
        "id": "guypMoFUie-G"
      },
      "outputs": [],
      "source": []
    },
    {
      "cell_type": "markdown",
      "metadata": {
        "id": "la1YLam1igZq"
      },
      "source": [
        "###Cheat:"
      ]
    },
    {
      "cell_type": "code",
      "execution_count": null,
      "metadata": {
        "id": "bxhcEUd2iha1"
      },
      "outputs": [],
      "source": [
        "# build the clustering model\n",
        "kmeans = KMeans(n_clusters=12)\n",
        "kmeans.fit(x)\n"
      ]
    },
    {
      "cell_type": "code",
      "execution_count": null,
      "metadata": {
        "id": "oYDmoUlDCrbt"
      },
      "outputs": [],
      "source": [
        "kmeans.labels_"
      ]
    },
    {
      "cell_type": "code",
      "execution_count": null,
      "metadata": {
        "id": "wyiEtqUVC2aF"
      },
      "outputs": [],
      "source": [
        "kmeans.cluster_centers_"
      ]
    },
    {
      "cell_type": "code",
      "execution_count": null,
      "metadata": {
        "id": "jB6ZBmHNOJ8d"
      },
      "outputs": [],
      "source": [
        "kmeans.inertia_"
      ]
    },
    {
      "cell_type": "code",
      "execution_count": null,
      "metadata": {
        "id": "nih3OHrROlEm"
      },
      "outputs": [],
      "source": []
    }
  ],
  "metadata": {
    "colab": {
      "provenance": [],
      "include_colab_link": true
    },
    "kernelspec": {
      "display_name": "Python 3",
      "language": "python",
      "name": "python3"
    },
    "language_info": {
      "codemirror_mode": {
        "name": "ipython",
        "version": 3
      },
      "file_extension": ".py",
      "mimetype": "text/x-python",
      "name": "python",
      "nbconvert_exporter": "python",
      "pygments_lexer": "ipython3",
      "version": "3.7.4"
    }
  },
  "nbformat": 4,
  "nbformat_minor": 0
}