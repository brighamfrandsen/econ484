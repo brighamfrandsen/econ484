{
  "cells": [
    {
      "cell_type": "markdown",
      "metadata": {
        "id": "view-in-github",
        "colab_type": "text"
      },
      "source": [
        "<a href=\"https://colab.research.google.com/github/brighamfrandsen/econ484/blob/master/examples/Causal_via_Prediction.ipynb\" target=\"_parent\"><img src=\"https://colab.research.google.com/assets/colab-badge.svg\" alt=\"Open In Colab\"/></a>"
      ]
    },
    {
      "cell_type": "code",
      "source": [
        "import warnings\n",
        "warnings.filterwarnings('ignore')"
      ],
      "metadata": {
        "id": "2Pr-hNx47pl6"
      },
      "execution_count": 1,
      "outputs": []
    },
    {
      "cell_type": "markdown",
      "metadata": {
        "id": "YKjVXkOq5RvM"
      },
      "source": [
        "# Where ML Fits into Causal Inference (review)"
      ]
    },
    {
      "cell_type": "markdown",
      "source": [
        "The traditional go-to tool for causal inference is multiple regression:\n",
        "$$\n",
        "Y_i = \\delta D_i + X_i'\\beta+\\varepsilon_i,\n",
        "$$\n",
        "where $D_i$ is the \"treatment\" or causal variable whose effects we are interested in, and $X_i$ is a vector of controls, conditional on which we are willing to assume $D_i$ is as good as randomly assigned.\n",
        "\n",
        "\n",
        "> *example:* Suppose we are interested in the magnitude of racial discrimination in the labor market. One way to conceptualize this is the difference in earnings between two workers who are identical in productivity, but differ in their race, or, the \"effect\" of race. Then $D_i$ would be an indicator for, say, a Black worker. $Y_i$ would be earnings, and $X_i$ would be characteristics that capture determinants of productivity, including educational attainment, cognitive ability, and other background characteristics.\n",
        "\n",
        "Where does machine learning fit into causal inference? It might be tempting to treat\n",
        "this regression as a prediction exercise where we are predicting $Y_{i}$\n",
        "given $D_{i}$ and $X_{i}$. Don't give in to this temptation. We are not\n",
        "after a prediction for $Y_{i}$, we are after a coefficient on $D_{i}$.\n",
        "Modern machine learning algorithms are finely tuned for producing\n",
        "predictions, but along the way they compromise coefficients. So how can we\n",
        "deploy machine learning in the service of estimating the causal coefficient $\\delta $?\n",
        "\n",
        "To see where ML fits in, first remember that an equivalent way to estimate $%\n",
        "\\delta $ is the following three-step procedure:\n",
        "\n",
        "\n",
        "1.   Regress $Y_{i}$ on $X_{i}$ and compute the residuals, $\\tilde{Y}%\n",
        "_{i}=Y_{i}-\\hat{Y}_{i}^{OLS}$, where $\\hat{Y}_{i}^{OLS}=X_{i}^{\\prime\n",
        "}\\left( X^{\\prime }X\\right) ^{-1}X^{\\prime }Y$\n",
        "2.   Regress $D_{i}$ on $X_{i}$ and compute the residuals, $\\tilde{D}%\n",
        "_{i}=D_{i}-\\hat{D}_{i}^{OLS}$, where $\\hat{D}_{i}^{OLS}=X_{i}^{\\prime\n",
        "}\\left( X^{\\prime }X\\right) ^{-1}X^{\\prime }D$\n",
        "\n",
        "3. Regress $\\tilde{Y}_{i}$ on $\\tilde{D}_{i}$."
      ],
      "metadata": {
        "id": "fLMqhUEDwRzf"
      }
    },
    {
      "cell_type": "markdown",
      "source": [
        "Steps 1 and 2 are prediction exercises--ML's wheelhouse. When OLS isn't the right tool for the job, we can replace OLS in those steps with machine learning:\n",
        "\n",
        "1.   Predict $Y_{i}$ based on $X_{i}$ using ML and compute the residuals, $\\tilde{Y}%\n",
        "_{i}=Y_{i}-\\hat{Y}_{i}^{ML}$, where $\\hat{Y}_{i}^{ML}$ is the prediction from an ML algorithm\n",
        "2.   Predict $D_{i}$ based on $X_{i}$ using ML and compute the residuals, $\\tilde{D}%\n",
        "_{i}=D_{i}-\\hat{D}_{i}^{ML}$, where $\\hat{D}_{i}^{ML}$ is the prediction from an ML algorithm\n",
        "\n",
        "3. Regress $\\tilde{Y}_{i}$ on $\\tilde{D}_{i}$.\n",
        "\n",
        "This is the basis for the two major methods we'll look at today: The first is \"Post-Double Selection Lasso\" (Belloni, Chernozhukov, Hansen). The second is \"Double-Debiased Machine Learning\" (Chernozhukov, Chetverikov, Demirer, Duflo, Hansen, Newey, Robins)"
      ],
      "metadata": {
        "id": "CGpe2nLBpTjr"
      }
    },
    {
      "cell_type": "markdown",
      "source": [
        "# Post Double Selection Lasso (PDS Lasso)"
      ],
      "metadata": {
        "id": "9YNUJiC_pGHK"
      }
    },
    {
      "cell_type": "markdown",
      "metadata": {
        "id": "yrGtZGTDbwUN"
      },
      "source": [
        "## Load useful packages:\n",
        "pandas (pd), numpy (np), linear_model (from sklearn), and KFold (from sklearn.model_selection)\n",
        "\n",
        "Try it yourself first"
      ]
    },
    {
      "cell_type": "code",
      "metadata": {
        "id": "lSklrnF3swnG"
      },
      "source": [],
      "execution_count": 1,
      "outputs": []
    },
    {
      "cell_type": "markdown",
      "metadata": {
        "id": "Wg1D6fc7sprb"
      },
      "source": [
        "### Cheat"
      ]
    },
    {
      "cell_type": "code",
      "metadata": {
        "id": "uK3RIvwKbwUN"
      },
      "source": [
        "import pandas as pd\n",
        "import numpy as np\n",
        "from sklearn import linear_model\n",
        "from sklearn.model_selection import KFold"
      ],
      "execution_count": 2,
      "outputs": []
    },
    {
      "cell_type": "markdown",
      "metadata": {
        "id": "j1aemlN8bwUO"
      },
      "source": [
        "## Read in data and have a look at it\n",
        "We'll use data from the National Longitudinal Survey of Youth"
      ]
    },
    {
      "cell_type": "code",
      "metadata": {
        "id": "QX8BER-qtIPh",
        "outputId": "a3eb103d-daf1-496a-9ece-a18ad1c0d61c",
        "colab": {
          "base_uri": "https://localhost:8080/",
          "height": 419
        }
      },
      "source": [
        "nlsy=pd.read_csv('https://github.com/brighamfrandsen/econ484/raw/master/data/nlsy97.csv?raw=true')\n",
        "nlsy"
      ],
      "execution_count": 3,
      "outputs": [
        {
          "output_type": "execute_result",
          "data": {
            "text/plain": [
              "      lnw_2016  educ  black  hispanic  other  exp    afqt  mom_educ  dad_educ  \\\n",
              "0     4.076898    16      0         0      0   11  7.0724        12        12   \n",
              "1     3.294138     9      0         0      0   19  4.7481         9        10   \n",
              "2     2.830896     9      0         1      0   22  1.1987        12         9   \n",
              "3     4.306459    16      0         0      0   13  8.9321        16        18   \n",
              "4     5.991465    16      0         1      0   15  2.2618        16        16   \n",
              "...        ...   ...    ...       ...    ...  ...     ...       ...       ...   \n",
              "1261  1.833475    14      1         0      0   17  3.8179        15        12   \n",
              "1262  3.341985     9      0         1      0   20  3.3043        12        11   \n",
              "1263 -0.928125    10      1         0      0   19  1.0319        10        13   \n",
              "1264  3.702931    18      0         0      0   12  8.5093        16        19   \n",
              "1265 -1.348073    11      0         1      0   20  0.1059        10        12   \n",
              "\n",
              "      yhea_100_1997  ...  _XPexp_13  _XPexp_14  _XPexp_16  _XPexp_17  \\\n",
              "0                 3  ...          0          0          0          0   \n",
              "1                 2  ...          0          0          0          0   \n",
              "2                 3  ...          0          0          0          0   \n",
              "3                 2  ...          1          0          0          0   \n",
              "4                 1  ...          0          0          0          0   \n",
              "...             ...  ...        ...        ...        ...        ...   \n",
              "1261              2  ...          0          0          0          1   \n",
              "1262              2  ...          0          0          0          0   \n",
              "1263              2  ...          0          0          0          0   \n",
              "1264              2  ...          0          0          0          0   \n",
              "1265              2  ...          0          0          0          0   \n",
              "\n",
              "      _XPexp_18  _XPexp_19  _XPexp_20  _XPexp_21  _XPexp_22  _XPexp_23  \n",
              "0             0          0          0          0          0          0  \n",
              "1             0          1          0          0          0          0  \n",
              "2             0          0          0          0          1          0  \n",
              "3             0          0          0          0          0          0  \n",
              "4             0          0          0          0          0          0  \n",
              "...         ...        ...        ...        ...        ...        ...  \n",
              "1261          0          0          0          0          0          0  \n",
              "1262          0          0          1          0          0          0  \n",
              "1263          0          1          0          0          0          0  \n",
              "1264          0          0          0          0          0          0  \n",
              "1265          0          0          1          0          0          0  \n",
              "\n",
              "[1266 rows x 994 columns]"
            ],
            "text/html": [
              "\n",
              "  <div id=\"df-9ac3ada7-b229-4098-957c-3ab1cc8776f3\" class=\"colab-df-container\">\n",
              "    <div>\n",
              "<style scoped>\n",
              "    .dataframe tbody tr th:only-of-type {\n",
              "        vertical-align: middle;\n",
              "    }\n",
              "\n",
              "    .dataframe tbody tr th {\n",
              "        vertical-align: top;\n",
              "    }\n",
              "\n",
              "    .dataframe thead th {\n",
              "        text-align: right;\n",
              "    }\n",
              "</style>\n",
              "<table border=\"1\" class=\"dataframe\">\n",
              "  <thead>\n",
              "    <tr style=\"text-align: right;\">\n",
              "      <th></th>\n",
              "      <th>lnw_2016</th>\n",
              "      <th>educ</th>\n",
              "      <th>black</th>\n",
              "      <th>hispanic</th>\n",
              "      <th>other</th>\n",
              "      <th>exp</th>\n",
              "      <th>afqt</th>\n",
              "      <th>mom_educ</th>\n",
              "      <th>dad_educ</th>\n",
              "      <th>yhea_100_1997</th>\n",
              "      <th>...</th>\n",
              "      <th>_XPexp_13</th>\n",
              "      <th>_XPexp_14</th>\n",
              "      <th>_XPexp_16</th>\n",
              "      <th>_XPexp_17</th>\n",
              "      <th>_XPexp_18</th>\n",
              "      <th>_XPexp_19</th>\n",
              "      <th>_XPexp_20</th>\n",
              "      <th>_XPexp_21</th>\n",
              "      <th>_XPexp_22</th>\n",
              "      <th>_XPexp_23</th>\n",
              "    </tr>\n",
              "  </thead>\n",
              "  <tbody>\n",
              "    <tr>\n",
              "      <th>0</th>\n",
              "      <td>4.076898</td>\n",
              "      <td>16</td>\n",
              "      <td>0</td>\n",
              "      <td>0</td>\n",
              "      <td>0</td>\n",
              "      <td>11</td>\n",
              "      <td>7.0724</td>\n",
              "      <td>12</td>\n",
              "      <td>12</td>\n",
              "      <td>3</td>\n",
              "      <td>...</td>\n",
              "      <td>0</td>\n",
              "      <td>0</td>\n",
              "      <td>0</td>\n",
              "      <td>0</td>\n",
              "      <td>0</td>\n",
              "      <td>0</td>\n",
              "      <td>0</td>\n",
              "      <td>0</td>\n",
              "      <td>0</td>\n",
              "      <td>0</td>\n",
              "    </tr>\n",
              "    <tr>\n",
              "      <th>1</th>\n",
              "      <td>3.294138</td>\n",
              "      <td>9</td>\n",
              "      <td>0</td>\n",
              "      <td>0</td>\n",
              "      <td>0</td>\n",
              "      <td>19</td>\n",
              "      <td>4.7481</td>\n",
              "      <td>9</td>\n",
              "      <td>10</td>\n",
              "      <td>2</td>\n",
              "      <td>...</td>\n",
              "      <td>0</td>\n",
              "      <td>0</td>\n",
              "      <td>0</td>\n",
              "      <td>0</td>\n",
              "      <td>0</td>\n",
              "      <td>1</td>\n",
              "      <td>0</td>\n",
              "      <td>0</td>\n",
              "      <td>0</td>\n",
              "      <td>0</td>\n",
              "    </tr>\n",
              "    <tr>\n",
              "      <th>2</th>\n",
              "      <td>2.830896</td>\n",
              "      <td>9</td>\n",
              "      <td>0</td>\n",
              "      <td>1</td>\n",
              "      <td>0</td>\n",
              "      <td>22</td>\n",
              "      <td>1.1987</td>\n",
              "      <td>12</td>\n",
              "      <td>9</td>\n",
              "      <td>3</td>\n",
              "      <td>...</td>\n",
              "      <td>0</td>\n",
              "      <td>0</td>\n",
              "      <td>0</td>\n",
              "      <td>0</td>\n",
              "      <td>0</td>\n",
              "      <td>0</td>\n",
              "      <td>0</td>\n",
              "      <td>0</td>\n",
              "      <td>1</td>\n",
              "      <td>0</td>\n",
              "    </tr>\n",
              "    <tr>\n",
              "      <th>3</th>\n",
              "      <td>4.306459</td>\n",
              "      <td>16</td>\n",
              "      <td>0</td>\n",
              "      <td>0</td>\n",
              "      <td>0</td>\n",
              "      <td>13</td>\n",
              "      <td>8.9321</td>\n",
              "      <td>16</td>\n",
              "      <td>18</td>\n",
              "      <td>2</td>\n",
              "      <td>...</td>\n",
              "      <td>1</td>\n",
              "      <td>0</td>\n",
              "      <td>0</td>\n",
              "      <td>0</td>\n",
              "      <td>0</td>\n",
              "      <td>0</td>\n",
              "      <td>0</td>\n",
              "      <td>0</td>\n",
              "      <td>0</td>\n",
              "      <td>0</td>\n",
              "    </tr>\n",
              "    <tr>\n",
              "      <th>4</th>\n",
              "      <td>5.991465</td>\n",
              "      <td>16</td>\n",
              "      <td>0</td>\n",
              "      <td>1</td>\n",
              "      <td>0</td>\n",
              "      <td>15</td>\n",
              "      <td>2.2618</td>\n",
              "      <td>16</td>\n",
              "      <td>16</td>\n",
              "      <td>1</td>\n",
              "      <td>...</td>\n",
              "      <td>0</td>\n",
              "      <td>0</td>\n",
              "      <td>0</td>\n",
              "      <td>0</td>\n",
              "      <td>0</td>\n",
              "      <td>0</td>\n",
              "      <td>0</td>\n",
              "      <td>0</td>\n",
              "      <td>0</td>\n",
              "      <td>0</td>\n",
              "    </tr>\n",
              "    <tr>\n",
              "      <th>...</th>\n",
              "      <td>...</td>\n",
              "      <td>...</td>\n",
              "      <td>...</td>\n",
              "      <td>...</td>\n",
              "      <td>...</td>\n",
              "      <td>...</td>\n",
              "      <td>...</td>\n",
              "      <td>...</td>\n",
              "      <td>...</td>\n",
              "      <td>...</td>\n",
              "      <td>...</td>\n",
              "      <td>...</td>\n",
              "      <td>...</td>\n",
              "      <td>...</td>\n",
              "      <td>...</td>\n",
              "      <td>...</td>\n",
              "      <td>...</td>\n",
              "      <td>...</td>\n",
              "      <td>...</td>\n",
              "      <td>...</td>\n",
              "      <td>...</td>\n",
              "    </tr>\n",
              "    <tr>\n",
              "      <th>1261</th>\n",
              "      <td>1.833475</td>\n",
              "      <td>14</td>\n",
              "      <td>1</td>\n",
              "      <td>0</td>\n",
              "      <td>0</td>\n",
              "      <td>17</td>\n",
              "      <td>3.8179</td>\n",
              "      <td>15</td>\n",
              "      <td>12</td>\n",
              "      <td>2</td>\n",
              "      <td>...</td>\n",
              "      <td>0</td>\n",
              "      <td>0</td>\n",
              "      <td>0</td>\n",
              "      <td>1</td>\n",
              "      <td>0</td>\n",
              "      <td>0</td>\n",
              "      <td>0</td>\n",
              "      <td>0</td>\n",
              "      <td>0</td>\n",
              "      <td>0</td>\n",
              "    </tr>\n",
              "    <tr>\n",
              "      <th>1262</th>\n",
              "      <td>3.341985</td>\n",
              "      <td>9</td>\n",
              "      <td>0</td>\n",
              "      <td>1</td>\n",
              "      <td>0</td>\n",
              "      <td>20</td>\n",
              "      <td>3.3043</td>\n",
              "      <td>12</td>\n",
              "      <td>11</td>\n",
              "      <td>2</td>\n",
              "      <td>...</td>\n",
              "      <td>0</td>\n",
              "      <td>0</td>\n",
              "      <td>0</td>\n",
              "      <td>0</td>\n",
              "      <td>0</td>\n",
              "      <td>0</td>\n",
              "      <td>1</td>\n",
              "      <td>0</td>\n",
              "      <td>0</td>\n",
              "      <td>0</td>\n",
              "    </tr>\n",
              "    <tr>\n",
              "      <th>1263</th>\n",
              "      <td>-0.928125</td>\n",
              "      <td>10</td>\n",
              "      <td>1</td>\n",
              "      <td>0</td>\n",
              "      <td>0</td>\n",
              "      <td>19</td>\n",
              "      <td>1.0319</td>\n",
              "      <td>10</td>\n",
              "      <td>13</td>\n",
              "      <td>2</td>\n",
              "      <td>...</td>\n",
              "      <td>0</td>\n",
              "      <td>0</td>\n",
              "      <td>0</td>\n",
              "      <td>0</td>\n",
              "      <td>0</td>\n",
              "      <td>1</td>\n",
              "      <td>0</td>\n",
              "      <td>0</td>\n",
              "      <td>0</td>\n",
              "      <td>0</td>\n",
              "    </tr>\n",
              "    <tr>\n",
              "      <th>1264</th>\n",
              "      <td>3.702931</td>\n",
              "      <td>18</td>\n",
              "      <td>0</td>\n",
              "      <td>0</td>\n",
              "      <td>0</td>\n",
              "      <td>12</td>\n",
              "      <td>8.5093</td>\n",
              "      <td>16</td>\n",
              "      <td>19</td>\n",
              "      <td>2</td>\n",
              "      <td>...</td>\n",
              "      <td>0</td>\n",
              "      <td>0</td>\n",
              "      <td>0</td>\n",
              "      <td>0</td>\n",
              "      <td>0</td>\n",
              "      <td>0</td>\n",
              "      <td>0</td>\n",
              "      <td>0</td>\n",
              "      <td>0</td>\n",
              "      <td>0</td>\n",
              "    </tr>\n",
              "    <tr>\n",
              "      <th>1265</th>\n",
              "      <td>-1.348073</td>\n",
              "      <td>11</td>\n",
              "      <td>0</td>\n",
              "      <td>1</td>\n",
              "      <td>0</td>\n",
              "      <td>20</td>\n",
              "      <td>0.1059</td>\n",
              "      <td>10</td>\n",
              "      <td>12</td>\n",
              "      <td>2</td>\n",
              "      <td>...</td>\n",
              "      <td>0</td>\n",
              "      <td>0</td>\n",
              "      <td>0</td>\n",
              "      <td>0</td>\n",
              "      <td>0</td>\n",
              "      <td>0</td>\n",
              "      <td>1</td>\n",
              "      <td>0</td>\n",
              "      <td>0</td>\n",
              "      <td>0</td>\n",
              "    </tr>\n",
              "  </tbody>\n",
              "</table>\n",
              "<p>1266 rows × 994 columns</p>\n",
              "</div>\n",
              "    <div class=\"colab-df-buttons\">\n",
              "\n",
              "  <div class=\"colab-df-container\">\n",
              "    <button class=\"colab-df-convert\" onclick=\"convertToInteractive('df-9ac3ada7-b229-4098-957c-3ab1cc8776f3')\"\n",
              "            title=\"Convert this dataframe to an interactive table.\"\n",
              "            style=\"display:none;\">\n",
              "\n",
              "  <svg xmlns=\"http://www.w3.org/2000/svg\" height=\"24px\" viewBox=\"0 -960 960 960\">\n",
              "    <path d=\"M120-120v-720h720v720H120Zm60-500h600v-160H180v160Zm220 220h160v-160H400v160Zm0 220h160v-160H400v160ZM180-400h160v-160H180v160Zm440 0h160v-160H620v160ZM180-180h160v-160H180v160Zm440 0h160v-160H620v160Z\"/>\n",
              "  </svg>\n",
              "    </button>\n",
              "\n",
              "  <style>\n",
              "    .colab-df-container {\n",
              "      display:flex;\n",
              "      gap: 12px;\n",
              "    }\n",
              "\n",
              "    .colab-df-convert {\n",
              "      background-color: #E8F0FE;\n",
              "      border: none;\n",
              "      border-radius: 50%;\n",
              "      cursor: pointer;\n",
              "      display: none;\n",
              "      fill: #1967D2;\n",
              "      height: 32px;\n",
              "      padding: 0 0 0 0;\n",
              "      width: 32px;\n",
              "    }\n",
              "\n",
              "    .colab-df-convert:hover {\n",
              "      background-color: #E2EBFA;\n",
              "      box-shadow: 0px 1px 2px rgba(60, 64, 67, 0.3), 0px 1px 3px 1px rgba(60, 64, 67, 0.15);\n",
              "      fill: #174EA6;\n",
              "    }\n",
              "\n",
              "    .colab-df-buttons div {\n",
              "      margin-bottom: 4px;\n",
              "    }\n",
              "\n",
              "    [theme=dark] .colab-df-convert {\n",
              "      background-color: #3B4455;\n",
              "      fill: #D2E3FC;\n",
              "    }\n",
              "\n",
              "    [theme=dark] .colab-df-convert:hover {\n",
              "      background-color: #434B5C;\n",
              "      box-shadow: 0px 1px 3px 1px rgba(0, 0, 0, 0.15);\n",
              "      filter: drop-shadow(0px 1px 2px rgba(0, 0, 0, 0.3));\n",
              "      fill: #FFFFFF;\n",
              "    }\n",
              "  </style>\n",
              "\n",
              "    <script>\n",
              "      const buttonEl =\n",
              "        document.querySelector('#df-9ac3ada7-b229-4098-957c-3ab1cc8776f3 button.colab-df-convert');\n",
              "      buttonEl.style.display =\n",
              "        google.colab.kernel.accessAllowed ? 'block' : 'none';\n",
              "\n",
              "      async function convertToInteractive(key) {\n",
              "        const element = document.querySelector('#df-9ac3ada7-b229-4098-957c-3ab1cc8776f3');\n",
              "        const dataTable =\n",
              "          await google.colab.kernel.invokeFunction('convertToInteractive',\n",
              "                                                    [key], {});\n",
              "        if (!dataTable) return;\n",
              "\n",
              "        const docLinkHtml = 'Like what you see? Visit the ' +\n",
              "          '<a target=\"_blank\" href=https://colab.research.google.com/notebooks/data_table.ipynb>data table notebook</a>'\n",
              "          + ' to learn more about interactive tables.';\n",
              "        element.innerHTML = '';\n",
              "        dataTable['output_type'] = 'display_data';\n",
              "        await google.colab.output.renderOutput(dataTable, element);\n",
              "        const docLink = document.createElement('div');\n",
              "        docLink.innerHTML = docLinkHtml;\n",
              "        element.appendChild(docLink);\n",
              "      }\n",
              "    </script>\n",
              "  </div>\n",
              "\n",
              "\n",
              "<div id=\"df-ffc4a3fd-112b-4228-940b-ab425a53572e\">\n",
              "  <button class=\"colab-df-quickchart\" onclick=\"quickchart('df-ffc4a3fd-112b-4228-940b-ab425a53572e')\"\n",
              "            title=\"Suggest charts\"\n",
              "            style=\"display:none;\">\n",
              "\n",
              "<svg xmlns=\"http://www.w3.org/2000/svg\" height=\"24px\"viewBox=\"0 0 24 24\"\n",
              "     width=\"24px\">\n",
              "    <g>\n",
              "        <path d=\"M19 3H5c-1.1 0-2 .9-2 2v14c0 1.1.9 2 2 2h14c1.1 0 2-.9 2-2V5c0-1.1-.9-2-2-2zM9 17H7v-7h2v7zm4 0h-2V7h2v10zm4 0h-2v-4h2v4z\"/>\n",
              "    </g>\n",
              "</svg>\n",
              "  </button>\n",
              "\n",
              "<style>\n",
              "  .colab-df-quickchart {\n",
              "      --bg-color: #E8F0FE;\n",
              "      --fill-color: #1967D2;\n",
              "      --hover-bg-color: #E2EBFA;\n",
              "      --hover-fill-color: #174EA6;\n",
              "      --disabled-fill-color: #AAA;\n",
              "      --disabled-bg-color: #DDD;\n",
              "  }\n",
              "\n",
              "  [theme=dark] .colab-df-quickchart {\n",
              "      --bg-color: #3B4455;\n",
              "      --fill-color: #D2E3FC;\n",
              "      --hover-bg-color: #434B5C;\n",
              "      --hover-fill-color: #FFFFFF;\n",
              "      --disabled-bg-color: #3B4455;\n",
              "      --disabled-fill-color: #666;\n",
              "  }\n",
              "\n",
              "  .colab-df-quickchart {\n",
              "    background-color: var(--bg-color);\n",
              "    border: none;\n",
              "    border-radius: 50%;\n",
              "    cursor: pointer;\n",
              "    display: none;\n",
              "    fill: var(--fill-color);\n",
              "    height: 32px;\n",
              "    padding: 0;\n",
              "    width: 32px;\n",
              "  }\n",
              "\n",
              "  .colab-df-quickchart:hover {\n",
              "    background-color: var(--hover-bg-color);\n",
              "    box-shadow: 0 1px 2px rgba(60, 64, 67, 0.3), 0 1px 3px 1px rgba(60, 64, 67, 0.15);\n",
              "    fill: var(--button-hover-fill-color);\n",
              "  }\n",
              "\n",
              "  .colab-df-quickchart-complete:disabled,\n",
              "  .colab-df-quickchart-complete:disabled:hover {\n",
              "    background-color: var(--disabled-bg-color);\n",
              "    fill: var(--disabled-fill-color);\n",
              "    box-shadow: none;\n",
              "  }\n",
              "\n",
              "  .colab-df-spinner {\n",
              "    border: 2px solid var(--fill-color);\n",
              "    border-color: transparent;\n",
              "    border-bottom-color: var(--fill-color);\n",
              "    animation:\n",
              "      spin 1s steps(1) infinite;\n",
              "  }\n",
              "\n",
              "  @keyframes spin {\n",
              "    0% {\n",
              "      border-color: transparent;\n",
              "      border-bottom-color: var(--fill-color);\n",
              "      border-left-color: var(--fill-color);\n",
              "    }\n",
              "    20% {\n",
              "      border-color: transparent;\n",
              "      border-left-color: var(--fill-color);\n",
              "      border-top-color: var(--fill-color);\n",
              "    }\n",
              "    30% {\n",
              "      border-color: transparent;\n",
              "      border-left-color: var(--fill-color);\n",
              "      border-top-color: var(--fill-color);\n",
              "      border-right-color: var(--fill-color);\n",
              "    }\n",
              "    40% {\n",
              "      border-color: transparent;\n",
              "      border-right-color: var(--fill-color);\n",
              "      border-top-color: var(--fill-color);\n",
              "    }\n",
              "    60% {\n",
              "      border-color: transparent;\n",
              "      border-right-color: var(--fill-color);\n",
              "    }\n",
              "    80% {\n",
              "      border-color: transparent;\n",
              "      border-right-color: var(--fill-color);\n",
              "      border-bottom-color: var(--fill-color);\n",
              "    }\n",
              "    90% {\n",
              "      border-color: transparent;\n",
              "      border-bottom-color: var(--fill-color);\n",
              "    }\n",
              "  }\n",
              "</style>\n",
              "\n",
              "  <script>\n",
              "    async function quickchart(key) {\n",
              "      const quickchartButtonEl =\n",
              "        document.querySelector('#' + key + ' button');\n",
              "      quickchartButtonEl.disabled = true;  // To prevent multiple clicks.\n",
              "      quickchartButtonEl.classList.add('colab-df-spinner');\n",
              "      try {\n",
              "        const charts = await google.colab.kernel.invokeFunction(\n",
              "            'suggestCharts', [key], {});\n",
              "      } catch (error) {\n",
              "        console.error('Error during call to suggestCharts:', error);\n",
              "      }\n",
              "      quickchartButtonEl.classList.remove('colab-df-spinner');\n",
              "      quickchartButtonEl.classList.add('colab-df-quickchart-complete');\n",
              "    }\n",
              "    (() => {\n",
              "      let quickchartButtonEl =\n",
              "        document.querySelector('#df-ffc4a3fd-112b-4228-940b-ab425a53572e button');\n",
              "      quickchartButtonEl.style.display =\n",
              "        google.colab.kernel.accessAllowed ? 'block' : 'none';\n",
              "    })();\n",
              "  </script>\n",
              "</div>\n",
              "\n",
              "  <div id=\"id_4ab601ad-1955-4b0f-a9f3-6fdb6ca10372\">\n",
              "    <style>\n",
              "      .colab-df-generate {\n",
              "        background-color: #E8F0FE;\n",
              "        border: none;\n",
              "        border-radius: 50%;\n",
              "        cursor: pointer;\n",
              "        display: none;\n",
              "        fill: #1967D2;\n",
              "        height: 32px;\n",
              "        padding: 0 0 0 0;\n",
              "        width: 32px;\n",
              "      }\n",
              "\n",
              "      .colab-df-generate:hover {\n",
              "        background-color: #E2EBFA;\n",
              "        box-shadow: 0px 1px 2px rgba(60, 64, 67, 0.3), 0px 1px 3px 1px rgba(60, 64, 67, 0.15);\n",
              "        fill: #174EA6;\n",
              "      }\n",
              "\n",
              "      [theme=dark] .colab-df-generate {\n",
              "        background-color: #3B4455;\n",
              "        fill: #D2E3FC;\n",
              "      }\n",
              "\n",
              "      [theme=dark] .colab-df-generate:hover {\n",
              "        background-color: #434B5C;\n",
              "        box-shadow: 0px 1px 3px 1px rgba(0, 0, 0, 0.15);\n",
              "        filter: drop-shadow(0px 1px 2px rgba(0, 0, 0, 0.3));\n",
              "        fill: #FFFFFF;\n",
              "      }\n",
              "    </style>\n",
              "    <button class=\"colab-df-generate\" onclick=\"generateWithVariable('nlsy')\"\n",
              "            title=\"Generate code using this dataframe.\"\n",
              "            style=\"display:none;\">\n",
              "\n",
              "  <svg xmlns=\"http://www.w3.org/2000/svg\" height=\"24px\"viewBox=\"0 0 24 24\"\n",
              "       width=\"24px\">\n",
              "    <path d=\"M7,19H8.4L18.45,9,17,7.55,7,17.6ZM5,21V16.75L18.45,3.32a2,2,0,0,1,2.83,0l1.4,1.43a1.91,1.91,0,0,1,.58,1.4,1.91,1.91,0,0,1-.58,1.4L9.25,21ZM18.45,9,17,7.55Zm-12,3A5.31,5.31,0,0,0,4.9,8.1,5.31,5.31,0,0,0,1,6.5,5.31,5.31,0,0,0,4.9,4.9,5.31,5.31,0,0,0,6.5,1,5.31,5.31,0,0,0,8.1,4.9,5.31,5.31,0,0,0,12,6.5,5.46,5.46,0,0,0,6.5,12Z\"/>\n",
              "  </svg>\n",
              "    </button>\n",
              "    <script>\n",
              "      (() => {\n",
              "      const buttonEl =\n",
              "        document.querySelector('#id_4ab601ad-1955-4b0f-a9f3-6fdb6ca10372 button.colab-df-generate');\n",
              "      buttonEl.style.display =\n",
              "        google.colab.kernel.accessAllowed ? 'block' : 'none';\n",
              "\n",
              "      buttonEl.onclick = () => {\n",
              "        google.colab.notebook.generateWithVariable('nlsy');\n",
              "      }\n",
              "      })();\n",
              "    </script>\n",
              "  </div>\n",
              "\n",
              "    </div>\n",
              "  </div>\n"
            ],
            "application/vnd.google.colaboratory.intrinsic+json": {
              "type": "dataframe",
              "variable_name": "nlsy"
            }
          },
          "metadata": {},
          "execution_count": 3
        }
      ]
    },
    {
      "cell_type": "markdown",
      "metadata": {
        "id": "zTkTBC_GbwUO"
      },
      "source": [
        "## Define outcome, regressor of interest\n",
        "y = lnw_2016\n",
        "\n",
        "d = black\n",
        "\n",
        "Try it yourself:"
      ]
    },
    {
      "cell_type": "code",
      "metadata": {
        "id": "iEDF-ieJt8r6"
      },
      "source": [],
      "execution_count": 3,
      "outputs": []
    },
    {
      "cell_type": "markdown",
      "metadata": {
        "id": "GorEJmAdt9y6"
      },
      "source": [
        "### Cheat"
      ]
    },
    {
      "cell_type": "code",
      "metadata": {
        "id": "K9yDNfWbbwUO"
      },
      "source": [
        "y=nlsy['lnw_2016']\n",
        "d=nlsy[['black']]\n"
      ],
      "execution_count": 4,
      "outputs": []
    },
    {
      "cell_type": "markdown",
      "metadata": {
        "id": "QiITTR5XfOPB"
      },
      "source": [
        "## Simple Regression with no Controls\n",
        "Regress y on d and print out coefficient\n",
        "Try it yourself"
      ]
    },
    {
      "cell_type": "code",
      "metadata": {
        "id": "6LOBDO9nulyf"
      },
      "source": [
        "# instantiate and fit a linear regression object\n",
        "\n",
        "# print out regression coefficient\n"
      ],
      "execution_count": 5,
      "outputs": []
    },
    {
      "cell_type": "markdown",
      "metadata": {
        "id": "-flkjNb1umRv"
      },
      "source": [
        "### Cheat"
      ]
    },
    {
      "cell_type": "code",
      "metadata": {
        "id": "lawwWrR0bwUO",
        "outputId": "7a17a9ba-522a-4100-a866-7c1b6b61a200",
        "colab": {
          "base_uri": "https://localhost:8080/"
        }
      },
      "source": [
        "lm=linear_model.LinearRegression().fit(d,y)\n",
        "print(\"Simple regression race gap: {:.3f}\".format(lm.coef_[0]))"
      ],
      "execution_count": 6,
      "outputs": [
        {
          "output_type": "stream",
          "name": "stdout",
          "text": [
            "Simple regression race gap: -0.382\n"
          ]
        }
      ]
    },
    {
      "cell_type": "markdown",
      "source": [
        "### ...\n",
        "Is this the effect we're looking for?\n",
        "\n",
        "Let's try a regression where we control for a few things: education (linearly), experience (linearly), and cognitive ability (afqt, linearly).\n",
        "\n",
        "Try it yourself!"
      ],
      "metadata": {
        "id": "10ZQ5f0Q5c-X"
      }
    },
    {
      "cell_type": "code",
      "source": [
        "# define X, matrix of the d and the controls we want\n",
        "\n",
        "# run regression\n",
        "\n",
        "# print out coefficient\n"
      ],
      "metadata": {
        "id": "wNHm2Mwg52RK"
      },
      "execution_count": 7,
      "outputs": []
    },
    {
      "cell_type": "markdown",
      "source": [
        "### Cheat"
      ],
      "metadata": {
        "id": "4Jf3kS226D9G"
      }
    },
    {
      "cell_type": "code",
      "source": [
        "# define RHS, matrix of the d and the controls we want\n",
        "RHS=nlsy[['black','educ','exp','afqt']]\n",
        "# run regression\n",
        "lm.fit(RHS,y)\n",
        "# print out coefficient\n",
        "print(\"Multiple regression-adjusted race gap: {:.3f}\".format(lm.coef_[0]))\n",
        "\n"
      ],
      "metadata": {
        "id": "kLO-WdCR6FtP",
        "outputId": "adc797f5-2d73-460c-f903-d8fee49ffe20",
        "colab": {
          "base_uri": "https://localhost:8080/"
        }
      },
      "execution_count": 8,
      "outputs": [
        {
          "output_type": "stream",
          "name": "stdout",
          "text": [
            "Multiple regression-adjusted race gap: -0.262\n"
          ]
        }
      ]
    },
    {
      "cell_type": "markdown",
      "source": [
        "\n",
        "###...\n",
        "How does it compare to the simple regression?\n",
        "\n",
        "But who is to say the controls we included are sufficient? We have a whole host (hundred!) of other potential controls, not to mention that perhaps the controls we did put in enter linearly. This is a job for ML!\n",
        "\n",
        "To prep, let's define a matrix X with all of our potential controls:"
      ],
      "metadata": {
        "id": "XwwdXTfI6sRS"
      }
    },
    {
      "cell_type": "code",
      "source": [
        "X=nlsy.drop(columns=['lnw_2016','black'])"
      ],
      "metadata": {
        "id": "8pcdH08j7M-f"
      },
      "execution_count": 9,
      "outputs": []
    },
    {
      "cell_type": "markdown",
      "metadata": {
        "id": "FyLr9G2BbwUP"
      },
      "source": [
        "## Post Double Selection Lasso"
      ]
    },
    {
      "cell_type": "markdown",
      "metadata": {
        "id": "GV680gb4fH9J"
      },
      "source": [
        "### Step 1: Lasso the outcome on X\n",
        "Try it yourself. Don't forget to standard Xs, or choose the normalize=True option"
      ]
    },
    {
      "cell_type": "code",
      "metadata": {
        "id": "Vrw7Jp9NvRob"
      },
      "source": [],
      "execution_count": 9,
      "outputs": []
    },
    {
      "cell_type": "markdown",
      "metadata": {
        "id": "7XBPxADbvSQx"
      },
      "source": [
        "#### Cheat"
      ]
    },
    {
      "cell_type": "code",
      "metadata": {
        "id": "utBluzYMbwUP",
        "outputId": "3120d01c-6f00-4558-e13b-88c9d15fd6f9",
        "colab": {
          "base_uri": "https://localhost:8080/",
          "height": 139
        }
      },
      "source": [
        "lassoy = linear_model.LassoCV(max_iter=1000,normalize=True).fit(X, y)"
      ],
      "execution_count": 10,
      "outputs": [
        {
          "output_type": "error",
          "ename": "TypeError",
          "evalue": "LassoCV.__init__() got an unexpected keyword argument 'normalize'",
          "traceback": [
            "\u001b[0;31m---------------------------------------------------------------------------\u001b[0m",
            "\u001b[0;31mTypeError\u001b[0m                                 Traceback (most recent call last)",
            "\u001b[0;32m<ipython-input-10-78c91c9d2ba0>\u001b[0m in \u001b[0;36m<cell line: 0>\u001b[0;34m()\u001b[0m\n\u001b[0;32m----> 1\u001b[0;31m \u001b[0mlassoy\u001b[0m \u001b[0;34m=\u001b[0m \u001b[0mlinear_model\u001b[0m\u001b[0;34m.\u001b[0m\u001b[0mLassoCV\u001b[0m\u001b[0;34m(\u001b[0m\u001b[0mmax_iter\u001b[0m\u001b[0;34m=\u001b[0m\u001b[0;36m1000\u001b[0m\u001b[0;34m,\u001b[0m\u001b[0mnormalize\u001b[0m\u001b[0;34m=\u001b[0m\u001b[0;32mTrue\u001b[0m\u001b[0;34m)\u001b[0m\u001b[0;34m.\u001b[0m\u001b[0mfit\u001b[0m\u001b[0;34m(\u001b[0m\u001b[0mX\u001b[0m\u001b[0;34m,\u001b[0m \u001b[0my\u001b[0m\u001b[0;34m)\u001b[0m\u001b[0;34m\u001b[0m\u001b[0;34m\u001b[0m\u001b[0m\n\u001b[0m",
            "\u001b[0;31mTypeError\u001b[0m: LassoCV.__init__() got an unexpected keyword argument 'normalize'"
          ]
        }
      ]
    },
    {
      "cell_type": "markdown",
      "metadata": {
        "id": "ayb8h1TabwUP"
      },
      "source": [
        "### Step 2: Lasso the treatment on X\n",
        "Try it yourself"
      ]
    },
    {
      "cell_type": "code",
      "metadata": {
        "id": "H1jSm4SivZ9x"
      },
      "source": [],
      "execution_count": null,
      "outputs": []
    },
    {
      "cell_type": "markdown",
      "metadata": {
        "id": "y74HbxclvaZM"
      },
      "source": [
        "#### Cheat"
      ]
    },
    {
      "cell_type": "code",
      "metadata": {
        "id": "a8TQIG_MbwUP"
      },
      "source": [
        "lassod = linear_model.LassoCV(max_iter=1000,normalize=True).fit(X, d)"
      ],
      "execution_count": null,
      "outputs": []
    },
    {
      "cell_type": "markdown",
      "metadata": {
        "id": "YRT_TCtZbwUP"
      },
      "source": [
        "### Step 3: Form the union of controls\n",
        "Try it yourself"
      ]
    },
    {
      "cell_type": "code",
      "metadata": {
        "id": "ILtNuVVxvpon"
      },
      "source": [],
      "execution_count": null,
      "outputs": []
    },
    {
      "cell_type": "markdown",
      "metadata": {
        "id": "91aP0B-AvqB2"
      },
      "source": [
        "#### Cheat"
      ]
    },
    {
      "cell_type": "code",
      "metadata": {
        "id": "Soyb1kuFbwUP"
      },
      "source": [
        "Xunion=X.iloc[:,(lassod.coef_!=0) + (lassoy.coef_!=0)]\n",
        "Xunion.head()"
      ],
      "execution_count": null,
      "outputs": []
    },
    {
      "cell_type": "markdown",
      "metadata": {
        "id": "1Anw8-QibwUP"
      },
      "source": [
        "### Concatenate treatment with union of controls and regress y on that and print out estimate\n",
        "Try yourself"
      ]
    },
    {
      "cell_type": "code",
      "metadata": {
        "id": "nr7yq0ysv83g"
      },
      "source": [],
      "execution_count": null,
      "outputs": []
    },
    {
      "cell_type": "markdown",
      "metadata": {
        "id": "Tm4vZXN-v9Ou"
      },
      "source": [
        "#### Cheat"
      ]
    },
    {
      "cell_type": "code",
      "metadata": {
        "id": "gm3RT7ObbwUP"
      },
      "source": [
        "rhs=pd.concat([d,Xunion],axis=1)\n",
        "fullreg=linear_model.LinearRegression().fit(rhs,y)\n",
        "print(\"PDS regression earnings race gap: {:.3f}\".format(fullreg.coef_[0]))"
      ],
      "execution_count": null,
      "outputs": []
    },
    {
      "cell_type": "markdown",
      "metadata": {
        "id": "-ub3mDLFbwUP"
      },
      "source": [
        "## Double-Debiased Machine Learning\n",
        "For simplicity, we will first do it without sample splitting"
      ]
    },
    {
      "cell_type": "markdown",
      "metadata": {
        "id": "LfsIjhZLjRSc"
      },
      "source": [
        "### Step 1: Ridge outcome on Xs, get residuals\n",
        "Try yourself"
      ]
    },
    {
      "cell_type": "code",
      "metadata": {
        "id": "yfbKeMvywfZr"
      },
      "source": [],
      "execution_count": null,
      "outputs": []
    },
    {
      "cell_type": "markdown",
      "metadata": {
        "id": "iLEeasnUwft7"
      },
      "source": [
        "#### Cheat"
      ]
    },
    {
      "cell_type": "code",
      "metadata": {
        "id": "Da9pdvv1leOC"
      },
      "source": [
        "ridgey = linear_model.RidgeCV(normalize=True).fit(X, y)\n",
        "yresid=y-ridgey.predict(X)"
      ],
      "execution_count": null,
      "outputs": []
    },
    {
      "cell_type": "markdown",
      "metadata": {
        "id": "njrC3DP7l83X"
      },
      "source": [
        "### Step 2: Ridge treatment on Xs, get residuals\n",
        "Try yourself"
      ]
    },
    {
      "cell_type": "code",
      "metadata": {
        "id": "-n19zD9iwmOq"
      },
      "source": [],
      "execution_count": null,
      "outputs": []
    },
    {
      "cell_type": "markdown",
      "metadata": {
        "id": "P2-anrDxwp9l"
      },
      "source": [
        "#### Cheat"
      ]
    },
    {
      "cell_type": "code",
      "metadata": {
        "id": "Wkcwyi8ImBNa"
      },
      "source": [
        "ridged = linear_model.RidgeCV(normalize=True).fit(X, d)\n",
        "dresid=d-ridged.predict(X)"
      ],
      "execution_count": null,
      "outputs": []
    },
    {
      "cell_type": "markdown",
      "metadata": {
        "id": "938Uw1dXmKop"
      },
      "source": [
        "### Step 3: Regress y resids on d resids and print out estimate\n",
        "Try yourself"
      ]
    },
    {
      "cell_type": "code",
      "metadata": {
        "id": "H1g-x_9DwwUl"
      },
      "source": [],
      "execution_count": null,
      "outputs": []
    },
    {
      "cell_type": "markdown",
      "metadata": {
        "id": "aqbex0fqwxIy"
      },
      "source": [
        "####Cheat"
      ]
    },
    {
      "cell_type": "code",
      "metadata": {
        "id": "cp1OX-LwmPUL"
      },
      "source": [
        "dmlreg=linear_model.LinearRegression().fit(dresid,yresid)\n",
        "print(\"DML regression earnings race gap: {:.3f}\".format(dmlreg.coef_[0]))"
      ],
      "execution_count": null,
      "outputs": []
    },
    {
      "cell_type": "markdown",
      "metadata": {
        "id": "ea6hN-cTmY_U"
      },
      "source": [
        "### The real thing: with sample splitting"
      ]
    },
    {
      "cell_type": "code",
      "metadata": {
        "id": "CUaFlxFQmp1d"
      },
      "source": [
        "# create our sample splitting \"object\"\n",
        "kf = KFold(n_splits=5,shuffle=True,random_state=42)\n",
        "\n",
        "# apply the splits to our Xs\n",
        "kf.get_n_splits(X)\n",
        "\n",
        "# initialize columns for residuals\n",
        "yresid = y*0\n",
        "dresid = d*0\n",
        "\n",
        "# Now loop through each fold\n",
        "for train_index, test_index in kf.split(X):\n",
        "  X_train, X_test = X.iloc[train_index,:], X.iloc[test_index,:]\n",
        "  y_train, y_test = y.iloc[train_index], y.iloc[test_index]\n",
        "  d_train, d_test = d.iloc[train_index,:], d.iloc[test_index,:]\n",
        "\n",
        "  # Do DML thing\n",
        "  # Ridge y on training folds:\n",
        "  ridgey.fit(X_train, y_train)\n",
        "\n",
        "  # but get residuals in test set\n",
        "  yresid.iloc[test_index]=y_test-ridgey.predict(X_test)\n",
        "\n",
        "  #Ridge d on training folds\n",
        "  ridged.fit(X_train, d_train)\n",
        "\n",
        "  #but get residuals in test set\n",
        "  dresid.iloc[test_index,:]=d_test-ridged.predict(X_test)\n",
        "\n",
        "\n",
        "# Regress resids\n",
        "dmlreg=linear_model.LinearRegression().fit(dresid,yresid)\n",
        "\n",
        "print(\"DML regression earnings race gap: {:.3f}\".format(dmlreg.coef_[0]))"
      ],
      "execution_count": null,
      "outputs": []
    },
    {
      "cell_type": "markdown",
      "source": [
        "You want standard errors, do you?"
      ],
      "metadata": {
        "id": "L91ckWu5CD3L"
      }
    },
    {
      "cell_type": "code",
      "source": [
        "import statsmodels.api as sm\n",
        "rhs = sm.add_constant(dresid)\n",
        "model = sm.OLS(yresid, rhs)\n",
        "results = model.fit(cov_type='HC3')\n",
        "print(results.summary())"
      ],
      "metadata": {
        "id": "DK0VmmtqBBk7"
      },
      "execution_count": null,
      "outputs": []
    },
    {
      "cell_type": "markdown",
      "metadata": {
        "id": "5j0INc4lqc2d"
      },
      "source": [
        "## Now do DML using Random Forest!"
      ]
    },
    {
      "cell_type": "code",
      "metadata": {
        "id": "izctK-2dxxpv"
      },
      "source": [],
      "execution_count": null,
      "outputs": []
    }
  ],
  "metadata": {
    "kernelspec": {
      "display_name": "Python 3",
      "language": "python",
      "name": "python3"
    },
    "language_info": {
      "codemirror_mode": {
        "name": "ipython",
        "version": 3
      },
      "file_extension": ".py",
      "mimetype": "text/x-python",
      "name": "python",
      "nbconvert_exporter": "python",
      "pygments_lexer": "ipython3",
      "version": "3.7.4"
    },
    "colab": {
      "provenance": [],
      "collapsed_sections": [
        "Wg1D6fc7sprb",
        "GorEJmAdt9y6",
        "-flkjNb1umRv",
        "4Jf3kS226D9G",
        "7XBPxADbvSQx",
        "y74HbxclvaZM",
        "91aP0B-AvqB2",
        "Tm4vZXN-v9Ou",
        "iLEeasnUwft7",
        "P2-anrDxwp9l",
        "aqbex0fqwxIy"
      ],
      "include_colab_link": true
    }
  },
  "nbformat": 4,
  "nbformat_minor": 0
}