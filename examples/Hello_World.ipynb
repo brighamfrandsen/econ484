{
  "nbformat": 4,
  "nbformat_minor": 0,
  "metadata": {
    "colab": {
      "provenance": [],
      "authorship_tag": "ABX9TyMjZ3rTf1svxU8x48leg8gn",
      "include_colab_link": true
    },
    "kernelspec": {
      "name": "python3",
      "display_name": "Python 3"
    },
    "language_info": {
      "name": "python"
    }
  },
  "cells": [
    {
      "cell_type": "markdown",
      "metadata": {
        "id": "view-in-github",
        "colab_type": "text"
      },
      "source": [
        "<a href=\"https://colab.research.google.com/github/brighamfrandsen/econ484/blob/master/examples/Hello_World.ipynb\" target=\"_parent\"><img src=\"https://colab.research.google.com/assets/colab-badge.svg\" alt=\"Open In Colab\"/></a>"
      ]
    },
    {
      "cell_type": "code",
      "execution_count": null,
      "metadata": {
        "id": "5Zh7Un_c1Eaa"
      },
      "outputs": [],
      "source": [
        "print(\"Hello, World!\")\n",
        "print(\"Hi there!\")"
      ]
    },
    {
      "cell_type": "markdown",
      "source": [
        "Write whatever you want"
      ],
      "metadata": {
        "id": "-4I-wiXt1QK0"
      }
    },
    {
      "cell_type": "code",
      "source": [
        "# This is a comment Write whatever you want\n",
        "# I\n",
        "# Want\n",
        "# this\n",
        "# to\n",
        "# be commented"
      ],
      "metadata": {
        "id": "3tqBmRvi2KOb"
      },
      "execution_count": null,
      "outputs": []
    },
    {
      "cell_type": "code",
      "source": [
        "# to load data from github:\n",
        "!git clone https://github.com/brighamfrandsen/econ484.git\n"
      ],
      "metadata": {
        "id": "jBc5vQL-2Pr6"
      },
      "execution_count": null,
      "outputs": []
    },
    {
      "cell_type": "code",
      "source": [
        "# Read in housing data\n",
        "# Import pandas package\n",
        "import pandas as pd\n",
        "housingdata=pd.read_csv('econ484/data/housingprices.csv')"
      ],
      "metadata": {
        "id": "rpCUorlc6oAr"
      },
      "execution_count": null,
      "outputs": []
    },
    {
      "cell_type": "code",
      "source": [
        "# define outcome variable\n",
        "y = housingdata['lprice']"
      ],
      "metadata": {
        "id": "1KzKy4Hj8al2"
      },
      "execution_count": null,
      "outputs": []
    },
    {
      "cell_type": "code",
      "source": [
        "# define X variables (features!)\n",
        "x=housingdata[['crime','nox','rooms','dist','radial','proptax']]"
      ],
      "metadata": {
        "id": "YGzrfLL7qh_2"
      },
      "execution_count": null,
      "outputs": []
    },
    {
      "cell_type": "code",
      "source": [
        "# import linear model package from sci-kit learn\n",
        "from sklearn import linear_model"
      ],
      "metadata": {
        "id": "PkwQ1LuPq2BN"
      },
      "execution_count": null,
      "outputs": []
    },
    {
      "cell_type": "code",
      "source": [
        "# create regression object and fit regression\n",
        "lm=linear_model.LinearRegression()\n",
        "lm.fit(x,y)"
      ],
      "metadata": {
        "id": "6nbAGL7lrjmn"
      },
      "execution_count": null,
      "outputs": []
    },
    {
      "cell_type": "code",
      "source": [
        "# inspect regression coefficients\n",
        "print(lm.coef_)"
      ],
      "metadata": {
        "id": "uCMp2cg3sHcZ"
      },
      "execution_count": null,
      "outputs": []
    },
    {
      "cell_type": "code",
      "source": [],
      "metadata": {
        "id": "N-DC43ySsT65"
      },
      "execution_count": null,
      "outputs": []
    }
  ]
}