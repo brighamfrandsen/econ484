{
  "nbformat": 4,
  "nbformat_minor": 0,
  "metadata": {
    "colab": {
      "provenance": [],
      "authorship_tag": "ABX9TyMIZQAWkVV24hYEY4pX2gQn",
      "include_colab_link": true
    },
    "kernelspec": {
      "name": "python3",
      "display_name": "Python 3"
    },
    "language_info": {
      "name": "python"
    }
  },
  "cells": [
    {
      "cell_type": "markdown",
      "metadata": {
        "id": "view-in-github",
        "colab_type": "text"
      },
      "source": [
        "<a href=\"https://colab.research.google.com/github/brighamfrandsen/econ484/blob/master/examples/Hello_World.ipynb\" target=\"_parent\"><img src=\"https://colab.research.google.com/assets/colab-badge.svg\" alt=\"Open In Colab\"/></a>"
      ]
    },
    {
      "cell_type": "code",
      "execution_count": null,
      "metadata": {
        "colab": {
          "base_uri": "https://localhost:8080/"
        },
        "id": "5Zh7Un_c1Eaa",
        "outputId": "b29a1333-88f1-41f3-f588-028f80e84a00"
      },
      "outputs": [
        {
          "output_type": "stream",
          "name": "stdout",
          "text": [
            "Hello, World!\n",
            "Hi there!\n"
          ]
        }
      ],
      "source": [
        "print(\"Hello, World!\")\n",
        "print(\"Hi there!\")"
      ]
    },
    {
      "cell_type": "markdown",
      "source": [
        "Write whatever you want"
      ],
      "metadata": {
        "id": "-4I-wiXt1QK0"
      }
    },
    {
      "cell_type": "code",
      "source": [
        "# This is a comment Write whatever you want\n",
        "# I\n",
        "# Want\n",
        "# this\n",
        "# to\n",
        "# be commented"
      ],
      "metadata": {
        "id": "3tqBmRvi2KOb"
      },
      "execution_count": null,
      "outputs": []
    },
    {
      "cell_type": "code",
      "source": [
        "# to load data from Google Drive:\n",
        "from google.colab import drive\n",
        "drive.mount('/content/gdrive')"
      ],
      "metadata": {
        "colab": {
          "base_uri": "https://localhost:8080/"
        },
        "id": "jBc5vQL-2Pr6",
        "outputId": "854a758c-b453-40ab-f516-1e604ae99e23"
      },
      "execution_count": null,
      "outputs": [
        {
          "output_type": "stream",
          "name": "stdout",
          "text": [
            "Mounted at /content/gdrive\n"
          ]
        }
      ]
    },
    {
      "cell_type": "code",
      "source": [
        "# Read in housing data\n",
        "# Import pandas package\n",
        "import pandas as pd\n",
        "housingdata=pd.read_csv('/content/gdrive/My Drive/Econ 484/datasets/housingprices.csv')"
      ],
      "metadata": {
        "id": "rpCUorlc6oAr"
      },
      "execution_count": null,
      "outputs": []
    },
    {
      "cell_type": "code",
      "source": [
        "# define outcome variable\n",
        "y = housingdata['lprice']"
      ],
      "metadata": {
        "id": "1KzKy4Hj8al2"
      },
      "execution_count": null,
      "outputs": []
    },
    {
      "cell_type": "code",
      "source": [
        "# define X variables (features!)\n",
        "x=housingdata[['crime','nox','rooms','dist','radial','proptax']]"
      ],
      "metadata": {
        "id": "YGzrfLL7qh_2"
      },
      "execution_count": null,
      "outputs": []
    },
    {
      "cell_type": "code",
      "source": [
        "# import linear model package from sci-kit learn\n",
        "from sklearn import linear_model"
      ],
      "metadata": {
        "id": "PkwQ1LuPq2BN"
      },
      "execution_count": null,
      "outputs": []
    },
    {
      "cell_type": "code",
      "source": [
        "# create regression object and fit regression\n",
        "lm=linear_model.LinearRegression()\n",
        "lm.fit(x,y)"
      ],
      "metadata": {
        "colab": {
          "base_uri": "https://localhost:8080/"
        },
        "id": "6nbAGL7lrjmn",
        "outputId": "ff708614-29aa-4520-f710-0292c9fbb884"
      },
      "execution_count": null,
      "outputs": [
        {
          "output_type": "execute_result",
          "data": {
            "text/plain": [
              "LinearRegression()"
            ]
          },
          "metadata": {},
          "execution_count": 8
        }
      ]
    },
    {
      "cell_type": "code",
      "source": [
        "# inspect regression coefficients\n",
        "print(lm.coef_)"
      ],
      "metadata": {
        "colab": {
          "base_uri": "https://localhost:8080/"
        },
        "id": "uCMp2cg3sHcZ",
        "outputId": "7dab4e3a-d0e3-4561-efb1-1f62504caef6"
      },
      "execution_count": null,
      "outputs": [
        {
          "output_type": "stream",
          "name": "stdout",
          "text": [
            "[-0.01421792 -0.08451239  0.27126294 -0.026633    0.00828814 -0.00786517]\n"
          ]
        }
      ]
    },
    {
      "cell_type": "code",
      "source": [],
      "metadata": {
        "id": "N-DC43ySsT65"
      },
      "execution_count": null,
      "outputs": []
    }
  ]
}