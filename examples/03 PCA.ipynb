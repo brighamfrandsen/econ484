{
  "cells": [
    {
      "cell_type": "markdown",
      "metadata": {
        "id": "view-in-github",
        "colab_type": "text"
      },
      "source": [
        "<a href=\"https://colab.research.google.com/github/brighamfrandsen/econ484/blob/master/examples/03%20PCA.ipynb\" target=\"_parent\"><img src=\"https://colab.research.google.com/assets/colab-badge.svg\" alt=\"Open In Colab\"/></a>"
      ]
    },
    {
      "cell_type": "code",
      "execution_count": null,
      "metadata": {
        "hide_input": false,
        "id": "3obzyTUZ_SqS"
      },
      "outputs": [],
      "source": [
        "\n",
        "# Import necessary libraries\n",
        "\n",
        "!git clone https://github.com/brighamfrandsen/econ484.git\n",
        "%cd econ484/utilities\n",
        "from preamble import *\n",
        "%cd ../data\n",
        "\n",
        "plt.rcParams['image.cmap'] = \"gray\""
      ]
    },
    {
      "cell_type": "markdown",
      "metadata": {
        "id": "jIFAWq0p_SqU"
      },
      "source": [
        "## Principal Components Analysis"
      ]
    },
    {
      "cell_type": "code",
      "source": [
        "# Illustration of matrices rotating\n",
        "import numpy as np\n",
        "import matplotlib.pyplot as plt\n",
        "\n",
        "# Define a vector\n",
        "v = np.array([1, 2])\n",
        "\n",
        "# Define a symmetric 2x2 matrix\n",
        "A = np.array([[-1, 1],\n",
        "              [1, 3]])\n",
        "\n",
        "# Multiply\n",
        "Av = A @ v\n",
        "\n",
        "# Plot\n",
        "plt.figure(figsize=(5,5))\n",
        "plt.axhline(0, color='k', linewidth=0.5)\n",
        "plt.axvline(0, color='k', linewidth=0.5)\n",
        "plt.gca().set_aspect('equal', adjustable='box')\n",
        "plt.xlim(-5, 10)\n",
        "plt.ylim(-5, 10)\n",
        "\n",
        "# Original vector\n",
        "plt.quiver(0, 0, v[0], v[1], angles='xy', scale_units='xy', scale=1, color='blue', label='v')\n",
        "\n",
        "# Transformed vector\n",
        "plt.quiver(0, 0, Av[0], Av[1], angles='xy', scale_units='xy', scale=1, color='red', label='A·v')"
      ],
      "metadata": {
        "id": "EBRdUuGrm1V6",
        "outputId": "7c641f3e-efcb-4029-ecee-1330e6bca774",
        "colab": {
          "base_uri": "https://localhost:8080/",
          "height": 468
        }
      },
      "execution_count": 3,
      "outputs": [
        {
          "output_type": "execute_result",
          "data": {
            "text/plain": [
              "<matplotlib.quiver.Quiver at 0x7b39f8768080>"
            ]
          },
          "metadata": {},
          "execution_count": 3
        },
        {
          "output_type": "display_data",
          "data": {
            "text/plain": [
              "<Figure size 500x500 with 1 Axes>"
            ],
            "image/png": "[encoded data removed]"
          },
          "metadata": {}
        }
      ]
    },
    {
      "cell_type": "markdown",
      "metadata": {
        "id": "hR1MKYUP_SqU"
      },
      "source": [
        "### Motivation: Too many regressors to run a regression:"
      ]
    },
    {
      "cell_type": "code",
      "execution_count": null,
      "metadata": {
        "id": "1-AG9yvU_SqV"
      },
      "outputs": [],
      "source": [
        "import pandas as pd\n",
        "import numpy as np\n",
        "from sklearn import linear_model"
      ]
    },
    {
      "cell_type": "code",
      "execution_count": null,
      "metadata": {
        "id": "fLG586Mk_SqX"
      },
      "outputs": [],
      "source": [
        "housedata=pd.read_csv('housingprices.csv',nrows=10)\n",
        "print(housedata.head())\n",
        "print(\"Shape: {}\".format(str(housedata.shape)))"
      ]
    },
    {
      "cell_type": "code",
      "execution_count": null,
      "metadata": {
        "id": "es3w9dML_SqY"
      },
      "outputs": [],
      "source": [
        "x=housedata.loc[:,[j for j in housedata.columns if j not in ('price','lprice')]]\n",
        "print(x.head())"
      ]
    },
    {
      "cell_type": "code",
      "execution_count": null,
      "metadata": {
        "id": "KogPFqKW_Sqa"
      },
      "outputs": [],
      "source": [
        "y=housedata.loc[:,'price']"
      ]
    },
    {
      "cell_type": "code",
      "execution_count": null,
      "metadata": {
        "id": "f9lHXGGG_Sqc"
      },
      "outputs": [],
      "source": [
        "# Instantiate a model object:\n",
        "lm = linear_model.LinearRegression()\n",
        "# Fit the model:\n",
        "lm.fit(x,y)\n",
        "\n",
        "lm.coef_"
      ]
    },
    {
      "cell_type": "markdown",
      "metadata": {
        "id": "tQFliTyN_Sqd"
      },
      "source": [
        "The huge coefficients are evidence that the X'X matrix is not full rank here"
      ]
    },
    {
      "cell_type": "markdown",
      "metadata": {
        "id": "oKhDPDzp_Sqe"
      },
      "source": [
        "Let's see if we can fix this using PCA. Let's just keep first 3 components. Before doing PCA, always standardize your variables"
      ]
    },
    {
      "cell_type": "code",
      "execution_count": null,
      "metadata": {
        "id": "EKp2zigsGOBJ"
      },
      "outputs": [],
      "source": [
        "# print out summary statistics of original x :\n",
        "x.describe()"
      ]
    },
    {
      "cell_type": "code",
      "execution_count": null,
      "metadata": {
        "id": "615DFC4s_Sqe"
      },
      "outputs": [],
      "source": [
        "from sklearn.preprocessing import StandardScaler\n",
        "# Instantiate a \"scaler\" object:\n",
        "scaler = StandardScaler()\n",
        "# calculate means and standard deviations of columns of x:\n",
        "scaler.fit(x)\n",
        "\n",
        "# subtract off means, divide by std devs:\n",
        "x_scaled = scaler.transform(x)\n",
        "\n",
        "print(x_scaled.shape)\n",
        "pd.DataFrame(x_scaled).describe()\n"
      ]
    },
    {
      "cell_type": "code",
      "execution_count": null,
      "metadata": {
        "id": "djcTlX_f_Sqg"
      },
      "outputs": [],
      "source": [
        "from sklearn.decomposition import PCA\n",
        "# keep the first three principal components of the data\n",
        "pca = PCA(n_components=3)\n",
        "# calculates factor loadings\n",
        "pca.fit(x_scaled)\n",
        "\n",
        "# transform data onto the first three principal components\n",
        "x_pca = pca.transform(x_scaled)\n",
        "print(\"Original shape: {}\".format(str(x_scaled.shape)))\n",
        "print(\"Reduced shape: {}\".format(str(x_pca.shape)))\n",
        "\n",
        "print(\"PCA components:\\n{}\".format(pca.components_))\n",
        "x_pca\n"
      ]
    },
    {
      "cell_type": "markdown",
      "metadata": {
        "id": "mnnpDx9i_Sqh"
      },
      "source": [
        "Now re-run the regression!"
      ]
    },
    {
      "cell_type": "code",
      "execution_count": null,
      "metadata": {
        "id": "GdV-iFQg_Sqi"
      },
      "outputs": [],
      "source": [
        "# Do on your own, and print out the coefficients\n"
      ]
    },
    {
      "cell_type": "markdown",
      "metadata": {
        "id": "1ddGYyO0cM61"
      },
      "source": [
        "#Cheat"
      ]
    },
    {
      "cell_type": "code",
      "execution_count": null,
      "metadata": {
        "id": "8DSzBrXpcKT-"
      },
      "outputs": [],
      "source": [
        "model = lm.fit(x_pca,y)\n",
        "model.coef_"
      ]
    },
    {
      "cell_type": "markdown",
      "metadata": {
        "id": "PpNjqy0Tc6i5"
      },
      "source": [
        "# Obtain predicted prices:"
      ]
    },
    {
      "cell_type": "code",
      "execution_count": null,
      "metadata": {
        "id": "xz2UYa4_pHDX"
      },
      "outputs": [],
      "source": [
        "predicted_prices =lm.predict(x_pca)\n",
        "predicted_prices"
      ]
    },
    {
      "cell_type": "code",
      "execution_count": null,
      "metadata": {
        "id": "g9-zCd4cfvrg"
      },
      "outputs": [],
      "source": [
        "lm.predict([[-3,0,1]])"
      ]
    },
    {
      "cell_type": "markdown",
      "metadata": {
        "id": "u_8VHh3f_Sqj"
      },
      "source": [
        "#Some even cooler stuff you can do with PCA"
      ]
    },
    {
      "cell_type": "code",
      "execution_count": null,
      "metadata": {
        "id": "hgGEsSp__Sqk"
      },
      "outputs": [],
      "source": [
        "from sklearn.datasets import load_breast_cancer\n",
        "from sklearn.model_selection import train_test_split\n",
        "cancer = load_breast_cancer()"
      ]
    },
    {
      "cell_type": "markdown",
      "metadata": {
        "id": "Blxk40NX_Sql"
      },
      "source": [
        "### Dimensionality Reduction, Feature Extraction and Manifold Learning\n",
        "#### Principal Component Analysis (PCA)"
      ]
    },
    {
      "cell_type": "code",
      "execution_count": null,
      "metadata": {
        "hide_input": false,
        "id": "hvEW5dA4_Sql"
      },
      "outputs": [],
      "source": [
        "mglearn.plots.plot_pca_illustration()"
      ]
    },
    {
      "cell_type": "markdown",
      "metadata": {
        "id": "lLP3E_YD_Sqn"
      },
      "source": [
        "##### Applying PCA to the cancer dataset for visualization"
      ]
    },
    {
      "cell_type": "code",
      "execution_count": null,
      "metadata": {
        "id": "NdpjMuAU_Sqn",
        "scrolled": false
      },
      "outputs": [],
      "source": [
        "fig, axes = plt.subplots(15, 2, figsize=(10, 20))\n",
        "malignant = cancer.data[cancer.target == 0]\n",
        "benign = cancer.data[cancer.target == 1]\n",
        "\n",
        "ax = axes.ravel()\n",
        "\n",
        "for i in range(30):\n",
        "    _, bins = np.histogram(cancer.data[:, i], bins=50)\n",
        "    ax[i].hist(malignant[:, i], bins=bins, color=mglearn.cm3(0), alpha=.5)\n",
        "    ax[i].hist(benign[:, i], bins=bins, color=mglearn.cm3(2), alpha=.5)\n",
        "    ax[i].set_title(cancer.feature_names[i])\n",
        "    ax[i].set_yticks(())\n",
        "ax[0].set_xlabel(\"Feature magnitude\")\n",
        "ax[0].set_ylabel(\"Frequency\")\n",
        "ax[0].legend([\"malignant\", \"benign\"], loc=\"best\")\n",
        "fig.tight_layout()"
      ]
    },
    {
      "cell_type": "code",
      "execution_count": null,
      "metadata": {
        "id": "PLzJ_15B_Sqr"
      },
      "outputs": [],
      "source": [
        "# calculate means and std devs:\n",
        "scaler.fit(cancer.data)\n",
        "# creates standardized variables:\n",
        "X_scaled = scaler.transform(cancer.data)"
      ]
    },
    {
      "cell_type": "code",
      "execution_count": null,
      "metadata": {
        "id": "0kVEJy9y_Sqs"
      },
      "outputs": [],
      "source": [
        "#from sklearn.decomposition import PCA\n",
        "# keep the first two principal components of the data\n",
        "pca = PCA(n_components=2)\n",
        "# fit PCA model to beast cancer data\n",
        "pca.fit(X_scaled)\n",
        "\n",
        "# transform data onto the first two principal components\n",
        "X_pca = pca.transform(X_scaled)\n",
        "print(\"Original shape: {}\".format(str(X_scaled.shape)))\n",
        "print(\"Reduced shape: {}\".format(str(X_pca.shape)))"
      ]
    },
    {
      "cell_type": "code",
      "execution_count": null,
      "metadata": {
        "id": "bFcTrQEj_Squ"
      },
      "outputs": [],
      "source": [
        "# plot first vs. second principal component, colored by class\n",
        "plt.figure(figsize=(8, 8))\n",
        "mglearn.discrete_scatter(X_pca[:, 0], X_pca[:, 1], cancer.target)\n",
        "plt.legend(cancer.target_names, loc=\"best\")\n",
        "plt.gca().set_aspect(\"equal\")\n",
        "plt.xlabel(\"First principal component\")\n",
        "plt.ylabel(\"Second principal component\")"
      ]
    },
    {
      "cell_type": "code",
      "execution_count": null,
      "metadata": {
        "id": "Nyq3wijr_Sqv"
      },
      "outputs": [],
      "source": [
        "print(\"PCA component shape: {}\".format(pca.components_.shape))"
      ]
    },
    {
      "cell_type": "code",
      "execution_count": null,
      "metadata": {
        "id": "gYcgihjH_Sqx"
      },
      "outputs": [],
      "source": [
        "print(\"PCA components:\\n{}\".format(pca.components_))"
      ]
    },
    {
      "cell_type": "code",
      "execution_count": null,
      "metadata": {
        "id": "qKCSB1yrsgeC"
      },
      "outputs": [],
      "source": [
        "# regress cancer indicator on (30 characteristics) and then (2 PC)\n",
        "y =cancer.target\n",
        "lm.fit(X_scaled,y)\n",
        "lm.score(X_scaled,y)"
      ]
    },
    {
      "cell_type": "code",
      "execution_count": null,
      "metadata": {
        "id": "bqiqX0hotWp_"
      },
      "outputs": [],
      "source": [
        "# same thing but with only 2 PCs\n",
        "lm.fit(X_pca,y)\n",
        "lm.score(X_pca,y)"
      ]
    },
    {
      "cell_type": "code",
      "execution_count": null,
      "metadata": {
        "id": "nTzc4-hY_Sqy"
      },
      "outputs": [],
      "source": [
        "plt.matshow(pca.components_, cmap='viridis')\n",
        "plt.yticks([0, 1], [\"First component\", \"Second component\"])\n",
        "plt.colorbar()\n",
        "plt.xticks(range(len(cancer.feature_names)),\n",
        "           cancer.feature_names, rotation=60, ha='left')\n",
        "plt.xlabel(\"Feature\")\n",
        "plt.ylabel(\"Principal components\")"
      ]
    },
    {
      "cell_type": "markdown",
      "metadata": {
        "id": "_BPzYLjj_Sq0"
      },
      "source": [
        "##### Eigenfaces for feature extraction"
      ]
    },
    {
      "cell_type": "code",
      "execution_count": null,
      "metadata": {
        "id": "KStN7ryM_Sq0"
      },
      "outputs": [],
      "source": [
        "from sklearn.datasets import fetch_lfw_people\n",
        "people = fetch_lfw_people(min_faces_per_person=20, resize=0.7)\n",
        "image_shape = people.images[0].shape\n",
        "\n",
        "fig, axes = plt.subplots(2, 5, figsize=(15, 8),\n",
        "                         subplot_kw={'xticks': (), 'yticks': ()})\n",
        "for target, image, ax in zip(people.target, people.images, axes.ravel()):\n",
        "    ax.imshow(image)\n",
        "    ax.set_title(people.target_names[target])"
      ]
    },
    {
      "cell_type": "code",
      "execution_count": null,
      "metadata": {
        "id": "_wyb3qkB_Sq1"
      },
      "outputs": [],
      "source": [
        "print(\"people.images.shape: {}\".format(people.images.shape))\n",
        "print(\"Number of classes: {}\".format(len(people.target_names)))"
      ]
    },
    {
      "cell_type": "code",
      "execution_count": null,
      "metadata": {
        "id": "rYcqQfNg_Sq3"
      },
      "outputs": [],
      "source": [
        "# count how often each target appears\n",
        "counts = np.bincount(people.target)\n",
        "# print counts next to target names:\n",
        "for i, (count, name) in enumerate(zip(counts, people.target_names)):\n",
        "    print(\"{0:25} {1:3}\".format(name, count), end='   ')\n",
        "    if (i + 1) % 3 == 0:\n",
        "        print()"
      ]
    },
    {
      "cell_type": "code",
      "execution_count": null,
      "metadata": {
        "id": "OMouIjPm_Sq4"
      },
      "outputs": [],
      "source": [
        "mask = np.zeros(people.target.shape, dtype=bool)\n",
        "for target in np.unique(people.target):\n",
        "    mask[np.where(people.target == target)[0][:50]] = 1\n",
        "\n",
        "X_people = people.data[mask]\n",
        "y_people = people.target[mask]\n",
        "\n",
        "# scale the grey-scale values to be between 0 and 1\n",
        "# instead of 0 and 255 for better numeric stability:\n",
        "#X_people = X_people / 255."
      ]
    },
    {
      "cell_type": "code",
      "execution_count": null,
      "metadata": {
        "hide_input": false,
        "id": "Nj2hDpOJ_Sq6"
      },
      "outputs": [],
      "source": [
        "mglearn.plots.plot_pca_whitening()"
      ]
    },
    {
      "cell_type": "code",
      "execution_count": null,
      "metadata": {
        "id": "FeD4-3Wj_Sq8"
      },
      "outputs": [],
      "source": [
        "pca = PCA(n_components=100, whiten=True, random_state=0).fit(X_people)\n",
        "X_pca = pca.transform(X_people)\n",
        "\n",
        "print(\"X_pca.shape: {}\".format(X_pca.shape))"
      ]
    },
    {
      "cell_type": "code",
      "execution_count": null,
      "metadata": {
        "id": "xGeaKlVI_Sq9"
      },
      "outputs": [],
      "source": [
        "print(\"pca.components_.shape: {}\".format(pca.components_.shape))"
      ]
    },
    {
      "cell_type": "code",
      "execution_count": null,
      "metadata": {
        "id": "jeEyaSqZ_Sq_"
      },
      "outputs": [],
      "source": [
        "fig, axes = plt.subplots(3, 5, figsize=(15, 12),\n",
        "                         subplot_kw={'xticks': (), 'yticks': ()})\n",
        "for i, (component, ax) in enumerate(zip(pca.components_, axes.ravel())):\n",
        "    ax.imshow(component.reshape(image_shape),\n",
        "              cmap='viridis')\n",
        "    ax.set_title(\"{}. component\".format((i + 1)))"
      ]
    },
    {
      "cell_type": "markdown",
      "metadata": {
        "id": "oinyr_Sr_SrA"
      },
      "source": [
        "![decomposition](https://github.com/brighamfrandsen/econ484/blob/master/examples/images/03-face_decomposition.png?raw=1)"
      ]
    },
    {
      "cell_type": "code",
      "execution_count": null,
      "metadata": {
        "id": "GxYOZayH_SrA"
      },
      "outputs": [],
      "source": [
        "mglearn.plots.plot_pca_faces(X_people, X_people,image_shape)"
      ]
    },
    {
      "cell_type": "code",
      "execution_count": null,
      "metadata": {
        "id": "fw21eNzmBXHZ"
      },
      "outputs": [],
      "source": []
    }
  ],
  "metadata": {
    "colab": {
      "collapsed_sections": [
        "1ddGYyO0cM61"
      ],
      "provenance": [],
      "include_colab_link": true
    },
    "kernelspec": {
      "display_name": "Python 3",
      "language": "python",
      "name": "python3"
    },
    "language_info": {
      "codemirror_mode": {
        "name": "ipython",
        "version": 3
      },
      "file_extension": ".py",
      "mimetype": "text/x-python",
      "name": "python",
      "nbconvert_exporter": "python",
      "pygments_lexer": "ipython3",
      "version": "3.12.2"
    }
  },
  "nbformat": 4,
  "nbformat_minor": 0
}