{
  "cells": [
    {
      "cell_type": "markdown",
      "metadata": {
        "id": "YKjVXkOq5RvM"
      },
      "source": [
        "# this did edit?Some Basics: Regression and Prediction"
      ]
    },
    {
      "cell_type": "markdown",
      "metadata": {
        "id": "Vh5p-yeb5RvP"
      },
      "source": [
        "Load useful packages"
      ]
    },
    {
      "cell_type": "code",
      "execution_count": null,
      "metadata": {
        "id": "kcWz25QG5RvQ"
      },
      "outputs": [],
      "source": [
        "import pandas as pd\n",
        "import numpy as np\n",
        "from sklearn import linear_model"
      ]
    },
    {
      "cell_type": "markdown",
      "metadata": {
        "id": "j8t7BfHB5RvQ"
      },
      "source": [
        "Read in data"
      ]
    },
    {
      "cell_type": "code",
      "execution_count": null,
      "metadata": {
        "id": "GZwsd77j5RvR"
      },
      "outputs": [],
      "source": [
        "housedata=pd.read_csv('housingprices.csv',nrows=506)\n",
        "print(housedata.head())\n",
        "print(\"Shape: {}\".format(str(housedata.shape)))"
      ]
    },
    {
      "cell_type": "markdown",
      "metadata": {
        "id": "q_2dO1Sq5RvR"
      },
      "source": [
        "Define matrix of regressors"
      ]
    },
    {
      "cell_type": "code",
      "execution_count": null,
      "metadata": {
        "id": "AuBTrz2m5RvS"
      },
      "outputs": [],
      "source": [
        "x=housedata[['crime','nox','rooms','dist','radial','proptax']]\n",
        "print(x.head())"
      ]
    },
    {
      "cell_type": "markdown",
      "metadata": {
        "id": "Lpx2nWGV5RvS"
      },
      "source": [
        "Define outcome vector"
      ]
    },
    {
      "cell_type": "code",
      "execution_count": null,
      "metadata": {
        "id": "YL5aQepk5RvT"
      },
      "outputs": [],
      "source": [
        "y=housedata['price']"
      ]
    },
    {
      "cell_type": "markdown",
      "metadata": {
        "id": "gquQQ5vP5RvT"
      },
      "source": [
        "Fit  (estimate) the model and look at coefficients:"
      ]
    },
    {
      "cell_type": "code",
      "execution_count": null,
      "metadata": {
        "id": "_NenKtlb5RvT"
      },
      "outputs": [],
      "source": [
        "lm = linear_model.LinearRegression()\n",
        "model = lm.fit(x,y)\n",
        "lm.coef_"
      ]
    },
    {
      "cell_type": "markdown",
      "metadata": {
        "id": "uZygYr255RvU"
      },
      "source": [
        "Would you say this is causal or descriptive? Now let's do prediction. First in-sample (easy):"
      ]
    },
    {
      "cell_type": "code",
      "execution_count": null,
      "metadata": {
        "id": "48Mjq-qT5RvU"
      },
      "outputs": [],
      "source": [
        "yhat_insample = lm.predict(x)\n",
        "print(yhat_insample)"
      ]
    },
    {
      "cell_type": "markdown",
      "metadata": {
        "id": "FXQ9IA875RvU"
      },
      "source": [
        "Now out-of-sample for a hypothetical house not in our dataset:"
      ]
    },
    {
      "cell_type": "code",
      "execution_count": null,
      "metadata": {
        "id": "kZHRz_nq5RvU"
      },
      "outputs": [],
      "source": [
        "newX=np.array([[.01,4,8,5,2,25]])\n",
        "yhat_outsample=lm.predict(newX)\n",
        "print(yhat_outsample)"
      ]
    }
  ],
  "metadata": {
    "kernelspec": {
      "display_name": "Python 3",
      "language": "python",
      "name": "python3"
    },
    "language_info": {
      "codemirror_mode": {
        "name": "ipython",
        "version": 3
      },
      "file_extension": ".py",
      "mimetype": "text/x-python",
      "name": "python",
      "nbconvert_exporter": "python",
      "pygments_lexer": "ipython3",
      "version": "3.7.4"
    },
    "colab": {
      "provenance": []
    }
  },
  "nbformat": 4,
  "nbformat_minor": 0
}