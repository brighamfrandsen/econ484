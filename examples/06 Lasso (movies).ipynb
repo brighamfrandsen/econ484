{
  "cells": [
    {
      "cell_type": "markdown",
      "metadata": {
        "id": "view-in-github",
        "colab_type": "text"
      },
      "source": [
        "<a href=\"https://colab.research.google.com/github/brighamfrandsen/econ484/blob/master/examples/06 Lasso (movies).ipynb\" target=\"_parent\"><img src=\"https://colab.research.google.com/assets/colab-badge.svg\" alt=\"Open In Colab\"/></a>"
      ]
    },
    {
      "cell_type": "code",
      "execution_count": 16,
      "metadata": {
        "id": "bCfxffcRLeP3",
        "outputId": "2b6bb889-a3c9-4c54-ad37-9af7742a14e1",
        "colab": {
          "base_uri": "https://localhost:8080/"
        }
      },
      "outputs": [
        {
          "output_type": "stream",
          "name": "stdout",
          "text": [
            "Cloning into 'econ484'...\n",
            "remote: Enumerating objects: 321, done.\u001b[K\n",
            "remote: Counting objects: 100% (181/181), done.\u001b[K\n",
            "remote: Compressing objects: 100% (157/157), done.\u001b[K\n",
            "remote: Total 321 (delta 63), reused 67 (delta 22), pack-reused 140 (from 1)\u001b[K\n",
            "Receiving objects: 100% (321/321), 6.93 MiB | 10.25 MiB/s, done.\n",
            "Resolving deltas: 100% (119/119), done.\n",
            "/content/econ484/data/econ484/utilities\n",
            "/content/econ484/data/econ484/data\n"
          ]
        }
      ],
      "source": [
        "# Import necessary libraries\n",
        "!git clone https://github.com/brighamfrandsen/econ484.git\n",
        "%cd econ484/utilities\n",
        "from preamble import *\n",
        "%cd ../data"
      ]
    },
    {
      "cell_type": "markdown",
      "metadata": {
        "id": "gzWRbYOjLAIr"
      },
      "source": [
        "# Example: Movie-going and Weather"
      ]
    },
    {
      "cell_type": "markdown",
      "metadata": {
        "id": "bTaCceX9LAIs"
      },
      "source": [
        "This notebook will illustrate the entire supervised machine learning process in the context of predicting movie attendance based on the weather on opening weekend."
      ]
    },
    {
      "cell_type": "markdown",
      "metadata": {
        "id": "nmC-h_PvLAIs"
      },
      "source": [
        "## 1. Figure out your question"
      ]
    },
    {
      "cell_type": "markdown",
      "metadata": {
        "id": "HZ62RUB5LAIt"
      },
      "source": [
        "How many people would be expected to attend a movie on a weekend with temperatures in the X1s, precipitation of X2, humidity of X3, . . . ?"
      ]
    },
    {
      "cell_type": "markdown",
      "metadata": {
        "id": "gfaGY7UHLAIt"
      },
      "source": [
        "## 2. Obtain a labeled dataset"
      ]
    },
    {
      "cell_type": "code",
      "execution_count": 17,
      "metadata": {
        "id": "4mQtzrcRLAIu"
      },
      "outputs": [],
      "source": [
        "import pandas as pd\n",
        "import numpy as np"
      ]
    },
    {
      "cell_type": "code",
      "execution_count": 18,
      "metadata": {
        "id": "E1XtvSKZLAIx",
        "outputId": "f3429bcd-0e71-43b3-a11e-85d95d7c36a2",
        "colab": {
          "base_uri": "https://localhost:8080/"
        }
      },
      "outputs": [
        {
          "output_type": "stream",
          "name": "stdout",
          "text": [
            "   tickets_wk1d_r  tickets_ratedgpg_wk1d_r  tickets_adult_wk1d_r  \\\n",
            "0           -1.72                    -0.71                 -1.60   \n",
            "1           -1.31                      NaN                 -0.82   \n",
            "2            0.96                      NaN                  0.98   \n",
            "3           -1.31                      NaN                 -1.07   \n",
            "4            2.09                    -0.01                  1.65   \n",
            "\n",
            "   tickets_p33_highbudget_wk1d_r  ...  res_own_mat10_80_0  res_own_mat10_90_5  \\\n",
            "0                            NaN  ...               -0.02            2.67e-03   \n",
            "1                            NaN  ...               -0.06           -4.79e-03   \n",
            "2                           0.55  ...                0.03            3.01e-02   \n",
            "3                          -0.97  ...                0.09           -6.76e-02   \n",
            "4                           1.73  ...               -0.17            9.77e-02   \n",
            "\n",
            "   res_own_mat10_90_6  res_own_mat10_90_0  \n",
            "0            2.46e-03           -2.91e-04  \n",
            "1           -3.90e-03           -9.50e-03  \n",
            "2            1.18e-02            2.06e-02  \n",
            "3           -1.35e-01           -1.04e-01  \n",
            "4            1.08e-01            2.06e-01  \n",
            "\n",
            "[5 rows x 193 columns]\n",
            "Shape: (1671, 193)\n"
          ]
        }
      ],
      "source": [
        "moviedata=pd.read_csv('./opening_wkend.csv')\n",
        "\n",
        "print(moviedata.head())\n",
        "print(\"Shape: {}\".format(str(moviedata.shape)))"
      ]
    },
    {
      "cell_type": "markdown",
      "metadata": {
        "id": "VttS4Ca0LAIz"
      },
      "source": [
        "Let's define our \"label\" (y) vector and our \"feature\" matrix (X):"
      ]
    },
    {
      "cell_type": "code",
      "execution_count": 19,
      "metadata": {
        "id": "rv0M75IWLAIz",
        "outputId": "8dea1956-8a15-4acd-89cd-bb20efcb2894",
        "colab": {
          "base_uri": "https://localhost:8080/"
        }
      },
      "outputs": [
        {
          "output_type": "stream",
          "name": "stdout",
          "text": [
            "our y vector is:\n",
            " <bound method NDFrame.head of       tickets_wk1d_r\n",
            "0              -1.72\n",
            "1              -1.31\n",
            "2               0.96\n",
            "3              -1.31\n",
            "4               2.09\n",
            "...              ...\n",
            "1666            2.58\n",
            "1667            6.18\n",
            "1668           -2.35\n",
            "1669           -2.06\n",
            "1670           -1.98\n",
            "\n",
            "[1671 rows x 1 columns]>\n",
            "our X matrix is:\n",
            " <bound method NDFrame.head of       res_own_snow  res_own_rain  res_own_mat5_10  res_own_mat5_15  ...  \\\n",
            "0        -1.16e-01         -0.08        -2.46e-02        -2.72e-02  ...   \n",
            "1         4.16e-02         -0.10         2.21e-03         1.53e-03  ...   \n",
            "2         6.56e-02          0.14         1.57e-03         1.65e-03  ...   \n",
            "3         2.26e-04         -0.10         1.54e-03         1.65e-03  ...   \n",
            "4        -1.54e-04         -0.04         1.58e-03         1.67e-03  ...   \n",
            "...            ...           ...              ...              ...  ...   \n",
            "1666     -3.11e-02         -0.06         4.45e-03         2.09e-03  ...   \n",
            "1667     -3.38e-02         -0.11         3.82e-03         2.02e-03  ...   \n",
            "1668      4.69e-02         -0.13         5.42e-03         6.50e-03  ...   \n",
            "1669      5.27e-02          0.09         4.19e-03         7.95e-04  ...   \n",
            "1670      5.84e-02         -0.08         6.04e-03         7.45e-03  ...   \n",
            "\n",
            "      res_own_mat10_80_0  res_own_mat10_90_5  res_own_mat10_90_6  \\\n",
            "0              -1.80e-02            2.67e-03            2.46e-03   \n",
            "1              -6.50e-02           -4.79e-03           -3.90e-03   \n",
            "2               3.25e-02            3.01e-02            1.18e-02   \n",
            "3               8.84e-02           -6.76e-02           -1.35e-01   \n",
            "4              -1.67e-01            9.77e-02            1.08e-01   \n",
            "...                  ...                 ...                 ...   \n",
            "1666           -3.30e-02           -3.03e-02           -2.94e-02   \n",
            "1667           -3.30e-02           -3.03e-02           -2.94e-02   \n",
            "1668           -9.83e-03           -2.64e-02           -2.83e-02   \n",
            "1669           -9.83e-03           -2.64e-02           -2.83e-02   \n",
            "1670           -9.83e-03           -2.64e-02           -2.83e-02   \n",
            "\n",
            "      res_own_mat10_90_0  \n",
            "0              -2.91e-04  \n",
            "1              -9.50e-03  \n",
            "2               2.06e-02  \n",
            "3              -1.04e-01  \n",
            "4               2.06e-01  \n",
            "...                  ...  \n",
            "1666           -3.56e-02  \n",
            "1667           -3.56e-02  \n",
            "1668           -3.45e-02  \n",
            "1669           -3.45e-02  \n",
            "1670           -3.45e-02  \n",
            "\n",
            "[1671 rows x 184 columns]>\n"
          ]
        }
      ],
      "source": [
        "y = moviedata.filter(items=['tickets_wk1d_r'])\n",
        "X = moviedata.filter(like='res_own',axis=1)\n",
        "print('our y vector is:\\n',y.head)\n",
        "print('our X matrix is:\\n',X.head)\n",
        "from sklearn.preprocessing import StandardScaler\n",
        "scaler = StandardScaler()\n",
        "scaler.fit(X)\n",
        "X = scaler.transform(X)"
      ]
    },
    {
      "cell_type": "markdown",
      "metadata": {
        "id": "Mz_KFucyLAI1"
      },
      "source": [
        "## 3. Divide into training and test sets"
      ]
    },
    {
      "cell_type": "code",
      "execution_count": 20,
      "metadata": {
        "id": "aq1fmWdjLAI2",
        "outputId": "4dc264f4-6af6-49c0-8200-f38cfddd1019",
        "colab": {
          "base_uri": "https://localhost:8080/"
        }
      },
      "outputs": [
        {
          "output_type": "execute_result",
          "data": {
            "text/plain": [
              "(1253, 1)"
            ]
          },
          "metadata": {},
          "execution_count": 20
        }
      ],
      "source": [
        "from sklearn.model_selection import train_test_split\n",
        "X_train, X_test, y_train, y_test = train_test_split(X,y,random_state=42,test_size=.25)\n",
        "y_train.shape"
      ]
    },
    {
      "cell_type": "markdown",
      "metadata": {
        "id": "wuZh-g9SLAI4"
      },
      "source": [
        "## 4. Pick an appropriate method"
      ]
    },
    {
      "cell_type": "code",
      "execution_count": 21,
      "metadata": {
        "id": "8wkQST25LAI4"
      },
      "outputs": [],
      "source": [
        "from sklearn.linear_model import Lasso"
      ]
    },
    {
      "cell_type": "markdown",
      "metadata": {
        "id": "1NbHlQq6LAI6"
      },
      "source": [
        "## 5. Choose regularization parameters via cross-validation on the training set"
      ]
    },
    {
      "cell_type": "markdown",
      "metadata": {
        "id": "tgQR975XLAI6"
      },
      "source": [
        "By hand if you really want:"
      ]
    },
    {
      "cell_type": "code",
      "execution_count": null,
      "metadata": {
        "id": "uKdt9hvkLAI7"
      },
      "outputs": [],
      "source": [
        "from sklearn.model_selection import cross_val_score"
      ]
    },
    {
      "cell_type": "code",
      "execution_count": 25,
      "metadata": {
        "id": "l-TcQeQILAI9",
        "outputId": "c5af5215-e70c-4bb4-fd28-ac751590a9cf",
        "colab": {
          "base_uri": "https://localhost:8080/"
        }
      },
      "outputs": [
        {
          "output_type": "stream",
          "name": "stdout",
          "text": [
            "Cross-validation scores: [ 0.044 -0.018  0.043  0.011  0.05 ]\n",
            "Average cross-validation score: 0.0260\n"
          ]
        }
      ],
      "source": [
        "lasso = Lasso(alpha=0.032, max_iter=100)\n",
        "scores = cross_val_score(lasso,X_train,y_train,cv=5)\n",
        "print(\"Cross-validation scores: {}\".format(scores))\n",
        "print(\"Average cross-validation score: {:.4f}\".format(scores.mean()))"
      ]
    },
    {
      "cell_type": "markdown",
      "metadata": {
        "id": "-yvDVPQCLAI-"
      },
      "source": [
        "Or use GridSearchCV and do it automatically:"
      ]
    },
    {
      "cell_type": "code",
      "execution_count": 26,
      "metadata": {
        "id": "U6nTq5MHLAI-",
        "outputId": "68f568e0-5ec4-428e-ddb2-f8a365f75516",
        "colab": {
          "base_uri": "https://localhost:8080/"
        }
      },
      "outputs": [
        {
          "output_type": "stream",
          "name": "stderr",
          "text": [
            "/usr/local/lib/python3.11/dist-packages/sklearn/linear_model/_coordinate_descent.py:695: ConvergenceWarning: Objective did not converge. You might want to increase the number of iterations, check the scale of the features or consider increasing regularisation. Duality gap: 4.718e+02, tolerance: 1.358e-01\n",
            "  model = cd_fast.enet_coordinate_descent(\n",
            "/usr/local/lib/python3.11/dist-packages/sklearn/linear_model/_coordinate_descent.py:695: ConvergenceWarning: Objective did not converge. You might want to increase the number of iterations, check the scale of the features or consider increasing regularisation. Duality gap: 4.859e+02, tolerance: 1.374e-01\n",
            "  model = cd_fast.enet_coordinate_descent(\n",
            "/usr/local/lib/python3.11/dist-packages/sklearn/linear_model/_coordinate_descent.py:695: ConvergenceWarning: Objective did not converge. You might want to increase the number of iterations, check the scale of the features or consider increasing regularisation. Duality gap: 4.794e+02, tolerance: 1.365e-01\n",
            "  model = cd_fast.enet_coordinate_descent(\n",
            "/usr/local/lib/python3.11/dist-packages/sklearn/linear_model/_coordinate_descent.py:695: ConvergenceWarning: Objective did not converge. You might want to increase the number of iterations, check the scale of the features or consider increasing regularisation. Duality gap: 4.543e+02, tolerance: 1.348e-01\n",
            "  model = cd_fast.enet_coordinate_descent(\n",
            "/usr/local/lib/python3.11/dist-packages/sklearn/linear_model/_coordinate_descent.py:695: ConvergenceWarning: Objective did not converge. You might want to increase the number of iterations, check the scale of the features or consider increasing regularisation. Duality gap: 4.962e+02, tolerance: 1.413e-01\n",
            "  model = cd_fast.enet_coordinate_descent(\n"
          ]
        },
        {
          "output_type": "stream",
          "name": "stdout",
          "text": [
            "Best alpha:  0.032\n"
          ]
        }
      ],
      "source": [
        "from sklearn.model_selection import GridSearchCV\n",
        "# define grid for alpha\n",
        "param_grid = {'alpha': [.0001, .005,.01, .015,.02, .025, .03, .031, .032, .034, .035, .036, .04 ,.05, .06 ],'max_iter': [1000]}\n",
        "grid_search = GridSearchCV(Lasso(),param_grid,cv=5,return_train_score=True)\n",
        "grid_search.fit(X_train,y_train)\n",
        "print(\"Best alpha: \",grid_search.best_estimator_.get_params()['alpha'])"
      ]
    },
    {
      "cell_type": "markdown",
      "metadata": {
        "id": "Oe27Y9DLLAJA"
      },
      "source": [
        "Or, even easier, just use LassoCV:"
      ]
    },
    {
      "cell_type": "code",
      "execution_count": 27,
      "metadata": {
        "id": "xj_vvr8HLAJA",
        "outputId": "9588841e-b22d-4662-e0f2-5594e8e91c6c",
        "colab": {
          "base_uri": "https://localhost:8080/"
        }
      },
      "outputs": [
        {
          "output_type": "stream",
          "name": "stderr",
          "text": [
            "/usr/local/lib/python3.11/dist-packages/sklearn/linear_model/_coordinate_descent.py:1664: DataConversionWarning: A column-vector y was passed when a 1d array was expected. Please change the shape of y to (n_samples, ), for example using ravel().\n",
            "  y = column_or_1d(y, warn=True)\n",
            "/usr/local/lib/python3.11/dist-packages/sklearn/linear_model/_coordinate_descent.py:681: ConvergenceWarning: Objective did not converge. You might want to increase the number of iterations. Duality gap: 0.21119559708586166, tolerance: 0.13580844599209113\n",
            "  model = cd_fast.enet_coordinate_descent_gram(\n",
            "/usr/local/lib/python3.11/dist-packages/sklearn/linear_model/_coordinate_descent.py:681: ConvergenceWarning: Objective did not converge. You might want to increase the number of iterations. Duality gap: 0.17314731759279312, tolerance: 0.13580844599209113\n",
            "  model = cd_fast.enet_coordinate_descent_gram(\n",
            "/usr/local/lib/python3.11/dist-packages/sklearn/linear_model/_coordinate_descent.py:681: ConvergenceWarning: Objective did not converge. You might want to increase the number of iterations. Duality gap: 2.7460213391623256, tolerance: 0.13580844599209113\n",
            "  model = cd_fast.enet_coordinate_descent_gram(\n",
            "/usr/local/lib/python3.11/dist-packages/sklearn/linear_model/_coordinate_descent.py:681: ConvergenceWarning: Objective did not converge. You might want to increase the number of iterations. Duality gap: 3.470876710694597, tolerance: 0.13580844599209113\n",
            "  model = cd_fast.enet_coordinate_descent_gram(\n",
            "/usr/local/lib/python3.11/dist-packages/sklearn/linear_model/_coordinate_descent.py:681: ConvergenceWarning: Objective did not converge. You might want to increase the number of iterations. Duality gap: 0.4420569560984404, tolerance: 0.13580844599209113\n",
            "  model = cd_fast.enet_coordinate_descent_gram(\n",
            "/usr/local/lib/python3.11/dist-packages/sklearn/linear_model/_coordinate_descent.py:681: ConvergenceWarning: Objective did not converge. You might want to increase the number of iterations. Duality gap: 6.98733166139391, tolerance: 0.13580844599209113\n",
            "  model = cd_fast.enet_coordinate_descent_gram(\n",
            "/usr/local/lib/python3.11/dist-packages/sklearn/linear_model/_coordinate_descent.py:681: ConvergenceWarning: Objective did not converge. You might want to increase the number of iterations. Duality gap: 15.388022941841996, tolerance: 0.13580844599209113\n",
            "  model = cd_fast.enet_coordinate_descent_gram(\n",
            "/usr/local/lib/python3.11/dist-packages/sklearn/linear_model/_coordinate_descent.py:681: ConvergenceWarning: Objective did not converge. You might want to increase the number of iterations. Duality gap: 28.764008635778282, tolerance: 0.13580844599209113\n",
            "  model = cd_fast.enet_coordinate_descent_gram(\n",
            "/usr/local/lib/python3.11/dist-packages/sklearn/linear_model/_coordinate_descent.py:681: ConvergenceWarning: Objective did not converge. You might want to increase the number of iterations. Duality gap: 44.44704537725909, tolerance: 0.13580844599209113\n",
            "  model = cd_fast.enet_coordinate_descent_gram(\n",
            "/usr/local/lib/python3.11/dist-packages/sklearn/linear_model/_coordinate_descent.py:681: ConvergenceWarning: Objective did not converge. You might want to increase the number of iterations. Duality gap: 46.576201185763466, tolerance: 0.13580844599209113\n",
            "  model = cd_fast.enet_coordinate_descent_gram(\n",
            "/usr/local/lib/python3.11/dist-packages/sklearn/linear_model/_coordinate_descent.py:681: ConvergenceWarning: Objective did not converge. You might want to increase the number of iterations. Duality gap: 28.804307542849983, tolerance: 0.13580844599209113\n",
            "  model = cd_fast.enet_coordinate_descent_gram(\n",
            "/usr/local/lib/python3.11/dist-packages/sklearn/linear_model/_coordinate_descent.py:681: ConvergenceWarning: Objective did not converge. You might want to increase the number of iterations. Duality gap: 43.73723412983031, tolerance: 0.13580844599209113\n",
            "  model = cd_fast.enet_coordinate_descent_gram(\n",
            "/usr/local/lib/python3.11/dist-packages/sklearn/linear_model/_coordinate_descent.py:681: ConvergenceWarning: Objective did not converge. You might want to increase the number of iterations. Duality gap: 54.46839053317001, tolerance: 0.13580844599209113\n",
            "  model = cd_fast.enet_coordinate_descent_gram(\n",
            "/usr/local/lib/python3.11/dist-packages/sklearn/linear_model/_coordinate_descent.py:681: ConvergenceWarning: Objective did not converge. You might want to increase the number of iterations. Duality gap: 59.895150446845264, tolerance: 0.13580844599209113\n",
            "  model = cd_fast.enet_coordinate_descent_gram(\n",
            "/usr/local/lib/python3.11/dist-packages/sklearn/linear_model/_coordinate_descent.py:681: ConvergenceWarning: Objective did not converge. You might want to increase the number of iterations. Duality gap: 63.463610694702425, tolerance: 0.13580844599209113\n",
            "  model = cd_fast.enet_coordinate_descent_gram(\n",
            "/usr/local/lib/python3.11/dist-packages/sklearn/linear_model/_coordinate_descent.py:681: ConvergenceWarning: Objective did not converge. You might want to increase the number of iterations. Duality gap: 79.88747463346772, tolerance: 0.13580844599209113\n",
            "  model = cd_fast.enet_coordinate_descent_gram(\n",
            "/usr/local/lib/python3.11/dist-packages/sklearn/linear_model/_coordinate_descent.py:681: ConvergenceWarning: Objective did not converge. You might want to increase the number of iterations. Duality gap: 95.29397418145948, tolerance: 0.13580844599209113\n",
            "  model = cd_fast.enet_coordinate_descent_gram(\n",
            "/usr/local/lib/python3.11/dist-packages/sklearn/linear_model/_coordinate_descent.py:681: ConvergenceWarning: Objective did not converge. You might want to increase the number of iterations. Duality gap: 109.96085031688051, tolerance: 0.13580844599209113\n",
            "  model = cd_fast.enet_coordinate_descent_gram(\n",
            "/usr/local/lib/python3.11/dist-packages/sklearn/linear_model/_coordinate_descent.py:681: ConvergenceWarning: Objective did not converge. You might want to increase the number of iterations. Duality gap: 121.00378864873619, tolerance: 0.13580844599209113\n",
            "  model = cd_fast.enet_coordinate_descent_gram(\n",
            "/usr/local/lib/python3.11/dist-packages/sklearn/linear_model/_coordinate_descent.py:681: ConvergenceWarning: Objective did not converge. You might want to increase the number of iterations. Duality gap: 129.03168712345962, tolerance: 0.13580844599209113\n",
            "  model = cd_fast.enet_coordinate_descent_gram(\n",
            "/usr/local/lib/python3.11/dist-packages/sklearn/linear_model/_coordinate_descent.py:681: ConvergenceWarning: Objective did not converge. You might want to increase the number of iterations. Duality gap: 135.08417499894858, tolerance: 0.13580844599209113\n",
            "  model = cd_fast.enet_coordinate_descent_gram(\n",
            "/usr/local/lib/python3.11/dist-packages/sklearn/linear_model/_coordinate_descent.py:681: ConvergenceWarning: Objective did not converge. You might want to increase the number of iterations. Duality gap: 107.93640911314833, tolerance: 0.13580844599209113\n",
            "  model = cd_fast.enet_coordinate_descent_gram(\n",
            "/usr/local/lib/python3.11/dist-packages/sklearn/linear_model/_coordinate_descent.py:681: ConvergenceWarning: Objective did not converge. You might want to increase the number of iterations. Duality gap: 116.95932821635085, tolerance: 0.13580844599209113\n",
            "  model = cd_fast.enet_coordinate_descent_gram(\n",
            "/usr/local/lib/python3.11/dist-packages/sklearn/linear_model/_coordinate_descent.py:681: ConvergenceWarning: Objective did not converge. You might want to increase the number of iterations. Duality gap: 133.28896225054643, tolerance: 0.13580844599209113\n",
            "  model = cd_fast.enet_coordinate_descent_gram(\n",
            "/usr/local/lib/python3.11/dist-packages/sklearn/linear_model/_coordinate_descent.py:681: ConvergenceWarning: Objective did not converge. You might want to increase the number of iterations. Duality gap: 140.9613834452465, tolerance: 0.13580844599209113\n",
            "  model = cd_fast.enet_coordinate_descent_gram(\n",
            "/usr/local/lib/python3.11/dist-packages/sklearn/linear_model/_coordinate_descent.py:681: ConvergenceWarning: Objective did not converge. You might want to increase the number of iterations. Duality gap: 0.9323937090064192, tolerance: 0.13736271071647077\n",
            "  model = cd_fast.enet_coordinate_descent_gram(\n",
            "/usr/local/lib/python3.11/dist-packages/sklearn/linear_model/_coordinate_descent.py:681: ConvergenceWarning: Objective did not converge. You might want to increase the number of iterations. Duality gap: 0.2685181293456935, tolerance: 0.13736271071647077\n",
            "  model = cd_fast.enet_coordinate_descent_gram(\n",
            "/usr/local/lib/python3.11/dist-packages/sklearn/linear_model/_coordinate_descent.py:681: ConvergenceWarning: Objective did not converge. You might want to increase the number of iterations. Duality gap: 2.0960271286669467, tolerance: 0.13736271071647077\n",
            "  model = cd_fast.enet_coordinate_descent_gram(\n",
            "/usr/local/lib/python3.11/dist-packages/sklearn/linear_model/_coordinate_descent.py:681: ConvergenceWarning: Objective did not converge. You might want to increase the number of iterations. Duality gap: 3.28191176450116, tolerance: 0.13736271071647077\n",
            "  model = cd_fast.enet_coordinate_descent_gram(\n",
            "/usr/local/lib/python3.11/dist-packages/sklearn/linear_model/_coordinate_descent.py:681: ConvergenceWarning: Objective did not converge. You might want to increase the number of iterations. Duality gap: 0.2009789087826448, tolerance: 0.13736271071647077\n",
            "  model = cd_fast.enet_coordinate_descent_gram(\n",
            "/usr/local/lib/python3.11/dist-packages/sklearn/linear_model/_coordinate_descent.py:681: ConvergenceWarning: Objective did not converge. You might want to increase the number of iterations. Duality gap: 3.0091529628145963, tolerance: 0.13736271071647077\n",
            "  model = cd_fast.enet_coordinate_descent_gram(\n",
            "/usr/local/lib/python3.11/dist-packages/sklearn/linear_model/_coordinate_descent.py:681: ConvergenceWarning: Objective did not converge. You might want to increase the number of iterations. Duality gap: 18.929864038462597, tolerance: 0.13736271071647077\n",
            "  model = cd_fast.enet_coordinate_descent_gram(\n",
            "/usr/local/lib/python3.11/dist-packages/sklearn/linear_model/_coordinate_descent.py:681: ConvergenceWarning: Objective did not converge. You might want to increase the number of iterations. Duality gap: 36.97300459728717, tolerance: 0.13736271071647077\n",
            "  model = cd_fast.enet_coordinate_descent_gram(\n",
            "/usr/local/lib/python3.11/dist-packages/sklearn/linear_model/_coordinate_descent.py:681: ConvergenceWarning: Objective did not converge. You might want to increase the number of iterations. Duality gap: 50.466661923280526, tolerance: 0.13736271071647077\n",
            "  model = cd_fast.enet_coordinate_descent_gram(\n",
            "/usr/local/lib/python3.11/dist-packages/sklearn/linear_model/_coordinate_descent.py:681: ConvergenceWarning: Objective did not converge. You might want to increase the number of iterations. Duality gap: 59.68753088143683, tolerance: 0.13736271071647077\n",
            "  model = cd_fast.enet_coordinate_descent_gram(\n",
            "/usr/local/lib/python3.11/dist-packages/sklearn/linear_model/_coordinate_descent.py:681: ConvergenceWarning: Objective did not converge. You might want to increase the number of iterations. Duality gap: 69.36696251586841, tolerance: 0.13736271071647077\n",
            "  model = cd_fast.enet_coordinate_descent_gram(\n",
            "/usr/local/lib/python3.11/dist-packages/sklearn/linear_model/_coordinate_descent.py:681: ConvergenceWarning: Objective did not converge. You might want to increase the number of iterations. Duality gap: 67.32914857678611, tolerance: 0.13736271071647077\n",
            "  model = cd_fast.enet_coordinate_descent_gram(\n",
            "/usr/local/lib/python3.11/dist-packages/sklearn/linear_model/_coordinate_descent.py:681: ConvergenceWarning: Objective did not converge. You might want to increase the number of iterations. Duality gap: 74.3836432428102, tolerance: 0.13736271071647077\n",
            "  model = cd_fast.enet_coordinate_descent_gram(\n",
            "/usr/local/lib/python3.11/dist-packages/sklearn/linear_model/_coordinate_descent.py:681: ConvergenceWarning: Objective did not converge. You might want to increase the number of iterations. Duality gap: 42.09643160691428, tolerance: 0.13736271071647077\n",
            "  model = cd_fast.enet_coordinate_descent_gram(\n",
            "/usr/local/lib/python3.11/dist-packages/sklearn/linear_model/_coordinate_descent.py:681: ConvergenceWarning: Objective did not converge. You might want to increase the number of iterations. Duality gap: 47.222900596067916, tolerance: 0.13736271071647077\n",
            "  model = cd_fast.enet_coordinate_descent_gram(\n",
            "/usr/local/lib/python3.11/dist-packages/sklearn/linear_model/_coordinate_descent.py:681: ConvergenceWarning: Objective did not converge. You might want to increase the number of iterations. Duality gap: 57.46523865867937, tolerance: 0.13736271071647077\n",
            "  model = cd_fast.enet_coordinate_descent_gram(\n",
            "/usr/local/lib/python3.11/dist-packages/sklearn/linear_model/_coordinate_descent.py:681: ConvergenceWarning: Objective did not converge. You might want to increase the number of iterations. Duality gap: 69.04577837782188, tolerance: 0.13736271071647077\n",
            "  model = cd_fast.enet_coordinate_descent_gram(\n",
            "/usr/local/lib/python3.11/dist-packages/sklearn/linear_model/_coordinate_descent.py:681: ConvergenceWarning: Objective did not converge. You might want to increase the number of iterations. Duality gap: 86.65354332052834, tolerance: 0.13736271071647077\n",
            "  model = cd_fast.enet_coordinate_descent_gram(\n",
            "/usr/local/lib/python3.11/dist-packages/sklearn/linear_model/_coordinate_descent.py:681: ConvergenceWarning: Objective did not converge. You might want to increase the number of iterations. Duality gap: 101.00582842069059, tolerance: 0.13736271071647077\n",
            "  model = cd_fast.enet_coordinate_descent_gram(\n",
            "/usr/local/lib/python3.11/dist-packages/sklearn/linear_model/_coordinate_descent.py:681: ConvergenceWarning: Objective did not converge. You might want to increase the number of iterations. Duality gap: 112.00411159031, tolerance: 0.13736271071647077\n",
            "  model = cd_fast.enet_coordinate_descent_gram(\n",
            "/usr/local/lib/python3.11/dist-packages/sklearn/linear_model/_coordinate_descent.py:681: ConvergenceWarning: Objective did not converge. You might want to increase the number of iterations. Duality gap: 123.0583776290174, tolerance: 0.13736271071647077\n",
            "  model = cd_fast.enet_coordinate_descent_gram(\n",
            "/usr/local/lib/python3.11/dist-packages/sklearn/linear_model/_coordinate_descent.py:681: ConvergenceWarning: Objective did not converge. You might want to increase the number of iterations. Duality gap: 114.30083634238315, tolerance: 0.13736271071647077\n",
            "  model = cd_fast.enet_coordinate_descent_gram(\n",
            "/usr/local/lib/python3.11/dist-packages/sklearn/linear_model/_coordinate_descent.py:681: ConvergenceWarning: Objective did not converge. You might want to increase the number of iterations. Duality gap: 126.08074800976829, tolerance: 0.13736271071647077\n",
            "  model = cd_fast.enet_coordinate_descent_gram(\n",
            "/usr/local/lib/python3.11/dist-packages/sklearn/linear_model/_coordinate_descent.py:681: ConvergenceWarning: Objective did not converge. You might want to increase the number of iterations. Duality gap: 135.50838957332144, tolerance: 0.13736271071647077\n",
            "  model = cd_fast.enet_coordinate_descent_gram(\n",
            "/usr/local/lib/python3.11/dist-packages/sklearn/linear_model/_coordinate_descent.py:681: ConvergenceWarning: Objective did not converge. You might want to increase the number of iterations. Duality gap: 140.38166809123015, tolerance: 0.13736271071647077\n",
            "  model = cd_fast.enet_coordinate_descent_gram(\n",
            "/usr/local/lib/python3.11/dist-packages/sklearn/linear_model/_coordinate_descent.py:681: ConvergenceWarning: Objective did not converge. You might want to increase the number of iterations. Duality gap: 145.14508812764382, tolerance: 0.13736271071647077\n",
            "  model = cd_fast.enet_coordinate_descent_gram(\n",
            "/usr/local/lib/python3.11/dist-packages/sklearn/linear_model/_coordinate_descent.py:681: ConvergenceWarning: Objective did not converge. You might want to increase the number of iterations. Duality gap: 148.61684121837152, tolerance: 0.13736271071647077\n",
            "  model = cd_fast.enet_coordinate_descent_gram(\n",
            "/usr/local/lib/python3.11/dist-packages/sklearn/linear_model/_coordinate_descent.py:681: ConvergenceWarning: Objective did not converge. You might want to increase the number of iterations. Duality gap: 150.87488924158708, tolerance: 0.13736271071647077\n",
            "  model = cd_fast.enet_coordinate_descent_gram(\n",
            "/usr/local/lib/python3.11/dist-packages/sklearn/linear_model/_coordinate_descent.py:681: ConvergenceWarning: Objective did not converge. You might want to increase the number of iterations. Duality gap: 149.02264321914907, tolerance: 0.13736271071647077\n",
            "  model = cd_fast.enet_coordinate_descent_gram(\n",
            "/usr/local/lib/python3.11/dist-packages/sklearn/linear_model/_coordinate_descent.py:681: ConvergenceWarning: Objective did not converge. You might want to increase the number of iterations. Duality gap: 1.018678730346437, tolerance: 0.13650731337799377\n",
            "  model = cd_fast.enet_coordinate_descent_gram(\n",
            "/usr/local/lib/python3.11/dist-packages/sklearn/linear_model/_coordinate_descent.py:681: ConvergenceWarning: Objective did not converge. You might want to increase the number of iterations. Duality gap: 3.0251285947116457, tolerance: 0.13650731337799377\n",
            "  model = cd_fast.enet_coordinate_descent_gram(\n",
            "/usr/local/lib/python3.11/dist-packages/sklearn/linear_model/_coordinate_descent.py:681: ConvergenceWarning: Objective did not converge. You might want to increase the number of iterations. Duality gap: 1.7460637550063893, tolerance: 0.13650731337799377\n",
            "  model = cd_fast.enet_coordinate_descent_gram(\n",
            "/usr/local/lib/python3.11/dist-packages/sklearn/linear_model/_coordinate_descent.py:681: ConvergenceWarning: Objective did not converge. You might want to increase the number of iterations. Duality gap: 0.17704329565799526, tolerance: 0.13650731337799377\n",
            "  model = cd_fast.enet_coordinate_descent_gram(\n",
            "/usr/local/lib/python3.11/dist-packages/sklearn/linear_model/_coordinate_descent.py:681: ConvergenceWarning: Objective did not converge. You might want to increase the number of iterations. Duality gap: 0.5317461975625974, tolerance: 0.13650731337799377\n",
            "  model = cd_fast.enet_coordinate_descent_gram(\n",
            "/usr/local/lib/python3.11/dist-packages/sklearn/linear_model/_coordinate_descent.py:681: ConvergenceWarning: Objective did not converge. You might want to increase the number of iterations. Duality gap: 7.989497027870016, tolerance: 0.13650731337799377\n",
            "  model = cd_fast.enet_coordinate_descent_gram(\n",
            "/usr/local/lib/python3.11/dist-packages/sklearn/linear_model/_coordinate_descent.py:681: ConvergenceWarning: Objective did not converge. You might want to increase the number of iterations. Duality gap: 14.531186074276775, tolerance: 0.13650731337799377\n",
            "  model = cd_fast.enet_coordinate_descent_gram(\n",
            "/usr/local/lib/python3.11/dist-packages/sklearn/linear_model/_coordinate_descent.py:681: ConvergenceWarning: Objective did not converge. You might want to increase the number of iterations. Duality gap: 24.648530657035508, tolerance: 0.13650731337799377\n",
            "  model = cd_fast.enet_coordinate_descent_gram(\n",
            "/usr/local/lib/python3.11/dist-packages/sklearn/linear_model/_coordinate_descent.py:681: ConvergenceWarning: Objective did not converge. You might want to increase the number of iterations. Duality gap: 37.24762244296869, tolerance: 0.13650731337799377\n",
            "  model = cd_fast.enet_coordinate_descent_gram(\n",
            "/usr/local/lib/python3.11/dist-packages/sklearn/linear_model/_coordinate_descent.py:681: ConvergenceWarning: Objective did not converge. You might want to increase the number of iterations. Duality gap: 48.19543757698216, tolerance: 0.13650731337799377\n",
            "  model = cd_fast.enet_coordinate_descent_gram(\n",
            "/usr/local/lib/python3.11/dist-packages/sklearn/linear_model/_coordinate_descent.py:681: ConvergenceWarning: Objective did not converge. You might want to increase the number of iterations. Duality gap: 44.957388496553335, tolerance: 0.13650731337799377\n",
            "  model = cd_fast.enet_coordinate_descent_gram(\n",
            "/usr/local/lib/python3.11/dist-packages/sklearn/linear_model/_coordinate_descent.py:681: ConvergenceWarning: Objective did not converge. You might want to increase the number of iterations. Duality gap: 52.5834183310061, tolerance: 0.13650731337799377\n",
            "  model = cd_fast.enet_coordinate_descent_gram(\n",
            "/usr/local/lib/python3.11/dist-packages/sklearn/linear_model/_coordinate_descent.py:681: ConvergenceWarning: Objective did not converge. You might want to increase the number of iterations. Duality gap: 57.074931662465474, tolerance: 0.13650731337799377\n",
            "  model = cd_fast.enet_coordinate_descent_gram(\n",
            "/usr/local/lib/python3.11/dist-packages/sklearn/linear_model/_coordinate_descent.py:681: ConvergenceWarning: Objective did not converge. You might want to increase the number of iterations. Duality gap: 60.33402071266619, tolerance: 0.13650731337799377\n",
            "  model = cd_fast.enet_coordinate_descent_gram(\n",
            "/usr/local/lib/python3.11/dist-packages/sklearn/linear_model/_coordinate_descent.py:681: ConvergenceWarning: Objective did not converge. You might want to increase the number of iterations. Duality gap: 76.14380254451783, tolerance: 0.13650731337799377\n",
            "  model = cd_fast.enet_coordinate_descent_gram(\n",
            "/usr/local/lib/python3.11/dist-packages/sklearn/linear_model/_coordinate_descent.py:681: ConvergenceWarning: Objective did not converge. You might want to increase the number of iterations. Duality gap: 93.77369698201915, tolerance: 0.13650731337799377\n",
            "  model = cd_fast.enet_coordinate_descent_gram(\n",
            "/usr/local/lib/python3.11/dist-packages/sklearn/linear_model/_coordinate_descent.py:681: ConvergenceWarning: Objective did not converge. You might want to increase the number of iterations. Duality gap: 105.68768081349549, tolerance: 0.13650731337799377\n",
            "  model = cd_fast.enet_coordinate_descent_gram(\n",
            "/usr/local/lib/python3.11/dist-packages/sklearn/linear_model/_coordinate_descent.py:681: ConvergenceWarning: Objective did not converge. You might want to increase the number of iterations. Duality gap: 115.09074316097224, tolerance: 0.13650731337799377\n",
            "  model = cd_fast.enet_coordinate_descent_gram(\n",
            "/usr/local/lib/python3.11/dist-packages/sklearn/linear_model/_coordinate_descent.py:681: ConvergenceWarning: Objective did not converge. You might want to increase the number of iterations. Duality gap: 122.13122068265136, tolerance: 0.13650731337799377\n",
            "  model = cd_fast.enet_coordinate_descent_gram(\n",
            "/usr/local/lib/python3.11/dist-packages/sklearn/linear_model/_coordinate_descent.py:681: ConvergenceWarning: Objective did not converge. You might want to increase the number of iterations. Duality gap: 91.09790929919302, tolerance: 0.13650731337799377\n",
            "  model = cd_fast.enet_coordinate_descent_gram(\n",
            "/usr/local/lib/python3.11/dist-packages/sklearn/linear_model/_coordinate_descent.py:681: ConvergenceWarning: Objective did not converge. You might want to increase the number of iterations. Duality gap: 103.96320079594079, tolerance: 0.13650731337799377\n",
            "  model = cd_fast.enet_coordinate_descent_gram(\n",
            "/usr/local/lib/python3.11/dist-packages/sklearn/linear_model/_coordinate_descent.py:681: ConvergenceWarning: Objective did not converge. You might want to increase the number of iterations. Duality gap: 117.43519715668572, tolerance: 0.13650731337799377\n",
            "  model = cd_fast.enet_coordinate_descent_gram(\n",
            "/usr/local/lib/python3.11/dist-packages/sklearn/linear_model/_coordinate_descent.py:681: ConvergenceWarning: Objective did not converge. You might want to increase the number of iterations. Duality gap: 122.15300532069136, tolerance: 0.13650731337799377\n",
            "  model = cd_fast.enet_coordinate_descent_gram(\n",
            "/usr/local/lib/python3.11/dist-packages/sklearn/linear_model/_coordinate_descent.py:681: ConvergenceWarning: Objective did not converge. You might want to increase the number of iterations. Duality gap: 129.6658325058786, tolerance: 0.13650731337799377\n",
            "  model = cd_fast.enet_coordinate_descent_gram(\n",
            "/usr/local/lib/python3.11/dist-packages/sklearn/linear_model/_coordinate_descent.py:681: ConvergenceWarning: Objective did not converge. You might want to increase the number of iterations. Duality gap: 135.00385739613262, tolerance: 0.13650731337799377\n",
            "  model = cd_fast.enet_coordinate_descent_gram(\n",
            "/usr/local/lib/python3.11/dist-packages/sklearn/linear_model/_coordinate_descent.py:681: ConvergenceWarning: Objective did not converge. You might want to increase the number of iterations. Duality gap: 138.9366355096929, tolerance: 0.13650731337799377\n",
            "  model = cd_fast.enet_coordinate_descent_gram(\n",
            "/usr/local/lib/python3.11/dist-packages/sklearn/linear_model/_coordinate_descent.py:681: ConvergenceWarning: Objective did not converge. You might want to increase the number of iterations. Duality gap: 141.6350226189852, tolerance: 0.13650731337799377\n",
            "  model = cd_fast.enet_coordinate_descent_gram(\n",
            "/usr/local/lib/python3.11/dist-packages/sklearn/linear_model/_coordinate_descent.py:681: ConvergenceWarning: Objective did not converge. You might want to increase the number of iterations. Duality gap: 0.1603916308515636, tolerance: 0.1348386436862131\n",
            "  model = cd_fast.enet_coordinate_descent_gram(\n",
            "/usr/local/lib/python3.11/dist-packages/sklearn/linear_model/_coordinate_descent.py:681: ConvergenceWarning: Objective did not converge. You might want to increase the number of iterations. Duality gap: 0.17430082334317376, tolerance: 0.1348386436862131\n",
            "  model = cd_fast.enet_coordinate_descent_gram(\n",
            "/usr/local/lib/python3.11/dist-packages/sklearn/linear_model/_coordinate_descent.py:681: ConvergenceWarning: Objective did not converge. You might want to increase the number of iterations. Duality gap: 1.579201777013509, tolerance: 0.1348386436862131\n",
            "  model = cd_fast.enet_coordinate_descent_gram(\n",
            "/usr/local/lib/python3.11/dist-packages/sklearn/linear_model/_coordinate_descent.py:681: ConvergenceWarning: Objective did not converge. You might want to increase the number of iterations. Duality gap: 1.2461849895690875, tolerance: 0.1348386436862131\n",
            "  model = cd_fast.enet_coordinate_descent_gram(\n",
            "/usr/local/lib/python3.11/dist-packages/sklearn/linear_model/_coordinate_descent.py:681: ConvergenceWarning: Objective did not converge. You might want to increase the number of iterations. Duality gap: 5.494036556462106, tolerance: 0.1348386436862131\n",
            "  model = cd_fast.enet_coordinate_descent_gram(\n",
            "/usr/local/lib/python3.11/dist-packages/sklearn/linear_model/_coordinate_descent.py:681: ConvergenceWarning: Objective did not converge. You might want to increase the number of iterations. Duality gap: 10.526740966558805, tolerance: 0.1348386436862131\n",
            "  model = cd_fast.enet_coordinate_descent_gram(\n",
            "/usr/local/lib/python3.11/dist-packages/sklearn/linear_model/_coordinate_descent.py:681: ConvergenceWarning: Objective did not converge. You might want to increase the number of iterations. Duality gap: 2.0225258671035817, tolerance: 0.1348386436862131\n",
            "  model = cd_fast.enet_coordinate_descent_gram(\n",
            "/usr/local/lib/python3.11/dist-packages/sklearn/linear_model/_coordinate_descent.py:681: ConvergenceWarning: Objective did not converge. You might want to increase the number of iterations. Duality gap: 14.354084917867112, tolerance: 0.1348386436862131\n",
            "  model = cd_fast.enet_coordinate_descent_gram(\n",
            "/usr/local/lib/python3.11/dist-packages/sklearn/linear_model/_coordinate_descent.py:681: ConvergenceWarning: Objective did not converge. You might want to increase the number of iterations. Duality gap: 25.682141387579122, tolerance: 0.1348386436862131\n",
            "  model = cd_fast.enet_coordinate_descent_gram(\n",
            "/usr/local/lib/python3.11/dist-packages/sklearn/linear_model/_coordinate_descent.py:681: ConvergenceWarning: Objective did not converge. You might want to increase the number of iterations. Duality gap: 36.31561346306603, tolerance: 0.1348386436862131\n",
            "  model = cd_fast.enet_coordinate_descent_gram(\n",
            "/usr/local/lib/python3.11/dist-packages/sklearn/linear_model/_coordinate_descent.py:681: ConvergenceWarning: Objective did not converge. You might want to increase the number of iterations. Duality gap: 51.97643488785252, tolerance: 0.1348386436862131\n",
            "  model = cd_fast.enet_coordinate_descent_gram(\n",
            "/usr/local/lib/python3.11/dist-packages/sklearn/linear_model/_coordinate_descent.py:681: ConvergenceWarning: Objective did not converge. You might want to increase the number of iterations. Duality gap: 61.11456736424202, tolerance: 0.1348386436862131\n",
            "  model = cd_fast.enet_coordinate_descent_gram(\n",
            "/usr/local/lib/python3.11/dist-packages/sklearn/linear_model/_coordinate_descent.py:681: ConvergenceWarning: Objective did not converge. You might want to increase the number of iterations. Duality gap: 41.80965578852522, tolerance: 0.1348386436862131\n",
            "  model = cd_fast.enet_coordinate_descent_gram(\n",
            "/usr/local/lib/python3.11/dist-packages/sklearn/linear_model/_coordinate_descent.py:681: ConvergenceWarning: Objective did not converge. You might want to increase the number of iterations. Duality gap: 62.54918320630509, tolerance: 0.1348386436862131\n",
            "  model = cd_fast.enet_coordinate_descent_gram(\n",
            "/usr/local/lib/python3.11/dist-packages/sklearn/linear_model/_coordinate_descent.py:681: ConvergenceWarning: Objective did not converge. You might want to increase the number of iterations. Duality gap: 78.90831932725314, tolerance: 0.1348386436862131\n",
            "  model = cd_fast.enet_coordinate_descent_gram(\n",
            "/usr/local/lib/python3.11/dist-packages/sklearn/linear_model/_coordinate_descent.py:681: ConvergenceWarning: Objective did not converge. You might want to increase the number of iterations. Duality gap: 91.58459838949739, tolerance: 0.1348386436862131\n",
            "  model = cd_fast.enet_coordinate_descent_gram(\n",
            "/usr/local/lib/python3.11/dist-packages/sklearn/linear_model/_coordinate_descent.py:681: ConvergenceWarning: Objective did not converge. You might want to increase the number of iterations. Duality gap: 102.74469723202867, tolerance: 0.1348386436862131\n",
            "  model = cd_fast.enet_coordinate_descent_gram(\n",
            "/usr/local/lib/python3.11/dist-packages/sklearn/linear_model/_coordinate_descent.py:681: ConvergenceWarning: Objective did not converge. You might want to increase the number of iterations. Duality gap: 114.2368049673438, tolerance: 0.1348386436862131\n",
            "  model = cd_fast.enet_coordinate_descent_gram(\n",
            "/usr/local/lib/python3.11/dist-packages/sklearn/linear_model/_coordinate_descent.py:681: ConvergenceWarning: Objective did not converge. You might want to increase the number of iterations. Duality gap: 122.45549877924839, tolerance: 0.1348386436862131\n",
            "  model = cd_fast.enet_coordinate_descent_gram(\n",
            "/usr/local/lib/python3.11/dist-packages/sklearn/linear_model/_coordinate_descent.py:681: ConvergenceWarning: Objective did not converge. You might want to increase the number of iterations. Duality gap: 127.82482767361807, tolerance: 0.1348386436862131\n",
            "  model = cd_fast.enet_coordinate_descent_gram(\n",
            "/usr/local/lib/python3.11/dist-packages/sklearn/linear_model/_coordinate_descent.py:681: ConvergenceWarning: Objective did not converge. You might want to increase the number of iterations. Duality gap: 130.22906506856486, tolerance: 0.1348386436862131\n",
            "  model = cd_fast.enet_coordinate_descent_gram(\n",
            "/usr/local/lib/python3.11/dist-packages/sklearn/linear_model/_coordinate_descent.py:681: ConvergenceWarning: Objective did not converge. You might want to increase the number of iterations. Duality gap: 127.67430954969211, tolerance: 0.1348386436862131\n",
            "  model = cd_fast.enet_coordinate_descent_gram(\n",
            "/usr/local/lib/python3.11/dist-packages/sklearn/linear_model/_coordinate_descent.py:681: ConvergenceWarning: Objective did not converge. You might want to increase the number of iterations. Duality gap: 96.899604811921, tolerance: 0.1348386436862131\n",
            "  model = cd_fast.enet_coordinate_descent_gram(\n",
            "/usr/local/lib/python3.11/dist-packages/sklearn/linear_model/_coordinate_descent.py:681: ConvergenceWarning: Objective did not converge. You might want to increase the number of iterations. Duality gap: 106.15316570626771, tolerance: 0.1348386436862131\n",
            "  model = cd_fast.enet_coordinate_descent_gram(\n",
            "/usr/local/lib/python3.11/dist-packages/sklearn/linear_model/_coordinate_descent.py:681: ConvergenceWarning: Objective did not converge. You might want to increase the number of iterations. Duality gap: 0.23078208256606558, tolerance: 0.14134953469485165\n",
            "  model = cd_fast.enet_coordinate_descent_gram(\n",
            "/usr/local/lib/python3.11/dist-packages/sklearn/linear_model/_coordinate_descent.py:681: ConvergenceWarning: Objective did not converge. You might want to increase the number of iterations. Duality gap: 0.5248444154708523, tolerance: 0.14134953469485165\n",
            "  model = cd_fast.enet_coordinate_descent_gram(\n",
            "/usr/local/lib/python3.11/dist-packages/sklearn/linear_model/_coordinate_descent.py:681: ConvergenceWarning: Objective did not converge. You might want to increase the number of iterations. Duality gap: 2.5582957540782445, tolerance: 0.14134953469485165\n",
            "  model = cd_fast.enet_coordinate_descent_gram(\n",
            "/usr/local/lib/python3.11/dist-packages/sklearn/linear_model/_coordinate_descent.py:681: ConvergenceWarning: Objective did not converge. You might want to increase the number of iterations. Duality gap: 2.22545829675164, tolerance: 0.14134953469485165\n",
            "  model = cd_fast.enet_coordinate_descent_gram(\n",
            "/usr/local/lib/python3.11/dist-packages/sklearn/linear_model/_coordinate_descent.py:681: ConvergenceWarning: Objective did not converge. You might want to increase the number of iterations. Duality gap: 3.4880042082991167, tolerance: 0.14134953469485165\n",
            "  model = cd_fast.enet_coordinate_descent_gram(\n",
            "/usr/local/lib/python3.11/dist-packages/sklearn/linear_model/_coordinate_descent.py:681: ConvergenceWarning: Objective did not converge. You might want to increase the number of iterations. Duality gap: 10.850632706079296, tolerance: 0.14134953469485165\n",
            "  model = cd_fast.enet_coordinate_descent_gram(\n",
            "/usr/local/lib/python3.11/dist-packages/sklearn/linear_model/_coordinate_descent.py:681: ConvergenceWarning: Objective did not converge. You might want to increase the number of iterations. Duality gap: 22.887342944950205, tolerance: 0.14134953469485165\n",
            "  model = cd_fast.enet_coordinate_descent_gram(\n",
            "/usr/local/lib/python3.11/dist-packages/sklearn/linear_model/_coordinate_descent.py:681: ConvergenceWarning: Objective did not converge. You might want to increase the number of iterations. Duality gap: 33.740059727420544, tolerance: 0.14134953469485165\n",
            "  model = cd_fast.enet_coordinate_descent_gram(\n",
            "/usr/local/lib/python3.11/dist-packages/sklearn/linear_model/_coordinate_descent.py:681: ConvergenceWarning: Objective did not converge. You might want to increase the number of iterations. Duality gap: 24.520125092890225, tolerance: 0.14134953469485165\n",
            "  model = cd_fast.enet_coordinate_descent_gram(\n",
            "/usr/local/lib/python3.11/dist-packages/sklearn/linear_model/_coordinate_descent.py:681: ConvergenceWarning: Objective did not converge. You might want to increase the number of iterations. Duality gap: 35.558383951448945, tolerance: 0.14134953469485165\n",
            "  model = cd_fast.enet_coordinate_descent_gram(\n",
            "/usr/local/lib/python3.11/dist-packages/sklearn/linear_model/_coordinate_descent.py:681: ConvergenceWarning: Objective did not converge. You might want to increase the number of iterations. Duality gap: 46.9008200877372, tolerance: 0.14134953469485165\n",
            "  model = cd_fast.enet_coordinate_descent_gram(\n",
            "/usr/local/lib/python3.11/dist-packages/sklearn/linear_model/_coordinate_descent.py:681: ConvergenceWarning: Objective did not converge. You might want to increase the number of iterations. Duality gap: 52.694595716609, tolerance: 0.14134953469485165\n",
            "  model = cd_fast.enet_coordinate_descent_gram(\n",
            "/usr/local/lib/python3.11/dist-packages/sklearn/linear_model/_coordinate_descent.py:681: ConvergenceWarning: Objective did not converge. You might want to increase the number of iterations. Duality gap: 58.55684029618055, tolerance: 0.14134953469485165\n",
            "  model = cd_fast.enet_coordinate_descent_gram(\n",
            "/usr/local/lib/python3.11/dist-packages/sklearn/linear_model/_coordinate_descent.py:681: ConvergenceWarning: Objective did not converge. You might want to increase the number of iterations. Duality gap: 64.91555726617116, tolerance: 0.14134953469485165\n",
            "  model = cd_fast.enet_coordinate_descent_gram(\n",
            "/usr/local/lib/python3.11/dist-packages/sklearn/linear_model/_coordinate_descent.py:681: ConvergenceWarning: Objective did not converge. You might want to increase the number of iterations. Duality gap: 69.71334398001397, tolerance: 0.14134953469485165\n",
            "  model = cd_fast.enet_coordinate_descent_gram(\n",
            "/usr/local/lib/python3.11/dist-packages/sklearn/linear_model/_coordinate_descent.py:681: ConvergenceWarning: Objective did not converge. You might want to increase the number of iterations. Duality gap: 55.43563478502813, tolerance: 0.14134953469485165\n",
            "  model = cd_fast.enet_coordinate_descent_gram(\n",
            "/usr/local/lib/python3.11/dist-packages/sklearn/linear_model/_coordinate_descent.py:681: ConvergenceWarning: Objective did not converge. You might want to increase the number of iterations. Duality gap: 61.060630795563156, tolerance: 0.14134953469485165\n",
            "  model = cd_fast.enet_coordinate_descent_gram(\n",
            "/usr/local/lib/python3.11/dist-packages/sklearn/linear_model/_coordinate_descent.py:681: ConvergenceWarning: Objective did not converge. You might want to increase the number of iterations. Duality gap: 63.753939008187785, tolerance: 0.14134953469485165\n",
            "  model = cd_fast.enet_coordinate_descent_gram(\n",
            "/usr/local/lib/python3.11/dist-packages/sklearn/linear_model/_coordinate_descent.py:681: ConvergenceWarning: Objective did not converge. You might want to increase the number of iterations. Duality gap: 64.96088187236364, tolerance: 0.14134953469485165\n",
            "  model = cd_fast.enet_coordinate_descent_gram(\n",
            "/usr/local/lib/python3.11/dist-packages/sklearn/linear_model/_coordinate_descent.py:681: ConvergenceWarning: Objective did not converge. You might want to increase the number of iterations. Duality gap: 51.85655482194613, tolerance: 0.14134953469485165\n",
            "  model = cd_fast.enet_coordinate_descent_gram(\n",
            "/usr/local/lib/python3.11/dist-packages/sklearn/linear_model/_coordinate_descent.py:681: ConvergenceWarning: Objective did not converge. You might want to increase the number of iterations. Duality gap: 55.23626177673202, tolerance: 0.14134953469485165\n",
            "  model = cd_fast.enet_coordinate_descent_gram(\n",
            "/usr/local/lib/python3.11/dist-packages/sklearn/linear_model/_coordinate_descent.py:681: ConvergenceWarning: Objective did not converge. You might want to increase the number of iterations. Duality gap: 58.89734998345682, tolerance: 0.14134953469485165\n",
            "  model = cd_fast.enet_coordinate_descent_gram(\n",
            "/usr/local/lib/python3.11/dist-packages/sklearn/linear_model/_coordinate_descent.py:681: ConvergenceWarning: Objective did not converge. You might want to increase the number of iterations. Duality gap: 61.46647924943318, tolerance: 0.14134953469485165\n",
            "  model = cd_fast.enet_coordinate_descent_gram(\n",
            "/usr/local/lib/python3.11/dist-packages/sklearn/linear_model/_coordinate_descent.py:681: ConvergenceWarning: Objective did not converge. You might want to increase the number of iterations. Duality gap: 67.38123338552623, tolerance: 0.14134953469485165\n",
            "  model = cd_fast.enet_coordinate_descent_gram(\n",
            "/usr/local/lib/python3.11/dist-packages/sklearn/linear_model/_coordinate_descent.py:681: ConvergenceWarning: Objective did not converge. You might want to increase the number of iterations. Duality gap: 83.74064871229962, tolerance: 0.14134953469485165\n",
            "  model = cd_fast.enet_coordinate_descent_gram(\n"
          ]
        },
        {
          "output_type": "stream",
          "name": "stdout",
          "text": [
            "0.03162543390583107\n"
          ]
        },
        {
          "output_type": "stream",
          "name": "stderr",
          "text": [
            "/usr/local/lib/python3.11/dist-packages/sklearn/linear_model/_coordinate_descent.py:681: ConvergenceWarning: Objective did not converge. You might want to increase the number of iterations. Duality gap: 100.99310621831216, tolerance: 0.14134953469485165\n",
            "  model = cd_fast.enet_coordinate_descent_gram(\n",
            "/usr/local/lib/python3.11/dist-packages/sklearn/linear_model/_coordinate_descent.py:681: ConvergenceWarning: Objective did not converge. You might want to increase the number of iterations. Duality gap: 114.2567875136217, tolerance: 0.14134953469485165\n",
            "  model = cd_fast.enet_coordinate_descent_gram(\n"
          ]
        }
      ],
      "source": [
        "from sklearn.linear_model import LassoCV\n",
        "lassocv = LassoCV(cv=5,max_iter=1000).fit(X_train, y_train)\n",
        "print(lassocv.alpha_)"
      ]
    },
    {
      "cell_type": "markdown",
      "metadata": {
        "id": "mWds_KlNLAJC"
      },
      "source": [
        "## 6. Fit model on whole training set using the cross-validated parameters"
      ]
    },
    {
      "cell_type": "code",
      "execution_count": 28,
      "metadata": {
        "id": "Dhib_p_VLAJD"
      },
      "outputs": [],
      "source": [
        "lassowcvalpha=Lasso(alpha = lassocv.alpha_,max_iter=100000).fit(X_train,y_train)"
      ]
    },
    {
      "cell_type": "code",
      "execution_count": 29,
      "metadata": {
        "id": "bPL20kw6DVZZ",
        "outputId": "ec7b1476-0cf2-4339-b3a6-d87f0f35069c",
        "colab": {
          "base_uri": "https://localhost:8080/"
        }
      },
      "outputs": [
        {
          "output_type": "execute_result",
          "data": {
            "text/plain": [
              "array([-0.   ,  0.   , -0.   ,  0.   ,  0.   ,  0.   , -0.   , -0.   ,\n",
              "       -0.   , -0.   ,  0.   ,  0.   , -0.   ,  0.   ,  0.   , -0.   ,\n",
              "        0.   ,  0.   ,  0.   , -0.   , -0.   , -0.   ,  0.   ,  0.   ,\n",
              "        0.   ,  0.   ,  0.   , -0.024, -0.   , -0.   ,  0.   , -0.002,\n",
              "        0.   ,  0.   , -0.   , -0.   , -0.   ,  0.   ,  0.   , -0.   ,\n",
              "       -0.   ,  0.   , -0.   ,  0.   ,  0.   , -0.   , -0.   , -0.   ,\n",
              "        0.   , -0.   ,  0.   , -0.   ,  0.   ,  0.   , -0.052,  0.01 ,\n",
              "        0.001,  0.   , -0.   ,  0.   ,  0.   ,  0.   ,  0.   ,  0.   ,\n",
              "       -0.007, -0.   , -0.   ,  0.   , -0.   , -0.   , -0.   , -0.   ,\n",
              "       -0.   , -0.   , -0.009, -0.   , -0.   ,  0.102,  0.   , -0.   ,\n",
              "        0.   ,  0.027, -0.   ,  0.   , -0.   ,  0.   ,  0.   , -0.   ,\n",
              "        0.   , -0.   ,  0.   , -0.012, -0.033, -0.081,  0.   , -0.012,\n",
              "        0.   ,  0.03 ,  0.   , -0.   , -0.015,  0.   ,  0.05 , -0.   ,\n",
              "       -0.   , -0.   ,  0.   ,  0.   ,  0.   , -0.   , -0.   , -0.036,\n",
              "       -0.   ,  0.   ,  0.   ,  0.   , -0.   , -0.012,  0.   ,  0.004,\n",
              "       -0.028, -0.035, -0.   ,  0.001,  0.021, -0.   ,  0.   ,  0.   ,\n",
              "       -0.   , -0.001, -0.07 , -0.   ,  0.031,  0.   , -0.   , -0.   ,\n",
              "       -0.   ,  0.   ,  0.   , -0.001, -0.02 ,  0.   ,  0.   ,  0.   ,\n",
              "        0.   , -0.   ,  0.023,  0.   , -0.   ,  0.   , -0.   ,  0.   ,\n",
              "        0.   , -0.   , -0.   ,  0.   ,  0.   ,  0.   ,  0.   , -0.   ,\n",
              "        0.   ,  0.   ,  0.   , -0.   , -0.   , -0.   , -0.   , -0.053,\n",
              "       -0.038, -0.   ,  0.   ,  0.029,  0.   ,  0.   , -0.   , -0.   ,\n",
              "       -0.   , -0.   ,  0.   , -0.   ,  0.   , -0.   ,  0.   ,  0.   ])"
            ]
          },
          "metadata": {},
          "execution_count": 29
        }
      ],
      "source": [
        "lassowcvalpha.coef_"
      ]
    },
    {
      "cell_type": "markdown",
      "metadata": {
        "id": "gUPKBUI9LAJE"
      },
      "source": [
        "## 7. Evaluate model by applying it to test set"
      ]
    },
    {
      "cell_type": "code",
      "execution_count": 30,
      "metadata": {
        "id": "PCCFwiRhLAJF",
        "outputId": "797c64c2-08b6-4d39-d0a3-9149e09dfdde",
        "colab": {
          "base_uri": "https://localhost:8080/"
        }
      },
      "outputs": [
        {
          "output_type": "stream",
          "name": "stdout",
          "text": [
            "Lasso score on test set: 0.0543\n"
          ]
        }
      ],
      "source": [
        "print('Lasso score on test set: {:.4f}'.format(lassowcvalpha.score(X_test,y_test)))"
      ]
    },
    {
      "cell_type": "markdown",
      "metadata": {
        "id": "YrJ9niLALAJG"
      },
      "source": [
        "## 8. Repeat 4-7 for several methods"
      ]
    },
    {
      "cell_type": "code",
      "execution_count": 32,
      "metadata": {
        "id": "Lh9k6n8NMoHA",
        "outputId": "f17919c5-2d46-4af7-8833-407666ad5c24",
        "colab": {
          "base_uri": "https://localhost:8080/"
        }
      },
      "outputs": [
        {
          "output_type": "execute_result",
          "data": {
            "text/plain": [
              "0.049370515025077055"
            ]
          },
          "metadata": {},
          "execution_count": 32
        }
      ],
      "source": [
        "from sklearn.linear_model import RidgeCV\n",
        "ridgecv = RidgeCV().fit(X_train,y_train)\n",
        "ridgecv.score(X_test,y_test)"
      ]
    },
    {
      "cell_type": "code",
      "source": [
        "ridgecv.coef_"
      ],
      "metadata": {
        "id": "GsfJrLCjPCBO",
        "outputId": "4a500041-851d-45ee-c387-2fcee28338df",
        "colab": {
          "base_uri": "https://localhost:8080/"
        }
      },
      "execution_count": 33,
      "outputs": [
        {
          "output_type": "execute_result",
          "data": {
            "text/plain": [
              "array([-0.028, -0.003,  0.004, -0.04 ,  0.037, -0.023, -0.003, -0.017,\n",
              "       -0.006,  0.02 ,  0.027, -0.034,  0.024, -0.018,  0.029, -0.018,\n",
              "        0.016, -0.01 , -0.002, -0.019, -0.006,  0.023, -0.023,  0.031,\n",
              "        0.024, -0.022,  0.042, -0.066, -0.001,  0.003,  0.011, -0.031,\n",
              "       -0.004, -0.014, -0.   ,  0.058, -0.042, -0.016, -0.   , -0.012,\n",
              "        0.01 , -0.002,  0.004,  0.008,  0.004, -0.012,  0.059, -0.028,\n",
              "        0.173, -0.02 ,  0.03 ,  0.169, -0.116,  1.232,  0.501,  0.093,\n",
              "        0.607,  0.415, -0.035,  0.687,  0.561, -0.063,  0.803,  0.49 ,\n",
              "       -0.127,  0.679,  0.293,  0.022,  0.392,  0.315, -0.094,  0.424,\n",
              "        0.236,  0.045, -0.056, -0.031,  0.18 ,  0.154, -0.17 ,  0.043,\n",
              "       -0.229, -0.053, -0.037, -0.183, -0.215, -0.046, -0.345, -0.163,\n",
              "       -0.078, -0.44 , -0.135, -0.128, -0.463, -0.281, -0.072, -0.479,\n",
              "       -0.041,  0.155, -0.316, -0.22 , -0.061, -0.188, -0.005,  0.313,\n",
              "        0.057, -0.162, -0.005,  0.052,  0.04 ,  0.021, -0.062, -0.153,\n",
              "        0.023, -0.013,  0.146,  0.064, -0.041, -0.158,  0.026,  0.081,\n",
              "       -0.123, -0.104, -0.078,  0.121,  0.129, -0.141,  0.11 ,  0.006,\n",
              "        0.022, -0.09 , -0.11 , -0.069,  0.119,  0.057, -0.015, -0.052,\n",
              "       -0.021,  0.083,  0.019, -0.035, -0.063,  0.013,  0.055,  0.011,\n",
              "       -0.012, -0.031,  0.072, -0.03 , -0.116,  0.145, -0.103, -0.163,\n",
              "       -5.04 , -3.038, -0.81 ,  0.012,  0.583, -0.031,  1.057,  0.51 ,\n",
              "       -0.057,  0.879,  0.561, -0.056,  0.635,  0.35 , -0.02 ,  0.206,\n",
              "        0.125,  0.134, -0.033, -0.132, -0.05 , -0.315, -0.224, -0.121,\n",
              "       -0.543, -0.242,  0.043, -0.507, -0.163,  0.149, -0.087, -0.085])"
            ]
          },
          "metadata": {},
          "execution_count": 33
        }
      ]
    },
    {
      "cell_type": "markdown",
      "metadata": {
        "id": "pYDDrrE8LAJH"
      },
      "source": [
        "## 9. Apply to new observations for which we have no labels"
      ]
    },
    {
      "cell_type": "code",
      "execution_count": null,
      "metadata": {
        "hide_input": false,
        "id": "GsinB0V6LAJI"
      },
      "outputs": [],
      "source": [
        "Xnew=pd.read_csv('./newobs.csv')\n",
        "\n",
        "# standardize new Xs in same way\n",
        "Xnew = scaler.transform(Xnew)\n",
        "yhatnew=lassowcvalpha.predict(Xnew)\n",
        "print(\"predicted residualized ticket sales for new observation: \",yhatnew)"
      ]
    },
    {
      "cell_type": "code",
      "execution_count": null,
      "metadata": {
        "id": "iMdW0Qi5LAJK"
      },
      "outputs": [],
      "source": [
        "lassowcvalpha.coef_"
      ]
    },
    {
      "cell_type": "code",
      "execution_count": null,
      "metadata": {
        "id": "tjX8IEhyj8eK"
      },
      "outputs": [],
      "source": []
    }
  ],
  "metadata": {
    "colab": {
      "provenance": [],
      "include_colab_link": true
    },
    "kernelspec": {
      "display_name": "Python 3",
      "language": "python",
      "name": "python3"
    },
    "language_info": {
      "codemirror_mode": {
        "name": "ipython",
        "version": 3
      },
      "file_extension": ".py",
      "mimetype": "text/x-python",
      "name": "python",
      "nbconvert_exporter": "python",
      "pygments_lexer": "ipython3",
      "version": "3.6.9"
    },
    "latex_metadata": {
      "author": "Andreas C. M\\\"ller",
      "title": "Machine Learning with Python"
    }
  },
  "nbformat": 4,
  "nbformat_minor": 0
}
