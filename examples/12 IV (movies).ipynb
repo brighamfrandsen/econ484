{
  "cells": [
    {
      "cell_type": "markdown",
      "metadata": {
        "id": "view-in-github",
        "colab_type": "text"
      },
      "source": [
        "<a href=\"https://colab.research.google.com/github/brighamfrandsen/econ484/blob/master/examples/movies%20IV.ipynb\" target=\"_parent\"><img src=\"https://colab.research.google.com/assets/colab-badge.svg\" alt=\"Open In Colab\"/></a>"
      ]
    },
    {
      "cell_type": "code",
      "execution_count": null,
      "metadata": {
        "id": "bCfxffcRLeP3"
      },
      "outputs": [],
      "source": [
        "# Import necessary libraries\n",
        "!git clone https://github.com/brighamfrandsen/econ484.git\n",
        "%cd econ484/utilities\n",
        "from preamble import *\n",
        "%cd ../data"
      ]
    },
    {
      "cell_type": "markdown",
      "metadata": {
        "id": "gzWRbYOjLAIr"
      },
      "source": [
        "# Example: Instrumental Variables Estimation of the Effect of Social Spillovers on Movie-going"
      ]
    },
    {
      "cell_type": "markdown",
      "metadata": {
        "id": "bTaCceX9LAIs"
      },
      "source": [
        "This notebook will illustrate the entire supervised machine learning process in the context of predicting movie attendance based on the weather on opening weekend."
      ]
    },
    {
      "cell_type": "markdown",
      "metadata": {
        "id": "nmC-h_PvLAIs"
      },
      "source": [
        "### Figure out your question"
      ]
    },
    {
      "cell_type": "markdown",
      "metadata": {
        "id": "HZ62RUB5LAIt"
      },
      "source": [
        "What is the effect of opening-weekend attendance on subsequent weekend attendance at a movie?"
      ]
    },
    {
      "cell_type": "markdown",
      "metadata": {
        "id": "gfaGY7UHLAIt"
      },
      "source": [
        "## Obtain a labeled dataset"
      ]
    },
    {
      "cell_type": "code",
      "execution_count": null,
      "metadata": {
        "id": "4mQtzrcRLAIu"
      },
      "outputs": [],
      "source": [
        "import pandas as pd\n",
        "import numpy as np"
      ]
    },
    {
      "cell_type": "code",
      "execution_count": null,
      "metadata": {
        "id": "E1XtvSKZLAIx"
      },
      "outputs": [],
      "source": [
        "moviedata=pd.read_csv('./movies_cleaned.csv')\n",
        "print(moviedata.head())\n",
        "print(\"Shape: {}\".format(str(moviedata.shape)))"
      ]
    },
    {
      "cell_type": "markdown",
      "metadata": {
        "id": "VttS4Ca0LAIz"
      },
      "source": [
        "Let's define our \"label\" (y) vector, our \"treatment\" vector (d), and our instrument matrix (Z):"
      ]
    },
    {
      "cell_type": "code",
      "execution_count": null,
      "metadata": {
        "id": "rv0M75IWLAIz"
      },
      "outputs": [],
      "source": [
        "y = moviedata.loc[:,'y_ticketsales']\n",
        "d = moviedata.loc[:,['x_openingsales']]\n",
        "Z = moviedata.filter(like='open_',axis=1)\n",
        "print('our y vector is:\\n',y.head)\n",
        "print('our d vector is:\\n',d.head)\n",
        "print('our instrument matrix is:\\n',Z.head)"
      ]
    },
    {
      "cell_type": "markdown",
      "metadata": {
        "id": "Mz_KFucyLAI1"
      },
      "source": [
        "## Start with OLS of y on d. Be sure to print import necessary packages and print out coefficients!"
      ]
    },
    {
      "cell_type": "markdown",
      "metadata": {
        "id": "5JkIkrXLD9tZ"
      },
      "source": [
        "### Try yourself first!"
      ]
    },
    {
      "cell_type": "code",
      "execution_count": null,
      "metadata": {
        "id": "Dcbm056vECAo"
      },
      "outputs": [],
      "source": []
    },
    {
      "cell_type": "markdown",
      "metadata": {
        "id": "Yz_yQe_fED-H"
      },
      "source": [
        "### Cheat if you need to"
      ]
    },
    {
      "cell_type": "code",
      "execution_count": null,
      "metadata": {
        "id": "aq1fmWdjLAI2"
      },
      "outputs": [],
      "source": [
        "from sklearn import linear_model\n",
        "\n",
        "ols = linear_model.LinearRegression().fit(d,y)\n",
        "print('OLS coefficient: ',ols.coef_)"
      ]
    },
    {
      "cell_type": "markdown",
      "metadata": {
        "id": "wuZh-g9SLAI4"
      },
      "source": [
        "## Now do \"manual\" two-stage least squares where you first regress d on Z, obtain predicted values, then regress y on the predicted values. Be sure to print out final coefficient on d-hat!"
      ]
    },
    {
      "cell_type": "markdown",
      "metadata": {
        "id": "8ZTmzjfJEOoi"
      },
      "source": [
        "### Try yourself first"
      ]
    },
    {
      "cell_type": "code",
      "execution_count": null,
      "metadata": {
        "id": "xMhPvrwUETWC"
      },
      "outputs": [],
      "source": []
    },
    {
      "cell_type": "markdown",
      "metadata": {
        "id": "4OwFh4ZaEUlR"
      },
      "source": [
        "### Cheat if you need to"
      ]
    },
    {
      "cell_type": "code",
      "execution_count": null,
      "metadata": {
        "id": "8wkQST25LAI4"
      },
      "outputs": [],
      "source": [
        "\n",
        "ols_fs = ols.fit(Z,d)\n",
        "dhat = ols_fs.predict(Z)\n",
        "tsls = ols.fit(dhat,y)\n",
        "\n",
        "print('2SLS coefficient: ',tsls.coef_)\n"
      ]
    },
    {
      "cell_type": "markdown",
      "metadata": {
        "id": "1NbHlQq6LAI6"
      },
      "source": [
        "## Now do ML-augmented two-stage least squares using Random Forest to obtain the fitted values"
      ]
    },
    {
      "cell_type": "markdown",
      "metadata": {
        "id": "FXvhRSEKEkqG"
      },
      "source": [
        "###Try yourself first"
      ]
    },
    {
      "cell_type": "code",
      "execution_count": null,
      "metadata": {
        "id": "lBAv8dojEnXI"
      },
      "outputs": [],
      "source": [
        "# import necessary packages and create prediction \"object\"\n",
        "\n",
        "# first grow random forest:\n",
        "\n",
        "# now get random forest predictions to use as instrument:\n",
        "\n",
        "# do \"first stage\" using random forest predictions as instrument:\n",
        "\n",
        "# finally, 2nd stage regression:\n"
      ]
    },
    {
      "cell_type": "markdown",
      "metadata": {
        "id": "gydX7SQnEn4H"
      },
      "source": [
        "### Cheat"
      ]
    },
    {
      "cell_type": "code",
      "execution_count": null,
      "metadata": {
        "id": "cnlGCM31Jqhm"
      },
      "outputs": [],
      "source": [
        "# import necessary packages and create prediction \"object\"\n",
        "from sklearn.ensemble import RandomForestRegressor\n",
        "rf = RandomForestRegressor(max_depth=2,max_features='sqrt')\n",
        "# first grow random forest:\n",
        "rf.fit(Z,d)\n",
        "# now get random forest predictions to use as instrument:\n",
        "dtilde=rf.predict(Z).reshape(-1,1)\n",
        "# do \"first stage\" using random forest predictions as instrument:\n",
        "fs_rf=ols.fit(dtilde,d)\n",
        "dhat_rf=fs_rf.predict(dtilde)\n",
        "# finally, 2nd stage regression:\n",
        "tsls_rf=ols.fit(dhat_rf,y)\n",
        "print('2SLS+Random Forest coefficient: ',tsls_rf.coef_)"
      ]
    },
    {
      "cell_type": "markdown",
      "metadata": {
        "id": "K-6n2i-JFy-k"
      },
      "source": [
        "##Now do Belloni, Chernozhukov, Hansen Post-Lasso 2SLS"
      ]
    },
    {
      "cell_type": "markdown",
      "metadata": {
        "id": "yhlMf_FDHEWj"
      },
      "source": [
        "### Try yourself first"
      ]
    },
    {
      "cell_type": "code",
      "execution_count": null,
      "metadata": {
        "id": "sScVyTNZHG-3"
      },
      "outputs": [],
      "source": [
        "# hint 1: don't forget to scale the Zs before doing Lasso\n",
        "# hint 2: to select the columns of a matrix corresponding to a set of nonzero coefficients, you can do something like:\n",
        "# Z_selected = Z[:,model.coef_!=0]"
      ]
    },
    {
      "cell_type": "markdown",
      "metadata": {
        "id": "vJqQvvjdHIHm"
      },
      "source": [
        "### Cheat"
      ]
    },
    {
      "cell_type": "code",
      "execution_count": null,
      "metadata": {
        "id": "YJZIyzOuHKN2"
      },
      "outputs": [],
      "source": [
        "# Lasso tends to work better with standardized variables, so:\n",
        "from sklearn.preprocessing import StandardScaler\n",
        "scaler = StandardScaler()\n",
        "scaler.fit(Z)\n",
        "Z_scaled = scaler.transform(Z)\n",
        "\n",
        "# create lasso object, setting the penalty parameter\n",
        "lasso=linear_model.LassoCV()\n",
        "\n",
        "# predict d using Z_scaled:\n",
        "lasso.fit(Z_scaled,d)\n",
        "print(lasso.coef_)\n",
        "# grab just the Zs with nonzero coeffs\n",
        "Z_selected=Z_scaled[:,lasso.coef_!=0]\n",
        "\n",
        "# do the first stage regression via OLS using the selected Zs and get the fitted values:\n",
        "postlasso_fs = ols.fit(Z_selected,d)\n",
        "dhat_postlasso = postlasso_fs.predict(Z_selected)\n",
        "\n",
        "# do 2nd stage regression using the post-lasso fitted values:\n",
        "tsls_postlasso = ols.fit(dhat_postlasso,y)\n",
        "print('Post-Lasso 2SLS coefficient: ',tsls_postlasso.coef_)\n",
        "print(lasso.coef_)\n"
      ]
    },
    {
      "cell_type": "code",
      "source": [
        "Z_selected.shape"
      ],
      "metadata": {
        "id": "fn4mMoNqO167"
      },
      "execution_count": null,
      "outputs": []
    },
    {
      "cell_type": "code",
      "execution_count": null,
      "metadata": {
        "id": "S0sM-1CWILuG"
      },
      "outputs": [],
      "source": []
    },
    {
      "cell_type": "markdown",
      "metadata": {
        "id": "EZ0b7ysqKuhE"
      },
      "source": [
        "## Now go back to ML-augmented 2SLS and try with several different prediction methods"
      ]
    },
    {
      "cell_type": "code",
      "execution_count": null,
      "metadata": {
        "id": "7M9ddYhiK0g3"
      },
      "outputs": [],
      "source": []
    }
  ],
  "metadata": {
    "colab": {
      "collapsed_sections": [
        "Yz_yQe_fED-H",
        "vJqQvvjdHIHm"
      ],
      "provenance": [],
      "include_colab_link": true
    },
    "kernelspec": {
      "display_name": "Python 3",
      "language": "python",
      "name": "python3"
    },
    "language_info": {
      "codemirror_mode": {
        "name": "ipython",
        "version": 3
      },
      "file_extension": ".py",
      "mimetype": "text/x-python",
      "name": "python",
      "nbconvert_exporter": "python",
      "pygments_lexer": "ipython3",
      "version": "3.6.9"
    },
    "latex_metadata": {
      "author": "Andreas C. M\\\"ller",
      "title": "Machine Learning with Python"
    }
  },
  "nbformat": 4,
  "nbformat_minor": 0
}
