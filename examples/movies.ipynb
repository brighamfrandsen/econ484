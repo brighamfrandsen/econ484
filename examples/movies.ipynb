{
  "cells": [
    {
      "cell_type": "markdown",
      "metadata": {
        "id": "view-in-github",
        "colab_type": "text"
      },
      "source": [
        "<a href=\"https://colab.research.google.com/github/brighamfrandsen/econ484/blob/master/examples/movies.ipynb\" target=\"_parent\"><img src=\"https://colab.research.google.com/assets/colab-badge.svg\" alt=\"Open In Colab\"/></a>"
      ]
    },
    {
      "cell_type": "code",
      "execution_count": null,
      "metadata": {
        "id": "bCfxffcRLeP3"
      },
      "outputs": [],
      "source": [
        "# Import necessary libraries\n",
        "!git clone https://github.com/brighamfrandsen/econ484.git\n",
        "%cd econ484/utilities\n",
        "from preamble import *\n",
        "%cd ../data"
      ]
    },
    {
      "cell_type": "markdown",
      "metadata": {
        "id": "gzWRbYOjLAIr"
      },
      "source": [
        "# Example: Movie-going and Weather"
      ]
    },
    {
      "cell_type": "markdown",
      "metadata": {
        "id": "bTaCceX9LAIs"
      },
      "source": [
        "This notebook will illustrate the entire supervised machine learning process in the context of predicting movie attendance based on the weather on opening weekend."
      ]
    },
    {
      "cell_type": "markdown",
      "metadata": {
        "id": "nmC-h_PvLAIs"
      },
      "source": [
        "## 1. Figure out your question"
      ]
    },
    {
      "cell_type": "markdown",
      "metadata": {
        "id": "HZ62RUB5LAIt"
      },
      "source": [
        "How many people would be expected to attend a movie on a weekend with temperatures in the X1s, precipitation of X2, humidity of X3, . . . ?"
      ]
    },
    {
      "cell_type": "markdown",
      "metadata": {
        "id": "gfaGY7UHLAIt"
      },
      "source": [
        "## 2. Obtain a labeled dataset"
      ]
    },
    {
      "cell_type": "code",
      "execution_count": null,
      "metadata": {
        "id": "4mQtzrcRLAIu"
      },
      "outputs": [],
      "source": [
        "import pandas as pd\n",
        "import numpy as np"
      ]
    },
    {
      "cell_type": "code",
      "execution_count": null,
      "metadata": {
        "id": "E1XtvSKZLAIx"
      },
      "outputs": [],
      "source": [
        "moviedata=pd.read_csv('./opening_wkend.csv')\n",
        "\n",
        "print(moviedata.head())\n",
        "print(\"Shape: {}\".format(str(moviedata.shape)))"
      ]
    },
    {
      "cell_type": "markdown",
      "metadata": {
        "id": "VttS4Ca0LAIz"
      },
      "source": [
        "Let's define our \"label\" (y) vector and our \"feature\" matrix (X):"
      ]
    },
    {
      "cell_type": "code",
      "execution_count": null,
      "metadata": {
        "id": "rv0M75IWLAIz"
      },
      "outputs": [],
      "source": [
        "y = moviedata.filter(items=['tickets_wk1d_r'])\n",
        "X = moviedata.filter(like='res_own',axis=1)\n",
        "print('our y vector is:\\n',y.head)\n",
        "print('our X matrix is:\\n',X.head)\n",
        "from sklearn.preprocessing import StandardScaler\n",
        "scaler = StandardScaler()\n",
        "scaler.fit(X)\n",
        "X = scaler.transform(X)"
      ]
    },
    {
      "cell_type": "markdown",
      "metadata": {
        "id": "Mz_KFucyLAI1"
      },
      "source": [
        "## 3. Divide into training and test sets"
      ]
    },
    {
      "cell_type": "code",
      "execution_count": null,
      "metadata": {
        "id": "aq1fmWdjLAI2"
      },
      "outputs": [],
      "source": [
        "from sklearn.model_selection import train_test_split\n",
        "X_train, X_test, y_train, y_test = train_test_split(X,y,random_state=42,test_size=.25)\n",
        "y_train.shape"
      ]
    },
    {
      "cell_type": "markdown",
      "metadata": {
        "id": "wuZh-g9SLAI4"
      },
      "source": [
        "## 4. Pick an appropriate method"
      ]
    },
    {
      "cell_type": "code",
      "execution_count": null,
      "metadata": {
        "id": "8wkQST25LAI4"
      },
      "outputs": [],
      "source": [
        "from sklearn.linear_model import Lasso"
      ]
    },
    {
      "cell_type": "markdown",
      "metadata": {
        "id": "1NbHlQq6LAI6"
      },
      "source": [
        "## 5. Choose regularization parameters via cross-validation on the training set"
      ]
    },
    {
      "cell_type": "markdown",
      "metadata": {
        "id": "tgQR975XLAI6"
      },
      "source": [
        "By hand if you really want:"
      ]
    },
    {
      "cell_type": "code",
      "execution_count": null,
      "metadata": {
        "id": "uKdt9hvkLAI7"
      },
      "outputs": [],
      "source": [
        "from sklearn.model_selection import cross_val_score"
      ]
    },
    {
      "cell_type": "code",
      "execution_count": null,
      "metadata": {
        "id": "l-TcQeQILAI9"
      },
      "outputs": [],
      "source": [
        "lasso = Lasso(alpha=0.1, max_iter=100)\n",
        "scores = cross_val_score(lasso,X_train,y_train,cv=5)\n",
        "print(\"Cross-validation scores: {}\".format(scores))\n",
        "print(\"Average cross-validation score: {:.4f}\".format(scores.mean()))"
      ]
    },
    {
      "cell_type": "markdown",
      "metadata": {
        "id": "-yvDVPQCLAI-"
      },
      "source": [
        "Or use GridSearchCV and do it automatically:"
      ]
    },
    {
      "cell_type": "code",
      "execution_count": null,
      "metadata": {
        "id": "U6nTq5MHLAI-"
      },
      "outputs": [],
      "source": [
        "from sklearn.model_selection import GridSearchCV\n",
        "# define grid for alpha\n",
        "alpha_grid = {'alpha': [.0001, .005,.01, .015,.02, .025, .03, .031, .032, .034, .035, .036, .04 ,.05, .06 ],'max_iter': [1000]}\n",
        "grid_search = GridSearchCV(Lasso(),alpha_grid,cv=5,return_train_score=True)\n",
        "best_model=grid_search.fit(X_train,y_train)\n",
        "print(\"Best alpha: \",best_model.best_estimator_.get_params()['alpha'])"
      ]
    },
    {
      "cell_type": "markdown",
      "metadata": {
        "id": "Oe27Y9DLLAJA"
      },
      "source": [
        "Or, even easier, just use LassoCV:"
      ]
    },
    {
      "cell_type": "code",
      "execution_count": null,
      "metadata": {
        "id": "xj_vvr8HLAJA"
      },
      "outputs": [],
      "source": [
        "from sklearn.linear_model import LassoCV\n",
        "lassocv = LassoCV(cv=5,max_iter=1000).fit(X_train, y_train)\n",
        "print(lassocv.alpha_)"
      ]
    },
    {
      "cell_type": "markdown",
      "metadata": {
        "id": "mWds_KlNLAJC"
      },
      "source": [
        "## 6. Fit model on whole training set using the cross-validated parameters"
      ]
    },
    {
      "cell_type": "code",
      "execution_count": null,
      "metadata": {
        "id": "Dhib_p_VLAJD"
      },
      "outputs": [],
      "source": [
        "lassowcvalpha=Lasso(alpha = lassocv.alpha_,max_iter=100000).fit(X_train,y_train)"
      ]
    },
    {
      "cell_type": "code",
      "execution_count": null,
      "metadata": {
        "id": "bPL20kw6DVZZ"
      },
      "outputs": [],
      "source": [
        "lassowcvalpha.coef_"
      ]
    },
    {
      "cell_type": "markdown",
      "metadata": {
        "id": "gUPKBUI9LAJE"
      },
      "source": [
        "## 7. Evaluate model by applying it to test set"
      ]
    },
    {
      "cell_type": "code",
      "execution_count": null,
      "metadata": {
        "id": "PCCFwiRhLAJF"
      },
      "outputs": [],
      "source": [
        "print('Lasso score on test set: {:.4f}'.format(lassowcvalpha.score(X_test,y_test)))"
      ]
    },
    {
      "cell_type": "markdown",
      "metadata": {
        "id": "YrJ9niLALAJG"
      },
      "source": [
        "## 8. Repeat 4-7 for several methods"
      ]
    },
    {
      "cell_type": "code",
      "execution_count": null,
      "metadata": {
        "id": "Lh9k6n8NMoHA"
      },
      "outputs": [],
      "source": []
    },
    {
      "cell_type": "markdown",
      "metadata": {
        "id": "pYDDrrE8LAJH"
      },
      "source": [
        "## 9. Apply to new observations for which we have no labels"
      ]
    },
    {
      "cell_type": "code",
      "execution_count": null,
      "metadata": {
        "hide_input": false,
        "id": "GsinB0V6LAJI"
      },
      "outputs": [],
      "source": [
        "Xnew=pd.read_csv('./newobs.csv')\n",
        "\n",
        "# standardize new Xs in same way\n",
        "Xnew = scaler.transform(Xnew)\n",
        "yhatnew=lassowcvalpha.predict(Xnew)\n",
        "print(\"predicted residualized ticket sales for new observation: \",yhatnew)"
      ]
    },
    {
      "cell_type": "code",
      "execution_count": null,
      "metadata": {
        "id": "iMdW0Qi5LAJK"
      },
      "outputs": [],
      "source": [
        "lassowcvalpha.coef_"
      ]
    },
    {
      "cell_type": "code",
      "execution_count": null,
      "metadata": {
        "id": "tjX8IEhyj8eK"
      },
      "outputs": [],
      "source": []
    }
  ],
  "metadata": {
    "colab": {
      "provenance": [],
      "include_colab_link": true
    },
    "kernelspec": {
      "display_name": "Python 3",
      "language": "python",
      "name": "python3"
    },
    "language_info": {
      "codemirror_mode": {
        "name": "ipython",
        "version": 3
      },
      "file_extension": ".py",
      "mimetype": "text/x-python",
      "name": "python",
      "nbconvert_exporter": "python",
      "pygments_lexer": "ipython3",
      "version": "3.6.9"
    },
    "latex_metadata": {
      "author": "Andreas C. M\\\"ller",
      "title": "Machine Learning with Python"
    }
  },
  "nbformat": 4,
  "nbformat_minor": 0
}