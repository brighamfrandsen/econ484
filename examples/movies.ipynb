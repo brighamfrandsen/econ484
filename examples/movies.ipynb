{
 "cells": [
  {
   "cell_type": "code",
   "execution_count": null,
   "metadata": {
    "colab": {
     "base_uri": "https://localhost:8080/"
    },
    "executionInfo": {
     "elapsed": 847,
     "status": "ok",
     "timestamp": 1728403355550,
     "user": {
      "displayName": "Brigham Frandsen",
      "userId": "16207919643707414251"
     },
     "user_tz": 360
    },
    "id": "bCfxffcRLeP3",
    "outputId": "d5a922dc-2e7e-4afb-fb71-9490b36159a1"
   },
   "outputs": [
    {
     "name": "stdout",
     "output_type": "stream",
     "text": [
      "Drive already mounted at /content/gdrive; to attempt to forcibly remount, call drive.mount(\"/content/gdrive\", force_remount=True).\n"
     ]
    }
   ],
   "source": [
    "# Import necessary libraries\n",
    "import urllib.request\n",
    "import importlib.util\n",
    "!pip install mglearn\n",
    "import mglearn\n",
    "url = \"https://raw.githubusercontent.com/brighamfrandsen/econ484/refs/heads/master/utilities/preamble.py\"\n",
    "urllib.request.urlretrieve(url, \"preamble.py\")\n",
    "spec = importlib.util.spec_from_file_location(\"preamble\", \"preamble.py\")\n",
    "preamble = importlib.util.module_from_spec(spec)\n",
    "spec.loader.exec_module(preamble)\n",
    "from preamble import *"
   ]
  },
  {
   "cell_type": "markdown",
   "metadata": {},
   "source": [
    "[![Open in Colab](https://colab.research.google.com/assets/colab-badge.svg)](https://colab.research.google.com/github/brighamfrandsen/econ484/blob/master/examples/movies.ipynb)"
   ]
  },
  {
   "cell_type": "markdown",
   "metadata": {
    "id": "gzWRbYOjLAIr"
   },
   "source": [
    "# Example: Movie-going and Weather"
   ]
  },
  {
   "cell_type": "markdown",
   "metadata": {
    "id": "bTaCceX9LAIs"
   },
   "source": [
    "This notebook will illustrate the entire supervised machine learning process in the context of predicting movie attendance based on the weather on opening weekend."
   ]
  },
  {
   "cell_type": "markdown",
   "metadata": {
    "id": "nmC-h_PvLAIs"
   },
   "source": [
    "## 1. Figure out your question"
   ]
  },
  {
   "cell_type": "markdown",
   "metadata": {
    "id": "HZ62RUB5LAIt"
   },
   "source": [
    "How many people would be expected to attend a movie on a weekend with temperatures in the X1s, precipitation of X2, humidity of X3, . . . ?"
   ]
  },
  {
   "cell_type": "markdown",
   "metadata": {
    "id": "gfaGY7UHLAIt"
   },
   "source": [
    "## 2. Obtain a labeled dataset"
   ]
  },
  {
   "cell_type": "code",
   "execution_count": null,
   "metadata": {
    "id": "4mQtzrcRLAIu"
   },
   "outputs": [],
   "source": [
    "import pandas as pd\n",
    "import numpy as np"
   ]
  },
  {
   "cell_type": "code",
   "execution_count": null,
   "metadata": {
    "colab": {
     "base_uri": "https://localhost:8080/"
    },
    "executionInfo": {
     "elapsed": 366,
     "status": "ok",
     "timestamp": 1728403516842,
     "user": {
      "displayName": "Brigham Frandsen",
      "userId": "16207919643707414251"
     },
     "user_tz": 360
    },
    "id": "E1XtvSKZLAIx",
    "outputId": "1b8679d6-3b5c-402b-f580-7373bc4f3087"
   },
   "outputs": [
    {
     "name": "stdout",
     "output_type": "stream",
     "text": [
      "   tickets_wk1d_r  tickets_ratedgpg_wk1d_r  tickets_adult_wk1d_r  \\\n",
      "0       -1.718881                -0.710163             -1.603236   \n",
      "1       -1.311943                      NaN             -0.815862   \n",
      "2        0.958356                      NaN              0.979913   \n",
      "3       -1.305518                      NaN             -1.066690   \n",
      "4        2.094907                -0.010072              1.653934   \n",
      "\n",
      "   tickets_p33_highbudget_wk1d_r  tickets_p33_lowbudget_wk1d_r  \\\n",
      "0                            NaN                     -0.704108   \n",
      "1                            NaN                           NaN   \n",
      "2                       0.546590                           NaN   \n",
      "3                      -0.974721                           NaN   \n",
      "4                       1.725840                           NaN   \n",
      "\n",
      "   tickets_p33_hr1000_wk1d_r  tickets_p33_lr1000_wk1d_r  tickets_pt_wk1d_r  \\\n",
      "0                        NaN                        NaN          -2.218872   \n",
      "1                        NaN                        NaN          -0.552096   \n",
      "2                        NaN                   0.611926           0.212867   \n",
      "3                  -1.480647                        NaN           0.139445   \n",
      "4                   1.468300                        NaN           1.784799   \n",
      "\n",
      "   tickets_pot_wk1d_r  res_own_snow  ...  res_own_mat10_60_0  \\\n",
      "0           -2.218872     -0.115566  ...            0.049074   \n",
      "1           -0.552096      0.041614  ...            0.004779   \n",
      "2            0.212867      0.065586  ...           -0.149847   \n",
      "3            0.139445      0.000226  ...            0.002672   \n",
      "4            1.784799     -0.000154  ...            0.030701   \n",
      "\n",
      "   res_own_mat10_70_5  res_own_mat10_70_6  res_own_mat10_70_0  \\\n",
      "0            0.064143            0.008346            0.014497   \n",
      "1           -0.084657           -0.042147           -0.007585   \n",
      "2           -0.106440           -0.187992           -0.151554   \n",
      "3            0.220065            0.076707            0.031591   \n",
      "4            0.043314           -0.033921           -0.051710   \n",
      "\n",
      "   res_own_mat10_80_5  res_own_mat10_80_6  res_own_mat10_80_0  \\\n",
      "0           -0.014552           -0.009268           -0.017967   \n",
      "1           -0.047180           -0.078064           -0.064989   \n",
      "2            0.271122            0.074475            0.032504   \n",
      "3           -0.098004            0.088908            0.088431   \n",
      "4           -0.117805           -0.075470           -0.167141   \n",
      "\n",
      "   res_own_mat10_90_5  res_own_mat10_90_6  res_own_mat10_90_0  \n",
      "0            0.002672            0.002458           -0.000291  \n",
      "1           -0.004792           -0.003902           -0.009499  \n",
      "2            0.030116            0.011824            0.020613  \n",
      "3           -0.067628           -0.135380           -0.103631  \n",
      "4            0.097737            0.107601            0.205718  \n",
      "\n",
      "[5 rows x 193 columns]\n",
      "Shape: (1671, 193)\n"
     ]
    }
   ],
   "source": [
    "moviedata=pd.read_csv('https://github.com/brighamfrandsen/econ484/blob/master/data/opening_wkend.csv?raw=true')\n",
    "\n",
    "print(moviedata.head())\n",
    "print(\"Shape: {}\".format(str(moviedata.shape)))"
   ]
  },
  {
   "cell_type": "markdown",
   "metadata": {
    "id": "VttS4Ca0LAIz"
   },
   "source": [
    "Let's define our \"label\" (y) vector and our \"feature\" matrix (X):"
   ]
  },
  {
   "cell_type": "code",
   "execution_count": null,
   "metadata": {
    "colab": {
     "base_uri": "https://localhost:8080/"
    },
    "executionInfo": {
     "elapsed": 154,
     "status": "ok",
     "timestamp": 1728403977749,
     "user": {
      "displayName": "Brigham Frandsen",
      "userId": "16207919643707414251"
     },
     "user_tz": 360
    },
    "id": "rv0M75IWLAIz",
    "outputId": "2eb8fa50-52e0-4ed4-8a26-ac71015bf6b7"
   },
   "outputs": [
    {
     "name": "stdout",
     "output_type": "stream",
     "text": [
      "our y vector is:\n",
      " <bound method NDFrame.head of       tickets_wk1d_r\n",
      "0          -1.718881\n",
      "1          -1.311943\n",
      "2           0.958356\n",
      "3          -1.305518\n",
      "4           2.094907\n",
      "...              ...\n",
      "1666        2.575074\n",
      "1667        6.183819\n",
      "1668       -2.352185\n",
      "1669       -2.064675\n",
      "1670       -1.981390\n",
      "\n",
      "[1671 rows x 1 columns]>\n",
      "our X matrix is:\n",
      " <bound method NDFrame.head of       res_own_snow  res_own_rain  res_own_mat5_10  res_own_mat5_15  \\\n",
      "0        -0.115566     -0.084558        -0.024600        -0.027172   \n",
      "1         0.041614     -0.100350         0.002211         0.001529   \n",
      "2         0.065586      0.139913         0.001574         0.001651   \n",
      "3         0.000226     -0.102481         0.001544         0.001651   \n",
      "4        -0.000154     -0.041737         0.001577         0.001673   \n",
      "...            ...           ...              ...              ...   \n",
      "1666     -0.031120     -0.062038         0.004453         0.002085   \n",
      "1667     -0.033789     -0.114728         0.003818         0.002019   \n",
      "1668      0.046921     -0.130842         0.005423         0.006505   \n",
      "1669      0.052702      0.094374         0.004186         0.000795   \n",
      "1670      0.058353     -0.083327         0.006039         0.007451   \n",
      "\n",
      "      res_own_mat5_20  res_own_mat5_25  res_own_mat5_30  res_own_mat5_35  \\\n",
      "0           -0.037282        -0.095469        -0.052152        -0.065275   \n",
      "1            0.001277        -0.005639        -0.001883         0.042091   \n",
      "2            0.002414         0.004381         0.005559         0.022945   \n",
      "3            0.002447         0.002801        -0.000996        -0.008164   \n",
      "4            0.002464         0.004085         0.002679        -0.006850   \n",
      "...               ...              ...              ...              ...   \n",
      "1666         0.003881         0.004426        -0.012342        -0.032106   \n",
      "1667         0.003669         0.003696        -0.013057        -0.020381   \n",
      "1668         0.010871         0.023597         0.021969         0.044177   \n",
      "1669         0.012864        -0.004375        -0.004963        -0.014740   \n",
      "1670         0.013097         0.048077         0.102452        -0.014143   \n",
      "\n",
      "      res_own_mat5_40  res_own_mat5_45  ...  res_own_mat10_60_0  \\\n",
      "0            0.037069         0.112806  ...            0.049074   \n",
      "1            0.094610         0.046660  ...            0.004779   \n",
      "2            0.105364         0.025896  ...           -0.149847   \n",
      "3           -0.006919        -0.010238  ...            0.002672   \n",
      "4           -0.008086        -0.008424  ...            0.030701   \n",
      "...               ...              ...  ...                 ...   \n",
      "1666        -0.080869        -0.055157  ...            0.079967   \n",
      "1667        -0.012805         0.079720  ...            0.079967   \n",
      "1668         0.044981        -0.050576  ...           -0.015050   \n",
      "1669        -0.040384        -0.023754  ...           -0.015050   \n",
      "1670        -0.069468         0.057935  ...           -0.015050   \n",
      "\n",
      "      res_own_mat10_70_5  res_own_mat10_70_6  res_own_mat10_70_0  \\\n",
      "0               0.064143            0.008346            0.014497   \n",
      "1              -0.084657           -0.042147           -0.007585   \n",
      "2              -0.106440           -0.187992           -0.151554   \n",
      "3               0.220065            0.076707            0.031591   \n",
      "4               0.043314           -0.033921           -0.051710   \n",
      "...                  ...                 ...                 ...   \n",
      "1666           -0.043463           -0.037501           -0.032695   \n",
      "1667           -0.043463           -0.037501           -0.032695   \n",
      "1668            0.018084           -0.032684            0.022244   \n",
      "1669            0.018084           -0.032684            0.022244   \n",
      "1670            0.018084           -0.032684            0.022244   \n",
      "\n",
      "      res_own_mat10_80_5  res_own_mat10_80_6  res_own_mat10_80_0  \\\n",
      "0              -0.014552           -0.009268           -0.017967   \n",
      "1              -0.047180           -0.078064           -0.064989   \n",
      "2               0.271122            0.074475            0.032504   \n",
      "3              -0.098004            0.088908            0.088431   \n",
      "4              -0.117805           -0.075470           -0.167141   \n",
      "...                  ...                 ...                 ...   \n",
      "1666           -0.034335           -0.039596           -0.032962   \n",
      "1667           -0.034335           -0.039596           -0.032962   \n",
      "1668            0.014845            0.026076           -0.009826   \n",
      "1669            0.014845            0.026076           -0.009826   \n",
      "1670            0.014845            0.026076           -0.009826   \n",
      "\n",
      "      res_own_mat10_90_5  res_own_mat10_90_6  res_own_mat10_90_0  \n",
      "0               0.002672            0.002458           -0.000291  \n",
      "1              -0.004792           -0.003902           -0.009499  \n",
      "2               0.030116            0.011824            0.020613  \n",
      "3              -0.067628           -0.135380           -0.103631  \n",
      "4               0.097737            0.107601            0.205718  \n",
      "...                  ...                 ...                 ...  \n",
      "1666           -0.030266           -0.029375           -0.035598  \n",
      "1667           -0.030266           -0.029375           -0.035598  \n",
      "1668           -0.026372           -0.028250           -0.034473  \n",
      "1669           -0.026372           -0.028250           -0.034473  \n",
      "1670           -0.026372           -0.028250           -0.034473  \n",
      "\n",
      "[1671 rows x 184 columns]>\n"
     ]
    }
   ],
   "source": [
    "y = moviedata.filter(items=['tickets_wk1d_r'])\n",
    "X = moviedata.filter(like='res_own',axis=1)\n",
    "print('our y vector is:\\n',y.head)\n",
    "print('our X matrix is:\\n',X.head)\n",
    "from sklearn.preprocessing import StandardScaler\n",
    "scaler = StandardScaler()\n",
    "scaler.fit(X)\n",
    "X = scaler.transform(X)"
   ]
  },
  {
   "cell_type": "markdown",
   "metadata": {
    "id": "Mz_KFucyLAI1"
   },
   "source": [
    "## 3. Divide into training and test sets"
   ]
  },
  {
   "cell_type": "code",
   "execution_count": null,
   "metadata": {
    "colab": {
     "base_uri": "https://localhost:8080/"
    },
    "executionInfo": {
     "elapsed": 149,
     "status": "ok",
     "timestamp": 1728404190129,
     "user": {
      "displayName": "Brigham Frandsen",
      "userId": "16207919643707414251"
     },
     "user_tz": 360
    },
    "id": "aq1fmWdjLAI2",
    "outputId": "1ed98f4e-1581-4d9f-d0df-f14823c8a5aa"
   },
   "outputs": [
    {
     "data": {
      "text/plain": [
       "(1253, 1)"
      ]
     },
     "execution_count": 22,
     "metadata": {},
     "output_type": "execute_result"
    }
   ],
   "source": [
    "from sklearn.model_selection import train_test_split\n",
    "X_train, X_test, y_train, y_test = train_test_split(X,y,random_state=42,test_size=.25)\n",
    "y_train.shape"
   ]
  },
  {
   "cell_type": "markdown",
   "metadata": {
    "id": "wuZh-g9SLAI4"
   },
   "source": [
    "## 4. Pick an appropriate method"
   ]
  },
  {
   "cell_type": "code",
   "execution_count": null,
   "metadata": {
    "id": "8wkQST25LAI4"
   },
   "outputs": [],
   "source": [
    "from sklearn.linear_model import Lasso"
   ]
  },
  {
   "cell_type": "markdown",
   "metadata": {
    "id": "1NbHlQq6LAI6"
   },
   "source": [
    "## 5. Choose regularization parameters via cross-validation on the training set"
   ]
  },
  {
   "cell_type": "markdown",
   "metadata": {
    "id": "tgQR975XLAI6"
   },
   "source": [
    "By hand if you really want:"
   ]
  },
  {
   "cell_type": "code",
   "execution_count": null,
   "metadata": {
    "id": "uKdt9hvkLAI7"
   },
   "outputs": [],
   "source": [
    "from sklearn.model_selection import cross_val_score"
   ]
  },
  {
   "cell_type": "code",
   "execution_count": null,
   "metadata": {
    "colab": {
     "base_uri": "https://localhost:8080/"
    },
    "executionInfo": {
     "elapsed": 371,
     "status": "ok",
     "timestamp": 1728404677159,
     "user": {
      "displayName": "Brigham Frandsen",
      "userId": "16207919643707414251"
     },
     "user_tz": 360
    },
    "id": "l-TcQeQILAI9",
    "outputId": "2cddda6c-c2f9-4565-facb-048966f74abe"
   },
   "outputs": [
    {
     "name": "stdout",
     "output_type": "stream",
     "text": [
      "Cross-validation scores: [ 0.00974058 -0.0135029   0.01768621  0.01618713  0.02159627]\n",
      "Average cross-validation score: 0.0103\n"
     ]
    }
   ],
   "source": [
    "lasso = Lasso(alpha=0.1, max_iter=100)\n",
    "scores = cross_val_score(lasso,X_train,y_train,cv=5)\n",
    "print(\"Cross-validation scores: {}\".format(scores))\n",
    "print(\"Average cross-validation score: {:.4f}\".format(scores.mean()))"
   ]
  },
  {
   "cell_type": "markdown",
   "metadata": {
    "id": "-yvDVPQCLAI-"
   },
   "source": [
    "Or use GridSearchCV and do it automatically:"
   ]
  },
  {
   "cell_type": "code",
   "execution_count": null,
   "metadata": {
    "colab": {
     "base_uri": "https://localhost:8080/"
    },
    "executionInfo": {
     "elapsed": 2537,
     "status": "ok",
     "timestamp": 1728404890357,
     "user": {
      "displayName": "Brigham Frandsen",
      "userId": "16207919643707414251"
     },
     "user_tz": 360
    },
    "id": "U6nTq5MHLAI-",
    "outputId": "a7cb8f16-94cb-4438-9a4d-9dfad244b65d"
   },
   "outputs": [
    {
     "name": "stderr",
     "output_type": "stream",
     "text": [
      "/usr/local/lib/python3.10/dist-packages/sklearn/linear_model/_coordinate_descent.py:697: ConvergenceWarning: Objective did not converge. You might want to increase the number of iterations, check the scale of the features or consider increasing regularisation. Duality gap: 4.718e+02, tolerance: 1.358e-01\n",
      "  model = cd_fast.enet_coordinate_descent(\n",
      "/usr/local/lib/python3.10/dist-packages/sklearn/linear_model/_coordinate_descent.py:697: ConvergenceWarning: Objective did not converge. You might want to increase the number of iterations, check the scale of the features or consider increasing regularisation. Duality gap: 4.859e+02, tolerance: 1.374e-01\n",
      "  model = cd_fast.enet_coordinate_descent(\n",
      "/usr/local/lib/python3.10/dist-packages/sklearn/linear_model/_coordinate_descent.py:697: ConvergenceWarning: Objective did not converge. You might want to increase the number of iterations, check the scale of the features or consider increasing regularisation. Duality gap: 4.794e+02, tolerance: 1.365e-01\n",
      "  model = cd_fast.enet_coordinate_descent(\n",
      "/usr/local/lib/python3.10/dist-packages/sklearn/linear_model/_coordinate_descent.py:697: ConvergenceWarning: Objective did not converge. You might want to increase the number of iterations, check the scale of the features or consider increasing regularisation. Duality gap: 4.543e+02, tolerance: 1.348e-01\n",
      "  model = cd_fast.enet_coordinate_descent(\n",
      "/usr/local/lib/python3.10/dist-packages/sklearn/linear_model/_coordinate_descent.py:697: ConvergenceWarning: Objective did not converge. You might want to increase the number of iterations, check the scale of the features or consider increasing regularisation. Duality gap: 4.962e+02, tolerance: 1.413e-01\n",
      "  model = cd_fast.enet_coordinate_descent(\n"
     ]
    },
    {
     "name": "stdout",
     "output_type": "stream",
     "text": [
      "Best alpha:  0.032\n"
     ]
    }
   ],
   "source": [
    "from sklearn.model_selection import GridSearchCV\n",
    "# define grid for alpha\n",
    "alpha_grid = {'alpha': [.0001, .005,.01, .015,.02, .025, .03, .031, .032, .034, .035, .036, .04 ,.05, .06 ],'max_iter': [1000]}\n",
    "grid_search = GridSearchCV(Lasso(),alpha_grid,cv=5,return_train_score=True)\n",
    "best_model=grid_search.fit(X_train,y_train)\n",
    "print(\"Best alpha: \",best_model.best_estimator_.get_params()['alpha'])"
   ]
  },
  {
   "cell_type": "markdown",
   "metadata": {
    "id": "Oe27Y9DLLAJA"
   },
   "source": [
    "Or, even easier, just use LassoCV:"
   ]
  },
  {
   "cell_type": "code",
   "execution_count": null,
   "metadata": {
    "colab": {
     "base_uri": "https://localhost:8080/"
    },
    "executionInfo": {
     "elapsed": 6769,
     "status": "ok",
     "timestamp": 1728405274224,
     "user": {
      "displayName": "Brigham Frandsen",
      "userId": "16207919643707414251"
     },
     "user_tz": 360
    },
    "id": "xj_vvr8HLAJA",
    "outputId": "252a0041-e723-468a-d3f2-241a78e84061"
   },
   "outputs": [
    {
     "name": "stderr",
     "output_type": "stream",
     "text": [
      "/usr/local/lib/python3.10/dist-packages/sklearn/linear_model/_coordinate_descent.py:1656: DataConversionWarning: A column-vector y was passed when a 1d array was expected. Please change the shape of y to (n_samples, ), for example using ravel().\n",
      "  y = column_or_1d(y, warn=True)\n",
      "/usr/local/lib/python3.10/dist-packages/sklearn/linear_model/_coordinate_descent.py:683: ConvergenceWarning: Objective did not converge. You might want to increase the number of iterations. Duality gap: 0.21119559708586166, tolerance: 0.13580844599209113\n",
      "  model = cd_fast.enet_coordinate_descent_gram(\n",
      "/usr/local/lib/python3.10/dist-packages/sklearn/linear_model/_coordinate_descent.py:683: ConvergenceWarning: Objective did not converge. You might want to increase the number of iterations. Duality gap: 0.17314731759279312, tolerance: 0.13580844599209113\n",
      "  model = cd_fast.enet_coordinate_descent_gram(\n",
      "/usr/local/lib/python3.10/dist-packages/sklearn/linear_model/_coordinate_descent.py:683: ConvergenceWarning: Objective did not converge. You might want to increase the number of iterations. Duality gap: 2.7460213391623256, tolerance: 0.13580844599209113\n",
      "  model = cd_fast.enet_coordinate_descent_gram(\n",
      "/usr/local/lib/python3.10/dist-packages/sklearn/linear_model/_coordinate_descent.py:683: ConvergenceWarning: Objective did not converge. You might want to increase the number of iterations. Duality gap: 3.470876710694597, tolerance: 0.13580844599209113\n",
      "  model = cd_fast.enet_coordinate_descent_gram(\n",
      "/usr/local/lib/python3.10/dist-packages/sklearn/linear_model/_coordinate_descent.py:683: ConvergenceWarning: Objective did not converge. You might want to increase the number of iterations. Duality gap: 0.4420569560984404, tolerance: 0.13580844599209113\n",
      "  model = cd_fast.enet_coordinate_descent_gram(\n",
      "/usr/local/lib/python3.10/dist-packages/sklearn/linear_model/_coordinate_descent.py:683: ConvergenceWarning: Objective did not converge. You might want to increase the number of iterations. Duality gap: 6.98733166139391, tolerance: 0.13580844599209113\n",
      "  model = cd_fast.enet_coordinate_descent_gram(\n",
      "/usr/local/lib/python3.10/dist-packages/sklearn/linear_model/_coordinate_descent.py:683: ConvergenceWarning: Objective did not converge. You might want to increase the number of iterations. Duality gap: 15.388022941841996, tolerance: 0.13580844599209113\n",
      "  model = cd_fast.enet_coordinate_descent_gram(\n",
      "/usr/local/lib/python3.10/dist-packages/sklearn/linear_model/_coordinate_descent.py:683: ConvergenceWarning: Objective did not converge. You might want to increase the number of iterations. Duality gap: 28.764008635778282, tolerance: 0.13580844599209113\n",
      "  model = cd_fast.enet_coordinate_descent_gram(\n",
      "/usr/local/lib/python3.10/dist-packages/sklearn/linear_model/_coordinate_descent.py:683: ConvergenceWarning: Objective did not converge. You might want to increase the number of iterations. Duality gap: 44.44704537725909, tolerance: 0.13580844599209113\n",
      "  model = cd_fast.enet_coordinate_descent_gram(\n",
      "/usr/local/lib/python3.10/dist-packages/sklearn/linear_model/_coordinate_descent.py:683: ConvergenceWarning: Objective did not converge. You might want to increase the number of iterations. Duality gap: 46.576201185763466, tolerance: 0.13580844599209113\n",
      "  model = cd_fast.enet_coordinate_descent_gram(\n",
      "/usr/local/lib/python3.10/dist-packages/sklearn/linear_model/_coordinate_descent.py:683: ConvergenceWarning: Objective did not converge. You might want to increase the number of iterations. Duality gap: 28.804307542849983, tolerance: 0.13580844599209113\n",
      "  model = cd_fast.enet_coordinate_descent_gram(\n",
      "/usr/local/lib/python3.10/dist-packages/sklearn/linear_model/_coordinate_descent.py:683: ConvergenceWarning: Objective did not converge. You might want to increase the number of iterations. Duality gap: 43.73723412983031, tolerance: 0.13580844599209113\n",
      "  model = cd_fast.enet_coordinate_descent_gram(\n",
      "/usr/local/lib/python3.10/dist-packages/sklearn/linear_model/_coordinate_descent.py:683: ConvergenceWarning: Objective did not converge. You might want to increase the number of iterations. Duality gap: 54.46839053317001, tolerance: 0.13580844599209113\n",
      "  model = cd_fast.enet_coordinate_descent_gram(\n",
      "/usr/local/lib/python3.10/dist-packages/sklearn/linear_model/_coordinate_descent.py:683: ConvergenceWarning: Objective did not converge. You might want to increase the number of iterations. Duality gap: 59.895150446845264, tolerance: 0.13580844599209113\n",
      "  model = cd_fast.enet_coordinate_descent_gram(\n",
      "/usr/local/lib/python3.10/dist-packages/sklearn/linear_model/_coordinate_descent.py:683: ConvergenceWarning: Objective did not converge. You might want to increase the number of iterations. Duality gap: 63.463610694702425, tolerance: 0.13580844599209113\n",
      "  model = cd_fast.enet_coordinate_descent_gram(\n",
      "/usr/local/lib/python3.10/dist-packages/sklearn/linear_model/_coordinate_descent.py:683: ConvergenceWarning: Objective did not converge. You might want to increase the number of iterations. Duality gap: 79.88747463346772, tolerance: 0.13580844599209113\n",
      "  model = cd_fast.enet_coordinate_descent_gram(\n",
      "/usr/local/lib/python3.10/dist-packages/sklearn/linear_model/_coordinate_descent.py:683: ConvergenceWarning: Objective did not converge. You might want to increase the number of iterations. Duality gap: 95.29397418145948, tolerance: 0.13580844599209113\n",
      "  model = cd_fast.enet_coordinate_descent_gram(\n",
      "/usr/local/lib/python3.10/dist-packages/sklearn/linear_model/_coordinate_descent.py:683: ConvergenceWarning: Objective did not converge. You might want to increase the number of iterations. Duality gap: 109.96085031688051, tolerance: 0.13580844599209113\n",
      "  model = cd_fast.enet_coordinate_descent_gram(\n",
      "/usr/local/lib/python3.10/dist-packages/sklearn/linear_model/_coordinate_descent.py:683: ConvergenceWarning: Objective did not converge. You might want to increase the number of iterations. Duality gap: 121.00378864873619, tolerance: 0.13580844599209113\n",
      "  model = cd_fast.enet_coordinate_descent_gram(\n",
      "/usr/local/lib/python3.10/dist-packages/sklearn/linear_model/_coordinate_descent.py:683: ConvergenceWarning: Objective did not converge. You might want to increase the number of iterations. Duality gap: 129.03168712345962, tolerance: 0.13580844599209113\n",
      "  model = cd_fast.enet_coordinate_descent_gram(\n",
      "/usr/local/lib/python3.10/dist-packages/sklearn/linear_model/_coordinate_descent.py:683: ConvergenceWarning: Objective did not converge. You might want to increase the number of iterations. Duality gap: 135.08417499894858, tolerance: 0.13580844599209113\n",
      "  model = cd_fast.enet_coordinate_descent_gram(\n",
      "/usr/local/lib/python3.10/dist-packages/sklearn/linear_model/_coordinate_descent.py:683: ConvergenceWarning: Objective did not converge. You might want to increase the number of iterations. Duality gap: 107.93640911314833, tolerance: 0.13580844599209113\n",
      "  model = cd_fast.enet_coordinate_descent_gram(\n",
      "/usr/local/lib/python3.10/dist-packages/sklearn/linear_model/_coordinate_descent.py:683: ConvergenceWarning: Objective did not converge. You might want to increase the number of iterations. Duality gap: 116.95932821635085, tolerance: 0.13580844599209113\n",
      "  model = cd_fast.enet_coordinate_descent_gram(\n",
      "/usr/local/lib/python3.10/dist-packages/sklearn/linear_model/_coordinate_descent.py:683: ConvergenceWarning: Objective did not converge. You might want to increase the number of iterations. Duality gap: 133.28896225054643, tolerance: 0.13580844599209113\n",
      "  model = cd_fast.enet_coordinate_descent_gram(\n",
      "/usr/local/lib/python3.10/dist-packages/sklearn/linear_model/_coordinate_descent.py:683: ConvergenceWarning: Objective did not converge. You might want to increase the number of iterations. Duality gap: 140.9613834452465, tolerance: 0.13580844599209113\n",
      "  model = cd_fast.enet_coordinate_descent_gram(\n",
      "/usr/local/lib/python3.10/dist-packages/sklearn/linear_model/_coordinate_descent.py:683: ConvergenceWarning: Objective did not converge. You might want to increase the number of iterations. Duality gap: 0.9323937090064192, tolerance: 0.13736271071647077\n",
      "  model = cd_fast.enet_coordinate_descent_gram(\n",
      "/usr/local/lib/python3.10/dist-packages/sklearn/linear_model/_coordinate_descent.py:683: ConvergenceWarning: Objective did not converge. You might want to increase the number of iterations. Duality gap: 0.2685181293456935, tolerance: 0.13736271071647077\n",
      "  model = cd_fast.enet_coordinate_descent_gram(\n",
      "/usr/local/lib/python3.10/dist-packages/sklearn/linear_model/_coordinate_descent.py:683: ConvergenceWarning: Objective did not converge. You might want to increase the number of iterations. Duality gap: 2.0960271286669467, tolerance: 0.13736271071647077\n",
      "  model = cd_fast.enet_coordinate_descent_gram(\n",
      "/usr/local/lib/python3.10/dist-packages/sklearn/linear_model/_coordinate_descent.py:683: ConvergenceWarning: Objective did not converge. You might want to increase the number of iterations. Duality gap: 3.28191176450116, tolerance: 0.13736271071647077\n",
      "  model = cd_fast.enet_coordinate_descent_gram(\n",
      "/usr/local/lib/python3.10/dist-packages/sklearn/linear_model/_coordinate_descent.py:683: ConvergenceWarning: Objective did not converge. You might want to increase the number of iterations. Duality gap: 0.2009789087826448, tolerance: 0.13736271071647077\n",
      "  model = cd_fast.enet_coordinate_descent_gram(\n",
      "/usr/local/lib/python3.10/dist-packages/sklearn/linear_model/_coordinate_descent.py:683: ConvergenceWarning: Objective did not converge. You might want to increase the number of iterations. Duality gap: 3.0091529628145963, tolerance: 0.13736271071647077\n",
      "  model = cd_fast.enet_coordinate_descent_gram(\n",
      "/usr/local/lib/python3.10/dist-packages/sklearn/linear_model/_coordinate_descent.py:683: ConvergenceWarning: Objective did not converge. You might want to increase the number of iterations. Duality gap: 18.929864038462597, tolerance: 0.13736271071647077\n",
      "  model = cd_fast.enet_coordinate_descent_gram(\n",
      "/usr/local/lib/python3.10/dist-packages/sklearn/linear_model/_coordinate_descent.py:683: ConvergenceWarning: Objective did not converge. You might want to increase the number of iterations. Duality gap: 36.97300459728717, tolerance: 0.13736271071647077\n",
      "  model = cd_fast.enet_coordinate_descent_gram(\n",
      "/usr/local/lib/python3.10/dist-packages/sklearn/linear_model/_coordinate_descent.py:683: ConvergenceWarning: Objective did not converge. You might want to increase the number of iterations. Duality gap: 50.466661923280526, tolerance: 0.13736271071647077\n",
      "  model = cd_fast.enet_coordinate_descent_gram(\n",
      "/usr/local/lib/python3.10/dist-packages/sklearn/linear_model/_coordinate_descent.py:683: ConvergenceWarning: Objective did not converge. You might want to increase the number of iterations. Duality gap: 59.68753088143683, tolerance: 0.13736271071647077\n",
      "  model = cd_fast.enet_coordinate_descent_gram(\n",
      "/usr/local/lib/python3.10/dist-packages/sklearn/linear_model/_coordinate_descent.py:683: ConvergenceWarning: Objective did not converge. You might want to increase the number of iterations. Duality gap: 69.36696251586841, tolerance: 0.13736271071647077\n",
      "  model = cd_fast.enet_coordinate_descent_gram(\n",
      "/usr/local/lib/python3.10/dist-packages/sklearn/linear_model/_coordinate_descent.py:683: ConvergenceWarning: Objective did not converge. You might want to increase the number of iterations. Duality gap: 67.32914857678611, tolerance: 0.13736271071647077\n",
      "  model = cd_fast.enet_coordinate_descent_gram(\n",
      "/usr/local/lib/python3.10/dist-packages/sklearn/linear_model/_coordinate_descent.py:683: ConvergenceWarning: Objective did not converge. You might want to increase the number of iterations. Duality gap: 74.3836432428102, tolerance: 0.13736271071647077\n",
      "  model = cd_fast.enet_coordinate_descent_gram(\n",
      "/usr/local/lib/python3.10/dist-packages/sklearn/linear_model/_coordinate_descent.py:683: ConvergenceWarning: Objective did not converge. You might want to increase the number of iterations. Duality gap: 42.09643160691428, tolerance: 0.13736271071647077\n",
      "  model = cd_fast.enet_coordinate_descent_gram(\n",
      "/usr/local/lib/python3.10/dist-packages/sklearn/linear_model/_coordinate_descent.py:683: ConvergenceWarning: Objective did not converge. You might want to increase the number of iterations. Duality gap: 47.222900596067916, tolerance: 0.13736271071647077\n",
      "  model = cd_fast.enet_coordinate_descent_gram(\n",
      "/usr/local/lib/python3.10/dist-packages/sklearn/linear_model/_coordinate_descent.py:683: ConvergenceWarning: Objective did not converge. You might want to increase the number of iterations. Duality gap: 57.46523865867937, tolerance: 0.13736271071647077\n",
      "  model = cd_fast.enet_coordinate_descent_gram(\n",
      "/usr/local/lib/python3.10/dist-packages/sklearn/linear_model/_coordinate_descent.py:683: ConvergenceWarning: Objective did not converge. You might want to increase the number of iterations. Duality gap: 69.04577837782188, tolerance: 0.13736271071647077\n",
      "  model = cd_fast.enet_coordinate_descent_gram(\n",
      "/usr/local/lib/python3.10/dist-packages/sklearn/linear_model/_coordinate_descent.py:683: ConvergenceWarning: Objective did not converge. You might want to increase the number of iterations. Duality gap: 86.65354332052834, tolerance: 0.13736271071647077\n",
      "  model = cd_fast.enet_coordinate_descent_gram(\n",
      "/usr/local/lib/python3.10/dist-packages/sklearn/linear_model/_coordinate_descent.py:683: ConvergenceWarning: Objective did not converge. You might want to increase the number of iterations. Duality gap: 101.00582842069059, tolerance: 0.13736271071647077\n",
      "  model = cd_fast.enet_coordinate_descent_gram(\n",
      "/usr/local/lib/python3.10/dist-packages/sklearn/linear_model/_coordinate_descent.py:683: ConvergenceWarning: Objective did not converge. You might want to increase the number of iterations. Duality gap: 112.00411159031, tolerance: 0.13736271071647077\n",
      "  model = cd_fast.enet_coordinate_descent_gram(\n",
      "/usr/local/lib/python3.10/dist-packages/sklearn/linear_model/_coordinate_descent.py:683: ConvergenceWarning: Objective did not converge. You might want to increase the number of iterations. Duality gap: 123.0583776290174, tolerance: 0.13736271071647077\n",
      "  model = cd_fast.enet_coordinate_descent_gram(\n",
      "/usr/local/lib/python3.10/dist-packages/sklearn/linear_model/_coordinate_descent.py:683: ConvergenceWarning: Objective did not converge. You might want to increase the number of iterations. Duality gap: 114.30083634238315, tolerance: 0.13736271071647077\n",
      "  model = cd_fast.enet_coordinate_descent_gram(\n",
      "/usr/local/lib/python3.10/dist-packages/sklearn/linear_model/_coordinate_descent.py:683: ConvergenceWarning: Objective did not converge. You might want to increase the number of iterations. Duality gap: 126.08074800976829, tolerance: 0.13736271071647077\n",
      "  model = cd_fast.enet_coordinate_descent_gram(\n",
      "/usr/local/lib/python3.10/dist-packages/sklearn/linear_model/_coordinate_descent.py:683: ConvergenceWarning: Objective did not converge. You might want to increase the number of iterations. Duality gap: 135.50838957332144, tolerance: 0.13736271071647077\n",
      "  model = cd_fast.enet_coordinate_descent_gram(\n",
      "/usr/local/lib/python3.10/dist-packages/sklearn/linear_model/_coordinate_descent.py:683: ConvergenceWarning: Objective did not converge. You might want to increase the number of iterations. Duality gap: 140.38166809123015, tolerance: 0.13736271071647077\n",
      "  model = cd_fast.enet_coordinate_descent_gram(\n",
      "/usr/local/lib/python3.10/dist-packages/sklearn/linear_model/_coordinate_descent.py:683: ConvergenceWarning: Objective did not converge. You might want to increase the number of iterations. Duality gap: 145.14508812764382, tolerance: 0.13736271071647077\n",
      "  model = cd_fast.enet_coordinate_descent_gram(\n",
      "/usr/local/lib/python3.10/dist-packages/sklearn/linear_model/_coordinate_descent.py:683: ConvergenceWarning: Objective did not converge. You might want to increase the number of iterations. Duality gap: 148.61684121837152, tolerance: 0.13736271071647077\n",
      "  model = cd_fast.enet_coordinate_descent_gram(\n",
      "/usr/local/lib/python3.10/dist-packages/sklearn/linear_model/_coordinate_descent.py:683: ConvergenceWarning: Objective did not converge. You might want to increase the number of iterations. Duality gap: 150.87488924158708, tolerance: 0.13736271071647077\n",
      "  model = cd_fast.enet_coordinate_descent_gram(\n",
      "/usr/local/lib/python3.10/dist-packages/sklearn/linear_model/_coordinate_descent.py:683: ConvergenceWarning: Objective did not converge. You might want to increase the number of iterations. Duality gap: 149.02264321914907, tolerance: 0.13736271071647077\n",
      "  model = cd_fast.enet_coordinate_descent_gram(\n",
      "/usr/local/lib/python3.10/dist-packages/sklearn/linear_model/_coordinate_descent.py:683: ConvergenceWarning: Objective did not converge. You might want to increase the number of iterations. Duality gap: 1.018678730346437, tolerance: 0.13650731337799377\n",
      "  model = cd_fast.enet_coordinate_descent_gram(\n",
      "/usr/local/lib/python3.10/dist-packages/sklearn/linear_model/_coordinate_descent.py:683: ConvergenceWarning: Objective did not converge. You might want to increase the number of iterations. Duality gap: 3.0251285947116457, tolerance: 0.13650731337799377\n",
      "  model = cd_fast.enet_coordinate_descent_gram(\n",
      "/usr/local/lib/python3.10/dist-packages/sklearn/linear_model/_coordinate_descent.py:683: ConvergenceWarning: Objective did not converge. You might want to increase the number of iterations. Duality gap: 1.7460637550063893, tolerance: 0.13650731337799377\n",
      "  model = cd_fast.enet_coordinate_descent_gram(\n",
      "/usr/local/lib/python3.10/dist-packages/sklearn/linear_model/_coordinate_descent.py:683: ConvergenceWarning: Objective did not converge. You might want to increase the number of iterations. Duality gap: 0.17704329565799526, tolerance: 0.13650731337799377\n",
      "  model = cd_fast.enet_coordinate_descent_gram(\n",
      "/usr/local/lib/python3.10/dist-packages/sklearn/linear_model/_coordinate_descent.py:683: ConvergenceWarning: Objective did not converge. You might want to increase the number of iterations. Duality gap: 0.5317461975625974, tolerance: 0.13650731337799377\n",
      "  model = cd_fast.enet_coordinate_descent_gram(\n",
      "/usr/local/lib/python3.10/dist-packages/sklearn/linear_model/_coordinate_descent.py:683: ConvergenceWarning: Objective did not converge. You might want to increase the number of iterations. Duality gap: 7.989497027870016, tolerance: 0.13650731337799377\n",
      "  model = cd_fast.enet_coordinate_descent_gram(\n",
      "/usr/local/lib/python3.10/dist-packages/sklearn/linear_model/_coordinate_descent.py:683: ConvergenceWarning: Objective did not converge. You might want to increase the number of iterations. Duality gap: 14.531186074276775, tolerance: 0.13650731337799377\n",
      "  model = cd_fast.enet_coordinate_descent_gram(\n",
      "/usr/local/lib/python3.10/dist-packages/sklearn/linear_model/_coordinate_descent.py:683: ConvergenceWarning: Objective did not converge. You might want to increase the number of iterations. Duality gap: 24.648530657035508, tolerance: 0.13650731337799377\n",
      "  model = cd_fast.enet_coordinate_descent_gram(\n",
      "/usr/local/lib/python3.10/dist-packages/sklearn/linear_model/_coordinate_descent.py:683: ConvergenceWarning: Objective did not converge. You might want to increase the number of iterations. Duality gap: 37.24762244296869, tolerance: 0.13650731337799377\n",
      "  model = cd_fast.enet_coordinate_descent_gram(\n",
      "/usr/local/lib/python3.10/dist-packages/sklearn/linear_model/_coordinate_descent.py:683: ConvergenceWarning: Objective did not converge. You might want to increase the number of iterations. Duality gap: 48.19543757698216, tolerance: 0.13650731337799377\n",
      "  model = cd_fast.enet_coordinate_descent_gram(\n",
      "/usr/local/lib/python3.10/dist-packages/sklearn/linear_model/_coordinate_descent.py:683: ConvergenceWarning: Objective did not converge. You might want to increase the number of iterations. Duality gap: 44.957388496553335, tolerance: 0.13650731337799377\n",
      "  model = cd_fast.enet_coordinate_descent_gram(\n",
      "/usr/local/lib/python3.10/dist-packages/sklearn/linear_model/_coordinate_descent.py:683: ConvergenceWarning: Objective did not converge. You might want to increase the number of iterations. Duality gap: 52.5834183310061, tolerance: 0.13650731337799377\n",
      "  model = cd_fast.enet_coordinate_descent_gram(\n",
      "/usr/local/lib/python3.10/dist-packages/sklearn/linear_model/_coordinate_descent.py:683: ConvergenceWarning: Objective did not converge. You might want to increase the number of iterations. Duality gap: 57.074931662465474, tolerance: 0.13650731337799377\n",
      "  model = cd_fast.enet_coordinate_descent_gram(\n",
      "/usr/local/lib/python3.10/dist-packages/sklearn/linear_model/_coordinate_descent.py:683: ConvergenceWarning: Objective did not converge. You might want to increase the number of iterations. Duality gap: 60.33402071266619, tolerance: 0.13650731337799377\n",
      "  model = cd_fast.enet_coordinate_descent_gram(\n",
      "/usr/local/lib/python3.10/dist-packages/sklearn/linear_model/_coordinate_descent.py:683: ConvergenceWarning: Objective did not converge. You might want to increase the number of iterations. Duality gap: 76.14380254451783, tolerance: 0.13650731337799377\n",
      "  model = cd_fast.enet_coordinate_descent_gram(\n",
      "/usr/local/lib/python3.10/dist-packages/sklearn/linear_model/_coordinate_descent.py:683: ConvergenceWarning: Objective did not converge. You might want to increase the number of iterations. Duality gap: 93.77369698201915, tolerance: 0.13650731337799377\n",
      "  model = cd_fast.enet_coordinate_descent_gram(\n",
      "/usr/local/lib/python3.10/dist-packages/sklearn/linear_model/_coordinate_descent.py:683: ConvergenceWarning: Objective did not converge. You might want to increase the number of iterations. Duality gap: 105.68768081349549, tolerance: 0.13650731337799377\n",
      "  model = cd_fast.enet_coordinate_descent_gram(\n",
      "/usr/local/lib/python3.10/dist-packages/sklearn/linear_model/_coordinate_descent.py:683: ConvergenceWarning: Objective did not converge. You might want to increase the number of iterations. Duality gap: 115.09074316097224, tolerance: 0.13650731337799377\n",
      "  model = cd_fast.enet_coordinate_descent_gram(\n",
      "/usr/local/lib/python3.10/dist-packages/sklearn/linear_model/_coordinate_descent.py:683: ConvergenceWarning: Objective did not converge. You might want to increase the number of iterations. Duality gap: 122.13122068265136, tolerance: 0.13650731337799377\n",
      "  model = cd_fast.enet_coordinate_descent_gram(\n",
      "/usr/local/lib/python3.10/dist-packages/sklearn/linear_model/_coordinate_descent.py:683: ConvergenceWarning: Objective did not converge. You might want to increase the number of iterations. Duality gap: 91.09790929919302, tolerance: 0.13650731337799377\n",
      "  model = cd_fast.enet_coordinate_descent_gram(\n",
      "/usr/local/lib/python3.10/dist-packages/sklearn/linear_model/_coordinate_descent.py:683: ConvergenceWarning: Objective did not converge. You might want to increase the number of iterations. Duality gap: 103.96320079594079, tolerance: 0.13650731337799377\n",
      "  model = cd_fast.enet_coordinate_descent_gram(\n",
      "/usr/local/lib/python3.10/dist-packages/sklearn/linear_model/_coordinate_descent.py:683: ConvergenceWarning: Objective did not converge. You might want to increase the number of iterations. Duality gap: 117.43519715668572, tolerance: 0.13650731337799377\n",
      "  model = cd_fast.enet_coordinate_descent_gram(\n",
      "/usr/local/lib/python3.10/dist-packages/sklearn/linear_model/_coordinate_descent.py:683: ConvergenceWarning: Objective did not converge. You might want to increase the number of iterations. Duality gap: 122.15300532069136, tolerance: 0.13650731337799377\n",
      "  model = cd_fast.enet_coordinate_descent_gram(\n",
      "/usr/local/lib/python3.10/dist-packages/sklearn/linear_model/_coordinate_descent.py:683: ConvergenceWarning: Objective did not converge. You might want to increase the number of iterations. Duality gap: 129.6658325058786, tolerance: 0.13650731337799377\n",
      "  model = cd_fast.enet_coordinate_descent_gram(\n",
      "/usr/local/lib/python3.10/dist-packages/sklearn/linear_model/_coordinate_descent.py:683: ConvergenceWarning: Objective did not converge. You might want to increase the number of iterations. Duality gap: 135.00385739613262, tolerance: 0.13650731337799377\n",
      "  model = cd_fast.enet_coordinate_descent_gram(\n",
      "/usr/local/lib/python3.10/dist-packages/sklearn/linear_model/_coordinate_descent.py:683: ConvergenceWarning: Objective did not converge. You might want to increase the number of iterations. Duality gap: 138.9366355096929, tolerance: 0.13650731337799377\n",
      "  model = cd_fast.enet_coordinate_descent_gram(\n",
      "/usr/local/lib/python3.10/dist-packages/sklearn/linear_model/_coordinate_descent.py:683: ConvergenceWarning: Objective did not converge. You might want to increase the number of iterations. Duality gap: 141.6350226189852, tolerance: 0.13650731337799377\n",
      "  model = cd_fast.enet_coordinate_descent_gram(\n",
      "/usr/local/lib/python3.10/dist-packages/sklearn/linear_model/_coordinate_descent.py:683: ConvergenceWarning: Objective did not converge. You might want to increase the number of iterations. Duality gap: 0.1603916308515636, tolerance: 0.1348386436862131\n",
      "  model = cd_fast.enet_coordinate_descent_gram(\n",
      "/usr/local/lib/python3.10/dist-packages/sklearn/linear_model/_coordinate_descent.py:683: ConvergenceWarning: Objective did not converge. You might want to increase the number of iterations. Duality gap: 0.17430082334317376, tolerance: 0.1348386436862131\n",
      "  model = cd_fast.enet_coordinate_descent_gram(\n",
      "/usr/local/lib/python3.10/dist-packages/sklearn/linear_model/_coordinate_descent.py:683: ConvergenceWarning: Objective did not converge. You might want to increase the number of iterations. Duality gap: 1.579201777013509, tolerance: 0.1348386436862131\n",
      "  model = cd_fast.enet_coordinate_descent_gram(\n",
      "/usr/local/lib/python3.10/dist-packages/sklearn/linear_model/_coordinate_descent.py:683: ConvergenceWarning: Objective did not converge. You might want to increase the number of iterations. Duality gap: 1.2461849895690875, tolerance: 0.1348386436862131\n",
      "  model = cd_fast.enet_coordinate_descent_gram(\n",
      "/usr/local/lib/python3.10/dist-packages/sklearn/linear_model/_coordinate_descent.py:683: ConvergenceWarning: Objective did not converge. You might want to increase the number of iterations. Duality gap: 5.494036556462106, tolerance: 0.1348386436862131\n",
      "  model = cd_fast.enet_coordinate_descent_gram(\n",
      "/usr/local/lib/python3.10/dist-packages/sklearn/linear_model/_coordinate_descent.py:683: ConvergenceWarning: Objective did not converge. You might want to increase the number of iterations. Duality gap: 10.526740966558805, tolerance: 0.1348386436862131\n",
      "  model = cd_fast.enet_coordinate_descent_gram(\n",
      "/usr/local/lib/python3.10/dist-packages/sklearn/linear_model/_coordinate_descent.py:683: ConvergenceWarning: Objective did not converge. You might want to increase the number of iterations. Duality gap: 2.0225258671035817, tolerance: 0.1348386436862131\n",
      "  model = cd_fast.enet_coordinate_descent_gram(\n",
      "/usr/local/lib/python3.10/dist-packages/sklearn/linear_model/_coordinate_descent.py:683: ConvergenceWarning: Objective did not converge. You might want to increase the number of iterations. Duality gap: 14.354084917867112, tolerance: 0.1348386436862131\n",
      "  model = cd_fast.enet_coordinate_descent_gram(\n",
      "/usr/local/lib/python3.10/dist-packages/sklearn/linear_model/_coordinate_descent.py:683: ConvergenceWarning: Objective did not converge. You might want to increase the number of iterations. Duality gap: 25.682141387579122, tolerance: 0.1348386436862131\n",
      "  model = cd_fast.enet_coordinate_descent_gram(\n",
      "/usr/local/lib/python3.10/dist-packages/sklearn/linear_model/_coordinate_descent.py:683: ConvergenceWarning: Objective did not converge. You might want to increase the number of iterations. Duality gap: 36.31561346306603, tolerance: 0.1348386436862131\n",
      "  model = cd_fast.enet_coordinate_descent_gram(\n",
      "/usr/local/lib/python3.10/dist-packages/sklearn/linear_model/_coordinate_descent.py:683: ConvergenceWarning: Objective did not converge. You might want to increase the number of iterations. Duality gap: 51.97643488785252, tolerance: 0.1348386436862131\n",
      "  model = cd_fast.enet_coordinate_descent_gram(\n",
      "/usr/local/lib/python3.10/dist-packages/sklearn/linear_model/_coordinate_descent.py:683: ConvergenceWarning: Objective did not converge. You might want to increase the number of iterations. Duality gap: 61.11456736424202, tolerance: 0.1348386436862131\n",
      "  model = cd_fast.enet_coordinate_descent_gram(\n",
      "/usr/local/lib/python3.10/dist-packages/sklearn/linear_model/_coordinate_descent.py:683: ConvergenceWarning: Objective did not converge. You might want to increase the number of iterations. Duality gap: 41.80965578852522, tolerance: 0.1348386436862131\n",
      "  model = cd_fast.enet_coordinate_descent_gram(\n",
      "/usr/local/lib/python3.10/dist-packages/sklearn/linear_model/_coordinate_descent.py:683: ConvergenceWarning: Objective did not converge. You might want to increase the number of iterations. Duality gap: 62.54918320630509, tolerance: 0.1348386436862131\n",
      "  model = cd_fast.enet_coordinate_descent_gram(\n",
      "/usr/local/lib/python3.10/dist-packages/sklearn/linear_model/_coordinate_descent.py:683: ConvergenceWarning: Objective did not converge. You might want to increase the number of iterations. Duality gap: 78.90831932725314, tolerance: 0.1348386436862131\n",
      "  model = cd_fast.enet_coordinate_descent_gram(\n",
      "/usr/local/lib/python3.10/dist-packages/sklearn/linear_model/_coordinate_descent.py:683: ConvergenceWarning: Objective did not converge. You might want to increase the number of iterations. Duality gap: 91.58459838949739, tolerance: 0.1348386436862131\n",
      "  model = cd_fast.enet_coordinate_descent_gram(\n",
      "/usr/local/lib/python3.10/dist-packages/sklearn/linear_model/_coordinate_descent.py:683: ConvergenceWarning: Objective did not converge. You might want to increase the number of iterations. Duality gap: 102.74469723202867, tolerance: 0.1348386436862131\n",
      "  model = cd_fast.enet_coordinate_descent_gram(\n",
      "/usr/local/lib/python3.10/dist-packages/sklearn/linear_model/_coordinate_descent.py:683: ConvergenceWarning: Objective did not converge. You might want to increase the number of iterations. Duality gap: 114.2368049673438, tolerance: 0.1348386436862131\n",
      "  model = cd_fast.enet_coordinate_descent_gram(\n",
      "/usr/local/lib/python3.10/dist-packages/sklearn/linear_model/_coordinate_descent.py:683: ConvergenceWarning: Objective did not converge. You might want to increase the number of iterations. Duality gap: 122.45549877924839, tolerance: 0.1348386436862131\n",
      "  model = cd_fast.enet_coordinate_descent_gram(\n",
      "/usr/local/lib/python3.10/dist-packages/sklearn/linear_model/_coordinate_descent.py:683: ConvergenceWarning: Objective did not converge. You might want to increase the number of iterations. Duality gap: 127.82482767361807, tolerance: 0.1348386436862131\n",
      "  model = cd_fast.enet_coordinate_descent_gram(\n",
      "/usr/local/lib/python3.10/dist-packages/sklearn/linear_model/_coordinate_descent.py:683: ConvergenceWarning: Objective did not converge. You might want to increase the number of iterations. Duality gap: 130.22906506856486, tolerance: 0.1348386436862131\n",
      "  model = cd_fast.enet_coordinate_descent_gram(\n",
      "/usr/local/lib/python3.10/dist-packages/sklearn/linear_model/_coordinate_descent.py:683: ConvergenceWarning: Objective did not converge. You might want to increase the number of iterations. Duality gap: 127.67430954969211, tolerance: 0.1348386436862131\n",
      "  model = cd_fast.enet_coordinate_descent_gram(\n",
      "/usr/local/lib/python3.10/dist-packages/sklearn/linear_model/_coordinate_descent.py:683: ConvergenceWarning: Objective did not converge. You might want to increase the number of iterations. Duality gap: 96.899604811921, tolerance: 0.1348386436862131\n",
      "  model = cd_fast.enet_coordinate_descent_gram(\n",
      "/usr/local/lib/python3.10/dist-packages/sklearn/linear_model/_coordinate_descent.py:683: ConvergenceWarning: Objective did not converge. You might want to increase the number of iterations. Duality gap: 106.15316570626771, tolerance: 0.1348386436862131\n",
      "  model = cd_fast.enet_coordinate_descent_gram(\n",
      "/usr/local/lib/python3.10/dist-packages/sklearn/linear_model/_coordinate_descent.py:683: ConvergenceWarning: Objective did not converge. You might want to increase the number of iterations. Duality gap: 0.23078208256606558, tolerance: 0.14134953469485165\n",
      "  model = cd_fast.enet_coordinate_descent_gram(\n",
      "/usr/local/lib/python3.10/dist-packages/sklearn/linear_model/_coordinate_descent.py:683: ConvergenceWarning: Objective did not converge. You might want to increase the number of iterations. Duality gap: 0.5248444154708523, tolerance: 0.14134953469485165\n",
      "  model = cd_fast.enet_coordinate_descent_gram(\n",
      "/usr/local/lib/python3.10/dist-packages/sklearn/linear_model/_coordinate_descent.py:683: ConvergenceWarning: Objective did not converge. You might want to increase the number of iterations. Duality gap: 2.5582957540782445, tolerance: 0.14134953469485165\n",
      "  model = cd_fast.enet_coordinate_descent_gram(\n",
      "/usr/local/lib/python3.10/dist-packages/sklearn/linear_model/_coordinate_descent.py:683: ConvergenceWarning: Objective did not converge. You might want to increase the number of iterations. Duality gap: 2.22545829675164, tolerance: 0.14134953469485165\n",
      "  model = cd_fast.enet_coordinate_descent_gram(\n",
      "/usr/local/lib/python3.10/dist-packages/sklearn/linear_model/_coordinate_descent.py:683: ConvergenceWarning: Objective did not converge. You might want to increase the number of iterations. Duality gap: 3.4880042082991167, tolerance: 0.14134953469485165\n",
      "  model = cd_fast.enet_coordinate_descent_gram(\n",
      "/usr/local/lib/python3.10/dist-packages/sklearn/linear_model/_coordinate_descent.py:683: ConvergenceWarning: Objective did not converge. You might want to increase the number of iterations. Duality gap: 10.850632706079296, tolerance: 0.14134953469485165\n",
      "  model = cd_fast.enet_coordinate_descent_gram(\n",
      "/usr/local/lib/python3.10/dist-packages/sklearn/linear_model/_coordinate_descent.py:683: ConvergenceWarning: Objective did not converge. You might want to increase the number of iterations. Duality gap: 22.887342944950205, tolerance: 0.14134953469485165\n",
      "  model = cd_fast.enet_coordinate_descent_gram(\n",
      "/usr/local/lib/python3.10/dist-packages/sklearn/linear_model/_coordinate_descent.py:683: ConvergenceWarning: Objective did not converge. You might want to increase the number of iterations. Duality gap: 33.740059727420544, tolerance: 0.14134953469485165\n",
      "  model = cd_fast.enet_coordinate_descent_gram(\n",
      "/usr/local/lib/python3.10/dist-packages/sklearn/linear_model/_coordinate_descent.py:683: ConvergenceWarning: Objective did not converge. You might want to increase the number of iterations. Duality gap: 24.520125092890225, tolerance: 0.14134953469485165\n",
      "  model = cd_fast.enet_coordinate_descent_gram(\n",
      "/usr/local/lib/python3.10/dist-packages/sklearn/linear_model/_coordinate_descent.py:683: ConvergenceWarning: Objective did not converge. You might want to increase the number of iterations. Duality gap: 35.558383951448945, tolerance: 0.14134953469485165\n",
      "  model = cd_fast.enet_coordinate_descent_gram(\n",
      "/usr/local/lib/python3.10/dist-packages/sklearn/linear_model/_coordinate_descent.py:683: ConvergenceWarning: Objective did not converge. You might want to increase the number of iterations. Duality gap: 46.9008200877372, tolerance: 0.14134953469485165\n",
      "  model = cd_fast.enet_coordinate_descent_gram(\n",
      "/usr/local/lib/python3.10/dist-packages/sklearn/linear_model/_coordinate_descent.py:683: ConvergenceWarning: Objective did not converge. You might want to increase the number of iterations. Duality gap: 52.694595716609, tolerance: 0.14134953469485165\n",
      "  model = cd_fast.enet_coordinate_descent_gram(\n",
      "/usr/local/lib/python3.10/dist-packages/sklearn/linear_model/_coordinate_descent.py:683: ConvergenceWarning: Objective did not converge. You might want to increase the number of iterations. Duality gap: 58.55684029618055, tolerance: 0.14134953469485165\n",
      "  model = cd_fast.enet_coordinate_descent_gram(\n",
      "/usr/local/lib/python3.10/dist-packages/sklearn/linear_model/_coordinate_descent.py:683: ConvergenceWarning: Objective did not converge. You might want to increase the number of iterations. Duality gap: 64.91555726617116, tolerance: 0.14134953469485165\n",
      "  model = cd_fast.enet_coordinate_descent_gram(\n",
      "/usr/local/lib/python3.10/dist-packages/sklearn/linear_model/_coordinate_descent.py:683: ConvergenceWarning: Objective did not converge. You might want to increase the number of iterations. Duality gap: 69.71334398001397, tolerance: 0.14134953469485165\n",
      "  model = cd_fast.enet_coordinate_descent_gram(\n",
      "/usr/local/lib/python3.10/dist-packages/sklearn/linear_model/_coordinate_descent.py:683: ConvergenceWarning: Objective did not converge. You might want to increase the number of iterations. Duality gap: 55.43563478502813, tolerance: 0.14134953469485165\n",
      "  model = cd_fast.enet_coordinate_descent_gram(\n",
      "/usr/local/lib/python3.10/dist-packages/sklearn/linear_model/_coordinate_descent.py:683: ConvergenceWarning: Objective did not converge. You might want to increase the number of iterations. Duality gap: 61.060630795563156, tolerance: 0.14134953469485165\n",
      "  model = cd_fast.enet_coordinate_descent_gram(\n",
      "/usr/local/lib/python3.10/dist-packages/sklearn/linear_model/_coordinate_descent.py:683: ConvergenceWarning: Objective did not converge. You might want to increase the number of iterations. Duality gap: 63.753939008187785, tolerance: 0.14134953469485165\n",
      "  model = cd_fast.enet_coordinate_descent_gram(\n",
      "/usr/local/lib/python3.10/dist-packages/sklearn/linear_model/_coordinate_descent.py:683: ConvergenceWarning: Objective did not converge. You might want to increase the number of iterations. Duality gap: 64.96088187236364, tolerance: 0.14134953469485165\n",
      "  model = cd_fast.enet_coordinate_descent_gram(\n",
      "/usr/local/lib/python3.10/dist-packages/sklearn/linear_model/_coordinate_descent.py:683: ConvergenceWarning: Objective did not converge. You might want to increase the number of iterations. Duality gap: 51.85655482194613, tolerance: 0.14134953469485165\n",
      "  model = cd_fast.enet_coordinate_descent_gram(\n",
      "/usr/local/lib/python3.10/dist-packages/sklearn/linear_model/_coordinate_descent.py:683: ConvergenceWarning: Objective did not converge. You might want to increase the number of iterations. Duality gap: 55.23626177673202, tolerance: 0.14134953469485165\n",
      "  model = cd_fast.enet_coordinate_descent_gram(\n",
      "/usr/local/lib/python3.10/dist-packages/sklearn/linear_model/_coordinate_descent.py:683: ConvergenceWarning: Objective did not converge. You might want to increase the number of iterations. Duality gap: 58.89734998345682, tolerance: 0.14134953469485165\n",
      "  model = cd_fast.enet_coordinate_descent_gram(\n",
      "/usr/local/lib/python3.10/dist-packages/sklearn/linear_model/_coordinate_descent.py:683: ConvergenceWarning: Objective did not converge. You might want to increase the number of iterations. Duality gap: 61.46647924943318, tolerance: 0.14134953469485165\n",
      "  model = cd_fast.enet_coordinate_descent_gram(\n",
      "/usr/local/lib/python3.10/dist-packages/sklearn/linear_model/_coordinate_descent.py:683: ConvergenceWarning: Objective did not converge. You might want to increase the number of iterations. Duality gap: 67.38123338552623, tolerance: 0.14134953469485165\n",
      "  model = cd_fast.enet_coordinate_descent_gram(\n",
      "/usr/local/lib/python3.10/dist-packages/sklearn/linear_model/_coordinate_descent.py:683: ConvergenceWarning: Objective did not converge. You might want to increase the number of iterations. Duality gap: 83.74064871229962, tolerance: 0.14134953469485165\n",
      "  model = cd_fast.enet_coordinate_descent_gram(\n",
      "/usr/local/lib/python3.10/dist-packages/sklearn/linear_model/_coordinate_descent.py:683: ConvergenceWarning: Objective did not converge. You might want to increase the number of iterations. Duality gap: 100.99310621831216, tolerance: 0.14134953469485165\n",
      "  model = cd_fast.enet_coordinate_descent_gram(\n"
     ]
    },
    {
     "name": "stdout",
     "output_type": "stream",
     "text": [
      "0.03162543390583107\n"
     ]
    },
    {
     "name": "stderr",
     "output_type": "stream",
     "text": [
      "/usr/local/lib/python3.10/dist-packages/sklearn/linear_model/_coordinate_descent.py:683: ConvergenceWarning: Objective did not converge. You might want to increase the number of iterations. Duality gap: 114.2567875136217, tolerance: 0.14134953469485165\n",
      "  model = cd_fast.enet_coordinate_descent_gram(\n"
     ]
    }
   ],
   "source": [
    "from sklearn.linear_model import LassoCV\n",
    "lassocv = LassoCV(cv=5,max_iter=1000).fit(X_train, y_train)\n",
    "print(lassocv.alpha_)"
   ]
  },
  {
   "cell_type": "markdown",
   "metadata": {
    "id": "mWds_KlNLAJC"
   },
   "source": [
    "## 6. Fit model on whole training set using the cross-validated parameters"
   ]
  },
  {
   "cell_type": "code",
   "execution_count": null,
   "metadata": {
    "id": "Dhib_p_VLAJD"
   },
   "outputs": [],
   "source": [
    "lassowcvalpha=Lasso(alpha = lassocv.alpha_,max_iter=100000).fit(X_train,y_train)"
   ]
  },
  {
   "cell_type": "code",
   "execution_count": null,
   "metadata": {
    "colab": {
     "base_uri": "https://localhost:8080/"
    },
    "executionInfo": {
     "elapsed": 180,
     "status": "ok",
     "timestamp": 1728405453682,
     "user": {
      "displayName": "Brigham Frandsen",
      "userId": "16207919643707414251"
     },
     "user_tz": 360
    },
    "id": "bPL20kw6DVZZ",
    "outputId": "2272b4e3-dc85-43a1-adb2-654a171163b2"
   },
   "outputs": [
    {
     "data": {
      "text/plain": [
       "array([-0.        ,  0.        , -0.        ,  0.        ,  0.        ,\n",
       "        0.        , -0.        , -0.        , -0.        , -0.        ,\n",
       "        0.        ,  0.        , -0.        ,  0.        ,  0.        ,\n",
       "       -0.        ,  0.        ,  0.        ,  0.        , -0.        ,\n",
       "       -0.        , -0.        ,  0.        ,  0.        ,  0.        ,\n",
       "        0.        ,  0.        , -0.02361798, -0.        , -0.        ,\n",
       "        0.        , -0.00181429,  0.        ,  0.        , -0.        ,\n",
       "       -0.        , -0.        ,  0.        ,  0.        , -0.        ,\n",
       "       -0.        ,  0.        , -0.        ,  0.        ,  0.        ,\n",
       "       -0.        , -0.        , -0.        ,  0.        , -0.        ,\n",
       "        0.        , -0.        ,  0.        ,  0.        , -0.05170246,\n",
       "        0.00968026,  0.00128332,  0.        , -0.        ,  0.        ,\n",
       "        0.        ,  0.        ,  0.        ,  0.        , -0.00684583,\n",
       "       -0.        , -0.        ,  0.        , -0.        , -0.        ,\n",
       "       -0.        , -0.        , -0.        , -0.        , -0.00914373,\n",
       "       -0.        , -0.        ,  0.1024345 ,  0.        , -0.        ,\n",
       "        0.        ,  0.02679491, -0.        ,  0.        , -0.        ,\n",
       "        0.        ,  0.        , -0.        ,  0.        , -0.        ,\n",
       "        0.        , -0.01178943, -0.03334032, -0.08101555,  0.        ,\n",
       "       -0.01235953,  0.        ,  0.03043606,  0.        , -0.        ,\n",
       "       -0.01523589,  0.        ,  0.04951469, -0.        , -0.        ,\n",
       "       -0.        ,  0.        ,  0.        ,  0.        , -0.        ,\n",
       "       -0.        , -0.03569171, -0.        ,  0.        ,  0.        ,\n",
       "        0.        , -0.        , -0.0120114 ,  0.        ,  0.00395571,\n",
       "       -0.02775267, -0.03458717, -0.        ,  0.00051313,  0.02128564,\n",
       "       -0.        ,  0.        ,  0.        , -0.        , -0.00084858,\n",
       "       -0.0699021 , -0.        ,  0.03105563,  0.        , -0.        ,\n",
       "       -0.        , -0.        ,  0.        ,  0.        , -0.00147925,\n",
       "       -0.01990355,  0.        ,  0.        ,  0.        ,  0.        ,\n",
       "       -0.        ,  0.02281232,  0.        , -0.        ,  0.        ,\n",
       "       -0.        ,  0.        ,  0.        , -0.        , -0.        ,\n",
       "        0.        ,  0.        ,  0.        ,  0.        , -0.        ,\n",
       "        0.        ,  0.        ,  0.        , -0.        , -0.        ,\n",
       "       -0.        , -0.        , -0.05325537, -0.03849522, -0.        ,\n",
       "        0.        ,  0.0285665 ,  0.        ,  0.        , -0.        ,\n",
       "       -0.        , -0.        , -0.        ,  0.        , -0.        ,\n",
       "        0.        , -0.        ,  0.        ,  0.        ])"
      ]
     },
     "execution_count": 38,
     "metadata": {},
     "output_type": "execute_result"
    }
   ],
   "source": [
    "lassowcvalpha.coef_"
   ]
  },
  {
   "cell_type": "markdown",
   "metadata": {
    "id": "gUPKBUI9LAJE"
   },
   "source": [
    "## 7. Evaluate model by applying it to test set"
   ]
  },
  {
   "cell_type": "code",
   "execution_count": null,
   "metadata": {
    "colab": {
     "base_uri": "https://localhost:8080/"
    },
    "executionInfo": {
     "elapsed": 192,
     "status": "ok",
     "timestamp": 1728405659803,
     "user": {
      "displayName": "Brigham Frandsen",
      "userId": "16207919643707414251"
     },
     "user_tz": 360
    },
    "id": "PCCFwiRhLAJF",
    "outputId": "03acbbeb-db96-48b2-971b-759093f858f4"
   },
   "outputs": [
    {
     "name": "stdout",
     "output_type": "stream",
     "text": [
      "Lasso score on test set: 0.0543\n"
     ]
    }
   ],
   "source": [
    "print('Lasso score on test set: {:.4f}'.format(lassowcvalpha.score(X_test,y_test)))"
   ]
  },
  {
   "cell_type": "markdown",
   "metadata": {
    "id": "YrJ9niLALAJG"
   },
   "source": [
    "## 8. Repeat 4-7 for several methods"
   ]
  },
  {
   "cell_type": "code",
   "execution_count": null,
   "metadata": {
    "id": "Lh9k6n8NMoHA"
   },
   "outputs": [],
   "source": []
  },
  {
   "cell_type": "markdown",
   "metadata": {
    "id": "pYDDrrE8LAJH"
   },
   "source": [
    "## 9. Apply to new observations for which we have no labels"
   ]
  },
  {
   "cell_type": "code",
   "execution_count": null,
   "metadata": {
    "colab": {
     "base_uri": "https://localhost:8080/"
    },
    "executionInfo": {
     "elapsed": 174,
     "status": "ok",
     "timestamp": 1728405926678,
     "user": {
      "displayName": "Brigham Frandsen",
      "userId": "16207919643707414251"
     },
     "user_tz": 360
    },
    "hide_input": false,
    "id": "GsinB0V6LAJI",
    "outputId": "23dafa8e-5280-4336-bd79-2b4f403c837f"
   },
   "outputs": [
    {
     "name": "stdout",
     "output_type": "stream",
     "text": [
      "predicted residualized ticket sales for new observation:  [-0.09059448]\n"
     ]
    }
   ],
   "source": [
    "Xnew=pd.read_csv('https://github.com/brighamfrandsen/econ484/blob/master/data/newobs.csv?raw=true')\n",
    "\n",
    "# standardize new Xs in same way\n",
    "Xnew = scaler.transform(Xnew)\n",
    "yhatnew=lassowcvalpha.predict(Xnew)\n",
    "print(\"predicted residualized ticket sales for new observation: \",yhatnew)"
   ]
  },
  {
   "cell_type": "code",
   "execution_count": null,
   "metadata": {
    "id": "iMdW0Qi5LAJK"
   },
   "outputs": [],
   "source": [
    "lassowcvalpha.coef_"
   ]
  },
  {
   "cell_type": "code",
   "execution_count": null,
   "metadata": {
    "id": "tjX8IEhyj8eK"
   },
   "outputs": [],
   "source": []
  }
 ],
 "metadata": {
  "colab": {
   "provenance": []
  },
  "kernelspec": {
   "display_name": "Python 3",
   "language": "python",
   "name": "python3"
  },
  "language_info": {
   "codemirror_mode": {
    "name": "ipython",
    "version": 3
   },
   "file_extension": ".py",
   "mimetype": "text/x-python",
   "name": "python",
   "nbconvert_exporter": "python",
   "pygments_lexer": "ipython3",
   "version": "3.6.9"
  },
  "latex_metadata": {
   "author": "Andreas C. M\\\"ller",
   "title": "Machine Learning with Python"
  }
 },
 "nbformat": 4,
 "nbformat_minor": 0
}
