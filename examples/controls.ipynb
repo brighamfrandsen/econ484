{
  "cells": [
    {
      "cell_type": "markdown",
      "metadata": {
        "id": "e1gsj9Tjb2ux"
      },
      "source": [
        "# Using Machine Learning to Control for Covariates in a Regression\n",
        "This notebook will illustrate machine learning methods for controlling for a large set of covariates in a regression estimating the effect of elite college attendance on later-life earnings. There are two basic approaches. The first is \"Post-Double Selection Lasso\" (Belloni, Chernozhukov, Hansen). The second is \"Double-Debiased Machine Learning\" (Chernozhukov, Chetverikov, Demirer, Duflo, Hansen, Newey, Robins)"
      ]
    },
    {
      "cell_type": "code",
      "execution_count": null,
      "metadata": {
        "id": "cwWoLHbyb0OQ"
      },
      "outputs": [],
      "source": [
        "# Import necessary libraries\n",
        "!pip install mglearn\n",
        "!git clone https://github.com/brighamfrandsen/econ484.git\n",
        "%cd econ484/utilities\n",
        "from preamble import *\n",
        "%cd content/econ484/data"
      ]
    },
    {
      "cell_type": "markdown",
      "metadata": {
        "id": "YfjZ5On64jZ6"
      },
      "source": [
        "[![Open in Colab](https://colab.research.google.com/assets/colab-badge.svg)](https://colab.research.google.com/github/brighamfrandsen/econ484/blob/master/examples/controls.ipynb)"
      ]
    },
    {
      "cell_type": "markdown",
      "metadata": {
        "id": "yrGtZGTDbwUN"
      },
      "source": [
        "## Load useful packages:\n",
        "pandas, numpy, linear_model (from sklearn), and KFold (from sklearn.model_selection)\n",
        "\n",
        "Try it yourself first"
      ]
    },
    {
      "cell_type": "code",
      "execution_count": null,
      "metadata": {
        "id": "lSklrnF3swnG"
      },
      "outputs": [],
      "source": []
    },
    {
      "cell_type": "markdown",
      "metadata": {
        "id": "Wg1D6fc7sprb"
      },
      "source": [
        "### Cheat"
      ]
    },
    {
      "cell_type": "code",
      "execution_count": null,
      "metadata": {
        "id": "uK3RIvwKbwUN"
      },
      "outputs": [],
      "source": [
        "import pandas as pd\n",
        "import numpy as np\n",
        "from sklearn import linear_model\n",
        "from sklearn.model_selection import KFold"
      ]
    },
    {
      "cell_type": "markdown",
      "metadata": {
        "id": "j1aemlN8bwUO"
      },
      "source": [
        "## Read in data and have a look at the head and shape\n",
        "college.csv is in the \"datasets\" subfolder\n",
        "\n",
        "Try it yourself"
      ]
    },
    {
      "cell_type": "code",
      "execution_count": null,
      "metadata": {
        "id": "QX8BER-qtIPh"
      },
      "outputs": [],
      "source": []
    },
    {
      "cell_type": "markdown",
      "metadata": {
        "id": "yPXNaDC5tIqx"
      },
      "source": [
        "### Cheat"
      ]
    },
    {
      "cell_type": "code",
      "execution_count": null,
      "metadata": {
        "id": "7M4VPND9bwUO"
      },
      "outputs": [],
      "source": [
        "collegedata=pd.read_csv('./data/college.csv')\n",
        "print(collegedata.head())\n",
        "print(\"Shape: {}\".format(str(collegedata.shape)))"
      ]
    },
    {
      "cell_type": "markdown",
      "metadata": {
        "id": "zTkTBC_GbwUO"
      },
      "source": [
        "## Define outcome, regressor of interest, covariate matrix and sampling weights\n",
        "y = lowninc\n",
        "\n",
        "d = matsat2\n",
        "\n",
        "X = everything except y, d, inst, and instwt\n",
        "\n",
        "sampling weights = instwt\n",
        "\n",
        "Try it yourself:"
      ]
    },
    {
      "cell_type": "code",
      "execution_count": null,
      "metadata": {
        "id": "iEDF-ieJt8r6"
      },
      "outputs": [],
      "source": []
    },
    {
      "cell_type": "markdown",
      "metadata": {
        "id": "GorEJmAdt9y6"
      },
      "source": [
        "### Cheat"
      ]
    },
    {
      "cell_type": "code",
      "execution_count": null,
      "metadata": {
        "id": "K9yDNfWbbwUO"
      },
      "outputs": [],
      "source": [
        "y=collegedata.loc[:,'lowninc']\n",
        "d=collegedata.loc[:,['matsat2']]\n",
        "X=collegedata.drop(['lowninc','matsat2','inst','instwt'],axis=1)\n",
        "instwt=collegedata.loc[:,'instwt']"
      ]
    },
    {
      "cell_type": "markdown",
      "metadata": {
        "id": "QiITTR5XfOPB"
      },
      "source": [
        "## Simple Regression with no Controls\n",
        "Regress y on d and print out coefficient\n",
        "Try it yourself"
      ]
    },
    {
      "cell_type": "code",
      "execution_count": null,
      "metadata": {
        "id": "6LOBDO9nulyf"
      },
      "outputs": [],
      "source": []
    },
    {
      "cell_type": "markdown",
      "metadata": {
        "id": "-flkjNb1umRv"
      },
      "source": [
        "### Cheat"
      ]
    },
    {
      "cell_type": "code",
      "execution_count": null,
      "metadata": {
        "id": "lawwWrR0bwUO"
      },
      "outputs": [],
      "source": [
        "lm=linear_model.LinearRegression()\n",
        "lm.fit(d,y,instwt)\n",
        "print(\"Simple regression effect of selective college: {:.3f}\".format(lm.coef_[0]))"
      ]
    },
    {
      "cell_type": "markdown",
      "metadata": {
        "id": "FyLr9G2BbwUP"
      },
      "source": [
        "## Post Double Selection Lasso"
      ]
    },
    {
      "cell_type": "markdown",
      "metadata": {
        "id": "GV680gb4fH9J"
      },
      "source": [
        "### Step 1: Lasso the outcome on X\n",
        "Try it yourself"
      ]
    },
    {
      "cell_type": "code",
      "execution_count": null,
      "metadata": {
        "id": "Vrw7Jp9NvRob"
      },
      "outputs": [],
      "source": []
    },
    {
      "cell_type": "markdown",
      "metadata": {
        "id": "7XBPxADbvSQx"
      },
      "source": [
        "#### Cheat"
      ]
    },
    {
      "cell_type": "code",
      "execution_count": null,
      "metadata": {
        "id": "utBluzYMbwUP"
      },
      "outputs": [],
      "source": [
        "lassoy = linear_model.Lasso(alpha=0.001, max_iter=1000,normalize=True).fit(X, y)"
      ]
    },
    {
      "cell_type": "markdown",
      "metadata": {
        "id": "ayb8h1TabwUP"
      },
      "source": [
        "### Step 2: Lasso the treatment on X\n",
        "Try it yourself"
      ]
    },
    {
      "cell_type": "code",
      "execution_count": null,
      "metadata": {
        "id": "H1jSm4SivZ9x"
      },
      "outputs": [],
      "source": []
    },
    {
      "cell_type": "markdown",
      "metadata": {
        "id": "y74HbxclvaZM"
      },
      "source": [
        "#### Cheat"
      ]
    },
    {
      "cell_type": "code",
      "execution_count": null,
      "metadata": {
        "id": "a8TQIG_MbwUP"
      },
      "outputs": [],
      "source": [
        "lassod = linear_model.Lasso(alpha=0.001, max_iter=1000,normalize=True).fit(X, d)"
      ]
    },
    {
      "cell_type": "markdown",
      "metadata": {
        "id": "YRT_TCtZbwUP"
      },
      "source": [
        "### Step 3: Form the union of controls\n",
        "Try it yourself"
      ]
    },
    {
      "cell_type": "code",
      "execution_count": null,
      "metadata": {
        "id": "ILtNuVVxvpon"
      },
      "outputs": [],
      "source": []
    },
    {
      "cell_type": "markdown",
      "metadata": {
        "id": "91aP0B-AvqB2"
      },
      "source": [
        "#### Cheat"
      ]
    },
    {
      "cell_type": "code",
      "execution_count": null,
      "metadata": {
        "id": "Soyb1kuFbwUP"
      },
      "outputs": [],
      "source": [
        "Xunion=X.iloc[:,(lassod.coef_!=0) + (lassoy.coef_!=0)]\n",
        "Xunion.head()"
      ]
    },
    {
      "cell_type": "markdown",
      "metadata": {
        "id": "1Anw8-QibwUP"
      },
      "source": [
        "### Concatenate treatment with union of controls and regress y on that and print out estimate\n",
        "Try yourself"
      ]
    },
    {
      "cell_type": "code",
      "execution_count": null,
      "metadata": {
        "id": "nr7yq0ysv83g"
      },
      "outputs": [],
      "source": []
    },
    {
      "cell_type": "markdown",
      "metadata": {
        "id": "Tm4vZXN-v9Ou"
      },
      "source": [
        "#### Cheat"
      ]
    },
    {
      "cell_type": "code",
      "execution_count": null,
      "metadata": {
        "id": "gm3RT7ObbwUP"
      },
      "outputs": [],
      "source": [
        "rhs=pd.concat([d,Xunion],axis=1)\n",
        "fullreg=linear_model.LinearRegression().fit(rhs,y,instwt)\n",
        "print(\"PDS regression effect of selective college: {:.3f}\".format(fullreg.coef_[0]))"
      ]
    },
    {
      "cell_type": "markdown",
      "metadata": {
        "id": "-ub3mDLFbwUP"
      },
      "source": [
        "## Double-Debiased Machine Learning\n",
        "For simplicity, we will first do it without sample splitting"
      ]
    },
    {
      "cell_type": "markdown",
      "metadata": {
        "id": "LfsIjhZLjRSc"
      },
      "source": [
        "### Step 1: Ridge outcome on Xs, get residuals\n",
        "Try yourself"
      ]
    },
    {
      "cell_type": "code",
      "execution_count": null,
      "metadata": {
        "id": "yfbKeMvywfZr"
      },
      "outputs": [],
      "source": []
    },
    {
      "cell_type": "markdown",
      "metadata": {
        "id": "iLEeasnUwft7"
      },
      "source": [
        "#### Cheat"
      ]
    },
    {
      "cell_type": "code",
      "execution_count": null,
      "metadata": {
        "id": "Da9pdvv1leOC"
      },
      "outputs": [],
      "source": [
        "ridgey = linear_model.Ridge(alpha=0.001, max_iter=1000,normalize=True).fit(X, y)\n",
        "yresid=y-ridgey.predict(X)"
      ]
    },
    {
      "cell_type": "markdown",
      "metadata": {
        "id": "njrC3DP7l83X"
      },
      "source": [
        "### Step 2: Ridge treatment on Xs, get residuals\n",
        "Try yourself"
      ]
    },
    {
      "cell_type": "code",
      "execution_count": null,
      "metadata": {
        "id": "-n19zD9iwmOq"
      },
      "outputs": [],
      "source": []
    },
    {
      "cell_type": "markdown",
      "metadata": {
        "id": "P2-anrDxwp9l"
      },
      "source": [
        "#### Cheat"
      ]
    },
    {
      "cell_type": "code",
      "execution_count": null,
      "metadata": {
        "id": "Wkcwyi8ImBNa"
      },
      "outputs": [],
      "source": [
        "ridged = linear_model.Ridge(alpha=0.001, max_iter=1000,normalize=True).fit(X, d)\n",
        "dresid=d-ridged.predict(X)"
      ]
    },
    {
      "cell_type": "markdown",
      "metadata": {
        "id": "938Uw1dXmKop"
      },
      "source": [
        "### Step 3: Regress y resids on d resids and print out estimate\n",
        "Try yourself"
      ]
    },
    {
      "cell_type": "code",
      "execution_count": null,
      "metadata": {
        "id": "H1g-x_9DwwUl"
      },
      "outputs": [],
      "source": []
    },
    {
      "cell_type": "markdown",
      "metadata": {
        "id": "aqbex0fqwxIy"
      },
      "source": [
        "####Cheat"
      ]
    },
    {
      "cell_type": "code",
      "execution_count": null,
      "metadata": {
        "id": "cp1OX-LwmPUL"
      },
      "outputs": [],
      "source": [
        "ddmlreg=linear_model.LinearRegression().fit(dresid,yresid,instwt)\n",
        "print(\"DDML regression effect of selective college: {:.3f}\".format(ddmlreg.coef_[0]))"
      ]
    },
    {
      "cell_type": "markdown",
      "metadata": {
        "id": "ea6hN-cTmY_U"
      },
      "source": [
        "### The real thing: with sample splitting"
      ]
    },
    {
      "cell_type": "code",
      "execution_count": null,
      "metadata": {
        "id": "n0m5g4-BuiMg"
      },
      "outputs": [],
      "source": [
        "np.zeros(5)"
      ]
    },
    {
      "cell_type": "code",
      "execution_count": null,
      "metadata": {
        "id": "CUaFlxFQmp1d"
      },
      "outputs": [],
      "source": [
        "# create our sample splitting \"object\"\n",
        "kf = KFold(n_splits=5,shuffle=True,random_state=42)\n",
        "\n",
        "# apply the splits to our Xs\n",
        "kf.get_n_splits(X)\n",
        "\n",
        "# initialize array to hold each fold's regression coefficient\n",
        "coeffs=np.zeros(5)\n",
        "\n",
        "# Now loop through each fold\n",
        "ii=0\n",
        "for train_index, test_index in kf.split(X):\n",
        "  X_train, X_test = X.iloc[train_index,:], X.iloc[test_index,:]\n",
        "  y_train, y_test = y.iloc[train_index], y.iloc[test_index]\n",
        "  d_train, d_test = d.iloc[train_index,:], d.iloc[test_index,:]\n",
        "  wt_train, wt_test = instwt.iloc[train_index], instwt.iloc[test_index]\n",
        "  # Do DDML thing\n",
        "  # Ridge y on training folds:\n",
        "  ridgey.fit(X_train, y_train)\n",
        "\n",
        "  # but get residuals in test set\n",
        "  yresid=y_test-ridgey.predict(X_test)\n",
        "\n",
        "  #Ridge d on training folds\n",
        "  ridged.fit(X_train, d_train)\n",
        "\n",
        "  #but get residuals in test set\n",
        "  dresid=d_test-ridged.predict(X_test)\n",
        "\n",
        "  # regress resids on resids\n",
        "  ddmlreg=linear_model.LinearRegression().fit(dresid,yresid,wt_test)\n",
        "\n",
        "  # save coefficient in a vector\n",
        "  coeffs[ii]=ddmlreg.coef_[0]\n",
        "  ii+=1\n",
        "\n",
        "# Take average\n",
        "print(\"Double-Debiased Machine Learning effect of selective college: {:.3f}\".format(np.mean(coeffs)))\n",
        "coeffs"
      ]
    },
    {
      "cell_type": "code",
      "execution_count": null,
      "metadata": {
        "id": "6OOfTltsKwxg"
      },
      "outputs": [],
      "source": [
        "list(kf.split(X))"
      ]
    },
    {
      "cell_type": "markdown",
      "metadata": {
        "id": "5j0INc4lqc2d"
      },
      "source": [
        "## Now do DDML using Random Forest!"
      ]
    },
    {
      "cell_type": "code",
      "execution_count": null,
      "metadata": {
        "id": "izctK-2dxxpv"
      },
      "outputs": [],
      "source": []
    }
  ],
  "metadata": {
    "colab": {
      "collapsed_sections": [
        "Wg1D6fc7sprb",
        "yPXNaDC5tIqx",
        "GorEJmAdt9y6",
        "-flkjNb1umRv",
        "7XBPxADbvSQx",
        "y74HbxclvaZM",
        "91aP0B-AvqB2",
        "Tm4vZXN-v9Ou"
      ],
      "provenance": []
    },
    "kernelspec": {
      "display_name": "Python 3",
      "language": "python",
      "name": "python3"
    },
    "language_info": {
      "codemirror_mode": {
        "name": "ipython",
        "version": 3
      },
      "file_extension": ".py",
      "mimetype": "text/x-python",
      "name": "python",
      "nbconvert_exporter": "python",
      "pygments_lexer": "ipython3",
      "version": "3.7.4"
    }
  },
  "nbformat": 4,
  "nbformat_minor": 0
}