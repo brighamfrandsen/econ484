{
  "cells": [
    {
      "cell_type": "markdown",
      "metadata": {
        "id": "view-in-github",
        "colab_type": "text"
      },
      "source": [
        "<a href=\"https://colab.research.google.com/github/brighamfrandsen/econ484/blob/master/examples/01%20Python%20Introduction.ipynb\" target=\"_parent\"><img src=\"https://colab.research.google.com/assets/colab-badge.svg\" alt=\"Open In Colab\"/></a>"
      ]
    },
    {
      "cell_type": "markdown",
      "metadata": {
        "id": "lvdQWBOofSEw"
      },
      "source": [
        "Here's a brief introduction to Python.\n",
        "\n",
        "These tools will give you all the tools you need to answer the exercise questions at the end of this notebook."
      ]
    },
    {
      "cell_type": "markdown",
      "source": [
        "#Allow me to introduce myself"
      ],
      "metadata": {
        "id": "wWDAhbgNi-L0"
      }
    },
    {
      "cell_type": "code",
      "source": [
        "# This is a comment!\n",
        "print(\"Hello, World!\")"
      ],
      "metadata": {
        "id": "ZXm1C8coiQLi",
        "outputId": "8fdca847-a8cb-4e05-d93a-8d66c7237cc3",
        "colab": {
          "base_uri": "https://localhost:8080/"
        }
      },
      "execution_count": 11,
      "outputs": [
        {
          "output_type": "stream",
          "name": "stdout",
          "text": [
            "Hello, World!\n"
          ]
        }
      ]
    },
    {
      "cell_type": "code",
      "source": [
        "stringvariable = 'World'\n",
        "print(\"Hello, {}!\".format(stringvariable))"
      ],
      "metadata": {
        "id": "g-w-oZbCibo0",
        "outputId": "b4a849ad-e2fb-4337-91a9-1a00b52a1514",
        "colab": {
          "base_uri": "https://localhost:8080/"
        }
      },
      "execution_count": 12,
      "outputs": [
        {
          "output_type": "stream",
          "name": "stdout",
          "text": [
            "Hello, World!\n"
          ]
        }
      ]
    },
    {
      "cell_type": "code",
      "source": [
        "# Now define a variable called 'name', assign it the value of your name, and introduce yourself via python!\n",
        "\n",
        "name = 'Brigham Frandsen'\n",
        "print(\"Hello, I'm {}!\".format(name))"
      ],
      "metadata": {
        "id": "rL5_0GXoitxC",
        "outputId": "a7dbf042-9a8b-45a4-e93e-b155d21e6721",
        "colab": {
          "base_uri": "https://localhost:8080/"
        }
      },
      "execution_count": 14,
      "outputs": [
        {
          "output_type": "stream",
          "name": "stdout",
          "text": [
            "Hello, I'm Brigham Frandsen!\n"
          ]
        }
      ]
    },
    {
      "cell_type": "markdown",
      "metadata": {
        "id": "rNCjuokXfSE1"
      },
      "source": [
        "### Introduction to basic classes and numeric python operations"
      ]
    },
    {
      "cell_type": "code",
      "execution_count": 16,
      "metadata": {
        "id": "I8h9a4W6fSE2",
        "outputId": "eebd345d-0d8f-47ba-f4e4-f69320cff4a2",
        "colab": {
          "base_uri": "https://localhost:8080/"
        }
      },
      "outputs": [
        {
          "output_type": "stream",
          "name": "stdout",
          "text": [
            "3.1416\n"
          ]
        }
      ],
      "source": [
        "## Formatting Floats\n",
        "# method 1\n",
        "c=3.141592653585\n",
        "d = 1\n",
        "print(\"{:.2f}\".format(c*d)) # {} is the place holder for the argument.\n",
        "                            # defines the arguement. \":.2f\" means \"Round my output to 2 decimals\"\n",
        "                            # c*d is the argument being passed in."
      ]
    },
    {
      "cell_type": "code",
      "execution_count": 17,
      "metadata": {
        "id": "XKf30Y3UfSE3",
        "outputId": "aacc87ca-419e-4e46-daa9-28088d1acd32",
        "colab": {
          "base_uri": "https://localhost:8080/"
        }
      },
      "outputs": [
        {
          "output_type": "stream",
          "name": "stdout",
          "text": [
            "I can use multiple placeholders.\n"
          ]
        }
      ],
      "source": [
        "print(\"I can use {} {}.\".format(\"multiple\", \"placeholders\"))"
      ]
    },
    {
      "cell_type": "code",
      "execution_count": 18,
      "metadata": {
        "id": "OJHBA899fSE3",
        "outputId": "f5777930-c234-4f09-f450-c6d53f9a311c",
        "colab": {
          "base_uri": "https://localhost:8080/"
        }
      },
      "outputs": [
        {
          "output_type": "stream",
          "name": "stdout",
          "text": [
            "This is f-string (format string) 3.142\n"
          ]
        }
      ],
      "source": [
        "# method 2\n",
        "print(f\"This is f-string (format string) {c*d:.3f}\")"
      ]
    },
    {
      "cell_type": "code",
      "source": [
        "# use f-string to introduce yourself with your name:\n"
      ],
      "metadata": {
        "id": "UcQgJ8jytsyW",
        "outputId": "d9c523c3-64c7-4b3b-c0f8-3af71b09e466",
        "colab": {
          "base_uri": "https://localhost:8080/"
        }
      },
      "execution_count": 19,
      "outputs": [
        {
          "output_type": "stream",
          "name": "stdout",
          "text": [
            "Hello, my name is Brigham Frandsen!\n"
          ]
        }
      ]
    },
    {
      "cell_type": "code",
      "source": [
        "a = 4\n",
        "b = 2\n"
      ],
      "metadata": {
        "id": "sBYxq1Clu3G0",
        "outputId": "884d6107-85b8-4db9-ecf7-a27b7097391d",
        "colab": {
          "base_uri": "https://localhost:8080/"
        }
      },
      "execution_count": 28,
      "outputs": [
        {
          "output_type": "execute_result",
          "data": {
            "text/plain": [
              "2"
            ]
          },
          "metadata": {},
          "execution_count": 28
        }
      ]
    },
    {
      "cell_type": "code",
      "execution_count": 26,
      "metadata": {
        "id": "jEcWlqBjfSE4",
        "outputId": "b817f129-074d-44ca-f492-044d87fa0c61",
        "colab": {
          "base_uri": "https://localhost:8080/"
        }
      },
      "outputs": [
        {
          "output_type": "stream",
          "name": "stdout",
          "text": [
            "4**2 or pow(4,2) = 16\n"
          ]
        }
      ],
      "source": [
        "# power\n",
        "print(f\"{a}**{b} or pow({a},{b}) = {a**b}\")"
      ]
    },
    {
      "cell_type": "code",
      "execution_count": 29,
      "metadata": {
        "id": "iWIx2O3EfSE4",
        "outputId": "b1cf3d4e-a31b-4a91-e967-a11204afe0ea",
        "colab": {
          "base_uri": "https://localhost:8080/"
        }
      },
      "outputs": [
        {
          "output_type": "stream",
          "name": "stdout",
          "text": [
            "4%3 = 1\n"
          ]
        }
      ],
      "source": [
        "# modulus is the remainder after division\n",
        "print(f\"{4}%{3} = {4%3}\")"
      ]
    },
    {
      "cell_type": "code",
      "execution_count": 30,
      "metadata": {
        "id": "ToeT_eRMfSE5",
        "outputId": "27e20da1-1468-41da-da63-91bfeec266c4",
        "colab": {
          "base_uri": "https://localhost:8080/"
        }
      },
      "outputs": [
        {
          "output_type": "stream",
          "name": "stdout",
          "text": [
            "Regular division results in: 2/4= 0.50\n"
          ]
        }
      ],
      "source": [
        "# floor division rounds down to the nearest integer.\n",
        "print(f\"Regular division results in: {b}/{a}= {b/a:.2f}\")"
      ]
    },
    {
      "cell_type": "code",
      "execution_count": 31,
      "metadata": {
        "id": "beHH3KiAfSE5",
        "outputId": "88739a24-b871-420f-c431-17ba72faaf84",
        "colab": {
          "base_uri": "https://localhost:8080/"
        }
      },
      "outputs": [
        {
          "output_type": "stream",
          "name": "stdout",
          "text": [
            "While flooring: 2//4= 0 which is the same as int(0.50) = 0\n"
          ]
        }
      ],
      "source": [
        "print(f\"While flooring: {b}//{a}= {b//a} which is the same as int({b/a:.2f}) = {int(b//a)}\")"
      ]
    },
    {
      "cell_type": "markdown",
      "metadata": {
        "id": "O3_hTVS6fSE5"
      },
      "source": [
        "### Introduction to conditions and booleans"
      ]
    },
    {
      "cell_type": "code",
      "execution_count": 32,
      "metadata": {
        "id": "ZkQPwkQcfSE6",
        "outputId": "5f142f21-2b11-4849-c478-18e114e62942",
        "colab": {
          "base_uri": "https://localhost:8080/"
        }
      },
      "outputs": [
        {
          "output_type": "stream",
          "name": "stdout",
          "text": [
            "True False\n"
          ]
        }
      ],
      "source": [
        "# We can compare numbers using the following operations\n",
        "# >=, <=, ==\n",
        "bool1 = 3 > 2\n",
        "bool2 = 2 <= 1\n",
        "print(bool1, bool2)"
      ]
    },
    {
      "cell_type": "code",
      "execution_count": 33,
      "metadata": {
        "id": "N0KWxm28fSE6",
        "outputId": "819cc754-638f-4985-c750-538f69d64968",
        "colab": {
          "base_uri": "https://localhost:8080/"
        }
      },
      "outputs": [
        {
          "output_type": "stream",
          "name": "stdout",
          "text": [
            "True\n"
          ]
        }
      ],
      "source": [
        "# These results are stored as booleans which can\n",
        "# be accessed directly with the keyword arguments \"True\" and \"False\"\n",
        "print(bool1 == True)"
      ]
    },
    {
      "cell_type": "code",
      "execution_count": 34,
      "metadata": {
        "id": "ErrsI4p1fSE6",
        "outputId": "f98542a4-710f-474c-af26-12deb5a6c470",
        "colab": {
          "base_uri": "https://localhost:8080/"
        }
      },
      "outputs": [
        {
          "output_type": "stream",
          "name": "stdout",
          "text": [
            "True\n"
          ]
        }
      ],
      "source": [
        "print(bool2 == False)"
      ]
    },
    {
      "cell_type": "code",
      "execution_count": 38,
      "metadata": {
        "id": "8uXuEBWdfSE6",
        "outputId": "0e010d29-0be1-4073-e89a-e3a34f090707",
        "colab": {
          "base_uri": "https://localhost:8080/"
        }
      },
      "outputs": [
        {
          "output_type": "stream",
          "name": "stdout",
          "text": [
            "the condition was false!\n",
            "False\n",
            "the is the last line of code in the block\n"
          ]
        }
      ],
      "source": [
        "# We can use booleans to make conditional code.\n",
        "a = 3\n",
        "b = 2\n",
        "c = 5\n",
        "response = None\n",
        "\n",
        "if a*b <= c: # if true then run the code right after it\n",
        "    response = True\n",
        "    print(\"the condition was true!\")\n",
        "else:      # if the condition above isn't true, do this instead.\n",
        "    response = False\n",
        "    print(\"the condition was false!\")\n",
        "print(response)\n",
        "print(\"the is the last line of code in the block\")"
      ]
    },
    {
      "cell_type": "code",
      "execution_count": 39,
      "metadata": {
        "id": "dbm4ssEIfSE7",
        "outputId": "2cb2211d-3d0a-4558-dc4c-caf297ec1661",
        "colab": {
          "base_uri": "https://localhost:8080/"
        }
      },
      "outputs": [
        {
          "output_type": "execute_result",
          "data": {
            "text/plain": [
              "False"
            ]
          },
          "metadata": {},
          "execution_count": 39
        }
      ],
      "source": [
        "# but we could have done this with fewer lines of code.\n",
        "response = a*b <= c\n",
        "response\n",
        "# see how much easier that is to read!"
      ]
    },
    {
      "cell_type": "code",
      "source": [
        "# Write an if statement that prints out the message \"the number is even\" if a variable is even, and \"the number is odd\" if the number is odd\n"
      ],
      "metadata": {
        "id": "fcemVr2Hx89Z",
        "outputId": "86766129-0269-4e71-b2bd-9c4c920c8147",
        "colab": {
          "base_uri": "https://localhost:8080/"
        }
      },
      "execution_count": 41,
      "outputs": [
        {
          "output_type": "stream",
          "name": "stdout",
          "text": [
            "7 is odd!\n"
          ]
        }
      ]
    },
    {
      "cell_type": "markdown",
      "metadata": {
        "id": "E3JyjUVQfSE7"
      },
      "source": [
        "### Introduction to lists and \"loops\""
      ]
    },
    {
      "cell_type": "code",
      "execution_count": 42,
      "metadata": {
        "id": "Xjx8b0lWfSE7",
        "outputId": "7de0ca20-d669-4c1b-9a7e-952912245753",
        "colab": {
          "base_uri": "https://localhost:8080/"
        }
      },
      "outputs": [
        {
          "output_type": "execute_result",
          "data": {
            "text/plain": [
              "6"
            ]
          },
          "metadata": {},
          "execution_count": 42
        }
      ],
      "source": [
        "# sometimes we want to repeat an operation until a condition is met.\n",
        "# For example. How many times do we need to divide 100 by 2 before it's smaller than 3?\n",
        "\n",
        "count = 0\n",
        "num = 100\n",
        "while num >= 3:\n",
        "    num = num / 2\n",
        "    count = count + 1\n",
        "count"
      ]
    },
    {
      "cell_type": "code",
      "execution_count": 43,
      "metadata": {
        "id": "T2YhpmXtfSE7",
        "colab": {
          "base_uri": "https://localhost:8080/"
        },
        "outputId": "df38d0d1-d079-4f7d-ab1e-ac8c025a4315"
      },
      "outputs": [
        {
          "output_type": "stream",
          "name": "stdout",
          "text": [
            "2\n",
            "4\n",
            "6\n",
            "8\n",
            "10\n"
          ]
        },
        {
          "output_type": "execute_result",
          "data": {
            "text/plain": [
              "[1, 2, 3, 4, 5]"
            ]
          },
          "metadata": {},
          "execution_count": 43
        }
      ],
      "source": [
        "# The most common type of loop is the \"for loop\"\n",
        "# We can make something called a \"list\" and do operations on the contents of the list\n",
        "mylist = [1,2,3,4,5]\n",
        "for num in mylist:\n",
        "    num = 2*num\n",
        "    print(num)\n",
        "mylist\n",
        "# we did operations on the list but we didn't change the list... What happened? -- Don't worry about it too much."
      ]
    },
    {
      "cell_type": "code",
      "execution_count": 44,
      "metadata": {
        "id": "uFOZlGvFfSE8",
        "outputId": "2c74c94b-e617-40e4-bd67-2cad911b6db9",
        "colab": {
          "base_uri": "https://localhost:8080/"
        }
      },
      "outputs": [
        {
          "output_type": "execute_result",
          "data": {
            "text/plain": [
              "[2, 4, 6, 8, 10]"
            ]
          },
          "metadata": {},
          "execution_count": 44
        }
      ],
      "source": [
        "# As was eluded to earlier, there are good and bad ways to do things in Python\n",
        "# here's a bad way....\n",
        "newlist = [] # empty list\n",
        "mylist = [1,2,3,4,5]\n",
        "for num in mylist:\n",
        "    num *= 2\n",
        "    newlist.append(num) # \"list\" is a class that has a function called \"append\"\n",
        "                        # we access functions of an object by using a \".\"\n",
        "newlist"
      ]
    },
    {
      "cell_type": "code",
      "execution_count": 50,
      "metadata": {
        "id": "fGRv_XpLfSE8",
        "outputId": "f6f6fd2a-7f9d-48e2-a97f-75998cffd407",
        "colab": {
          "base_uri": "https://localhost:8080/"
        }
      },
      "outputs": [
        {
          "output_type": "execute_result",
          "data": {
            "text/plain": [
              "[2, 4, 6, 8, 10]"
            ]
          },
          "metadata": {},
          "execution_count": 50
        }
      ],
      "source": [
        "# if you've done some stuff with c++ maybe you'd want to do it this way\n",
        "mylist = list(range(1,6))         # \"range\" is a shorthand way of writing \"From 1 to the number just before 7\"\n",
        "for i, num in enumerate(mylist):  # enumerate \"counts\" how many times we've completed a loop around the code\n",
        "    mylist[i] = num*2             # the brackets [] are an \"indexer\". They say \"get the element at position 'i'\"\n",
        "mylist"
      ]
    },
    {
      "cell_type": "code",
      "source": [
        "mylist=list(range(1,6))\n",
        "mylist"
      ],
      "metadata": {
        "id": "wBZ-_xGW16oO",
        "outputId": "6321300b-f4b3-407d-ae86-9008156c8679",
        "colab": {
          "base_uri": "https://localhost:8080/"
        }
      },
      "execution_count": 51,
      "outputs": [
        {
          "output_type": "execute_result",
          "data": {
            "text/plain": [
              "[1, 2, 3, 4, 5]"
            ]
          },
          "metadata": {},
          "execution_count": 51
        }
      ]
    },
    {
      "cell_type": "code",
      "execution_count": 52,
      "metadata": {
        "id": "5xYGBJ8KfSE8",
        "outputId": "ff10b019-d669-417f-c73f-605cb8bd1d1a",
        "colab": {
          "base_uri": "https://localhost:8080/"
        }
      },
      "outputs": [
        {
          "output_type": "execute_result",
          "data": {
            "text/plain": [
              "[2, 4, 6, 8, 10]"
            ]
          },
          "metadata": {},
          "execution_count": 52
        }
      ],
      "source": [
        "# neither of these ways are \"pythonic\"\n",
        "# one of the hallmarks of python is how concisely we can do operations.\n",
        "newlist = [num*2 for num in range(1,6)]\n",
        "newlist"
      ]
    },
    {
      "cell_type": "markdown",
      "metadata": {
        "id": "cdKmKSD7fSE8"
      },
      "source": [
        "### Introduction to functions"
      ]
    },
    {
      "cell_type": "code",
      "execution_count": null,
      "metadata": {
        "id": "nOWE14kRfSE8"
      },
      "outputs": [],
      "source": [
        "# if we have something that we'd like to be able to do repeatedly at different points in our code,\n",
        "# it usually takes up the least space and the easiest to read if we make a method that does the\n",
        "# operation for us."
      ]
    },
    {
      "cell_type": "code",
      "execution_count": null,
      "metadata": {
        "id": "uzsHBfyZfSE9"
      },
      "outputs": [],
      "source": [
        "# For example, what would we do if we didn't have the \"*\" operation available to us?\n",
        "# We could we write a function that would have the same effect as multiplying two numbers together.\n",
        "# (technically we could write a function that multiplies and indefinite number of arguments together\n",
        "#  but we're just learning the basics right now.)"
      ]
    },
    {
      "cell_type": "code",
      "execution_count": null,
      "metadata": {
        "id": "RwHcHxKCfSE9"
      },
      "outputs": [],
      "source": [
        "# the not-so-good way.\n",
        "def multiply(a, b):       # \"def\" means we're going to write a function\n",
        "    product = 0           # \"multiplication\" is the name of the funciton\n",
        "    for i in range(b):    # (a, b) are the arguments we can pass into the function\n",
        "        product += a\n",
        "    return product\n",
        "\n",
        "result = multiply(5,5) # we pass in what a and b are into the function using \"()\"\n",
        "result"
      ]
    },
    {
      "cell_type": "code",
      "execution_count": null,
      "metadata": {
        "id": "Jn6jvNVsfSE9"
      },
      "outputs": [],
      "source": [
        "# the python way.\n",
        "def multiply(a, b):\n",
        "    return sum([a for i in range(b)])\n",
        "\n",
        "multiply(6,4)"
      ]
    },
    {
      "cell_type": "code",
      "execution_count": null,
      "metadata": {
        "id": "ZdUw2JZNfSE9"
      },
      "outputs": [],
      "source": [
        "## Here's how you can write a function that multiplies\n",
        "## An indefinite number of numbers together.\n",
        "## (Without passing them in as a list)\n",
        "\n",
        "# none pythonic\n",
        "def multiply(*args):\n",
        "    assert len(args) >= 2\n",
        "\n",
        "    base = 1\n",
        "    for num in args:\n",
        "        tot = 0\n",
        "        for i in range(num):\n",
        "            tot += base\n",
        "#             print(tot) # <-- to see verbosely how the function \"multiplies\"\n",
        "        base = tot\n",
        "    return tot\n",
        "\n",
        "multiply(5,5,5)\n",
        "\n",
        "# pythonic\n",
        "def multiply(*args):\n",
        "    assert len(args) >= 2\n",
        "\n",
        "    base = 1\n",
        "    for num in args:\n",
        "        base = sum([base for i in range(num)])\n",
        "    return base\n",
        "\n",
        "multiply(6,5,2)"
      ]
    },
    {
      "cell_type": "markdown",
      "metadata": {
        "id": "2GyoCzoJfSE9"
      },
      "source": [
        "### Conclusion\n",
        "\n",
        "That's a very brief introductoin to how some basic types in python work.\n",
        "\n",
        "Spend some time messing around with these or start the exercises."
      ]
    },
    {
      "cell_type": "markdown",
      "metadata": {
        "id": "QXlgWlpLfSE9"
      },
      "source": [
        "### EXERCISES\n",
        "\n",
        "Do this following exercises **without** using any imports. (if you don't know what these are, you don't need to worry about it)"
      ]
    },
    {
      "cell_type": "markdown",
      "metadata": {
        "id": "ZoG6asi3fSE9"
      },
      "source": [
        "1. Without using any imports (if you don't know what these are, don't worry about it) **write a function** that will compute the inner product of any two equal-sized vectors. **HINT** 1) look up the command `zip`. 2) the body of this function is one line if you do it \"the pythonic way\"\n",
        "\n",
        "    For example if x = [1,5,10] and y = [1,2,3] then x * y= [1 * 1 + 5 * 2 + 3 * 10] = [41]"
      ]
    },
    {
      "cell_type": "code",
      "execution_count": null,
      "metadata": {
        "id": "5xqv3UB6fSE-"
      },
      "outputs": [],
      "source": []
    },
    {
      "cell_type": "markdown",
      "metadata": {
        "id": "ocJBwpnnfSE-"
      },
      "source": [
        "2. Write a function that calculates the euclidean distance (the sister to the euclidean norm) between two points that exist in the same space (i.e. both are from $R^2$ or $R^5$ or $R^n$). **HINT** 1) it's fine to look up the formula online and and translate it to python code. 2) the pythonic solution fits easily onto one line. 3) you can use parenthesis to make sure operations are happening in the correct order."
      ]
    },
    {
      "cell_type": "code",
      "execution_count": null,
      "metadata": {
        "id": "py6QLQoDfSE-"
      },
      "outputs": [],
      "source": []
    },
    {
      "cell_type": "markdown",
      "metadata": {
        "id": "YshR4imEfSE-"
      },
      "source": [
        "3. Write a function that will add the euclidean norms of two points from the same pace if either has a norm less than half of the other. Else have the function find the euclidean distance between the two points. **HINT** 1) you should be able to encorporate your previous function to do most almost all the heavy lifting for you. 2) What does `[0]*len([3,2,1])` do? 3) what does `1 < 2 < 3` equal? 4) What does `a, b = (1,2)` do? 5) technically this can be written in one line but it's attrocious, it can be written in two lines quite well, with three lines of code it can be made crystal clear what's happening."
      ]
    },
    {
      "cell_type": "code",
      "execution_count": null,
      "metadata": {
        "id": "Ns2YZPUafSE-"
      },
      "outputs": [],
      "source": []
    }
  ],
  "metadata": {
    "kernelspec": {
      "display_name": "Python 3",
      "language": "python",
      "name": "python3"
    },
    "language_info": {
      "codemirror_mode": {
        "name": "ipython",
        "version": 3
      },
      "file_extension": ".py",
      "mimetype": "text/x-python",
      "name": "python",
      "nbconvert_exporter": "python",
      "pygments_lexer": "ipython3",
      "version": "3.8.2"
    },
    "colab": {
      "provenance": [],
      "include_colab_link": true
    }
  },
  "nbformat": 4,
  "nbformat_minor": 0
}